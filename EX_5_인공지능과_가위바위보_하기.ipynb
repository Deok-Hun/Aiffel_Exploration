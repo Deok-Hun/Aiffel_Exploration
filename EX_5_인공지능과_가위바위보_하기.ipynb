{
  "nbformat": 4,
  "nbformat_minor": 0,
  "metadata": {
    "colab": {
      "provenance": [],
      "collapsed_sections": [],
      "authorship_tag": "ABX9TyOHl99wxtTHaAP8UqAFgPlh",
      "include_colab_link": true
    },
    "kernelspec": {
      "name": "python3",
      "display_name": "Python 3"
    },
    "language_info": {
      "name": "python"
    }
  },
  "cells": [
    {
      "cell_type": "markdown",
      "metadata": {
        "id": "view-in-github",
        "colab_type": "text"
      },
      "source": [
        "<a href=\"https://colab.research.google.com/github/Deok-Hun/Aiffel_Kun/blob/master/EX_5_%EC%9D%B8%EA%B3%B5%EC%A7%80%EB%8A%A5%EA%B3%BC_%EA%B0%80%EC%9C%84%EB%B0%94%EC%9C%84%EB%B3%B4_%ED%95%98%EA%B8%B0.ipynb\" target=\"_parent\"><img src=\"https://colab.research.google.com/assets/colab-badge.svg\" alt=\"Open In Colab\"/></a>"
      ]
    },
    {
      "cell_type": "code",
      "execution_count": 1,
      "metadata": {
        "colab": {
          "base_uri": "https://localhost:8080/"
        },
        "id": "SATXhWmfg9CW",
        "outputId": "5a83e43c-3450-41aa-e28a-8af223242653"
      },
      "outputs": [
        {
          "output_type": "stream",
          "name": "stdout",
          "text": [
            "Drive already mounted at /content/drive; to attempt to forcibly remount, call drive.mount(\"/content/drive\", force_remount=True).\n"
          ]
        }
      ],
      "source": [
        "from google.colab import drive\n",
        "drive.mount('/content/drive')"
      ]
    },
    {
      "cell_type": "code",
      "source": [
        "import os"
      ],
      "metadata": {
        "id": "eKSGqPmvhDDx"
      },
      "execution_count": 2,
      "outputs": []
    },
    {
      "cell_type": "code",
      "source": [
        "os.environ[\"HOME\"]=\"\"\n",
        "print(os.getenv(\"HOME\"))"
      ],
      "metadata": {
        "colab": {
          "base_uri": "https://localhost:8080/"
        },
        "id": "e9CxCQlDhLpU",
        "outputId": "7952e1f2-6b02-4e81-b62a-deb583a68b66"
      },
      "execution_count": 3,
      "outputs": [
        {
          "output_type": "stream",
          "name": "stdout",
          "text": [
            "\n"
          ]
        }
      ]
    },
    {
      "cell_type": "code",
      "source": [
        "import tensorflow as tf\n",
        "import numpy as np\n",
        "\n",
        "print(tf.__version__)\n",
        "print(np.__version__)"
      ],
      "metadata": {
        "colab": {
          "base_uri": "https://localhost:8080/"
        },
        "id": "lp2v5hh3hMzN",
        "outputId": "54cf3191-2ce1-40ca-9809-e5ba3dacd523"
      },
      "execution_count": 4,
      "outputs": [
        {
          "output_type": "stream",
          "name": "stdout",
          "text": [
            "2.8.2\n",
            "1.21.6\n"
          ]
        }
      ]
    },
    {
      "cell_type": "code",
      "source": [
        "from PIL import Image\n",
        "import glob\n",
        "import os\n",
        "\n",
        "print(\"PIL 라이브러리 import 완료!\")"
      ],
      "metadata": {
        "id": "txK5cyiohViz",
        "colab": {
          "base_uri": "https://localhost:8080/"
        },
        "outputId": "d4200761-df4a-4455-fe5d-dc9d0d246228"
      },
      "execution_count": 5,
      "outputs": [
        {
          "output_type": "stream",
          "name": "stdout",
          "text": [
            "PIL 라이브러리 import 완료!\n"
          ]
        }
      ]
    },
    {
      "cell_type": "markdown",
      "source": [
        "# 데이터 준비"
      ],
      "metadata": {
        "id": "XvaUuwoF-6Oz"
      }
    },
    {
      "cell_type": "code",
      "source": [
        "def resize_images(img_path):\n",
        "\timages=glob.glob(img_path + \"/*.jpg\")  \n",
        "    \n",
        "\tprint(len(images), \" images to be resized.\")\n",
        "\n",
        "    # 파일마다 모두 28x28 사이즈로 바꾸어 저장합니다.\n",
        "\ttarget_size=(28,28)\n",
        "\tfor img in images:\n",
        "\t\told_img=Image.open(img)\n",
        "\t\tnew_img=old_img.resize(target_size,Image.ANTIALIAS)\n",
        "\t\tnew_img.save(img, \"JPEG\")\n",
        "    \n",
        "\tprint(len(images), \" images resized.\")\n",
        "\t\n",
        "# 가위 이미지가 저장된 디렉토리 아래의 모든 jpg 파일을 읽어들여서\n",
        "image_dir_path = os.getenv(\"HOME\") + \"/content/drive/MyDrive/Exploration/Exploration_5/data/train/scissors\"\n",
        "resize_images(image_dir_path)\n",
        "\n",
        "print(\"가위 이미지 resize 완료!\")"
      ],
      "metadata": {
        "colab": {
          "base_uri": "https://localhost:8080/"
        },
        "id": "6CBPhTXzrUVL",
        "outputId": "523e5bd9-5b2c-4a45-84ec-c540c833c200"
      },
      "execution_count": 13,
      "outputs": [
        {
          "output_type": "stream",
          "name": "stdout",
          "text": [
            "600  images to be resized.\n",
            "600  images resized.\n",
            "가위 이미지 resize 완료!\n"
          ]
        }
      ]
    },
    {
      "cell_type": "code",
      "source": [
        "image_dir_path = os.getenv(\"HOME\") + \"/content/drive/MyDrive/Exploration/Exploration_5/data/train/rocks\"\n",
        "resize_images(image_dir_path)"
      ],
      "metadata": {
        "colab": {
          "base_uri": "https://localhost:8080/"
        },
        "id": "Op8Q5gdrsyjM",
        "outputId": "507d1cf7-a4dd-4f28-9b79-bdd3cf4acc2b"
      },
      "execution_count": 14,
      "outputs": [
        {
          "output_type": "stream",
          "name": "stdout",
          "text": [
            "600  images to be resized.\n",
            "600  images resized.\n"
          ]
        }
      ]
    },
    {
      "cell_type": "code",
      "source": [
        "image_dir_path = os.getenv(\"HOME\") + \"/content/drive/MyDrive/Exploration/Exploration_5/data/train/papers\"\n",
        "resize_images(image_dir_path)"
      ],
      "metadata": {
        "colab": {
          "base_uri": "https://localhost:8080/"
        },
        "id": "S-dwXoB9wZVU",
        "outputId": "980e413d-d3e1-4c40-e83a-bb2c98e163e1"
      },
      "execution_count": 15,
      "outputs": [
        {
          "output_type": "stream",
          "name": "stdout",
          "text": [
            "600  images to be resized.\n",
            "600  images resized.\n"
          ]
        }
      ]
    },
    {
      "cell_type": "code",
      "source": [
        "import numpy as np\n",
        "\n",
        "def load_data(img_path, number_of_data=1800):  # 가위바위보 이미지 개수 총합에 주의하세요.\n",
        "    # 가위 : 0, 바위 : 1, 보 : 2\n",
        "    img_size=28\n",
        "    color=3\n",
        "    #이미지 데이터와 라벨(가위 : 0, 바위 : 1, 보 : 2) 데이터를 담을 행렬(matrix) 영역을 생성합니다.\n",
        "    imgs=np.zeros(number_of_data*img_size*img_size*color,dtype=np.int32).reshape(number_of_data,img_size,img_size,color)\n",
        "    labels=np.zeros(number_of_data,dtype=np.int32)\n",
        "\n",
        "    idx=0\n",
        "    for file in glob.iglob(img_path+'/scissors/*.jpg'):\n",
        "        img = np.array(Image.open(file),dtype=np.int32)\n",
        "        imgs[idx,:,:,:]=img    # 데이터 영역에 이미지 행렬을 복사\n",
        "        labels[idx]=0   # 가위 : 0\n",
        "        idx=idx+1\n",
        "\n",
        "    for file in glob.iglob(img_path+'/rocks/*.jpg'):\n",
        "        img = np.array(Image.open(file),dtype=np.int32)\n",
        "        imgs[idx,:,:,:]=img    # 데이터 영역에 이미지 행렬을 복사\n",
        "        labels[idx]=1   # 바위 : 1\n",
        "        idx=idx+1  \n",
        "    \n",
        "    for file in glob.iglob(img_path+'/papers/*.jpg'):\n",
        "        img = np.array(Image.open(file),dtype=np.int32)\n",
        "        imgs[idx,:,:,:]=img    # 데이터 영역에 이미지 행렬을 복사\n",
        "        labels[idx]=2   # 보 : 2\n",
        "        idx=idx+1\n",
        "        \n",
        "    print(\"학습데이터(x_train)의 이미지 개수는\", idx,\"입니다.\")\n",
        "    return imgs, labels\n",
        "\n",
        "image_dir_path = os.getenv(\"HOME\") + \"/content/drive/MyDrive/Exploration/Exploration_5/data/train\"\n",
        "(x_train, y_train)=load_data(image_dir_path)\n",
        "x_train_norm = x_train/255.0   # 입력은 0~1 사이의 값으로 정규화\n",
        "\n",
        "print(\"x_train shape: {}\".format(x_train.shape))\n",
        "print(\"y_train shape: {}\".format(y_train.shape))"
      ],
      "metadata": {
        "colab": {
          "base_uri": "https://localhost:8080/"
        },
        "id": "vWTGidDEwt-9",
        "outputId": "c9a4f499-faae-4d86-e545-d5d148efabbf"
      },
      "execution_count": 24,
      "outputs": [
        {
          "output_type": "stream",
          "name": "stdout",
          "text": [
            "학습데이터(x_train)의 이미지 개수는 1800 입니다.\n",
            "x_train shape: (1800, 28, 28, 3)\n",
            "y_train shape: (1800,)\n"
          ]
        }
      ]
    },
    {
      "cell_type": "code",
      "source": [
        "import matplotlib.pyplot as plt\n",
        "\n",
        "plt.imshow(x_train[0])\n",
        "print('라벨: ', y_train[0])"
      ],
      "metadata": {
        "colab": {
          "base_uri": "https://localhost:8080/",
          "height": 283
        },
        "id": "sPg4aKg-1zmq",
        "outputId": "a897f79e-fd22-49d1-9edb-649844138606"
      },
      "execution_count": 26,
      "outputs": [
        {
          "output_type": "stream",
          "name": "stdout",
          "text": [
            "라벨:  0\n"
          ]
        },
        {
          "output_type": "display_data",
          "data": {
            "text/plain": [
              "<Figure size 432x288 with 1 Axes>"
            ],
            "image/png": "[encoded data removed]"
          },
          "metadata": {
            "needs_background": "light"
          }
        }
      ]
    },
    {
      "cell_type": "markdown",
      "source": [
        "# 데이터 분할"
      ],
      "metadata": {
        "id": "nxr7_qu0Gyqs"
      }
    },
    {
      "cell_type": "code",
      "source": [
        "from sklearn.model_selection import train_test_split\n",
        "\n",
        "X_train, X_validation, Y_train, Y_validation = train_test_split(x_train_norm, y_train, test_size=0.3, random_state=1004)"
      ],
      "metadata": {
        "id": "5uSrxgkiHN2J"
      },
      "execution_count": 50,
      "outputs": []
    },
    {
      "cell_type": "markdown",
      "source": [
        "# 딥러닝 네트워크 설계하기"
      ],
      "metadata": {
        "id": "l8KXgTrX-_6D"
      }
    },
    {
      "cell_type": "code",
      "source": [
        "import tensorflow as tf\n",
        "from tensorflow import keras\n",
        "import numpy as np\n",
        "\n",
        "model=keras.models.Sequential()\n",
        "model.add(keras.layers.Conv2D(16, (3,3), activation='relu', input_shape=(28,28,3)))\n",
        "model.add(keras.layers.MaxPool2D(2,2))\n",
        "model.add(keras.layers.Conv2D(32, (3,3), activation='relu'))\n",
        "model.add(keras.layers.MaxPooling2D((2,2)))\n",
        "model.add(keras.layers.Flatten())\n",
        "model.add(keras.layers.Dense(32, activation='relu'))\n",
        "model.add(keras.layers.Dense(3, activation='softmax'))\n",
        "\n",
        "print('Model에 추가된 Layer 개수: ', len(model.layers))\n",
        "model.summary()"
      ],
      "metadata": {
        "colab": {
          "base_uri": "https://localhost:8080/"
        },
        "id": "ZyKHcl6A3bUn",
        "outputId": "9eec79c6-92e9-4cfd-8330-ca733fcc81f1"
      },
      "execution_count": 42,
      "outputs": [
        {
          "output_type": "stream",
          "name": "stdout",
          "text": [
            "Model에 추가된 Layer 개수:  7\n",
            "Model: \"sequential_3\"\n",
            "_________________________________________________________________\n",
            " Layer (type)                Output Shape              Param #   \n",
            "=================================================================\n",
            " conv2d_6 (Conv2D)           (None, 26, 26, 16)        448       \n",
            "                                                                 \n",
            " max_pooling2d_6 (MaxPooling  (None, 13, 13, 16)       0         \n",
            " 2D)                                                             \n",
            "                                                                 \n",
            " conv2d_7 (Conv2D)           (None, 11, 11, 32)        4640      \n",
            "                                                                 \n",
            " max_pooling2d_7 (MaxPooling  (None, 5, 5, 32)         0         \n",
            " 2D)                                                             \n",
            "                                                                 \n",
            " flatten_3 (Flatten)         (None, 800)               0         \n",
            "                                                                 \n",
            " dense_6 (Dense)             (None, 32)                25632     \n",
            "                                                                 \n",
            " dense_7 (Dense)             (None, 3)                 99        \n",
            "                                                                 \n",
            "=================================================================\n",
            "Total params: 30,819\n",
            "Trainable params: 30,819\n",
            "Non-trainable params: 0\n",
            "_________________________________________________________________\n"
          ]
        }
      ]
    },
    {
      "cell_type": "markdown",
      "source": [
        "# 딥러닝 네트워크 학습시키기"
      ],
      "metadata": {
        "id": "jTQpVz2hCt5z"
      }
    },
    {
      "cell_type": "code",
      "source": [
        "model.compile(optimizer='adam',\n",
        "              loss='sparse_categorical_crossentropy',\n",
        "              metrics=['accuracy'])\n",
        "\n",
        "model.fit(X_train, Y_train, epochs = 20)  # 전체 1800개의 데이터를 10번 반복 사용해서 학습"
      ],
      "metadata": {
        "colab": {
          "base_uri": "https://localhost:8080/"
        },
        "id": "knFTFu5SCcIr",
        "outputId": "569d730f-61be-4214-ceb6-a26a71e91ecc"
      },
      "execution_count": 47,
      "outputs": [
        {
          "output_type": "stream",
          "name": "stdout",
          "text": [
            "Epoch 1/20\n",
            "40/40 [==============================] - 1s 21ms/step - loss: 0.4301 - accuracy: 0.8381\n",
            "Epoch 2/20\n",
            "40/40 [==============================] - 1s 21ms/step - loss: 0.3952 - accuracy: 0.8516\n",
            "Epoch 3/20\n",
            "40/40 [==============================] - 1s 21ms/step - loss: 0.3747 - accuracy: 0.8651\n",
            "Epoch 4/20\n",
            "40/40 [==============================] - 1s 21ms/step - loss: 0.3673 - accuracy: 0.8738\n",
            "Epoch 5/20\n",
            "40/40 [==============================] - 1s 20ms/step - loss: 0.3521 - accuracy: 0.8722\n",
            "Epoch 6/20\n",
            "40/40 [==============================] - 1s 20ms/step - loss: 0.3641 - accuracy: 0.8571\n",
            "Epoch 7/20\n",
            "40/40 [==============================] - 1s 20ms/step - loss: 0.3547 - accuracy: 0.8794\n",
            "Epoch 8/20\n",
            "40/40 [==============================] - 1s 20ms/step - loss: 0.3436 - accuracy: 0.8762\n",
            "Epoch 9/20\n",
            "40/40 [==============================] - 1s 20ms/step - loss: 0.3429 - accuracy: 0.8651\n",
            "Epoch 10/20\n",
            "40/40 [==============================] - 1s 21ms/step - loss: 0.3426 - accuracy: 0.8762\n",
            "Epoch 11/20\n",
            "40/40 [==============================] - 1s 20ms/step - loss: 0.3247 - accuracy: 0.8849\n",
            "Epoch 12/20\n",
            "40/40 [==============================] - 1s 21ms/step - loss: 0.3157 - accuracy: 0.8873\n",
            "Epoch 13/20\n",
            "40/40 [==============================] - 1s 20ms/step - loss: 0.3082 - accuracy: 0.8897\n",
            "Epoch 14/20\n",
            "40/40 [==============================] - 1s 20ms/step - loss: 0.3155 - accuracy: 0.8810\n",
            "Epoch 15/20\n",
            "40/40 [==============================] - 1s 20ms/step - loss: 0.3121 - accuracy: 0.8889\n",
            "Epoch 16/20\n",
            "40/40 [==============================] - 1s 20ms/step - loss: 0.2784 - accuracy: 0.9040\n",
            "Epoch 17/20\n",
            "40/40 [==============================] - 1s 20ms/step - loss: 0.2799 - accuracy: 0.9079\n",
            "Epoch 18/20\n",
            "40/40 [==============================] - 1s 20ms/step - loss: 0.2570 - accuracy: 0.9214\n",
            "Epoch 19/20\n",
            "40/40 [==============================] - 1s 20ms/step - loss: 0.2635 - accuracy: 0.9151\n",
            "Epoch 20/20\n",
            "40/40 [==============================] - 1s 20ms/step - loss: 0.2651 - accuracy: 0.9119\n"
          ]
        },
        {
          "output_type": "execute_result",
          "data": {
            "text/plain": [
              "<keras.callbacks.History at 0x7f34d9f518d0>"
            ]
          },
          "metadata": {},
          "execution_count": 47
        }
      ]
    },
    {
      "cell_type": "markdown",
      "source": [
        "# 성능 테스트"
      ],
      "metadata": {
        "id": "qEZkk12CJEo9"
      }
    },
    {
      "cell_type": "code",
      "source": [
        "test_loss, test_accuracy = model.evaluate(X_validation,Y_validation, verbose=2)\n",
        "print(f\"test_loss: {test_loss}\")\n",
        "print(f\"test_accuracy: {test_accuracy}\")"
      ],
      "metadata": {
        "colab": {
          "base_uri": "https://localhost:8080/"
        },
        "id": "HDx3HDHoC2VZ",
        "outputId": "9b02b6c5-e58d-4224-e8d5-3c92ecece5de"
      },
      "execution_count": 51,
      "outputs": [
        {
          "output_type": "stream",
          "name": "stdout",
          "text": [
            "17/17 - 0s - loss: 0.3162 - accuracy: 0.8815 - 140ms/epoch - 8ms/step\n",
            "test_loss: 0.31615370512008667\n",
            "test_accuracy: 0.8814814686775208\n"
          ]
        }
      ]
    },
    {
      "cell_type": "code",
      "source": [
        "# model을 학습시키는 코드를 직접 작성해 보세요.\n",
        "predicted_result = model.predict(X_validation)  # model이 추론한 확률값. \n",
        "predicted_labels = np.argmax(predicted_result, axis=1)\n",
        "\n",
        "idx=0  #1번째 x_test를 살펴보자. \n",
        "print('model.predict() 결과 : ', predicted_result[idx])\n",
        "print('model이 추론한 가장 가능성이 높은 결과 : ', predicted_labels[idx])\n",
        "print('실제 데이터의 라벨 : ', Y_validation[idx])"
      ],
      "metadata": {
        "colab": {
          "base_uri": "https://localhost:8080/"
        },
        "id": "q_eq2DclKeWk",
        "outputId": "1ab44b98-04a8-4d51-eb82-0246341f3910"
      },
      "execution_count": 52,
      "outputs": [
        {
          "output_type": "stream",
          "name": "stdout",
          "text": [
            "model.predict() 결과 :  [2.290690e-02 9.761352e-01 9.579522e-04]\n",
            "model이 추론한 가장 가능성이 높은 결과 :  1\n",
            "실제 데이터의 라벨 :  1\n"
          ]
        }
      ]
    },
    {
      "cell_type": "code",
      "source": [
        "plt.imshow(X_validation[idx],cmap=plt.cm.binary)\n",
        "plt.show()"
      ],
      "metadata": {
        "colab": {
          "base_uri": "https://localhost:8080/",
          "height": 265
        },
        "id": "gSiUr0f8LFlb",
        "outputId": "5c50259c-f303-4b43-c2f4-425456265c69"
      },
      "execution_count": 56,
      "outputs": [
        {
          "output_type": "display_data",
          "data": {
            "text/plain": [
              "<Figure size 432x288 with 1 Axes>"
            ],
            "image/png": "[encoded data removed]"
          },
          "metadata": {
            "needs_background": "light"
          }
        }
      ]
    },
    {
      "cell_type": "code",
      "source": [
        "# 하이퍼파라미터들\n",
        "n_channel_1=32\n",
        "n_channel_2=64\n",
        "n_dense=64\n",
        "n_train_epoch=18                   # epoch 변경\n",
        "\n",
        "model=keras.models.Sequential()\n",
        "model.add(keras.layers.Conv2D(n_channel_1, (3,3), activation='relu', input_shape=(28,28,3)))\n",
        "model.add(keras.layers.MaxPool2D(2,2))\n",
        "model.add(keras.layers.Conv2D(n_channel_2, (3,3), activation='relu'))\n",
        "model.add(keras.layers.MaxPooling2D((2,2)))\n",
        "model.add(keras.layers.Flatten())\n",
        "model.add(keras.layers.Dense(n_dense, activation='relu'))\n",
        "model.add(keras.layers.Dense(3, activation='softmax'))\n",
        "\n",
        "model.summary()\n",
        "model.compile(optimizer='adam',\n",
        "             loss='sparse_categorical_crossentropy',\n",
        "             metrics=['accuracy'])\n",
        "\n",
        "# 모델 훈련\n",
        "model.fit(X_train, Y_train, epochs=n_train_epoch)\n",
        "\n",
        "# 모델 시험\n",
        "test_loss, test_accuracy = model.evaluate(X_validation, Y_validation, verbose=2)\n",
        "print(f\"test_loss: {test_loss} \")\n",
        "print(f\"test_accuracy: {test_accuracy}\")"
      ],
      "metadata": {
        "colab": {
          "base_uri": "https://localhost:8080/"
        },
        "id": "lPYEkknTLOAc",
        "outputId": "ceb24ebc-3e44-4b0e-d62a-2701bf17916e"
      },
      "execution_count": 64,
      "outputs": [
        {
          "output_type": "stream",
          "name": "stdout",
          "text": [
            "Model: \"sequential_5\"\n",
            "_________________________________________________________________\n",
            " Layer (type)                Output Shape              Param #   \n",
            "=================================================================\n",
            " conv2d_10 (Conv2D)          (None, 26, 26, 32)        896       \n",
            "                                                                 \n",
            " max_pooling2d_10 (MaxPoolin  (None, 13, 13, 32)       0         \n",
            " g2D)                                                            \n",
            "                                                                 \n",
            " conv2d_11 (Conv2D)          (None, 11, 11, 64)        18496     \n",
            "                                                                 \n",
            " max_pooling2d_11 (MaxPoolin  (None, 5, 5, 64)         0         \n",
            " g2D)                                                            \n",
            "                                                                 \n",
            " flatten_5 (Flatten)         (None, 1600)              0         \n",
            "                                                                 \n",
            " dense_10 (Dense)            (None, 64)                102464    \n",
            "                                                                 \n",
            " dense_11 (Dense)            (None, 3)                 195       \n",
            "                                                                 \n",
            "=================================================================\n",
            "Total params: 122,051\n",
            "Trainable params: 122,051\n",
            "Non-trainable params: 0\n",
            "_________________________________________________________________\n",
            "Epoch 1/18\n",
            "40/40 [==============================] - 2s 34ms/step - loss: 1.1025 - accuracy: 0.3349\n",
            "Epoch 2/18\n",
            "40/40 [==============================] - 1s 33ms/step - loss: 1.0959 - accuracy: 0.3603\n",
            "Epoch 3/18\n",
            "40/40 [==============================] - 1s 33ms/step - loss: 1.0819 - accuracy: 0.4119\n",
            "Epoch 4/18\n",
            "40/40 [==============================] - 2s 61ms/step - loss: 1.0394 - accuracy: 0.4754\n",
            "Epoch 5/18\n",
            "40/40 [==============================] - 1s 36ms/step - loss: 0.9847 - accuracy: 0.5254\n",
            "Epoch 6/18\n",
            "40/40 [==============================] - 1s 33ms/step - loss: 0.9296 - accuracy: 0.5706\n",
            "Epoch 7/18\n",
            "40/40 [==============================] - 1s 33ms/step - loss: 0.8948 - accuracy: 0.5905\n",
            "Epoch 8/18\n",
            "40/40 [==============================] - 1s 34ms/step - loss: 0.8398 - accuracy: 0.6381\n",
            "Epoch 9/18\n",
            "40/40 [==============================] - 1s 33ms/step - loss: 0.7909 - accuracy: 0.6690\n",
            "Epoch 10/18\n",
            "40/40 [==============================] - 1s 34ms/step - loss: 0.7509 - accuracy: 0.6921\n",
            "Epoch 11/18\n",
            "40/40 [==============================] - 1s 33ms/step - loss: 0.7249 - accuracy: 0.6976\n",
            "Epoch 12/18\n",
            "40/40 [==============================] - 1s 33ms/step - loss: 0.6889 - accuracy: 0.7238\n",
            "Epoch 13/18\n",
            "40/40 [==============================] - 1s 33ms/step - loss: 0.6727 - accuracy: 0.7198\n",
            "Epoch 14/18\n",
            "40/40 [==============================] - 1s 33ms/step - loss: 0.6458 - accuracy: 0.7238\n",
            "Epoch 15/18\n",
            "40/40 [==============================] - 1s 33ms/step - loss: 0.6077 - accuracy: 0.7540\n",
            "Epoch 16/18\n",
            "40/40 [==============================] - 1s 34ms/step - loss: 0.5721 - accuracy: 0.7794\n",
            "Epoch 17/18\n",
            "40/40 [==============================] - 1s 33ms/step - loss: 0.5608 - accuracy: 0.7802\n",
            "Epoch 18/18\n",
            "40/40 [==============================] - 1s 33ms/step - loss: 0.5722 - accuracy: 0.7738\n",
            "17/17 - 0s - loss: 0.5784 - accuracy: 0.7870 - 314ms/epoch - 18ms/step\n",
            "test_loss: 0.5784454345703125 \n",
            "test_accuracy: 0.7870370149612427\n"
          ]
        }
      ]
    },
    {
      "cell_type": "markdown",
      "source": [
        "# test로 확인"
      ],
      "metadata": {
        "id": "0xGDwjrvL8Jo"
      }
    },
    {
      "cell_type": "code",
      "source": [
        "def resize_images(img_path):\n",
        "\timages=glob.glob(img_path + \"/*.jpg\")  \n",
        "    \n",
        "\tprint(len(images), \" images to be resized.\")\n",
        "\n",
        "    # 파일마다 모두 28x28 사이즈로 바꾸어 저장합니다.\n",
        "\ttarget_size=(28,28)\n",
        "\tfor img in images:\n",
        "\t\told_img=Image.open(img)\n",
        "\t\tnew_img=old_img.resize(target_size,Image.ANTIALIAS)\n",
        "\t\tnew_img.save(img, \"JPEG\")\n",
        "    \n",
        "\tprint(len(images), \" images resized.\")\n",
        "\t\n",
        "# 가위 이미지가 저장된 디렉토리 아래의 모든 jpg 파일을 읽어들여서\n",
        "image_dir_path = os.getenv(\"HOME\") + \"/content/drive/MyDrive/Exploration/Exploration_5/data/test/scissors\"\n",
        "resize_images(image_dir_path)\n",
        "\n",
        "print(\"가위 이미지 resize 완료!\")\n",
        "\n",
        "image_dir_path = os.getenv(\"HOME\") + \"/content/drive/MyDrive/Exploration/Exploration_5/data/test/rocks\"\n",
        "resize_images(image_dir_path)\n",
        "print(\"바위 이미지 resize 완료!\")\n",
        "\n",
        "image_dir_path = os.getenv(\"HOME\") + \"/content/drive/MyDrive/Exploration/Exploration_5/data/test/papers\"\n",
        "resize_images(image_dir_path)\n",
        "print(\"보 이미지 resize 완료!\")"
      ],
      "metadata": {
        "colab": {
          "base_uri": "https://localhost:8080/"
        },
        "id": "yEe99WrIRZpG",
        "outputId": "41cb952c-7e76-46ae-be0d-b14fc3d19afa"
      },
      "execution_count": 58,
      "outputs": [
        {
          "output_type": "stream",
          "name": "stdout",
          "text": [
            "100  images to be resized.\n",
            "100  images resized.\n",
            "가위 이미지 resize 완료!\n",
            "100  images to be resized.\n",
            "100  images resized.\n",
            "바위 이미지 resize 완료!\n",
            "100  images to be resized.\n",
            "100  images resized.\n",
            "보 이미지 resize 완료!\n"
          ]
        }
      ]
    },
    {
      "cell_type": "code",
      "source": [
        "def load_data(img_path, number_of_data=300):  # 가위바위보 이미지 개수 총합에 주의하세요.\n",
        "    # 가위 : 0, 바위 : 1, 보 : 2\n",
        "    img_size=28\n",
        "    color=3\n",
        "    #이미지 데이터와 라벨(가위 : 0, 바위 : 1, 보 : 2) 데이터를 담을 행렬(matrix) 영역을 생성합니다.\n",
        "    imgs=np.zeros(number_of_data*img_size*img_size*color,dtype=np.int32).reshape(number_of_data,img_size,img_size,color)\n",
        "    labels=np.zeros(number_of_data,dtype=np.int32)\n",
        "\n",
        "    idx=0\n",
        "    for file in glob.iglob(img_path+'/scissors/*.jpg'):\n",
        "        img = np.array(Image.open(file),dtype=np.int32)\n",
        "        imgs[idx,:,:,:]=img    # 데이터 영역에 이미지 행렬을 복사\n",
        "        labels[idx]=0   # 가위 : 0\n",
        "        idx=idx+1\n",
        "\n",
        "    for file in glob.iglob(img_path+'/rocks/*.jpg'):\n",
        "        img = np.array(Image.open(file),dtype=np.int32)\n",
        "        imgs[idx,:,:,:]=img    # 데이터 영역에 이미지 행렬을 복사\n",
        "        labels[idx]=1   # 바위 : 1\n",
        "        idx=idx+1  \n",
        "    \n",
        "    for file in glob.iglob(img_path+'/papers/*.jpg'):\n",
        "        img = np.array(Image.open(file),dtype=np.int32)\n",
        "        imgs[idx,:,:,:]=img    # 데이터 영역에 이미지 행렬을 복사\n",
        "        labels[idx]=2   # 보 : 2\n",
        "        idx=idx+1\n",
        "        \n",
        "    print(\"학습데이터(x_test)의 이미지 개수는\", idx,\"입니다.\")\n",
        "    return imgs, labels\n",
        "\n",
        "image_dir_path = os.getenv(\"HOME\") + \"/content/drive/MyDrive/Exploration/Exploration_5/data/test\"\n",
        "(x_test, y_test)=load_data(image_dir_path)\n",
        "x_test_norm = x_test/255.0\n",
        "\n",
        "print(\"x_test_norm shape: {}\".format(x_test_norm.shape))\n",
        "print(\"y_test shape: {}\".format(y_test.shape))"
      ],
      "metadata": {
        "colab": {
          "base_uri": "https://localhost:8080/"
        },
        "id": "ejevpZzsLmTK",
        "outputId": "66401e1f-15d0-4897-f76f-b5f08ac591f2"
      },
      "execution_count": 62,
      "outputs": [
        {
          "output_type": "stream",
          "name": "stdout",
          "text": [
            "학습데이터(x_test)의 이미지 개수는 300 입니다.\n",
            "x_test_norm shape: (300, 28, 28, 3)\n",
            "y_test shape: (300,)\n"
          ]
        }
      ]
    },
    {
      "cell_type": "code",
      "source": [
        "test_loss, test_accuracy = model.evaluate(x_test_norm, y_test, verbose=2)\n",
        "print(f\"test_loss: {test_loss} \")\n",
        "print(f\"test_accuracy: {test_accuracy}\")"
      ],
      "metadata": {
        "colab": {
          "base_uri": "https://localhost:8080/"
        },
        "id": "xp0OZ0YSTg4D",
        "outputId": "99d35135-05fc-4d4a-a9ab-83b84d783b09"
      },
      "execution_count": 63,
      "outputs": [
        {
          "output_type": "stream",
          "name": "stdout",
          "text": [
            "10/10 - 0s - loss: 0.5983 - accuracy: 0.7733 - 208ms/epoch - 21ms/step\n",
            "test_loss: 0.5982831716537476 \n",
            "test_accuracy: 0.7733333110809326\n"
          ]
        }
      ]
    }
  ]
}