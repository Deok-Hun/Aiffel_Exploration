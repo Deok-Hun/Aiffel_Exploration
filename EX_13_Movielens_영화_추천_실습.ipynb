{
  "cells": [
    {
      "cell_type": "markdown",
      "metadata": {
        "id": "view-in-github",
        "colab_type": "text"
      },
      "source": [
        "<a href=\"https://colab.research.google.com/github/Deok-Hun/Aiffel_Kun/blob/master/EX_13_Movielens_%EC%98%81%ED%99%94_%EC%B6%94%EC%B2%9C_%EC%8B%A4%EC%8A%B5.ipynb\" target=\"_parent\"><img src=\"https://colab.research.google.com/assets/colab-badge.svg\" alt=\"Open In Colab\"/></a>"
      ]
    },
    {
      "cell_type": "code",
      "source": [
        "from google.colab import drive\n",
        "drive.mount('/content/drive')"
      ],
      "metadata": {
        "colab": {
          "base_uri": "https://localhost:8080/"
        },
        "id": "pFO6cnNsWAyP",
        "outputId": "b6aab426-aceb-401b-fe77-f6491da8f166"
      },
      "id": "pFO6cnNsWAyP",
      "execution_count": 1,
      "outputs": [
        {
          "output_type": "stream",
          "name": "stdout",
          "text": [
            "Mounted at /content/drive\n"
          ]
        }
      ]
    },
    {
      "cell_type": "markdown",
      "id": "0cdb46d7",
      "metadata": {
        "id": "0cdb46d7"
      },
      "source": [
        "이전 스텝에서 배운 MF 모델 학습 방법을 토대로, 내가 좋아할 만한 영화 추천 시스템을 제작해 보겠습니다.\n",
        "\n",
        "이번에 활용할 데이터셋은 추천 시스템의 MNIST라고 부를만한 Movielens 데이터입니다.\n",
        "\n",
        "    * 유저가 영화에 대해 평점을 매긴 데이터가 데이터 크기 별로 있습니다. MovieLens 1M Dataset 사용을 권장합니다.\n",
        "    * 별점 데이터는 대표적인 explicit 데이터입니다. 하지만 implicit 데이터로 간주하고 테스트해 볼 수 있습니다.\n",
        "    * 별점을 시청횟수로 해석해서 생각하겠습니다.\n",
        "    * 또한 유저가 3점 미만으로 준 데이터는 선호하지 않는다고 가정하고 제외하겠습니다.\n",
        "Cloud Storage에 미리 업로드된 ml-1m폴더 내 파일을 심볼릭 링크로 개인 storage에 연결해 줍니다."
      ]
    },
    {
      "cell_type": "code",
      "execution_count": null,
      "id": "f68ee3fb",
      "metadata": {
        "id": "f68ee3fb",
        "outputId": "69ad94d7-3824-4b61-c882-02cfc9bad927"
      },
      "outputs": [
        {
          "name": "stdout",
          "output_type": "stream",
          "text": [
            "1.21.4\n",
            "1.7.1\n",
            "0.4.8\n"
          ]
        }
      ],
      "source": [
        "import numpy as np\n",
        "import scipy\n",
        "import implicit\n",
        "\n",
        "print(np.__version__)\n",
        "print(scipy.__version__)\n",
        "print(implicit.__version__)"
      ]
    },
    {
      "cell_type": "markdown",
      "id": "42da5b9d",
      "metadata": {
        "id": "42da5b9d"
      },
      "source": [
        "# 데이터 준비와 전처리"
      ]
    },
    {
      "cell_type": "code",
      "execution_count": null,
      "id": "595685a0",
      "metadata": {
        "id": "595685a0",
        "outputId": "890bcafd-b2b5-4bbf-8af2-54205e916384"
      },
      "outputs": [
        {
          "data": {
            "text/html": [
              "<div>\n",
              "<style scoped>\n",
              "    .dataframe tbody tr th:only-of-type {\n",
              "        vertical-align: middle;\n",
              "    }\n",
              "\n",
              "    .dataframe tbody tr th {\n",
              "        vertical-align: top;\n",
              "    }\n",
              "\n",
              "    .dataframe thead th {\n",
              "        text-align: right;\n",
              "    }\n",
              "</style>\n",
              "<table border=\"1\" class=\"dataframe\">\n",
              "  <thead>\n",
              "    <tr style=\"text-align: right;\">\n",
              "      <th></th>\n",
              "      <th>user_id</th>\n",
              "      <th>movie_id</th>\n",
              "      <th>ratings</th>\n",
              "      <th>timestamp</th>\n",
              "    </tr>\n",
              "  </thead>\n",
              "  <tbody>\n",
              "    <tr>\n",
              "      <th>0</th>\n",
              "      <td>1</td>\n",
              "      <td>1193</td>\n",
              "      <td>5</td>\n",
              "      <td>978300760</td>\n",
              "    </tr>\n",
              "    <tr>\n",
              "      <th>1</th>\n",
              "      <td>1</td>\n",
              "      <td>661</td>\n",
              "      <td>3</td>\n",
              "      <td>978302109</td>\n",
              "    </tr>\n",
              "    <tr>\n",
              "      <th>2</th>\n",
              "      <td>1</td>\n",
              "      <td>914</td>\n",
              "      <td>3</td>\n",
              "      <td>978301968</td>\n",
              "    </tr>\n",
              "    <tr>\n",
              "      <th>3</th>\n",
              "      <td>1</td>\n",
              "      <td>3408</td>\n",
              "      <td>4</td>\n",
              "      <td>978300275</td>\n",
              "    </tr>\n",
              "    <tr>\n",
              "      <th>4</th>\n",
              "      <td>1</td>\n",
              "      <td>2355</td>\n",
              "      <td>5</td>\n",
              "      <td>978824291</td>\n",
              "    </tr>\n",
              "  </tbody>\n",
              "</table>\n",
              "</div>"
            ],
            "text/plain": [
              "   user_id  movie_id  ratings  timestamp\n",
              "0        1      1193        5  978300760\n",
              "1        1       661        3  978302109\n",
              "2        1       914        3  978301968\n",
              "3        1      3408        4  978300275\n",
              "4        1      2355        5  978824291"
            ]
          },
          "execution_count": 2,
          "metadata": {},
          "output_type": "execute_result"
        }
      ],
      "source": [
        "import os\n",
        "import pandas as pd\n",
        "rating_file_path = os.getenv('HOME')+'/aiffel/recommendata_iu/data/ml-1m/ratings.dat'\n",
        "ratings_cols = ['user_id', 'movie_id', 'ratings', 'timestamp']\n",
        "ratings = pd.read_csv(rating_file_path, sep='::', names = ratings_cols, engine='python', encoding = \"ISO-8859-1\")\n",
        "original_data_size = len(ratings)\n",
        "ratings.head()"
      ]
    },
    {
      "cell_type": "code",
      "execution_count": null,
      "id": "00e1d44c",
      "metadata": {
        "id": "00e1d44c",
        "outputId": "95975841-cbbc-4489-dd7f-0fa6b60f38f0"
      },
      "outputs": [
        {
          "name": "stdout",
          "output_type": "stream",
          "text": [
            "original_data_size: 1000209, filtered_data_size: 836478\n",
            "Ratio of Remaining Data is 83.63%\n"
          ]
        }
      ],
      "source": [
        "# 3점 이상만 남긴다.\n",
        "ratings = ratings[ratings['ratings'] >= 3]\n",
        "filtered_data_size = len(ratings)\n",
        "\n",
        "print(f'original_data_size: {original_data_size}, filtered_data_size: {filtered_data_size}')\n",
        "print(f'Ratio of Remaining Data is {filtered_data_size / original_data_size:.2%}')"
      ]
    },
    {
      "cell_type": "code",
      "execution_count": null,
      "id": "f1d81cda",
      "metadata": {
        "id": "f1d81cda"
      },
      "outputs": [],
      "source": [
        "# ratings 컬럼의 이름을 counts로 바꾼다.\n",
        "ratings.rename(columns = {'ratings' : 'counts'}, inplace = True)"
      ]
    },
    {
      "cell_type": "code",
      "execution_count": null,
      "id": "6d80d75d",
      "metadata": {
        "id": "6d80d75d",
        "outputId": "5c94fa29-1604-484b-f107-5b5bc4966de2"
      },
      "outputs": [
        {
          "data": {
            "text/plain": [
              "0          5\n",
              "1          3\n",
              "2          3\n",
              "3          4\n",
              "4          5\n",
              "          ..\n",
              "1000203    3\n",
              "1000205    5\n",
              "1000206    5\n",
              "1000207    4\n",
              "1000208    4\n",
              "Name: counts, Length: 836478, dtype: int64"
            ]
          },
          "execution_count": 5,
          "metadata": {},
          "output_type": "execute_result"
        }
      ],
      "source": [
        "ratings['counts']"
      ]
    },
    {
      "cell_type": "code",
      "execution_count": null,
      "id": "49995ed7",
      "metadata": {
        "id": "49995ed7",
        "outputId": "5975bff4-5c65-408c-9ee1-b1658aaa6ead"
      },
      "outputs": [
        {
          "data": {
            "text/html": [
              "<div>\n",
              "<style scoped>\n",
              "    .dataframe tbody tr th:only-of-type {\n",
              "        vertical-align: middle;\n",
              "    }\n",
              "\n",
              "    .dataframe tbody tr th {\n",
              "        vertical-align: top;\n",
              "    }\n",
              "\n",
              "    .dataframe thead th {\n",
              "        text-align: right;\n",
              "    }\n",
              "</style>\n",
              "<table border=\"1\" class=\"dataframe\">\n",
              "  <thead>\n",
              "    <tr style=\"text-align: right;\">\n",
              "      <th></th>\n",
              "      <th>movie_id</th>\n",
              "      <th>title</th>\n",
              "      <th>genre</th>\n",
              "    </tr>\n",
              "  </thead>\n",
              "  <tbody>\n",
              "    <tr>\n",
              "      <th>0</th>\n",
              "      <td>1</td>\n",
              "      <td>Toy Story (1995)</td>\n",
              "      <td>Animation|Children's|Comedy</td>\n",
              "    </tr>\n",
              "    <tr>\n",
              "      <th>1</th>\n",
              "      <td>2</td>\n",
              "      <td>Jumanji (1995)</td>\n",
              "      <td>Adventure|Children's|Fantasy</td>\n",
              "    </tr>\n",
              "    <tr>\n",
              "      <th>2</th>\n",
              "      <td>3</td>\n",
              "      <td>Grumpier Old Men (1995)</td>\n",
              "      <td>Comedy|Romance</td>\n",
              "    </tr>\n",
              "    <tr>\n",
              "      <th>3</th>\n",
              "      <td>4</td>\n",
              "      <td>Waiting to Exhale (1995)</td>\n",
              "      <td>Comedy|Drama</td>\n",
              "    </tr>\n",
              "    <tr>\n",
              "      <th>4</th>\n",
              "      <td>5</td>\n",
              "      <td>Father of the Bride Part II (1995)</td>\n",
              "      <td>Comedy</td>\n",
              "    </tr>\n",
              "  </tbody>\n",
              "</table>\n",
              "</div>"
            ],
            "text/plain": [
              "   movie_id                               title                         genre\n",
              "0         1                    Toy Story (1995)   Animation|Children's|Comedy\n",
              "1         2                      Jumanji (1995)  Adventure|Children's|Fantasy\n",
              "2         3             Grumpier Old Men (1995)                Comedy|Romance\n",
              "3         4            Waiting to Exhale (1995)                  Comedy|Drama\n",
              "4         5  Father of the Bride Part II (1995)                        Comedy"
            ]
          },
          "execution_count": 6,
          "metadata": {},
          "output_type": "execute_result"
        }
      ],
      "source": [
        "# 영화 제목을 보기 위해 메타 데이터를 읽어온다.\n",
        "movie_file_path = os.getenv(\"HOME\")+'/aiffel/recommendata_iu/data/ml-1m/movies.dat'\n",
        "cols = ['movie_id', 'title', 'genre']\n",
        "movies = pd.read_csv(movie_file_path, sep = '::', names = cols, engine = 'python', encoding = 'ISO-8859-1')\n",
        "movies.head()"
      ]
    },
    {
      "cell_type": "code",
      "execution_count": null,
      "id": "830ab44b",
      "metadata": {
        "id": "830ab44b",
        "outputId": "9856fb4d-e02a-4663-b59a-8dc0ca2c977e"
      },
      "outputs": [
        {
          "data": {
            "text/html": [
              "<div>\n",
              "<style scoped>\n",
              "    .dataframe tbody tr th:only-of-type {\n",
              "        vertical-align: middle;\n",
              "    }\n",
              "\n",
              "    .dataframe tbody tr th {\n",
              "        vertical-align: top;\n",
              "    }\n",
              "\n",
              "    .dataframe thead th {\n",
              "        text-align: right;\n",
              "    }\n",
              "</style>\n",
              "<table border=\"1\" class=\"dataframe\">\n",
              "  <thead>\n",
              "    <tr style=\"text-align: right;\">\n",
              "      <th></th>\n",
              "      <th>user_id</th>\n",
              "      <th>movie_id</th>\n",
              "      <th>counts</th>\n",
              "      <th>timestamp</th>\n",
              "      <th>title</th>\n",
              "      <th>genre</th>\n",
              "    </tr>\n",
              "  </thead>\n",
              "  <tbody>\n",
              "    <tr>\n",
              "      <th>0</th>\n",
              "      <td>1</td>\n",
              "      <td>1193</td>\n",
              "      <td>5</td>\n",
              "      <td>978300760</td>\n",
              "      <td>One Flew Over the Cuckoo's Nest (1975)</td>\n",
              "      <td>Drama</td>\n",
              "    </tr>\n",
              "    <tr>\n",
              "      <th>1</th>\n",
              "      <td>1</td>\n",
              "      <td>661</td>\n",
              "      <td>3</td>\n",
              "      <td>978302109</td>\n",
              "      <td>James and the Giant Peach (1996)</td>\n",
              "      <td>Animation|Children's|Musical</td>\n",
              "    </tr>\n",
              "    <tr>\n",
              "      <th>2</th>\n",
              "      <td>1</td>\n",
              "      <td>914</td>\n",
              "      <td>3</td>\n",
              "      <td>978301968</td>\n",
              "      <td>My Fair Lady (1964)</td>\n",
              "      <td>Musical|Romance</td>\n",
              "    </tr>\n",
              "    <tr>\n",
              "      <th>3</th>\n",
              "      <td>1</td>\n",
              "      <td>3408</td>\n",
              "      <td>4</td>\n",
              "      <td>978300275</td>\n",
              "      <td>Erin Brockovich (2000)</td>\n",
              "      <td>Drama</td>\n",
              "    </tr>\n",
              "    <tr>\n",
              "      <th>4</th>\n",
              "      <td>1</td>\n",
              "      <td>2355</td>\n",
              "      <td>5</td>\n",
              "      <td>978824291</td>\n",
              "      <td>Bug's Life, A (1998)</td>\n",
              "      <td>Animation|Children's|Comedy</td>\n",
              "    </tr>\n",
              "    <tr>\n",
              "      <th>...</th>\n",
              "      <td>...</td>\n",
              "      <td>...</td>\n",
              "      <td>...</td>\n",
              "      <td>...</td>\n",
              "      <td>...</td>\n",
              "      <td>...</td>\n",
              "    </tr>\n",
              "    <tr>\n",
              "      <th>836473</th>\n",
              "      <td>6040</td>\n",
              "      <td>1090</td>\n",
              "      <td>3</td>\n",
              "      <td>956715518</td>\n",
              "      <td>Platoon (1986)</td>\n",
              "      <td>Drama|War</td>\n",
              "    </tr>\n",
              "    <tr>\n",
              "      <th>836474</th>\n",
              "      <td>6040</td>\n",
              "      <td>1094</td>\n",
              "      <td>5</td>\n",
              "      <td>956704887</td>\n",
              "      <td>Crying Game, The (1992)</td>\n",
              "      <td>Drama|Romance|War</td>\n",
              "    </tr>\n",
              "    <tr>\n",
              "      <th>836475</th>\n",
              "      <td>6040</td>\n",
              "      <td>562</td>\n",
              "      <td>5</td>\n",
              "      <td>956704746</td>\n",
              "      <td>Welcome to the Dollhouse (1995)</td>\n",
              "      <td>Comedy|Drama</td>\n",
              "    </tr>\n",
              "    <tr>\n",
              "      <th>836476</th>\n",
              "      <td>6040</td>\n",
              "      <td>1096</td>\n",
              "      <td>4</td>\n",
              "      <td>956715648</td>\n",
              "      <td>Sophie's Choice (1982)</td>\n",
              "      <td>Drama</td>\n",
              "    </tr>\n",
              "    <tr>\n",
              "      <th>836477</th>\n",
              "      <td>6040</td>\n",
              "      <td>1097</td>\n",
              "      <td>4</td>\n",
              "      <td>956715569</td>\n",
              "      <td>E.T. the Extra-Terrestrial (1982)</td>\n",
              "      <td>Children's|Drama|Fantasy|Sci-Fi</td>\n",
              "    </tr>\n",
              "  </tbody>\n",
              "</table>\n",
              "<p>836478 rows × 6 columns</p>\n",
              "</div>"
            ],
            "text/plain": [
              "        user_id  movie_id  counts  timestamp  \\\n",
              "0             1      1193       5  978300760   \n",
              "1             1       661       3  978302109   \n",
              "2             1       914       3  978301968   \n",
              "3             1      3408       4  978300275   \n",
              "4             1      2355       5  978824291   \n",
              "...         ...       ...     ...        ...   \n",
              "836473     6040      1090       3  956715518   \n",
              "836474     6040      1094       5  956704887   \n",
              "836475     6040       562       5  956704746   \n",
              "836476     6040      1096       4  956715648   \n",
              "836477     6040      1097       4  956715569   \n",
              "\n",
              "                                         title  \\\n",
              "0       One Flew Over the Cuckoo's Nest (1975)   \n",
              "1             James and the Giant Peach (1996)   \n",
              "2                          My Fair Lady (1964)   \n",
              "3                       Erin Brockovich (2000)   \n",
              "4                         Bug's Life, A (1998)   \n",
              "...                                        ...   \n",
              "836473                          Platoon (1986)   \n",
              "836474                 Crying Game, The (1992)   \n",
              "836475         Welcome to the Dollhouse (1995)   \n",
              "836476                  Sophie's Choice (1982)   \n",
              "836477       E.T. the Extra-Terrestrial (1982)   \n",
              "\n",
              "                                  genre  \n",
              "0                                 Drama  \n",
              "1          Animation|Children's|Musical  \n",
              "2                       Musical|Romance  \n",
              "3                                 Drama  \n",
              "4           Animation|Children's|Comedy  \n",
              "...                                 ...  \n",
              "836473                        Drama|War  \n",
              "836474                Drama|Romance|War  \n",
              "836475                     Comedy|Drama  \n",
              "836476                            Drama  \n",
              "836477  Children's|Drama|Fantasy|Sci-Fi  \n",
              "\n",
              "[836478 rows x 6 columns]"
            ]
          },
          "execution_count": 7,
          "metadata": {},
          "output_type": "execute_result"
        }
      ],
      "source": [
        "# rating 데이터프레임과 movie 데이터프레임을 merge 한다.\n",
        "ratings = pd.merge(ratings, movies, on ='movie_id', how='left')\n",
        "ratings"
      ]
    },
    {
      "cell_type": "code",
      "execution_count": null,
      "id": "60effce2",
      "metadata": {
        "id": "60effce2",
        "outputId": "78f6dd5f-7ec3-467b-9776-53befd2332f4"
      },
      "outputs": [
        {
          "data": {
            "text/plain": [
              "array([5, 3, 4])"
            ]
          },
          "execution_count": 8,
          "metadata": {},
          "output_type": "execute_result"
        }
      ],
      "source": [
        "ratings['counts'].unique()"
      ]
    },
    {
      "cell_type": "code",
      "execution_count": null,
      "id": "a64a298e",
      "metadata": {
        "id": "a64a298e",
        "outputId": "00d7b543-e455-4288-90e7-4f10325b1e8a"
      },
      "outputs": [
        {
          "data": {
            "text/html": [
              "<div>\n",
              "<style scoped>\n",
              "    .dataframe tbody tr th:only-of-type {\n",
              "        vertical-align: middle;\n",
              "    }\n",
              "\n",
              "    .dataframe tbody tr th {\n",
              "        vertical-align: top;\n",
              "    }\n",
              "\n",
              "    .dataframe thead th {\n",
              "        text-align: right;\n",
              "    }\n",
              "</style>\n",
              "<table border=\"1\" class=\"dataframe\">\n",
              "  <thead>\n",
              "    <tr style=\"text-align: right;\">\n",
              "      <th></th>\n",
              "      <th>user_id</th>\n",
              "      <th>movie_id</th>\n",
              "      <th>counts</th>\n",
              "      <th>timestamp</th>\n",
              "      <th>title</th>\n",
              "      <th>genre</th>\n",
              "    </tr>\n",
              "  </thead>\n",
              "  <tbody>\n",
              "    <tr>\n",
              "      <th>0</th>\n",
              "      <td>1</td>\n",
              "      <td>1193</td>\n",
              "      <td>5</td>\n",
              "      <td>978300760</td>\n",
              "      <td>one flew over the cuckoo's nest (1975)</td>\n",
              "      <td>Drama</td>\n",
              "    </tr>\n",
              "    <tr>\n",
              "      <th>1</th>\n",
              "      <td>1</td>\n",
              "      <td>661</td>\n",
              "      <td>3</td>\n",
              "      <td>978302109</td>\n",
              "      <td>james and the giant peach (1996)</td>\n",
              "      <td>Animation|Children's|Musical</td>\n",
              "    </tr>\n",
              "    <tr>\n",
              "      <th>2</th>\n",
              "      <td>1</td>\n",
              "      <td>914</td>\n",
              "      <td>3</td>\n",
              "      <td>978301968</td>\n",
              "      <td>my fair lady (1964)</td>\n",
              "      <td>Musical|Romance</td>\n",
              "    </tr>\n",
              "    <tr>\n",
              "      <th>3</th>\n",
              "      <td>1</td>\n",
              "      <td>3408</td>\n",
              "      <td>4</td>\n",
              "      <td>978300275</td>\n",
              "      <td>erin brockovich (2000)</td>\n",
              "      <td>Drama</td>\n",
              "    </tr>\n",
              "    <tr>\n",
              "      <th>4</th>\n",
              "      <td>1</td>\n",
              "      <td>2355</td>\n",
              "      <td>5</td>\n",
              "      <td>978824291</td>\n",
              "      <td>bug's life, a (1998)</td>\n",
              "      <td>Animation|Children's|Comedy</td>\n",
              "    </tr>\n",
              "  </tbody>\n",
              "</table>\n",
              "</div>"
            ],
            "text/plain": [
              "   user_id  movie_id  counts  timestamp  \\\n",
              "0        1      1193       5  978300760   \n",
              "1        1       661       3  978302109   \n",
              "2        1       914       3  978301968   \n",
              "3        1      3408       4  978300275   \n",
              "4        1      2355       5  978824291   \n",
              "\n",
              "                                    title                         genre  \n",
              "0  one flew over the cuckoo's nest (1975)                         Drama  \n",
              "1        james and the giant peach (1996)  Animation|Children's|Musical  \n",
              "2                     my fair lady (1964)               Musical|Romance  \n",
              "3                  erin brockovich (2000)                         Drama  \n",
              "4                    bug's life, a (1998)   Animation|Children's|Comedy  "
            ]
          },
          "execution_count": 9,
          "metadata": {},
          "output_type": "execute_result"
        }
      ],
      "source": [
        "# 검색을 쉽게 하기 위해 아티스트 문자열을 소문자로 바꿔줍시다.\n",
        "ratings['title'] = ratings['title'].str.lower()\n",
        "ratings.head(5)"
      ]
    },
    {
      "cell_type": "markdown",
      "id": "650868af",
      "metadata": {
        "id": "650868af"
      },
      "source": [
        "# 분석해 봅시다.\n",
        "    * ratings에 있는 유니크한 영화 개수\n",
        "    * ratings에 있는 유니크한 사용자 수\n",
        "    * 가장 인기 있는 영화 30개(인기순)"
      ]
    },
    {
      "cell_type": "code",
      "execution_count": null,
      "id": "666b86a9",
      "metadata": {
        "id": "666b86a9",
        "outputId": "91ae3bc8-43df-436f-f57e-20855bb693aa"
      },
      "outputs": [
        {
          "data": {
            "text/plain": [
              "3628"
            ]
          },
          "execution_count": 10,
          "metadata": {},
          "output_type": "execute_result"
        }
      ],
      "source": [
        "# ratings에 있는 유니크한 영화 개수\n",
        "ratings['title'].nunique()"
      ]
    },
    {
      "cell_type": "code",
      "execution_count": null,
      "id": "a1cadf80",
      "metadata": {
        "id": "a1cadf80",
        "outputId": "19a8ee0e-abb6-4674-f929-3603c480fabb"
      },
      "outputs": [
        {
          "data": {
            "text/plain": [
              "6039"
            ]
          },
          "execution_count": 11,
          "metadata": {},
          "output_type": "execute_result"
        }
      ],
      "source": [
        "# ratings에 있는 유니크한 사용자 수\n",
        "ratings['user_id'].nunique()"
      ]
    },
    {
      "cell_type": "code",
      "execution_count": null,
      "id": "a039e51b",
      "metadata": {
        "id": "a039e51b"
      },
      "outputs": [],
      "source": [
        "pd.set_option('display.max_row',100)"
      ]
    },
    {
      "cell_type": "code",
      "execution_count": null,
      "id": "d480edde",
      "metadata": {
        "id": "d480edde",
        "outputId": "661cf883-331a-42ee-9554-9e66f76576ae"
      },
      "outputs": [
        {
          "data": {
            "text/plain": [
              "title\n",
              "american beauty (1999)                                                         3211\n",
              "star wars: episode iv - a new hope (1977)                                      2910\n",
              "star wars: episode v - the empire strikes back (1980)                          2885\n",
              "star wars: episode vi - return of the jedi (1983)                              2716\n",
              "saving private ryan (1998)                                                     2561\n",
              "terminator 2: judgment day (1991)                                              2509\n",
              "silence of the lambs, the (1991)                                               2498\n",
              "raiders of the lost ark (1981)                                                 2473\n",
              "back to the future (1985)                                                      2460\n",
              "matrix, the (1999)                                                             2434\n",
              "jurassic park (1993)                                                           2413\n",
              "sixth sense, the (1999)                                                        2385\n",
              "fargo (1996)                                                                   2371\n",
              "braveheart (1995)                                                              2314\n",
              "men in black (1997)                                                            2297\n",
              "schindler's list (1993)                                                        2257\n",
              "princess bride, the (1987)                                                     2252\n",
              "shakespeare in love (1998)                                                     2213\n",
              "l.a. confidential (1997)                                                       2210\n",
              "shawshank redemption, the (1994)                                               2194\n",
              "godfather, the (1972)                                                          2167\n",
              "groundhog day (1993)                                                           2121\n",
              "e.t. the extra-terrestrial (1982)                                              2102\n",
              "being john malkovich (1999)                                                    2066\n",
              "ghostbusters (1984)                                                            2051\n",
              "pulp fiction (1994)                                                            2030\n",
              "forrest gump (1994)                                                            2022\n",
              "terminator, the (1984)                                                         2019\n",
              "toy story (1995)                                                               2000\n",
              "fugitive, the (1993)                                                           1941\n",
              "alien (1979)                                                                   1920\n",
              "gladiator (2000)                                                               1798\n",
              "total recall (1990)                                                            1786\n",
              "star wars: episode i - the phantom menace (1999)                               1783\n",
              "usual suspects, the (1995)                                                     1744\n",
              "stand by me (1986)                                                             1728\n",
              "blade runner (1982)                                                            1722\n",
              "aliens (1986)                                                                  1720\n",
              "one flew over the cuckoo's nest (1975)                                         1680\n",
              "wizard of oz, the (1939)                                                       1650\n",
              "godfather: part ii, the (1974)                                                 1624\n",
              "casablanca (1942)                                                              1623\n",
              "who framed roger rabbit? (1988)                                                1605\n",
              "bug's life, a (1998)                                                           1599\n",
              "jaws (1975)                                                                    1598\n",
              "goodfellas (1990)                                                              1595\n",
              "die hard (1988)                                                                1593\n",
              "hunt for red october, the (1990)                                               1587\n",
              "airplane! (1980)                                                               1586\n",
              "babe (1995)                                                                    1574\n",
              "indiana jones and the last crusade (1989)                                      1573\n",
              "galaxy quest (1999)                                                            1572\n",
              "2001: a space odyssey (1968)                                                   1568\n",
              "abyss, the (1989)                                                              1555\n",
              "monty python and the holy grail (1974)                                         1532\n",
              "lethal weapon (1987)                                                           1527\n",
              "toy story 2 (1999)                                                             1516\n",
              "good will hunting (1997)                                                       1496\n",
              "when harry met sally... (1989)                                                 1487\n",
              "speed (1994)                                                                   1442\n",
              "breakfast club, the (1985)                                                     1431\n",
              "election (1999)                                                                1414\n",
              "independence day (id4) (1996)                                                  1412\n",
              "ferris bueller's day off (1986)                                                1411\n",
              "x-men (2000)                                                                   1393\n",
              "butch cassidy and the sundance kid (1969)                                      1386\n",
              "big (1988)                                                                     1386\n",
              "twelve monkeys (1995)                                                          1384\n",
              "close encounters of the third kind (1977)                                      1374\n",
              "amadeus (1984)                                                                 1340\n",
              "star trek: the wrath of khan (1982)                                            1331\n",
              "dr. strangelove or: how i learned to stop worrying and love the bomb (1963)    1322\n",
              "raising arizona (1987)                                                         1321\n",
              "dances with wolves (1990)                                                      1318\n",
              "as good as it gets (1997)                                                      1315\n",
              "fight club (1999)                                                              1308\n",
              "beetlejuice (1988)                                                             1302\n",
              "north by northwest (1959)                                                      1298\n",
              "christmas story, a (1983)                                                      1290\n",
              "clerks (1994)                                                                  1289\n",
              "edward scissorhands (1990)                                                     1285\n",
              "rain man (1988)                                                                1284\n",
              "mission: impossible (1996)                                                     1281\n",
              "titanic (1997)                                                                 1270\n",
              "thelma & louise (1991)                                                         1270\n",
              "high fidelity (2000)                                                           1263\n",
              "batman (1989)                                                                  1255\n",
              "true lies (1994)                                                               1254\n",
              "annie hall (1977)                                                              1248\n",
              "blues brothers, the (1980)                                                     1244\n",
              "romancing the stone (1984)                                                     1239\n",
              "jerry maguire (1996)                                                           1239\n",
              "contact (1997)                                                                 1238\n",
              "fish called wanda, a (1988)                                                    1231\n",
              "aladdin (1992)                                                                 1228\n",
              "there's something about mary (1998)                                            1223\n",
              "graduate, the (1967)                                                           1223\n",
              "chicken run (2000)                                                             1223\n",
              "erin brockovich (2000)                                                         1223\n",
              "rock, the (1996)                                                               1213\n",
              "Name: counts, dtype: int64"
            ]
          },
          "execution_count": 13,
          "metadata": {},
          "output_type": "execute_result"
        }
      ],
      "source": [
        "# 가장 인기 있는 영화 30개(인기수)\n",
        "movie_counts = ratings.groupby('title')['counts'].count()\n",
        "movie_counts.sort_values(ascending=False).head(100)"
      ]
    },
    {
      "cell_type": "markdown",
      "id": "f7c0aef1",
      "metadata": {
        "id": "f7c0aef1"
      },
      "source": [
        "# 내가 선호하는 영화를 5가지 골라서 ratings에 추가"
      ]
    },
    {
      "cell_type": "code",
      "execution_count": null,
      "id": "172593b0",
      "metadata": {
        "id": "172593b0",
        "outputId": "b8dc19aa-8591-4e05-854a-ecc1ae8a4e34"
      },
      "outputs": [
        {
          "data": {
            "text/html": [
              "<div>\n",
              "<style scoped>\n",
              "    .dataframe tbody tr th:only-of-type {\n",
              "        vertical-align: middle;\n",
              "    }\n",
              "\n",
              "    .dataframe tbody tr th {\n",
              "        vertical-align: top;\n",
              "    }\n",
              "\n",
              "    .dataframe thead th {\n",
              "        text-align: right;\n",
              "    }\n",
              "</style>\n",
              "<table border=\"1\" class=\"dataframe\">\n",
              "  <thead>\n",
              "    <tr style=\"text-align: right;\">\n",
              "      <th></th>\n",
              "      <th>user_id</th>\n",
              "      <th>movie_id</th>\n",
              "      <th>counts</th>\n",
              "      <th>timestamp</th>\n",
              "      <th>title</th>\n",
              "      <th>genre</th>\n",
              "    </tr>\n",
              "  </thead>\n",
              "  <tbody>\n",
              "    <tr>\n",
              "      <th>40</th>\n",
              "      <td>1</td>\n",
              "      <td>1</td>\n",
              "      <td>5</td>\n",
              "      <td>978824268</td>\n",
              "      <td>toy story (1995)</td>\n",
              "      <td>Animation|Children's|Comedy</td>\n",
              "    </tr>\n",
              "  </tbody>\n",
              "</table>\n",
              "</div>"
            ],
            "text/plain": [
              "    user_id  movie_id  counts  timestamp             title  \\\n",
              "40        1         1       5  978824268  toy story (1995)   \n",
              "\n",
              "                          genre  \n",
              "40  Animation|Children's|Comedy  "
            ]
          },
          "execution_count": 14,
          "metadata": {},
          "output_type": "execute_result"
        }
      ],
      "source": [
        "ratings[ratings[\"title\"]== 'toy story (1995)'].head(1)"
      ]
    },
    {
      "cell_type": "code",
      "execution_count": null,
      "id": "f66e0978",
      "metadata": {
        "id": "f66e0978",
        "outputId": "776f4baf-054c-410b-9382-eb17b9caeef3"
      },
      "outputs": [
        {
          "data": {
            "text/html": [
              "<div>\n",
              "<style scoped>\n",
              "    .dataframe tbody tr th:only-of-type {\n",
              "        vertical-align: middle;\n",
              "    }\n",
              "\n",
              "    .dataframe tbody tr th {\n",
              "        vertical-align: top;\n",
              "    }\n",
              "\n",
              "    .dataframe thead th {\n",
              "        text-align: right;\n",
              "    }\n",
              "</style>\n",
              "<table border=\"1\" class=\"dataframe\">\n",
              "  <thead>\n",
              "    <tr style=\"text-align: right;\">\n",
              "      <th></th>\n",
              "      <th>user_id</th>\n",
              "      <th>movie_id</th>\n",
              "      <th>counts</th>\n",
              "      <th>timestamp</th>\n",
              "      <th>title</th>\n",
              "      <th>genre</th>\n",
              "    </tr>\n",
              "  </thead>\n",
              "  <tbody>\n",
              "    <tr>\n",
              "      <th>58</th>\n",
              "      <td>2</td>\n",
              "      <td>648</td>\n",
              "      <td>4</td>\n",
              "      <td>978299913</td>\n",
              "      <td>mission: impossible (1996)</td>\n",
              "      <td>Action|Adventure|Mystery</td>\n",
              "    </tr>\n",
              "  </tbody>\n",
              "</table>\n",
              "</div>"
            ],
            "text/plain": [
              "    user_id  movie_id  counts  timestamp                       title  \\\n",
              "58        2       648       4  978299913  mission: impossible (1996)   \n",
              "\n",
              "                       genre  \n",
              "58  Action|Adventure|Mystery  "
            ]
          },
          "execution_count": 15,
          "metadata": {},
          "output_type": "execute_result"
        }
      ],
      "source": [
        "ratings[ratings[\"title\"]== 'mission: impossible (1996)'].head(1)"
      ]
    },
    {
      "cell_type": "code",
      "execution_count": null,
      "id": "28d8682e",
      "metadata": {
        "id": "28d8682e",
        "outputId": "34f6aa45-e2a1-4e4b-f67b-656980d6ec5e"
      },
      "outputs": [
        {
          "data": {
            "text/html": [
              "<div>\n",
              "<style scoped>\n",
              "    .dataframe tbody tr th:only-of-type {\n",
              "        vertical-align: middle;\n",
              "    }\n",
              "\n",
              "    .dataframe tbody tr th {\n",
              "        vertical-align: top;\n",
              "    }\n",
              "\n",
              "    .dataframe thead th {\n",
              "        text-align: right;\n",
              "    }\n",
              "</style>\n",
              "<table border=\"1\" class=\"dataframe\">\n",
              "  <thead>\n",
              "    <tr style=\"text-align: right;\">\n",
              "      <th></th>\n",
              "      <th>user_id</th>\n",
              "      <th>movie_id</th>\n",
              "      <th>counts</th>\n",
              "      <th>timestamp</th>\n",
              "      <th>title</th>\n",
              "      <th>genre</th>\n",
              "    </tr>\n",
              "  </thead>\n",
              "  <tbody>\n",
              "    <tr>\n",
              "      <th>219</th>\n",
              "      <td>4</td>\n",
              "      <td>1036</td>\n",
              "      <td>4</td>\n",
              "      <td>978294282</td>\n",
              "      <td>die hard (1988)</td>\n",
              "      <td>Action|Thriller</td>\n",
              "    </tr>\n",
              "  </tbody>\n",
              "</table>\n",
              "</div>"
            ],
            "text/plain": [
              "     user_id  movie_id  counts  timestamp            title            genre\n",
              "219        4      1036       4  978294282  die hard (1988)  Action|Thriller"
            ]
          },
          "execution_count": 16,
          "metadata": {},
          "output_type": "execute_result"
        }
      ],
      "source": [
        "ratings[ratings[\"title\"]== 'die hard (1988)'].head(1)"
      ]
    },
    {
      "cell_type": "code",
      "execution_count": null,
      "id": "8fe642b5",
      "metadata": {
        "id": "8fe642b5",
        "outputId": "bc438cdc-07b4-4808-9248-a8c1c64edbdf"
      },
      "outputs": [
        {
          "data": {
            "text/html": [
              "<div>\n",
              "<style scoped>\n",
              "    .dataframe tbody tr th:only-of-type {\n",
              "        vertical-align: middle;\n",
              "    }\n",
              "\n",
              "    .dataframe tbody tr th {\n",
              "        vertical-align: top;\n",
              "    }\n",
              "\n",
              "    .dataframe thead th {\n",
              "        text-align: right;\n",
              "    }\n",
              "</style>\n",
              "<table border=\"1\" class=\"dataframe\">\n",
              "  <thead>\n",
              "    <tr style=\"text-align: right;\">\n",
              "      <th></th>\n",
              "      <th>user_id</th>\n",
              "      <th>movie_id</th>\n",
              "      <th>counts</th>\n",
              "      <th>timestamp</th>\n",
              "      <th>title</th>\n",
              "      <th>genre</th>\n",
              "    </tr>\n",
              "  </thead>\n",
              "  <tbody>\n",
              "    <tr>\n",
              "      <th>166</th>\n",
              "      <td>2</td>\n",
              "      <td>356</td>\n",
              "      <td>5</td>\n",
              "      <td>978299686</td>\n",
              "      <td>forrest gump (1994)</td>\n",
              "      <td>Comedy|Romance|War</td>\n",
              "    </tr>\n",
              "  </tbody>\n",
              "</table>\n",
              "</div>"
            ],
            "text/plain": [
              "     user_id  movie_id  counts  timestamp                title  \\\n",
              "166        2       356       5  978299686  forrest gump (1994)   \n",
              "\n",
              "                  genre  \n",
              "166  Comedy|Romance|War  "
            ]
          },
          "execution_count": 17,
          "metadata": {},
          "output_type": "execute_result"
        }
      ],
      "source": [
        "ratings[ratings[\"title\"]== 'forrest gump (1994)'].head(1)"
      ]
    },
    {
      "cell_type": "code",
      "execution_count": null,
      "id": "bcf05fb7",
      "metadata": {
        "id": "bcf05fb7",
        "outputId": "a84d023d-a5ff-4904-a119-983d1177fcc6"
      },
      "outputs": [
        {
          "data": {
            "text/html": [
              "<div>\n",
              "<style scoped>\n",
              "    .dataframe tbody tr th:only-of-type {\n",
              "        vertical-align: middle;\n",
              "    }\n",
              "\n",
              "    .dataframe tbody tr th {\n",
              "        vertical-align: top;\n",
              "    }\n",
              "\n",
              "    .dataframe thead th {\n",
              "        text-align: right;\n",
              "    }\n",
              "</style>\n",
              "<table border=\"1\" class=\"dataframe\">\n",
              "  <thead>\n",
              "    <tr style=\"text-align: right;\">\n",
              "      <th></th>\n",
              "      <th>user_id</th>\n",
              "      <th>movie_id</th>\n",
              "      <th>counts</th>\n",
              "      <th>timestamp</th>\n",
              "      <th>title</th>\n",
              "      <th>genre</th>\n",
              "    </tr>\n",
              "  </thead>\n",
              "  <tbody>\n",
              "    <tr>\n",
              "      <th>127</th>\n",
              "      <td>2</td>\n",
              "      <td>2571</td>\n",
              "      <td>4</td>\n",
              "      <td>978299773</td>\n",
              "      <td>matrix, the (1999)</td>\n",
              "      <td>Action|Sci-Fi|Thriller</td>\n",
              "    </tr>\n",
              "  </tbody>\n",
              "</table>\n",
              "</div>"
            ],
            "text/plain": [
              "     user_id  movie_id  counts  timestamp               title  \\\n",
              "127        2      2571       4  978299773  matrix, the (1999)   \n",
              "\n",
              "                      genre  \n",
              "127  Action|Sci-Fi|Thriller  "
            ]
          },
          "execution_count": 18,
          "metadata": {},
          "output_type": "execute_result"
        }
      ],
      "source": [
        "ratings[ratings[\"title\"]== 'matrix, the (1999)'].head(1)"
      ]
    },
    {
      "cell_type": "code",
      "execution_count": null,
      "id": "6b56c528",
      "metadata": {
        "id": "6b56c528",
        "outputId": "6cb86cca-7db8-4f3c-d034-bbc81c118751"
      },
      "outputs": [
        {
          "data": {
            "text/html": [
              "<div>\n",
              "<style scoped>\n",
              "    .dataframe tbody tr th:only-of-type {\n",
              "        vertical-align: middle;\n",
              "    }\n",
              "\n",
              "    .dataframe tbody tr th {\n",
              "        vertical-align: top;\n",
              "    }\n",
              "\n",
              "    .dataframe thead th {\n",
              "        text-align: right;\n",
              "    }\n",
              "</style>\n",
              "<table border=\"1\" class=\"dataframe\">\n",
              "  <thead>\n",
              "    <tr style=\"text-align: right;\">\n",
              "      <th></th>\n",
              "      <th>user_id</th>\n",
              "      <th>movie_id</th>\n",
              "      <th>counts</th>\n",
              "      <th>timestamp</th>\n",
              "      <th>title</th>\n",
              "      <th>genre</th>\n",
              "    </tr>\n",
              "  </thead>\n",
              "  <tbody>\n",
              "    <tr>\n",
              "      <th>836473</th>\n",
              "      <td>6040</td>\n",
              "      <td>1090</td>\n",
              "      <td>3</td>\n",
              "      <td>956715518.0</td>\n",
              "      <td>platoon (1986)</td>\n",
              "      <td>Drama|War</td>\n",
              "    </tr>\n",
              "    <tr>\n",
              "      <th>836474</th>\n",
              "      <td>6040</td>\n",
              "      <td>1094</td>\n",
              "      <td>5</td>\n",
              "      <td>956704887.0</td>\n",
              "      <td>crying game, the (1992)</td>\n",
              "      <td>Drama|Romance|War</td>\n",
              "    </tr>\n",
              "    <tr>\n",
              "      <th>836475</th>\n",
              "      <td>6040</td>\n",
              "      <td>562</td>\n",
              "      <td>5</td>\n",
              "      <td>956704746.0</td>\n",
              "      <td>welcome to the dollhouse (1995)</td>\n",
              "      <td>Comedy|Drama</td>\n",
              "    </tr>\n",
              "    <tr>\n",
              "      <th>836476</th>\n",
              "      <td>6040</td>\n",
              "      <td>1096</td>\n",
              "      <td>4</td>\n",
              "      <td>956715648.0</td>\n",
              "      <td>sophie's choice (1982)</td>\n",
              "      <td>Drama</td>\n",
              "    </tr>\n",
              "    <tr>\n",
              "      <th>836477</th>\n",
              "      <td>6040</td>\n",
              "      <td>1097</td>\n",
              "      <td>4</td>\n",
              "      <td>956715569.0</td>\n",
              "      <td>e.t. the extra-terrestrial (1982)</td>\n",
              "      <td>Children's|Drama|Fantasy|Sci-Fi</td>\n",
              "    </tr>\n",
              "    <tr>\n",
              "      <th>0</th>\n",
              "      <td>kun</td>\n",
              "      <td>1</td>\n",
              "      <td>5</td>\n",
              "      <td>NaN</td>\n",
              "      <td>toy story (1995)</td>\n",
              "      <td>NaN</td>\n",
              "    </tr>\n",
              "    <tr>\n",
              "      <th>1</th>\n",
              "      <td>kun</td>\n",
              "      <td>648</td>\n",
              "      <td>5</td>\n",
              "      <td>NaN</td>\n",
              "      <td>mission: impossible (1996)</td>\n",
              "      <td>NaN</td>\n",
              "    </tr>\n",
              "    <tr>\n",
              "      <th>2</th>\n",
              "      <td>kun</td>\n",
              "      <td>1036</td>\n",
              "      <td>5</td>\n",
              "      <td>NaN</td>\n",
              "      <td>die hard (1988)</td>\n",
              "      <td>NaN</td>\n",
              "    </tr>\n",
              "    <tr>\n",
              "      <th>3</th>\n",
              "      <td>kun</td>\n",
              "      <td>356</td>\n",
              "      <td>5</td>\n",
              "      <td>NaN</td>\n",
              "      <td>forrest gump (1994)</td>\n",
              "      <td>NaN</td>\n",
              "    </tr>\n",
              "    <tr>\n",
              "      <th>4</th>\n",
              "      <td>kun</td>\n",
              "      <td>2571</td>\n",
              "      <td>5</td>\n",
              "      <td>NaN</td>\n",
              "      <td>matrix, the (1999)</td>\n",
              "      <td>NaN</td>\n",
              "    </tr>\n",
              "  </tbody>\n",
              "</table>\n",
              "</div>"
            ],
            "text/plain": [
              "       user_id movie_id  counts    timestamp  \\\n",
              "836473    6040     1090       3  956715518.0   \n",
              "836474    6040     1094       5  956704887.0   \n",
              "836475    6040      562       5  956704746.0   \n",
              "836476    6040     1096       4  956715648.0   \n",
              "836477    6040     1097       4  956715569.0   \n",
              "0          kun        1       5          NaN   \n",
              "1          kun      648       5          NaN   \n",
              "2          kun     1036       5          NaN   \n",
              "3          kun      356       5          NaN   \n",
              "4          kun     2571       5          NaN   \n",
              "\n",
              "                                    title                            genre  \n",
              "836473                     platoon (1986)                        Drama|War  \n",
              "836474            crying game, the (1992)                Drama|Romance|War  \n",
              "836475    welcome to the dollhouse (1995)                     Comedy|Drama  \n",
              "836476             sophie's choice (1982)                            Drama  \n",
              "836477  e.t. the extra-terrestrial (1982)  Children's|Drama|Fantasy|Sci-Fi  \n",
              "0                        toy story (1995)                              NaN  \n",
              "1              mission: impossible (1996)                              NaN  \n",
              "2                         die hard (1988)                              NaN  \n",
              "3                     forrest gump (1994)                              NaN  \n",
              "4                      matrix, the (1999)                              NaN  "
            ]
          },
          "execution_count": 19,
          "metadata": {},
          "output_type": "execute_result"
        }
      ],
      "source": [
        "my_favorite = ['toy story (1995)', 'mission: impossible (1996)', 'die hard (1988)', 'forrest gump (1994)', 'matrix, the (1999)']\n",
        "\n",
        "# 'user_id'는 6041 로 위 영화의 별점 5점을 주었다고 가정\n",
        "my_movielist = pd.DataFrame({'user_id':['kun']*5, 'movie_id':['1','648','1036','356','2571'],'title': my_favorite, 'counts':[5]*5})\n",
        "\n",
        "if not ratings.isin({'user_id':['kun']})['user_id'].any():\n",
        "    ratings = ratings.append(my_movielist)\n",
        "    \n",
        "ratings.tail(10)"
      ]
    },
    {
      "cell_type": "code",
      "execution_count": null,
      "id": "791b2e53",
      "metadata": {
        "id": "791b2e53"
      },
      "outputs": [],
      "source": [
        "# 고유한 유저, 아티스트를 찾아내는 코드\n",
        "user_unique = ratings['user_id'].unique()\n",
        "title_unique = ratings['title'].unique()\n",
        "\n",
        "# 유저, 아티스트 indexing 하는 코드 idx는 index의 약자입니다.\n",
        "user_to_idx = {v:k for k,v in enumerate(user_unique)}\n",
        "title_to_idx = {v:k for k,v in enumerate(title_unique)}"
      ]
    },
    {
      "cell_type": "code",
      "execution_count": null,
      "id": "e3c0871a",
      "metadata": {
        "id": "e3c0871a",
        "outputId": "348516b2-8569-440c-a3c5-7ed7a0861ac5"
      },
      "outputs": [
        {
          "name": "stdout",
          "output_type": "stream",
          "text": [
            "6039\n",
            "1030\n"
          ]
        }
      ],
      "source": [
        "print(user_to_idx['kun'])\n",
        "print(title_to_idx['platoon (1986)'])"
      ]
    },
    {
      "cell_type": "code",
      "execution_count": null,
      "id": "cf2dee0a",
      "metadata": {
        "id": "cf2dee0a",
        "outputId": "6ee0b7cb-2b0f-4d9e-9a0b-0b8d38ca22be"
      },
      "outputs": [
        {
          "name": "stdout",
          "output_type": "stream",
          "text": [
            "user_id column indexing OK!!\n",
            "title column indexing OK!!\n"
          ]
        },
        {
          "data": {
            "text/html": [
              "<div>\n",
              "<style scoped>\n",
              "    .dataframe tbody tr th:only-of-type {\n",
              "        vertical-align: middle;\n",
              "    }\n",
              "\n",
              "    .dataframe tbody tr th {\n",
              "        vertical-align: top;\n",
              "    }\n",
              "\n",
              "    .dataframe thead th {\n",
              "        text-align: right;\n",
              "    }\n",
              "</style>\n",
              "<table border=\"1\" class=\"dataframe\">\n",
              "  <thead>\n",
              "    <tr style=\"text-align: right;\">\n",
              "      <th></th>\n",
              "      <th>user_id</th>\n",
              "      <th>movie_id</th>\n",
              "      <th>counts</th>\n",
              "      <th>timestamp</th>\n",
              "      <th>title</th>\n",
              "      <th>genre</th>\n",
              "    </tr>\n",
              "  </thead>\n",
              "  <tbody>\n",
              "    <tr>\n",
              "      <th>0</th>\n",
              "      <td>0</td>\n",
              "      <td>1193</td>\n",
              "      <td>5</td>\n",
              "      <td>978300760.0</td>\n",
              "      <td>0</td>\n",
              "      <td>Drama</td>\n",
              "    </tr>\n",
              "    <tr>\n",
              "      <th>1</th>\n",
              "      <td>0</td>\n",
              "      <td>661</td>\n",
              "      <td>3</td>\n",
              "      <td>978302109.0</td>\n",
              "      <td>1</td>\n",
              "      <td>Animation|Children's|Musical</td>\n",
              "    </tr>\n",
              "    <tr>\n",
              "      <th>2</th>\n",
              "      <td>0</td>\n",
              "      <td>914</td>\n",
              "      <td>3</td>\n",
              "      <td>978301968.0</td>\n",
              "      <td>2</td>\n",
              "      <td>Musical|Romance</td>\n",
              "    </tr>\n",
              "    <tr>\n",
              "      <th>3</th>\n",
              "      <td>0</td>\n",
              "      <td>3408</td>\n",
              "      <td>4</td>\n",
              "      <td>978300275.0</td>\n",
              "      <td>3</td>\n",
              "      <td>Drama</td>\n",
              "    </tr>\n",
              "    <tr>\n",
              "      <th>4</th>\n",
              "      <td>0</td>\n",
              "      <td>2355</td>\n",
              "      <td>5</td>\n",
              "      <td>978824291.0</td>\n",
              "      <td>4</td>\n",
              "      <td>Animation|Children's|Comedy</td>\n",
              "    </tr>\n",
              "    <tr>\n",
              "      <th>...</th>\n",
              "      <td>...</td>\n",
              "      <td>...</td>\n",
              "      <td>...</td>\n",
              "      <td>...</td>\n",
              "      <td>...</td>\n",
              "      <td>...</td>\n",
              "    </tr>\n",
              "    <tr>\n",
              "      <th>0</th>\n",
              "      <td>6039</td>\n",
              "      <td>1</td>\n",
              "      <td>5</td>\n",
              "      <td>NaN</td>\n",
              "      <td>40</td>\n",
              "      <td>NaN</td>\n",
              "    </tr>\n",
              "    <tr>\n",
              "      <th>1</th>\n",
              "      <td>6039</td>\n",
              "      <td>648</td>\n",
              "      <td>5</td>\n",
              "      <td>NaN</td>\n",
              "      <td>58</td>\n",
              "      <td>NaN</td>\n",
              "    </tr>\n",
              "    <tr>\n",
              "      <th>2</th>\n",
              "      <td>6039</td>\n",
              "      <td>1036</td>\n",
              "      <td>5</td>\n",
              "      <td>NaN</td>\n",
              "      <td>194</td>\n",
              "      <td>NaN</td>\n",
              "    </tr>\n",
              "    <tr>\n",
              "      <th>3</th>\n",
              "      <td>6039</td>\n",
              "      <td>356</td>\n",
              "      <td>5</td>\n",
              "      <td>NaN</td>\n",
              "      <td>160</td>\n",
              "      <td>NaN</td>\n",
              "    </tr>\n",
              "    <tr>\n",
              "      <th>4</th>\n",
              "      <td>6039</td>\n",
              "      <td>2571</td>\n",
              "      <td>5</td>\n",
              "      <td>NaN</td>\n",
              "      <td>124</td>\n",
              "      <td>NaN</td>\n",
              "    </tr>\n",
              "  </tbody>\n",
              "</table>\n",
              "<p>836483 rows × 6 columns</p>\n",
              "</div>"
            ],
            "text/plain": [
              "    user_id movie_id  counts    timestamp  title                         genre\n",
              "0         0     1193       5  978300760.0      0                         Drama\n",
              "1         0      661       3  978302109.0      1  Animation|Children's|Musical\n",
              "2         0      914       3  978301968.0      2               Musical|Romance\n",
              "3         0     3408       4  978300275.0      3                         Drama\n",
              "4         0     2355       5  978824291.0      4   Animation|Children's|Comedy\n",
              "..      ...      ...     ...          ...    ...                           ...\n",
              "0      6039        1       5          NaN     40                           NaN\n",
              "1      6039      648       5          NaN     58                           NaN\n",
              "2      6039     1036       5          NaN    194                           NaN\n",
              "3      6039      356       5          NaN    160                           NaN\n",
              "4      6039     2571       5          NaN    124                           NaN\n",
              "\n",
              "[836483 rows x 6 columns]"
            ]
          },
          "execution_count": 22,
          "metadata": {},
          "output_type": "execute_result"
        }
      ],
      "source": [
        "temp_user_data = ratings['user_id'].map(user_to_idx.get).dropna()\n",
        "if len(temp_user_data) == len(ratings):   # 모든 row가 정상적으로 인덱싱되었다면\n",
        "    print('user_id column indexing OK!!')\n",
        "    ratings['user_id'] = temp_user_data   # ratings['user_id']을 인덱싱된 Series로 교체해 줍니다. \n",
        "else:\n",
        "    print('user_id column indexing Fail!!')\n",
        "\n",
        "# title_to_idx을 통해 title 컬럼도 동일한 방식으로 인덱싱해 줍니다. \n",
        "temp_title_data = ratings['title'].map(title_to_idx.get).dropna()\n",
        "if len(temp_title_data) == len(ratings):\n",
        "    print('title column indexing OK!!')\n",
        "    ratings['title'] = temp_title_data\n",
        "else:\n",
        "    print('title column indexing Fail!!')\n",
        "\n",
        "ratings"
      ]
    },
    {
      "cell_type": "code",
      "execution_count": null,
      "id": "75e25659",
      "metadata": {
        "id": "75e25659",
        "outputId": "56dd4b19-e2ac-4862-deb9-d09e6bc9f385"
      },
      "outputs": [
        {
          "data": {
            "text/html": [
              "<div>\n",
              "<style scoped>\n",
              "    .dataframe tbody tr th:only-of-type {\n",
              "        vertical-align: middle;\n",
              "    }\n",
              "\n",
              "    .dataframe tbody tr th {\n",
              "        vertical-align: top;\n",
              "    }\n",
              "\n",
              "    .dataframe thead th {\n",
              "        text-align: right;\n",
              "    }\n",
              "</style>\n",
              "<table border=\"1\" class=\"dataframe\">\n",
              "  <thead>\n",
              "    <tr style=\"text-align: right;\">\n",
              "      <th></th>\n",
              "      <th>user_id</th>\n",
              "      <th>counts</th>\n",
              "      <th>title</th>\n",
              "    </tr>\n",
              "  </thead>\n",
              "  <tbody>\n",
              "    <tr>\n",
              "      <th>0</th>\n",
              "      <td>0</td>\n",
              "      <td>5</td>\n",
              "      <td>0</td>\n",
              "    </tr>\n",
              "    <tr>\n",
              "      <th>1</th>\n",
              "      <td>0</td>\n",
              "      <td>3</td>\n",
              "      <td>1</td>\n",
              "    </tr>\n",
              "    <tr>\n",
              "      <th>2</th>\n",
              "      <td>0</td>\n",
              "      <td>3</td>\n",
              "      <td>2</td>\n",
              "    </tr>\n",
              "    <tr>\n",
              "      <th>3</th>\n",
              "      <td>0</td>\n",
              "      <td>4</td>\n",
              "      <td>3</td>\n",
              "    </tr>\n",
              "    <tr>\n",
              "      <th>4</th>\n",
              "      <td>0</td>\n",
              "      <td>5</td>\n",
              "      <td>4</td>\n",
              "    </tr>\n",
              "    <tr>\n",
              "      <th>5</th>\n",
              "      <td>0</td>\n",
              "      <td>3</td>\n",
              "      <td>5</td>\n",
              "    </tr>\n",
              "    <tr>\n",
              "      <th>6</th>\n",
              "      <td>0</td>\n",
              "      <td>5</td>\n",
              "      <td>6</td>\n",
              "    </tr>\n",
              "    <tr>\n",
              "      <th>7</th>\n",
              "      <td>0</td>\n",
              "      <td>5</td>\n",
              "      <td>7</td>\n",
              "    </tr>\n",
              "    <tr>\n",
              "      <th>8</th>\n",
              "      <td>0</td>\n",
              "      <td>4</td>\n",
              "      <td>8</td>\n",
              "    </tr>\n",
              "    <tr>\n",
              "      <th>9</th>\n",
              "      <td>0</td>\n",
              "      <td>4</td>\n",
              "      <td>9</td>\n",
              "    </tr>\n",
              "  </tbody>\n",
              "</table>\n",
              "</div>"
            ],
            "text/plain": [
              "   user_id  counts  title\n",
              "0        0       5      0\n",
              "1        0       3      1\n",
              "2        0       3      2\n",
              "3        0       4      3\n",
              "4        0       5      4\n",
              "5        0       3      5\n",
              "6        0       5      6\n",
              "7        0       5      7\n",
              "8        0       4      8\n",
              "9        0       4      9"
            ]
          },
          "execution_count": 23,
          "metadata": {},
          "output_type": "execute_result"
        }
      ],
      "source": [
        "# 사용하는 컬럼만 남겨줍니다.\n",
        "using_cols = ['user_id', 'counts', 'title']\n",
        "ratings = ratings[using_cols]\n",
        "ratings.head(10)"
      ]
    },
    {
      "cell_type": "code",
      "execution_count": null,
      "id": "8ff8c5ad",
      "metadata": {
        "id": "8ff8c5ad"
      },
      "outputs": [],
      "source": [
        "ratings=ratings.astype('int64')"
      ]
    },
    {
      "cell_type": "code",
      "execution_count": null,
      "id": "915c62ce",
      "metadata": {
        "id": "915c62ce",
        "outputId": "55deec5f-9c15-4de5-cb40-6a2c44f80da1"
      },
      "outputs": [
        {
          "name": "stdout",
          "output_type": "stream",
          "text": [
            "<class 'pandas.core.frame.DataFrame'>\n",
            "Int64Index: 836483 entries, 0 to 4\n",
            "Data columns (total 3 columns):\n",
            " #   Column   Non-Null Count   Dtype\n",
            "---  ------   --------------   -----\n",
            " 0   user_id  836483 non-null  int64\n",
            " 1   counts   836483 non-null  int64\n",
            " 2   title    836483 non-null  int64\n",
            "dtypes: int64(3)\n",
            "memory usage: 25.5 MB\n"
          ]
        }
      ],
      "source": [
        "ratings.info()"
      ]
    },
    {
      "cell_type": "markdown",
      "id": "33f295a0",
      "metadata": {
        "id": "33f295a0"
      },
      "source": [
        "# CSR Matrix를 직접 만들어 봅시다."
      ]
    },
    {
      "cell_type": "code",
      "execution_count": null,
      "id": "9f757204",
      "metadata": {
        "id": "9f757204",
        "outputId": "e827de79-853c-4d2c-cba0-fd0ddc0775b0"
      },
      "outputs": [
        {
          "data": {
            "text/plain": [
              "<6040x3628 sparse matrix of type '<class 'numpy.int64'>'\n",
              "\twith 836483 stored elements in Compressed Sparse Row format>"
            ]
          },
          "execution_count": 26,
          "metadata": {},
          "output_type": "execute_result"
        }
      ],
      "source": [
        "from scipy.sparse import csr_matrix\n",
        "\n",
        "num_user = ratings['user_id'].nunique()\n",
        "num_title = ratings['title'].nunique()\n",
        "\n",
        "csr_data = csr_matrix((ratings.counts, (ratings.user_id, ratings.title)), shape= (num_user, num_title))\n",
        "csr_data"
      ]
    },
    {
      "cell_type": "markdown",
      "id": "4614bbb3",
      "metadata": {
        "id": "4614bbb3"
      },
      "source": [
        "# als_model = AlternatingLeastSquares 모델을 직접 구성하여 훈련시켜 봅시다."
      ]
    },
    {
      "cell_type": "code",
      "execution_count": null,
      "id": "f52e77d0",
      "metadata": {
        "id": "f52e77d0"
      },
      "outputs": [],
      "source": [
        "from implicit.als import AlternatingLeastSquares\n",
        "import os\n",
        "import numpy as np\n",
        "\n",
        "# implicit 라이브러리에서 권장하고 있는 부분입니다. 학습 내용과는 무관합니다.\n",
        "os.environ['OPENBLAS_NUM_THREADS']='1'\n",
        "os.environ['KMP_DUPLICATE_LIB_OK']='True'\n",
        "os.environ['MKL_NUM_THREADS']='1'"
      ]
    },
    {
      "cell_type": "code",
      "execution_count": null,
      "id": "154d3db7",
      "metadata": {
        "id": "154d3db7"
      },
      "outputs": [],
      "source": [
        "# Implicit AlternatingLeastSquares 모델의 선언\n",
        "als_model = AlternatingLeastSquares(factors=100, regularization=0.01, use_gpu=False, iterations=15, dtype=np.float32)"
      ]
    },
    {
      "cell_type": "code",
      "execution_count": null,
      "id": "ab2467be",
      "metadata": {
        "id": "ab2467be",
        "outputId": "ceaad76f-e1c3-41c9-af63-29c897421ee3"
      },
      "outputs": [
        {
          "data": {
            "text/plain": [
              "<3628x6040 sparse matrix of type '<class 'numpy.int64'>'\n",
              "\twith 836483 stored elements in Compressed Sparse Column format>"
            ]
          },
          "execution_count": 29,
          "metadata": {},
          "output_type": "execute_result"
        }
      ],
      "source": [
        "# als 모델은 input으로 (item X user 꼴의 matrix를 받기 때문에 Transpose해줍니다.)\n",
        "csr_data_transpose = csr_data.T\n",
        "csr_data_transpose"
      ]
    },
    {
      "cell_type": "code",
      "execution_count": null,
      "id": "e9032ba0",
      "metadata": {
        "colab": {
          "referenced_widgets": [
            "4332807dd7f54e76bbaa19d7848c57af"
          ]
        },
        "id": "e9032ba0",
        "outputId": "f21c005b-d147-4502-86f7-7100a8442a33"
      },
      "outputs": [
        {
          "data": {
            "application/vnd.jupyter.widget-view+json": {
              "model_id": "4332807dd7f54e76bbaa19d7848c57af",
              "version_major": 2,
              "version_minor": 0
            },
            "text/plain": [
              "  0%|          | 0/15 [00:00<?, ?it/s]"
            ]
          },
          "metadata": {},
          "output_type": "display_data"
        }
      ],
      "source": [
        "# 모델 훈련\n",
        "als_model.fit(csr_data_transpose)"
      ]
    },
    {
      "cell_type": "markdown",
      "id": "ba5357e0",
      "metadata": {
        "id": "ba5357e0"
      },
      "source": [
        "# 내가 선호하는 5가지 영화 중 하나와 그 외의 영화 하나를 골라 훈련된 모델이 예측한 나의 선호도를 파악해 보세요."
      ]
    },
    {
      "cell_type": "markdown",
      "id": "d7fcf9a4",
      "metadata": {
        "id": "d7fcf9a4"
      },
      "source": [
        "## 내가 실제 선호하는 영화와 모델이 예측한 그 영화의 선호도 확인 "
      ]
    },
    {
      "cell_type": "code",
      "execution_count": null,
      "id": "96c8e1cb",
      "metadata": {
        "id": "96c8e1cb"
      },
      "outputs": [],
      "source": [
        "kun, toy_story = user_to_idx['kun'], title_to_idx['toy story (1995)']\n",
        "kun_vector, toy_story_vector = als_model.user_factors[kun], als_model.item_factors[toy_story]"
      ]
    },
    {
      "cell_type": "code",
      "execution_count": null,
      "id": "02071f08",
      "metadata": {
        "id": "02071f08",
        "outputId": "8af120f4-0a0d-44f7-edac-9c5e931fdbab"
      },
      "outputs": [
        {
          "data": {
            "text/plain": [
              "array([ 0.48564586, -0.5140683 ,  0.26029524,  0.34289983, -0.8122591 ,\n",
              "        0.00455766, -1.0293972 ,  0.48401913, -0.20149885, -0.3162134 ,\n",
              "       -0.00915215, -0.26099473,  0.5659091 ,  0.7363566 ,  0.7622368 ,\n",
              "        0.07903162, -0.65878665,  0.41252163,  0.41712883,  0.1424305 ,\n",
              "        0.15777569, -0.6695809 , -0.5546065 , -1.1821939 ,  0.47202247,\n",
              "       -0.15125035,  0.19178118,  1.1179024 ,  0.37866884, -0.18327233,\n",
              "       -0.56343025, -0.16458343,  0.82297766, -0.94872904, -0.23546895,\n",
              "        0.31812012,  0.3037962 , -0.50011724,  0.1983121 , -0.11627788,\n",
              "       -0.19634326, -0.01270496, -0.18913846,  0.31768292, -0.03908355,\n",
              "       -0.9766641 , -0.13254495, -0.4619123 , -0.15823138,  1.2658309 ,\n",
              "        0.31832328,  0.6005992 , -0.25277257, -0.8014007 , -0.4269022 ,\n",
              "        0.02912686, -0.03519986,  0.73600155,  0.19287813,  0.34162748,\n",
              "        0.27048203, -0.15468872,  1.0710722 ,  0.32427338, -0.68114   ,\n",
              "        0.24978618, -0.22112958,  0.16557261,  0.16663173, -0.19192885,\n",
              "       -0.09962617,  0.32061672,  0.48205486, -0.07999372, -0.6179431 ,\n",
              "       -0.8845127 , -1.0529697 ,  0.2699168 , -0.32990637, -0.24273288,\n",
              "        0.4230952 , -0.61376595, -0.1297622 ,  0.4288148 ,  0.6367249 ,\n",
              "        0.30592698, -0.38303018,  1.158722  ,  1.0089426 , -0.18646242,\n",
              "       -0.41978458, -0.1796608 ,  0.75720924,  0.16588911,  0.8010226 ,\n",
              "       -0.16152424,  0.15333483, -0.04275717,  0.5631792 , -0.57015973],\n",
              "      dtype=float32)"
            ]
          },
          "execution_count": 32,
          "metadata": {},
          "output_type": "execute_result"
        }
      ],
      "source": [
        "kun_vector"
      ]
    },
    {
      "cell_type": "code",
      "execution_count": null,
      "id": "b4003205",
      "metadata": {
        "id": "b4003205",
        "outputId": "01b33c63-0188-443b-cb35-2309e61416b8"
      },
      "outputs": [
        {
          "data": {
            "text/plain": [
              "array([ 0.0313688 , -0.01006434,  0.03413722, -0.01002307, -0.00891121,\n",
              "       -0.00369829, -0.00495819,  0.01281466, -0.01187521,  0.00709381,\n",
              "       -0.01585265, -0.02411765,  0.00708074,  0.01641825,  0.02017337,\n",
              "       -0.00162592, -0.00671582,  0.00746346, -0.00796722, -0.00635411,\n",
              "        0.0094764 , -0.00099062, -0.00164766, -0.04653632,  0.01924358,\n",
              "        0.0033    ,  0.00514898,  0.04189775,  0.01925165,  0.01163242,\n",
              "       -0.02346786, -0.00893929,  0.03144253,  0.03379799, -0.00320556,\n",
              "        0.01918787, -0.01118597, -0.03500988, -0.02718343,  0.00505196,\n",
              "       -0.01366804, -0.00242427,  0.00560574,  0.02339277,  0.02102142,\n",
              "       -0.01231173,  0.00693075, -0.01022029,  0.00091066,  0.03078254,\n",
              "        0.01260038,  0.01360719,  0.02932178, -0.00904928, -0.00526981,\n",
              "        0.0192821 ,  0.0259833 , -0.00248732, -0.00394403, -0.00799586,\n",
              "        0.01474291,  0.02349219,  0.02234766,  0.02796217, -0.01941177,\n",
              "        0.00198478, -0.029088  , -0.0047425 ,  0.00820061, -0.03291159,\n",
              "        0.03502189,  0.00809899,  0.0017991 ,  0.01102306, -0.02679146,\n",
              "       -0.01695222, -0.01225468,  0.02531538, -0.01441883,  0.00837043,\n",
              "        0.02807697,  0.00199634,  0.02186005,  0.02441162,  0.01064881,\n",
              "       -0.00443175, -0.02374471,  0.02953643, -0.00281957, -0.00764294,\n",
              "       -0.01041193,  0.0123729 ,  0.0366558 ,  0.00685597,  0.01119801,\n",
              "        0.00371055,  0.0171628 ,  0.02971047,  0.03960674, -0.00457438],\n",
              "      dtype=float32)"
            ]
          },
          "execution_count": 33,
          "metadata": {},
          "output_type": "execute_result"
        }
      ],
      "source": [
        "toy_story_vector"
      ]
    },
    {
      "cell_type": "code",
      "execution_count": null,
      "id": "c76b6d67",
      "metadata": {
        "id": "c76b6d67",
        "outputId": "7d6e83a7-35f7-4241-8d1f-547d7622bd08"
      },
      "outputs": [
        {
          "data": {
            "text/plain": [
              "0.5450615"
            ]
          },
          "execution_count": 34,
          "metadata": {},
          "output_type": "execute_result"
        }
      ],
      "source": [
        "# kun과 toy_story를 내적하는 코드\n",
        "np.dot(kun_vector, toy_story_vector)"
      ]
    },
    {
      "cell_type": "markdown",
      "id": "77889494",
      "metadata": {
        "id": "77889494"
      },
      "source": [
        "## 선호하는 모델 외 어느 한 영화가 나의 선호도 관계확인"
      ]
    },
    {
      "cell_type": "code",
      "execution_count": null,
      "id": "bd4777a2",
      "metadata": {
        "id": "bd4777a2",
        "outputId": "6e9abe0d-9380-489f-8934-edbc613f2084"
      },
      "outputs": [
        {
          "data": {
            "text/plain": [
              "0.2684208"
            ]
          },
          "execution_count": 36,
          "metadata": {},
          "output_type": "execute_result"
        }
      ],
      "source": [
        "# kun과 'sixth sense, the (1999)'을 내적하는 코드 \n",
        "sixth_sense = title_to_idx['sixth sense, the (1999)']\n",
        "sixth_sense_vector = als_model.item_factors[sixth_sense]\n",
        "np.dot(kun_vector, sixth_sense_vector)"
      ]
    },
    {
      "cell_type": "markdown",
      "id": "4f66fd3a",
      "metadata": {
        "id": "4f66fd3a"
      },
      "source": [
        "# 내가 좋아하는 영화와 비슷한 영화를 추천받아 봅시다."
      ]
    },
    {
      "cell_type": "markdown",
      "id": "a2b72db3",
      "metadata": {
        "id": "a2b72db3"
      },
      "source": [
        "## 내가 좋아하는 영화와 비슷한 영화"
      ]
    },
    {
      "cell_type": "code",
      "execution_count": null,
      "id": "9c75b6bd",
      "metadata": {
        "id": "9c75b6bd",
        "outputId": "853aa4cb-53af-4782-b299-fa110c2db272"
      },
      "outputs": [
        {
          "data": {
            "text/plain": [
              "['toy story (1995)',\n",
              " 'mission: impossible (1996)',\n",
              " 'die hard (1988)',\n",
              " 'forrest gump (1994)',\n",
              " 'matrix, the (1999)']"
            ]
          },
          "execution_count": 37,
          "metadata": {},
          "output_type": "execute_result"
        }
      ],
      "source": [
        "my_favorite"
      ]
    },
    {
      "cell_type": "code",
      "execution_count": null,
      "id": "01461b44",
      "metadata": {
        "id": "01461b44",
        "outputId": "e95aac8d-2184-4bef-c839-a0f841768071"
      },
      "outputs": [
        {
          "data": {
            "text/plain": [
              "[(124, 1.0000001),\n",
              " (92, 0.7667988),\n",
              " (62, 0.658755),\n",
              " (141, 0.5950956),\n",
              " (145, 0.57889485),\n",
              " (200, 0.57228196),\n",
              " (107, 0.5558865),\n",
              " (375, 0.52737427),\n",
              " (175, 0.49249583),\n",
              " (317, 0.46871826),\n",
              " (75, 0.4460868),\n",
              " (431, 0.40040025),\n",
              " (3457, 0.39928803),\n",
              " (44, 0.38682163),\n",
              " (117, 0.3820667)]"
            ]
          },
          "execution_count": 41,
          "metadata": {},
          "output_type": "execute_result"
        }
      ],
      "source": [
        "favorite_movie = 'matrix, the (1999)'\n",
        "title_id = title_to_idx[favorite_movie]\n",
        "similar_movie = als_model.similar_items(title_id, N = 15)\n",
        "similar_movie"
      ]
    },
    {
      "cell_type": "code",
      "execution_count": null,
      "id": "36b6240d",
      "metadata": {
        "id": "36b6240d"
      },
      "outputs": [],
      "source": [
        "# title의 id(인덱스)를 다시 title의 이름으로 매핑한다.\n",
        "# title_to_idx를 뒤집어, index로부터 title 이름을 얻는 dict를 생성\n",
        "def get_similar_movie(movie_name: str):\n",
        "    title_id = title_to_idx[movie_name]\n",
        "    similar_movie = als_model.similar_items(title_id)\n",
        "    similar_movie = [idx_to_title[i[0]] for i in similar_movie]\n",
        "    return similar_movie"
      ]
    },
    {
      "cell_type": "code",
      "execution_count": null,
      "id": "5968bfe9",
      "metadata": {
        "id": "5968bfe9",
        "outputId": "c4896b9e-fd71-47d1-f112-7ec74e006b89"
      },
      "outputs": [
        {
          "data": {
            "text/plain": [
              "['matrix, the (1999)',\n",
              " 'terminator 2: judgment day (1991)',\n",
              " 'total recall (1990)',\n",
              " 'fugitive, the (1993)',\n",
              " 'fifth element, the (1997)',\n",
              " 'terminator, the (1984)',\n",
              " 'jurassic park (1993)',\n",
              " 'face/off (1997)',\n",
              " 'men in black (1997)',\n",
              " 'twelve monkeys (1995)']"
            ]
          },
          "execution_count": 45,
          "metadata": {},
          "output_type": "execute_result"
        }
      ],
      "source": [
        "get_similar_movie('matrix, the (1999)')"
      ]
    },
    {
      "cell_type": "markdown",
      "id": "6f34828a",
      "metadata": {
        "id": "6f34828a"
      },
      "source": [
        "## 내가 선호하지 않는 영화 (sixth sense)와 비슷한 영화"
      ]
    },
    {
      "cell_type": "code",
      "execution_count": null,
      "id": "0ef99100",
      "metadata": {
        "id": "0ef99100",
        "outputId": "6959eb1c-c203-4045-dee0-592d111a0734"
      },
      "outputs": [
        {
          "data": {
            "text/plain": [
              "['sixth sense, the (1999)',\n",
              " 'silence of the lambs, the (1991)',\n",
              " 'usual suspects, the (1995)',\n",
              " 'ghostbusters (1984)',\n",
              " 'fight club (1999)',\n",
              " 'seven (se7en) (1995)',\n",
              " 'being john malkovich (1999)',\n",
              " 'sleepy hollow (1999)',\n",
              " 'bone collector, the (1999)',\n",
              " 'fugitive, the (1993)']"
            ]
          },
          "execution_count": 46,
          "metadata": {},
          "output_type": "execute_result"
        }
      ],
      "source": [
        "get_similar_movie('sixth sense, the (1999)')"
      ]
    },
    {
      "cell_type": "markdown",
      "id": "d689d8f2",
      "metadata": {
        "id": "d689d8f2"
      },
      "source": [
        "# 내가 가장 좋아할 만한 영화들을 추천받아 본다."
      ]
    },
    {
      "cell_type": "code",
      "execution_count": null,
      "id": "29780efe",
      "metadata": {
        "id": "29780efe",
        "outputId": "c69e7850-452e-47dc-a156-9e57bb9d027a"
      },
      "outputs": [
        {
          "data": {
            "text/plain": [
              "[(141, 0.4644236),\n",
              " (92, 0.44193608),\n",
              " (50, 0.38353476),\n",
              " (110, 0.33848652),\n",
              " (200, 0.32949868),\n",
              " (75, 0.3168424),\n",
              " (64, 0.30793032),\n",
              " (107, 0.2945409),\n",
              " (236, 0.2861783),\n",
              " (48, 0.27761862),\n",
              " (38, 0.2684208),\n",
              " (117, 0.26287282),\n",
              " (62, 0.262338),\n",
              " (172, 0.2430471),\n",
              " (33, 0.23856108),\n",
              " (4, 0.22880273),\n",
              " (330, 0.2248289),\n",
              " (175, 0.2234117),\n",
              " (120, 0.20911731),\n",
              " (67, 0.1997397)]"
            ]
          },
          "execution_count": 47,
          "metadata": {},
          "output_type": "execute_result"
        }
      ],
      "source": [
        "user = user_to_idx['kun']\n",
        "\n",
        "# recommend 에서는 user*item CSR Matrix 를 받는다.\n",
        "movie_recommend = als_model.recommend(user, csr_data, N = 20, filter_already_liked_items=True)\n",
        "movie_recommend"
      ]
    },
    {
      "cell_type": "code",
      "execution_count": null,
      "id": "c236dd73",
      "metadata": {
        "id": "c236dd73",
        "outputId": "0b675386-6d8c-4be1-a885-b20d92ef9080"
      },
      "outputs": [
        {
          "data": {
            "text/plain": [
              "['fugitive, the (1993)',\n",
              " 'terminator 2: judgment day (1991)',\n",
              " 'toy story 2 (1999)',\n",
              " 'groundhog day (1993)',\n",
              " 'terminator, the (1984)',\n",
              " 'hunt for red october, the (1990)',\n",
              " 'star wars: episode vi - return of the jedi (1983)',\n",
              " 'jurassic park (1993)',\n",
              " 'speed (1994)',\n",
              " 'saving private ryan (1998)',\n",
              " 'sixth sense, the (1999)',\n",
              " 'star wars: episode v - the empire strikes back (1980)',\n",
              " 'total recall (1990)',\n",
              " 'indiana jones and the last crusade (1989)',\n",
              " 'aladdin (1992)',\n",
              " \"bug's life, a (1998)\",\n",
              " 'lion king, the (1994)',\n",
              " 'men in black (1997)',\n",
              " 'raiders of the lost ark (1981)',\n",
              " 'gladiator (2000)']"
            ]
          },
          "execution_count": 49,
          "metadata": {},
          "output_type": "execute_result"
        }
      ],
      "source": [
        "[idx_to_title[i[0]] for i in movie_recommend]"
      ]
    },
    {
      "cell_type": "markdown",
      "source": [
        "# 결론\n",
        "\n",
        "  * 모델이 추천해주는 정확도는 내가 선호하는 영화리스트와 유사했다. 다만, 내가 선호하는 영화들과 나의(user)와의 관계는 0.545 정도로 생각보다 낮음을 알 수 있다. 예제에서는 factor를 늘리거나 iterations을 늘리는 방향을 암시하고 있다. 하지만, 요인을 늘리는 것과 iteration을 늘리는 방법에는 overfitting 의 문제가 있을 수 있다. 물론 현재 데이터에서는 테스트 모델이 없으므로 문제가 발생하지 않지만, 실전에서는 이부분을 염두에 두어야 할 것 같다.\n",
        "  * 현 학습 모델에서는 협업 필터링으로 아이템 평점과 평점의 개수를 바탕으로 사용자간 또는 아이템간 유사성을 파악하였다. 하지만, 실습데이터에서 장르 컬럼을 이용하여 콘텐츠 기반 필터링을 통한 추천 시스템의 결과도 궁금해 졌다."
      ],
      "metadata": {
        "id": "SLh4kU5eXfJD"
      },
      "id": "SLh4kU5eXfJD"
    },
    {
      "cell_type": "code",
      "source": [],
      "metadata": {
        "id": "h3qJqTrHaERL"
      },
      "id": "h3qJqTrHaERL",
      "execution_count": null,
      "outputs": []
    }
  ],
  "metadata": {
    "kernelspec": {
      "display_name": "Python 3 (ipykernel)",
      "language": "python",
      "name": "python3"
    },
    "language_info": {
      "codemirror_mode": {
        "name": "ipython",
        "version": 3
      },
      "file_extension": ".py",
      "mimetype": "text/x-python",
      "name": "python",
      "nbconvert_exporter": "python",
      "pygments_lexer": "ipython3",
      "version": "3.9.7"
    },
    "colab": {
      "provenance": [],
      "collapsed_sections": [],
      "include_colab_link": true
    }
  },
  "nbformat": 4,
  "nbformat_minor": 5
}