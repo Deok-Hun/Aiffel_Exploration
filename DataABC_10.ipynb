{
  "nbformat": 4,
  "nbformat_minor": 0,
  "metadata": {
    "colab": {
      "provenance": [],
      "collapsed_sections": [],
      "authorship_tag": "ABX9TyP78O5WkSLWwjfo5dW1hg8g",
      "include_colab_link": true
    },
    "kernelspec": {
      "name": "python3",
      "display_name": "Python 3"
    },
    "language_info": {
      "name": "python"
    }
  },
  "cells": [
    {
      "cell_type": "markdown",
      "metadata": {
        "id": "view-in-github",
        "colab_type": "text"
      },
      "source": [
        "<a href=\"https://colab.research.google.com/github/Deok-Hun/Aiffel_Kun/blob/master/DataABC_10.ipynb\" target=\"_parent\"><img src=\"https://colab.research.google.com/assets/colab-badge.svg\" alt=\"Open In Colab\"/></a>"
      ]
    },
    {
      "cell_type": "code",
      "execution_count": 1,
      "metadata": {
        "colab": {
          "base_uri": "https://localhost:8080/"
        },
        "id": "9jhmJrl8U-Fa",
        "outputId": "f4e610ba-a477-4f40-cca0-b989004945e0"
      },
      "outputs": [
        {
          "output_type": "stream",
          "name": "stdout",
          "text": [
            "Drive already mounted at /content/drive; to attempt to forcibly remount, call drive.mount(\"/content/drive\", force_remount=True).\n"
          ]
        }
      ],
      "source": [
        "from google.colab import drive\n",
        "drive.mount('/content/drive')"
      ]
    },
    {
      "cell_type": "code",
      "source": [
        "import os\n",
        "os.environ[\"HOME\"]=\"\"\n",
        "print(os.getenv(\"HOME\"))"
      ],
      "metadata": {
        "colab": {
          "base_uri": "https://localhost:8080/"
        },
        "id": "t9x1C-3OVI_2",
        "outputId": "9bf66aff-a421-416c-da12-410aa9c18485"
      },
      "execution_count": 2,
      "outputs": [
        {
          "output_type": "stream",
          "name": "stdout",
          "text": [
            "\n"
          ]
        }
      ]
    },
    {
      "cell_type": "markdown",
      "source": [
        "# 데이터 불러오기"
      ],
      "metadata": {
        "id": "Uc5iVVdSjqAV"
      }
    },
    {
      "cell_type": "code",
      "source": [
        "# 필요 라이브러리 호출하기\n",
        "# Pandas, Numpy, Matplotlib, Seaborn을 호출해봅니다.\n",
        "import pandas as pd\n",
        "import numpy as np\n",
        "import matplotlib.pyplot as plt\n",
        "plt.style.use('default')\n",
        "import seaborn as sns"
      ],
      "metadata": {
        "id": "aacMJINPjoF2"
      },
      "execution_count": 3,
      "outputs": []
    },
    {
      "cell_type": "code",
      "source": [
        "# 데이터 호출하기\n",
        "# entry_data.csv, sales_data.csv, item_data.csv, item_entry_data.csv의\n",
        "# 총 네 가지 파일을 각각 호출합니다.\n",
        "# 파일들은 본 클라우드에 저장되어있어 다음을 참고하여 호출해주세요.\n",
        "entry_data = pd.read_csv('/content/drive/MyDrive/DataABC/Chapter7-8/data/entry_data.csv')\n",
        "sales_data = pd.read_csv('/content/drive/MyDrive/DataABC/Chapter7-8/data/sales_data.csv')\n",
        "item_data = pd.read_csv('/content/drive/MyDrive/DataABC/Chapter7-8/data/item_data.csv')\n",
        "item_entry_data = pd.read_csv('/content/drive/MyDrive/DataABC/Chapter7-8/data/item_entry_data.csv')"
      ],
      "metadata": {
        "id": "MSzbkBwojn-W"
      },
      "execution_count": 4,
      "outputs": []
    },
    {
      "cell_type": "markdown",
      "source": [
        "## 데이터 정보 확인하기"
      ],
      "metadata": {
        "id": "nFHqA_LDuy-v"
      }
    },
    {
      "cell_type": "code",
      "source": [
        "# entry_data 데이터 정보 확인하기\n",
        "entry_data.info()\n",
        "entry_data.head(3)"
      ],
      "metadata": {
        "colab": {
          "base_uri": "https://localhost:8080/",
          "height": 419
        },
        "id": "Xy_GEQOzj8au",
        "outputId": "194572d3-5279-42eb-c1ab-03abc91cc01e"
      },
      "execution_count": 5,
      "outputs": [
        {
          "output_type": "stream",
          "name": "stdout",
          "text": [
            "<class 'pandas.core.frame.DataFrame'>\n",
            "RangeIndex: 22555 entries, 0 to 22554\n",
            "Data columns (total 8 columns):\n",
            " #   Column  Non-Null Count  Dtype \n",
            "---  ------  --------------  ----- \n",
            " 0   요금제명    22292 non-null  object\n",
            " 1   입실      22555 non-null  object\n",
            " 2   퇴실      22555 non-null  object\n",
            " 3   이용      22533 non-null  object\n",
            " 4   위치      22555 non-null  object\n",
            " 5   금액      22555 non-null  int64 \n",
            " 6   구분      22555 non-null  object\n",
            " 7   고객      22555 non-null  object\n",
            "dtypes: int64(1), object(7)\n",
            "memory usage: 1.4+ MB\n"
          ]
        },
        {
          "output_type": "execute_result",
          "data": {
            "text/plain": [
              "         요금제명                입실                퇴실           이용    위치    금액  \\\n",
              "0  시간요금제(1시간)  2022-04-01 23:39   2022-04-02 0:39   오전 1:00:00  선불기2  3000   \n",
              "1  시간요금제(1시간)  2022-04-01 23:39   2022-04-02 0:39   오전 1:00:00  선불기2  3000   \n",
              "2     무제한 입장권  2022-04-01 20:55  2022-04-01 21:41  오전 12:46:00  선불기2  7400   \n",
              "\n",
              "   구분              고객  \n",
              "0  퇴실  customer263717  \n",
              "1  퇴실  customer263717  \n",
              "2  퇴실  customer247263  "
            ],
            "text/html": [
              "\n",
              "  <div id=\"df-b0e06589-54a2-4614-9a40-28dbc1521134\">\n",
              "    <div class=\"colab-df-container\">\n",
              "      <div>\n",
              "<style scoped>\n",
              "    .dataframe tbody tr th:only-of-type {\n",
              "        vertical-align: middle;\n",
              "    }\n",
              "\n",
              "    .dataframe tbody tr th {\n",
              "        vertical-align: top;\n",
              "    }\n",
              "\n",
              "    .dataframe thead th {\n",
              "        text-align: right;\n",
              "    }\n",
              "</style>\n",
              "<table border=\"1\" class=\"dataframe\">\n",
              "  <thead>\n",
              "    <tr style=\"text-align: right;\">\n",
              "      <th></th>\n",
              "      <th>요금제명</th>\n",
              "      <th>입실</th>\n",
              "      <th>퇴실</th>\n",
              "      <th>이용</th>\n",
              "      <th>위치</th>\n",
              "      <th>금액</th>\n",
              "      <th>구분</th>\n",
              "      <th>고객</th>\n",
              "    </tr>\n",
              "  </thead>\n",
              "  <tbody>\n",
              "    <tr>\n",
              "      <th>0</th>\n",
              "      <td>시간요금제(1시간)</td>\n",
              "      <td>2022-04-01 23:39</td>\n",
              "      <td>2022-04-02 0:39</td>\n",
              "      <td>오전 1:00:00</td>\n",
              "      <td>선불기2</td>\n",
              "      <td>3000</td>\n",
              "      <td>퇴실</td>\n",
              "      <td>customer263717</td>\n",
              "    </tr>\n",
              "    <tr>\n",
              "      <th>1</th>\n",
              "      <td>시간요금제(1시간)</td>\n",
              "      <td>2022-04-01 23:39</td>\n",
              "      <td>2022-04-02 0:39</td>\n",
              "      <td>오전 1:00:00</td>\n",
              "      <td>선불기2</td>\n",
              "      <td>3000</td>\n",
              "      <td>퇴실</td>\n",
              "      <td>customer263717</td>\n",
              "    </tr>\n",
              "    <tr>\n",
              "      <th>2</th>\n",
              "      <td>무제한 입장권</td>\n",
              "      <td>2022-04-01 20:55</td>\n",
              "      <td>2022-04-01 21:41</td>\n",
              "      <td>오전 12:46:00</td>\n",
              "      <td>선불기2</td>\n",
              "      <td>7400</td>\n",
              "      <td>퇴실</td>\n",
              "      <td>customer247263</td>\n",
              "    </tr>\n",
              "  </tbody>\n",
              "</table>\n",
              "</div>\n",
              "      <button class=\"colab-df-convert\" onclick=\"convertToInteractive('df-b0e06589-54a2-4614-9a40-28dbc1521134')\"\n",
              "              title=\"Convert this dataframe to an interactive table.\"\n",
              "              style=\"display:none;\">\n",
              "        \n",
              "  <svg xmlns=\"http://www.w3.org/2000/svg\" height=\"24px\"viewBox=\"0 0 24 24\"\n",
              "       width=\"24px\">\n",
              "    <path d=\"M0 0h24v24H0V0z\" fill=\"none\"/>\n",
              "    <path d=\"M18.56 5.44l.94 2.06.94-2.06 2.06-.94-2.06-.94-.94-2.06-.94 2.06-2.06.94zm-11 1L8.5 8.5l.94-2.06 2.06-.94-2.06-.94L8.5 2.5l-.94 2.06-2.06.94zm10 10l.94 2.06.94-2.06 2.06-.94-2.06-.94-.94-2.06-.94 2.06-2.06.94z\"/><path d=\"M17.41 7.96l-1.37-1.37c-.4-.4-.92-.59-1.43-.59-.52 0-1.04.2-1.43.59L10.3 9.45l-7.72 7.72c-.78.78-.78 2.05 0 2.83L4 21.41c.39.39.9.59 1.41.59.51 0 1.02-.2 1.41-.59l7.78-7.78 2.81-2.81c.8-.78.8-2.07 0-2.86zM5.41 20L4 18.59l7.72-7.72 1.47 1.35L5.41 20z\"/>\n",
              "  </svg>\n",
              "      </button>\n",
              "      \n",
              "  <style>\n",
              "    .colab-df-container {\n",
              "      display:flex;\n",
              "      flex-wrap:wrap;\n",
              "      gap: 12px;\n",
              "    }\n",
              "\n",
              "    .colab-df-convert {\n",
              "      background-color: #E8F0FE;\n",
              "      border: none;\n",
              "      border-radius: 50%;\n",
              "      cursor: pointer;\n",
              "      display: none;\n",
              "      fill: #1967D2;\n",
              "      height: 32px;\n",
              "      padding: 0 0 0 0;\n",
              "      width: 32px;\n",
              "    }\n",
              "\n",
              "    .colab-df-convert:hover {\n",
              "      background-color: #E2EBFA;\n",
              "      box-shadow: 0px 1px 2px rgba(60, 64, 67, 0.3), 0px 1px 3px 1px rgba(60, 64, 67, 0.15);\n",
              "      fill: #174EA6;\n",
              "    }\n",
              "\n",
              "    [theme=dark] .colab-df-convert {\n",
              "      background-color: #3B4455;\n",
              "      fill: #D2E3FC;\n",
              "    }\n",
              "\n",
              "    [theme=dark] .colab-df-convert:hover {\n",
              "      background-color: #434B5C;\n",
              "      box-shadow: 0px 1px 3px 1px rgba(0, 0, 0, 0.15);\n",
              "      filter: drop-shadow(0px 1px 2px rgba(0, 0, 0, 0.3));\n",
              "      fill: #FFFFFF;\n",
              "    }\n",
              "  </style>\n",
              "\n",
              "      <script>\n",
              "        const buttonEl =\n",
              "          document.querySelector('#df-b0e06589-54a2-4614-9a40-28dbc1521134 button.colab-df-convert');\n",
              "        buttonEl.style.display =\n",
              "          google.colab.kernel.accessAllowed ? 'block' : 'none';\n",
              "\n",
              "        async function convertToInteractive(key) {\n",
              "          const element = document.querySelector('#df-b0e06589-54a2-4614-9a40-28dbc1521134');\n",
              "          const dataTable =\n",
              "            await google.colab.kernel.invokeFunction('convertToInteractive',\n",
              "                                                     [key], {});\n",
              "          if (!dataTable) return;\n",
              "\n",
              "          const docLinkHtml = 'Like what you see? Visit the ' +\n",
              "            '<a target=\"_blank\" href=https://colab.research.google.com/notebooks/data_table.ipynb>data table notebook</a>'\n",
              "            + ' to learn more about interactive tables.';\n",
              "          element.innerHTML = '';\n",
              "          dataTable['output_type'] = 'display_data';\n",
              "          await google.colab.output.renderOutput(dataTable, element);\n",
              "          const docLink = document.createElement('div');\n",
              "          docLink.innerHTML = docLinkHtml;\n",
              "          element.appendChild(docLink);\n",
              "        }\n",
              "      </script>\n",
              "    </div>\n",
              "  </div>\n",
              "  "
            ]
          },
          "metadata": {},
          "execution_count": 5
        }
      ]
    },
    {
      "cell_type": "code",
      "source": [
        "# sales_data 데이터 정보 확인하기\n",
        "sales_data.info()\n",
        "sales_data.head(3)"
      ],
      "metadata": {
        "colab": {
          "base_uri": "https://localhost:8080/",
          "height": 419
        },
        "id": "X6lPvnmAkA1U",
        "outputId": "25f310fa-69aa-4e54-fea6-3d70f3134976"
      },
      "execution_count": 6,
      "outputs": [
        {
          "output_type": "stream",
          "name": "stdout",
          "text": [
            "<class 'pandas.core.frame.DataFrame'>\n",
            "RangeIndex: 7105 entries, 0 to 7104\n",
            "Data columns (total 8 columns):\n",
            " #   Column  Non-Null Count  Dtype \n",
            "---  ------  --------------  ----- \n",
            " 0   결제일시    7105 non-null   object\n",
            " 1   판매위치    7105 non-null   object\n",
            " 2   상품명     7105 non-null   object\n",
            " 3   결제방식    7105 non-null   object\n",
            " 4   비고      7105 non-null   object\n",
            " 5   판매수량    7105 non-null   int64 \n",
            " 6   결제금액    7105 non-null   object\n",
            " 7   고객      6300 non-null   object\n",
            "dtypes: int64(1), object(7)\n",
            "memory usage: 444.2+ KB\n"
          ]
        },
        {
          "output_type": "execute_result",
          "data": {
            "text/plain": [
              "               결제일시  판매위치         상품명  결제방식    비고  판매수량   결제금액              고객\n",
              "0  2022-04-01 19:41  선불기1  치킨카라아케 6pc  신용카드  결제완료     1  4,500  customer275507\n",
              "1  2022-04-01 19:41  선불기1  짜장라면(계란추가)  신용카드  결제완료     1  5,500  customer275507\n",
              "2  2022-04-01 19:41  선불기1          라면  신용카드  결제완료     1  4,000  customer275507"
            ],
            "text/html": [
              "\n",
              "  <div id=\"df-da090e0d-69bc-48de-a87d-6d41e209acc0\">\n",
              "    <div class=\"colab-df-container\">\n",
              "      <div>\n",
              "<style scoped>\n",
              "    .dataframe tbody tr th:only-of-type {\n",
              "        vertical-align: middle;\n",
              "    }\n",
              "\n",
              "    .dataframe tbody tr th {\n",
              "        vertical-align: top;\n",
              "    }\n",
              "\n",
              "    .dataframe thead th {\n",
              "        text-align: right;\n",
              "    }\n",
              "</style>\n",
              "<table border=\"1\" class=\"dataframe\">\n",
              "  <thead>\n",
              "    <tr style=\"text-align: right;\">\n",
              "      <th></th>\n",
              "      <th>결제일시</th>\n",
              "      <th>판매위치</th>\n",
              "      <th>상품명</th>\n",
              "      <th>결제방식</th>\n",
              "      <th>비고</th>\n",
              "      <th>판매수량</th>\n",
              "      <th>결제금액</th>\n",
              "      <th>고객</th>\n",
              "    </tr>\n",
              "  </thead>\n",
              "  <tbody>\n",
              "    <tr>\n",
              "      <th>0</th>\n",
              "      <td>2022-04-01 19:41</td>\n",
              "      <td>선불기1</td>\n",
              "      <td>치킨카라아케 6pc</td>\n",
              "      <td>신용카드</td>\n",
              "      <td>결제완료</td>\n",
              "      <td>1</td>\n",
              "      <td>4,500</td>\n",
              "      <td>customer275507</td>\n",
              "    </tr>\n",
              "    <tr>\n",
              "      <th>1</th>\n",
              "      <td>2022-04-01 19:41</td>\n",
              "      <td>선불기1</td>\n",
              "      <td>짜장라면(계란추가)</td>\n",
              "      <td>신용카드</td>\n",
              "      <td>결제완료</td>\n",
              "      <td>1</td>\n",
              "      <td>5,500</td>\n",
              "      <td>customer275507</td>\n",
              "    </tr>\n",
              "    <tr>\n",
              "      <th>2</th>\n",
              "      <td>2022-04-01 19:41</td>\n",
              "      <td>선불기1</td>\n",
              "      <td>라면</td>\n",
              "      <td>신용카드</td>\n",
              "      <td>결제완료</td>\n",
              "      <td>1</td>\n",
              "      <td>4,000</td>\n",
              "      <td>customer275507</td>\n",
              "    </tr>\n",
              "  </tbody>\n",
              "</table>\n",
              "</div>\n",
              "      <button class=\"colab-df-convert\" onclick=\"convertToInteractive('df-da090e0d-69bc-48de-a87d-6d41e209acc0')\"\n",
              "              title=\"Convert this dataframe to an interactive table.\"\n",
              "              style=\"display:none;\">\n",
              "        \n",
              "  <svg xmlns=\"http://www.w3.org/2000/svg\" height=\"24px\"viewBox=\"0 0 24 24\"\n",
              "       width=\"24px\">\n",
              "    <path d=\"M0 0h24v24H0V0z\" fill=\"none\"/>\n",
              "    <path d=\"M18.56 5.44l.94 2.06.94-2.06 2.06-.94-2.06-.94-.94-2.06-.94 2.06-2.06.94zm-11 1L8.5 8.5l.94-2.06 2.06-.94-2.06-.94L8.5 2.5l-.94 2.06-2.06.94zm10 10l.94 2.06.94-2.06 2.06-.94-2.06-.94-.94-2.06-.94 2.06-2.06.94z\"/><path d=\"M17.41 7.96l-1.37-1.37c-.4-.4-.92-.59-1.43-.59-.52 0-1.04.2-1.43.59L10.3 9.45l-7.72 7.72c-.78.78-.78 2.05 0 2.83L4 21.41c.39.39.9.59 1.41.59.51 0 1.02-.2 1.41-.59l7.78-7.78 2.81-2.81c.8-.78.8-2.07 0-2.86zM5.41 20L4 18.59l7.72-7.72 1.47 1.35L5.41 20z\"/>\n",
              "  </svg>\n",
              "      </button>\n",
              "      \n",
              "  <style>\n",
              "    .colab-df-container {\n",
              "      display:flex;\n",
              "      flex-wrap:wrap;\n",
              "      gap: 12px;\n",
              "    }\n",
              "\n",
              "    .colab-df-convert {\n",
              "      background-color: #E8F0FE;\n",
              "      border: none;\n",
              "      border-radius: 50%;\n",
              "      cursor: pointer;\n",
              "      display: none;\n",
              "      fill: #1967D2;\n",
              "      height: 32px;\n",
              "      padding: 0 0 0 0;\n",
              "      width: 32px;\n",
              "    }\n",
              "\n",
              "    .colab-df-convert:hover {\n",
              "      background-color: #E2EBFA;\n",
              "      box-shadow: 0px 1px 2px rgba(60, 64, 67, 0.3), 0px 1px 3px 1px rgba(60, 64, 67, 0.15);\n",
              "      fill: #174EA6;\n",
              "    }\n",
              "\n",
              "    [theme=dark] .colab-df-convert {\n",
              "      background-color: #3B4455;\n",
              "      fill: #D2E3FC;\n",
              "    }\n",
              "\n",
              "    [theme=dark] .colab-df-convert:hover {\n",
              "      background-color: #434B5C;\n",
              "      box-shadow: 0px 1px 3px 1px rgba(0, 0, 0, 0.15);\n",
              "      filter: drop-shadow(0px 1px 2px rgba(0, 0, 0, 0.3));\n",
              "      fill: #FFFFFF;\n",
              "    }\n",
              "  </style>\n",
              "\n",
              "      <script>\n",
              "        const buttonEl =\n",
              "          document.querySelector('#df-da090e0d-69bc-48de-a87d-6d41e209acc0 button.colab-df-convert');\n",
              "        buttonEl.style.display =\n",
              "          google.colab.kernel.accessAllowed ? 'block' : 'none';\n",
              "\n",
              "        async function convertToInteractive(key) {\n",
              "          const element = document.querySelector('#df-da090e0d-69bc-48de-a87d-6d41e209acc0');\n",
              "          const dataTable =\n",
              "            await google.colab.kernel.invokeFunction('convertToInteractive',\n",
              "                                                     [key], {});\n",
              "          if (!dataTable) return;\n",
              "\n",
              "          const docLinkHtml = 'Like what you see? Visit the ' +\n",
              "            '<a target=\"_blank\" href=https://colab.research.google.com/notebooks/data_table.ipynb>data table notebook</a>'\n",
              "            + ' to learn more about interactive tables.';\n",
              "          element.innerHTML = '';\n",
              "          dataTable['output_type'] = 'display_data';\n",
              "          await google.colab.output.renderOutput(dataTable, element);\n",
              "          const docLink = document.createElement('div');\n",
              "          docLink.innerHTML = docLinkHtml;\n",
              "          element.appendChild(docLink);\n",
              "        }\n",
              "      </script>\n",
              "    </div>\n",
              "  </div>\n",
              "  "
            ]
          },
          "metadata": {},
          "execution_count": 6
        }
      ]
    },
    {
      "cell_type": "code",
      "source": [
        "# item_data 데이터 정보 확인하기\n",
        "item_data.info()\n",
        "item_data.head(3)"
      ],
      "metadata": {
        "colab": {
          "base_uri": "https://localhost:8080/",
          "height": 345
        },
        "id": "xYxuPIfUkWzc",
        "outputId": "d8a76dbc-d960-450c-a0ae-a5a28477d21c"
      },
      "execution_count": 7,
      "outputs": [
        {
          "output_type": "stream",
          "name": "stdout",
          "text": [
            "<class 'pandas.core.frame.DataFrame'>\n",
            "RangeIndex: 174 entries, 0 to 173\n",
            "Data columns (total 4 columns):\n",
            " #   Column  Non-Null Count  Dtype \n",
            "---  ------  --------------  ----- \n",
            " 0   구분      174 non-null    int64 \n",
            " 1   분류      174 non-null    object\n",
            " 2   상품명     174 non-null    object\n",
            " 3   판매금액    174 non-null    object\n",
            "dtypes: int64(1), object(3)\n",
            "memory usage: 5.6+ KB\n"
          ]
        },
        {
          "output_type": "execute_result",
          "data": {
            "text/plain": [
              "   구분     분류       상품명    판매금액\n",
              "0   1  게임&TV  이어폰(커널형)  3,000원\n",
              "1   2    디저트      초코머핀  3,500원\n",
              "2   3    디저트   쿠키(초코칩)  1,500원"
            ],
            "text/html": [
              "\n",
              "  <div id=\"df-6a06dfc1-b791-4b87-a7a4-0de0dfaa29a2\">\n",
              "    <div class=\"colab-df-container\">\n",
              "      <div>\n",
              "<style scoped>\n",
              "    .dataframe tbody tr th:only-of-type {\n",
              "        vertical-align: middle;\n",
              "    }\n",
              "\n",
              "    .dataframe tbody tr th {\n",
              "        vertical-align: top;\n",
              "    }\n",
              "\n",
              "    .dataframe thead th {\n",
              "        text-align: right;\n",
              "    }\n",
              "</style>\n",
              "<table border=\"1\" class=\"dataframe\">\n",
              "  <thead>\n",
              "    <tr style=\"text-align: right;\">\n",
              "      <th></th>\n",
              "      <th>구분</th>\n",
              "      <th>분류</th>\n",
              "      <th>상품명</th>\n",
              "      <th>판매금액</th>\n",
              "    </tr>\n",
              "  </thead>\n",
              "  <tbody>\n",
              "    <tr>\n",
              "      <th>0</th>\n",
              "      <td>1</td>\n",
              "      <td>게임&amp;TV</td>\n",
              "      <td>이어폰(커널형)</td>\n",
              "      <td>3,000원</td>\n",
              "    </tr>\n",
              "    <tr>\n",
              "      <th>1</th>\n",
              "      <td>2</td>\n",
              "      <td>디저트</td>\n",
              "      <td>초코머핀</td>\n",
              "      <td>3,500원</td>\n",
              "    </tr>\n",
              "    <tr>\n",
              "      <th>2</th>\n",
              "      <td>3</td>\n",
              "      <td>디저트</td>\n",
              "      <td>쿠키(초코칩)</td>\n",
              "      <td>1,500원</td>\n",
              "    </tr>\n",
              "  </tbody>\n",
              "</table>\n",
              "</div>\n",
              "      <button class=\"colab-df-convert\" onclick=\"convertToInteractive('df-6a06dfc1-b791-4b87-a7a4-0de0dfaa29a2')\"\n",
              "              title=\"Convert this dataframe to an interactive table.\"\n",
              "              style=\"display:none;\">\n",
              "        \n",
              "  <svg xmlns=\"http://www.w3.org/2000/svg\" height=\"24px\"viewBox=\"0 0 24 24\"\n",
              "       width=\"24px\">\n",
              "    <path d=\"M0 0h24v24H0V0z\" fill=\"none\"/>\n",
              "    <path d=\"M18.56 5.44l.94 2.06.94-2.06 2.06-.94-2.06-.94-.94-2.06-.94 2.06-2.06.94zm-11 1L8.5 8.5l.94-2.06 2.06-.94-2.06-.94L8.5 2.5l-.94 2.06-2.06.94zm10 10l.94 2.06.94-2.06 2.06-.94-2.06-.94-.94-2.06-.94 2.06-2.06.94z\"/><path d=\"M17.41 7.96l-1.37-1.37c-.4-.4-.92-.59-1.43-.59-.52 0-1.04.2-1.43.59L10.3 9.45l-7.72 7.72c-.78.78-.78 2.05 0 2.83L4 21.41c.39.39.9.59 1.41.59.51 0 1.02-.2 1.41-.59l7.78-7.78 2.81-2.81c.8-.78.8-2.07 0-2.86zM5.41 20L4 18.59l7.72-7.72 1.47 1.35L5.41 20z\"/>\n",
              "  </svg>\n",
              "      </button>\n",
              "      \n",
              "  <style>\n",
              "    .colab-df-container {\n",
              "      display:flex;\n",
              "      flex-wrap:wrap;\n",
              "      gap: 12px;\n",
              "    }\n",
              "\n",
              "    .colab-df-convert {\n",
              "      background-color: #E8F0FE;\n",
              "      border: none;\n",
              "      border-radius: 50%;\n",
              "      cursor: pointer;\n",
              "      display: none;\n",
              "      fill: #1967D2;\n",
              "      height: 32px;\n",
              "      padding: 0 0 0 0;\n",
              "      width: 32px;\n",
              "    }\n",
              "\n",
              "    .colab-df-convert:hover {\n",
              "      background-color: #E2EBFA;\n",
              "      box-shadow: 0px 1px 2px rgba(60, 64, 67, 0.3), 0px 1px 3px 1px rgba(60, 64, 67, 0.15);\n",
              "      fill: #174EA6;\n",
              "    }\n",
              "\n",
              "    [theme=dark] .colab-df-convert {\n",
              "      background-color: #3B4455;\n",
              "      fill: #D2E3FC;\n",
              "    }\n",
              "\n",
              "    [theme=dark] .colab-df-convert:hover {\n",
              "      background-color: #434B5C;\n",
              "      box-shadow: 0px 1px 3px 1px rgba(0, 0, 0, 0.15);\n",
              "      filter: drop-shadow(0px 1px 2px rgba(0, 0, 0, 0.3));\n",
              "      fill: #FFFFFF;\n",
              "    }\n",
              "  </style>\n",
              "\n",
              "      <script>\n",
              "        const buttonEl =\n",
              "          document.querySelector('#df-6a06dfc1-b791-4b87-a7a4-0de0dfaa29a2 button.colab-df-convert');\n",
              "        buttonEl.style.display =\n",
              "          google.colab.kernel.accessAllowed ? 'block' : 'none';\n",
              "\n",
              "        async function convertToInteractive(key) {\n",
              "          const element = document.querySelector('#df-6a06dfc1-b791-4b87-a7a4-0de0dfaa29a2');\n",
              "          const dataTable =\n",
              "            await google.colab.kernel.invokeFunction('convertToInteractive',\n",
              "                                                     [key], {});\n",
              "          if (!dataTable) return;\n",
              "\n",
              "          const docLinkHtml = 'Like what you see? Visit the ' +\n",
              "            '<a target=\"_blank\" href=https://colab.research.google.com/notebooks/data_table.ipynb>data table notebook</a>'\n",
              "            + ' to learn more about interactive tables.';\n",
              "          element.innerHTML = '';\n",
              "          dataTable['output_type'] = 'display_data';\n",
              "          await google.colab.output.renderOutput(dataTable, element);\n",
              "          const docLink = document.createElement('div');\n",
              "          docLink.innerHTML = docLinkHtml;\n",
              "          element.appendChild(docLink);\n",
              "        }\n",
              "      </script>\n",
              "    </div>\n",
              "  </div>\n",
              "  "
            ]
          },
          "metadata": {},
          "execution_count": 7
        }
      ]
    },
    {
      "cell_type": "code",
      "source": [
        "# item_entry_data 데이터 정보 확인하기\n",
        "item_entry_data.info()\n",
        "item_entry_data.head(3)"
      ],
      "metadata": {
        "colab": {
          "base_uri": "https://localhost:8080/",
          "height": 345
        },
        "id": "KUZMUofskYKy",
        "outputId": "356659c3-8bef-4888-f086-62940c5a4cc3"
      },
      "execution_count": 8,
      "outputs": [
        {
          "output_type": "stream",
          "name": "stdout",
          "text": [
            "<class 'pandas.core.frame.DataFrame'>\n",
            "RangeIndex: 34 entries, 0 to 33\n",
            "Data columns (total 4 columns):\n",
            " #   Column  Non-Null Count  Dtype \n",
            "---  ------  --------------  ----- \n",
            " 0   순위      34 non-null     int64 \n",
            " 1   분류      34 non-null     object\n",
            " 2   상품명     34 non-null     object\n",
            " 3   판매금액    34 non-null     object\n",
            "dtypes: int64(1), object(3)\n",
            "memory usage: 1.2+ KB\n"
          ]
        },
        {
          "output_type": "execute_result",
          "data": {
            "text/plain": [
              "   순위     분류        상품명    판매금액\n",
              "0   1   한국대생   한국대생 요금제  2,000원\n",
              "1   2  심야-조조  심야-조조 요금제  5,000원\n",
              "2   3    일반인      일반요금제  2,500원"
            ],
            "text/html": [
              "\n",
              "  <div id=\"df-cd1f312a-0ee5-4578-baf6-7b1936fb0b1d\">\n",
              "    <div class=\"colab-df-container\">\n",
              "      <div>\n",
              "<style scoped>\n",
              "    .dataframe tbody tr th:only-of-type {\n",
              "        vertical-align: middle;\n",
              "    }\n",
              "\n",
              "    .dataframe tbody tr th {\n",
              "        vertical-align: top;\n",
              "    }\n",
              "\n",
              "    .dataframe thead th {\n",
              "        text-align: right;\n",
              "    }\n",
              "</style>\n",
              "<table border=\"1\" class=\"dataframe\">\n",
              "  <thead>\n",
              "    <tr style=\"text-align: right;\">\n",
              "      <th></th>\n",
              "      <th>순위</th>\n",
              "      <th>분류</th>\n",
              "      <th>상품명</th>\n",
              "      <th>판매금액</th>\n",
              "    </tr>\n",
              "  </thead>\n",
              "  <tbody>\n",
              "    <tr>\n",
              "      <th>0</th>\n",
              "      <td>1</td>\n",
              "      <td>한국대생</td>\n",
              "      <td>한국대생 요금제</td>\n",
              "      <td>2,000원</td>\n",
              "    </tr>\n",
              "    <tr>\n",
              "      <th>1</th>\n",
              "      <td>2</td>\n",
              "      <td>심야-조조</td>\n",
              "      <td>심야-조조 요금제</td>\n",
              "      <td>5,000원</td>\n",
              "    </tr>\n",
              "    <tr>\n",
              "      <th>2</th>\n",
              "      <td>3</td>\n",
              "      <td>일반인</td>\n",
              "      <td>일반요금제</td>\n",
              "      <td>2,500원</td>\n",
              "    </tr>\n",
              "  </tbody>\n",
              "</table>\n",
              "</div>\n",
              "      <button class=\"colab-df-convert\" onclick=\"convertToInteractive('df-cd1f312a-0ee5-4578-baf6-7b1936fb0b1d')\"\n",
              "              title=\"Convert this dataframe to an interactive table.\"\n",
              "              style=\"display:none;\">\n",
              "        \n",
              "  <svg xmlns=\"http://www.w3.org/2000/svg\" height=\"24px\"viewBox=\"0 0 24 24\"\n",
              "       width=\"24px\">\n",
              "    <path d=\"M0 0h24v24H0V0z\" fill=\"none\"/>\n",
              "    <path d=\"M18.56 5.44l.94 2.06.94-2.06 2.06-.94-2.06-.94-.94-2.06-.94 2.06-2.06.94zm-11 1L8.5 8.5l.94-2.06 2.06-.94-2.06-.94L8.5 2.5l-.94 2.06-2.06.94zm10 10l.94 2.06.94-2.06 2.06-.94-2.06-.94-.94-2.06-.94 2.06-2.06.94z\"/><path d=\"M17.41 7.96l-1.37-1.37c-.4-.4-.92-.59-1.43-.59-.52 0-1.04.2-1.43.59L10.3 9.45l-7.72 7.72c-.78.78-.78 2.05 0 2.83L4 21.41c.39.39.9.59 1.41.59.51 0 1.02-.2 1.41-.59l7.78-7.78 2.81-2.81c.8-.78.8-2.07 0-2.86zM5.41 20L4 18.59l7.72-7.72 1.47 1.35L5.41 20z\"/>\n",
              "  </svg>\n",
              "      </button>\n",
              "      \n",
              "  <style>\n",
              "    .colab-df-container {\n",
              "      display:flex;\n",
              "      flex-wrap:wrap;\n",
              "      gap: 12px;\n",
              "    }\n",
              "\n",
              "    .colab-df-convert {\n",
              "      background-color: #E8F0FE;\n",
              "      border: none;\n",
              "      border-radius: 50%;\n",
              "      cursor: pointer;\n",
              "      display: none;\n",
              "      fill: #1967D2;\n",
              "      height: 32px;\n",
              "      padding: 0 0 0 0;\n",
              "      width: 32px;\n",
              "    }\n",
              "\n",
              "    .colab-df-convert:hover {\n",
              "      background-color: #E2EBFA;\n",
              "      box-shadow: 0px 1px 2px rgba(60, 64, 67, 0.3), 0px 1px 3px 1px rgba(60, 64, 67, 0.15);\n",
              "      fill: #174EA6;\n",
              "    }\n",
              "\n",
              "    [theme=dark] .colab-df-convert {\n",
              "      background-color: #3B4455;\n",
              "      fill: #D2E3FC;\n",
              "    }\n",
              "\n",
              "    [theme=dark] .colab-df-convert:hover {\n",
              "      background-color: #434B5C;\n",
              "      box-shadow: 0px 1px 3px 1px rgba(0, 0, 0, 0.15);\n",
              "      filter: drop-shadow(0px 1px 2px rgba(0, 0, 0, 0.3));\n",
              "      fill: #FFFFFF;\n",
              "    }\n",
              "  </style>\n",
              "\n",
              "      <script>\n",
              "        const buttonEl =\n",
              "          document.querySelector('#df-cd1f312a-0ee5-4578-baf6-7b1936fb0b1d button.colab-df-convert');\n",
              "        buttonEl.style.display =\n",
              "          google.colab.kernel.accessAllowed ? 'block' : 'none';\n",
              "\n",
              "        async function convertToInteractive(key) {\n",
              "          const element = document.querySelector('#df-cd1f312a-0ee5-4578-baf6-7b1936fb0b1d');\n",
              "          const dataTable =\n",
              "            await google.colab.kernel.invokeFunction('convertToInteractive',\n",
              "                                                     [key], {});\n",
              "          if (!dataTable) return;\n",
              "\n",
              "          const docLinkHtml = 'Like what you see? Visit the ' +\n",
              "            '<a target=\"_blank\" href=https://colab.research.google.com/notebooks/data_table.ipynb>data table notebook</a>'\n",
              "            + ' to learn more about interactive tables.';\n",
              "          element.innerHTML = '';\n",
              "          dataTable['output_type'] = 'display_data';\n",
              "          await google.colab.output.renderOutput(dataTable, element);\n",
              "          const docLink = document.createElement('div');\n",
              "          docLink.innerHTML = docLinkHtml;\n",
              "          element.appendChild(docLink);\n",
              "        }\n",
              "      </script>\n",
              "    </div>\n",
              "  </div>\n",
              "  "
            ]
          },
          "metadata": {},
          "execution_count": 8
        }
      ]
    },
    {
      "cell_type": "code",
      "source": [
        "sales_data.head(3)"
      ],
      "metadata": {
        "colab": {
          "base_uri": "https://localhost:8080/",
          "height": 143
        },
        "id": "CZA4TFuBkZax",
        "outputId": "d186b20c-85fd-42b3-a9a2-cab8c9384063"
      },
      "execution_count": 9,
      "outputs": [
        {
          "output_type": "execute_result",
          "data": {
            "text/plain": [
              "               결제일시  판매위치         상품명  결제방식    비고  판매수량   결제금액              고객\n",
              "0  2022-04-01 19:41  선불기1  치킨카라아케 6pc  신용카드  결제완료     1  4,500  customer275507\n",
              "1  2022-04-01 19:41  선불기1  짜장라면(계란추가)  신용카드  결제완료     1  5,500  customer275507\n",
              "2  2022-04-01 19:41  선불기1          라면  신용카드  결제완료     1  4,000  customer275507"
            ],
            "text/html": [
              "\n",
              "  <div id=\"df-f90e2078-b3d9-4658-acbc-2a4cb110cd12\">\n",
              "    <div class=\"colab-df-container\">\n",
              "      <div>\n",
              "<style scoped>\n",
              "    .dataframe tbody tr th:only-of-type {\n",
              "        vertical-align: middle;\n",
              "    }\n",
              "\n",
              "    .dataframe tbody tr th {\n",
              "        vertical-align: top;\n",
              "    }\n",
              "\n",
              "    .dataframe thead th {\n",
              "        text-align: right;\n",
              "    }\n",
              "</style>\n",
              "<table border=\"1\" class=\"dataframe\">\n",
              "  <thead>\n",
              "    <tr style=\"text-align: right;\">\n",
              "      <th></th>\n",
              "      <th>결제일시</th>\n",
              "      <th>판매위치</th>\n",
              "      <th>상품명</th>\n",
              "      <th>결제방식</th>\n",
              "      <th>비고</th>\n",
              "      <th>판매수량</th>\n",
              "      <th>결제금액</th>\n",
              "      <th>고객</th>\n",
              "    </tr>\n",
              "  </thead>\n",
              "  <tbody>\n",
              "    <tr>\n",
              "      <th>0</th>\n",
              "      <td>2022-04-01 19:41</td>\n",
              "      <td>선불기1</td>\n",
              "      <td>치킨카라아케 6pc</td>\n",
              "      <td>신용카드</td>\n",
              "      <td>결제완료</td>\n",
              "      <td>1</td>\n",
              "      <td>4,500</td>\n",
              "      <td>customer275507</td>\n",
              "    </tr>\n",
              "    <tr>\n",
              "      <th>1</th>\n",
              "      <td>2022-04-01 19:41</td>\n",
              "      <td>선불기1</td>\n",
              "      <td>짜장라면(계란추가)</td>\n",
              "      <td>신용카드</td>\n",
              "      <td>결제완료</td>\n",
              "      <td>1</td>\n",
              "      <td>5,500</td>\n",
              "      <td>customer275507</td>\n",
              "    </tr>\n",
              "    <tr>\n",
              "      <th>2</th>\n",
              "      <td>2022-04-01 19:41</td>\n",
              "      <td>선불기1</td>\n",
              "      <td>라면</td>\n",
              "      <td>신용카드</td>\n",
              "      <td>결제완료</td>\n",
              "      <td>1</td>\n",
              "      <td>4,000</td>\n",
              "      <td>customer275507</td>\n",
              "    </tr>\n",
              "  </tbody>\n",
              "</table>\n",
              "</div>\n",
              "      <button class=\"colab-df-convert\" onclick=\"convertToInteractive('df-f90e2078-b3d9-4658-acbc-2a4cb110cd12')\"\n",
              "              title=\"Convert this dataframe to an interactive table.\"\n",
              "              style=\"display:none;\">\n",
              "        \n",
              "  <svg xmlns=\"http://www.w3.org/2000/svg\" height=\"24px\"viewBox=\"0 0 24 24\"\n",
              "       width=\"24px\">\n",
              "    <path d=\"M0 0h24v24H0V0z\" fill=\"none\"/>\n",
              "    <path d=\"M18.56 5.44l.94 2.06.94-2.06 2.06-.94-2.06-.94-.94-2.06-.94 2.06-2.06.94zm-11 1L8.5 8.5l.94-2.06 2.06-.94-2.06-.94L8.5 2.5l-.94 2.06-2.06.94zm10 10l.94 2.06.94-2.06 2.06-.94-2.06-.94-.94-2.06-.94 2.06-2.06.94z\"/><path d=\"M17.41 7.96l-1.37-1.37c-.4-.4-.92-.59-1.43-.59-.52 0-1.04.2-1.43.59L10.3 9.45l-7.72 7.72c-.78.78-.78 2.05 0 2.83L4 21.41c.39.39.9.59 1.41.59.51 0 1.02-.2 1.41-.59l7.78-7.78 2.81-2.81c.8-.78.8-2.07 0-2.86zM5.41 20L4 18.59l7.72-7.72 1.47 1.35L5.41 20z\"/>\n",
              "  </svg>\n",
              "      </button>\n",
              "      \n",
              "  <style>\n",
              "    .colab-df-container {\n",
              "      display:flex;\n",
              "      flex-wrap:wrap;\n",
              "      gap: 12px;\n",
              "    }\n",
              "\n",
              "    .colab-df-convert {\n",
              "      background-color: #E8F0FE;\n",
              "      border: none;\n",
              "      border-radius: 50%;\n",
              "      cursor: pointer;\n",
              "      display: none;\n",
              "      fill: #1967D2;\n",
              "      height: 32px;\n",
              "      padding: 0 0 0 0;\n",
              "      width: 32px;\n",
              "    }\n",
              "\n",
              "    .colab-df-convert:hover {\n",
              "      background-color: #E2EBFA;\n",
              "      box-shadow: 0px 1px 2px rgba(60, 64, 67, 0.3), 0px 1px 3px 1px rgba(60, 64, 67, 0.15);\n",
              "      fill: #174EA6;\n",
              "    }\n",
              "\n",
              "    [theme=dark] .colab-df-convert {\n",
              "      background-color: #3B4455;\n",
              "      fill: #D2E3FC;\n",
              "    }\n",
              "\n",
              "    [theme=dark] .colab-df-convert:hover {\n",
              "      background-color: #434B5C;\n",
              "      box-shadow: 0px 1px 3px 1px rgba(0, 0, 0, 0.15);\n",
              "      filter: drop-shadow(0px 1px 2px rgba(0, 0, 0, 0.3));\n",
              "      fill: #FFFFFF;\n",
              "    }\n",
              "  </style>\n",
              "\n",
              "      <script>\n",
              "        const buttonEl =\n",
              "          document.querySelector('#df-f90e2078-b3d9-4658-acbc-2a4cb110cd12 button.colab-df-convert');\n",
              "        buttonEl.style.display =\n",
              "          google.colab.kernel.accessAllowed ? 'block' : 'none';\n",
              "\n",
              "        async function convertToInteractive(key) {\n",
              "          const element = document.querySelector('#df-f90e2078-b3d9-4658-acbc-2a4cb110cd12');\n",
              "          const dataTable =\n",
              "            await google.colab.kernel.invokeFunction('convertToInteractive',\n",
              "                                                     [key], {});\n",
              "          if (!dataTable) return;\n",
              "\n",
              "          const docLinkHtml = 'Like what you see? Visit the ' +\n",
              "            '<a target=\"_blank\" href=https://colab.research.google.com/notebooks/data_table.ipynb>data table notebook</a>'\n",
              "            + ' to learn more about interactive tables.';\n",
              "          element.innerHTML = '';\n",
              "          dataTable['output_type'] = 'display_data';\n",
              "          await google.colab.output.renderOutput(dataTable, element);\n",
              "          const docLink = document.createElement('div');\n",
              "          docLink.innerHTML = docLinkHtml;\n",
              "          element.appendChild(docLink);\n",
              "        }\n",
              "      </script>\n",
              "    </div>\n",
              "  </div>\n",
              "  "
            ]
          },
          "metadata": {},
          "execution_count": 9
        }
      ]
    },
    {
      "cell_type": "markdown",
      "source": [
        "# 필수문제 1"
      ],
      "metadata": {
        "id": "RP54BIQN-H9i"
      }
    },
    {
      "cell_type": "markdown",
      "source": [
        "## 활용할 데이터를 temp_var로 정의"
      ],
      "metadata": {
        "id": "OpkBGR6Iu2Ly"
      }
    },
    {
      "cell_type": "code",
      "source": [
        "# 활용할 데이터(sales_data)를 temp_var로 정의하기\n",
        "temp_var = sales_data"
      ],
      "metadata": {
        "id": "BB_KY5dwkeLs"
      },
      "execution_count": 40,
      "outputs": []
    },
    {
      "cell_type": "markdown",
      "source": [
        "## temp_var의 date열을 만들고, sales_date의 결제일시 중 앞에서 7번째 값까지 할당"
      ],
      "metadata": {
        "id": "MOj4VxyYw13K"
      }
    },
    {
      "cell_type": "code",
      "source": [
        "# temp_var의 date열을 만들고, sales_date의 결제일시 중 앞에서 7번째 값까지 할당\n",
        "temp_var['date'] = sales_data['결제일시'].str[:7]"
      ],
      "metadata": {
        "id": "v3nebI-4wB-U"
      },
      "execution_count": 41,
      "outputs": []
    },
    {
      "cell_type": "markdown",
      "source": [
        "## salse_data의 결제금액에 포함된 쉼표(,) 지우기"
      ],
      "metadata": {
        "id": "I6HsSoqQw5U3"
      }
    },
    {
      "cell_type": "code",
      "source": [
        "# salse_data의 결제금액에 포함된 쉼표(,) 지우기\n",
        "sales_data['결제금액'] = sales_data['결제금액'].str.replace(',', '')"
      ],
      "metadata": {
        "id": "QgrluLDbn99S"
      },
      "execution_count": 42,
      "outputs": []
    },
    {
      "cell_type": "markdown",
      "source": [
        "## salse_data의 결제금액을 숫자형태로 바꾸기"
      ],
      "metadata": {
        "id": "CvGVzM8aw9EX"
      }
    },
    {
      "cell_type": "code",
      "source": [
        "# salse_data의 결제금액을 숫자형태로 바꾸기\n",
        "temp_var['payment'] = sales_data['결제금액'].astype(int)"
      ],
      "metadata": {
        "id": "FZ2eKe_Zqg6Z"
      },
      "execution_count": 43,
      "outputs": []
    },
    {
      "cell_type": "code",
      "source": [
        "temp_var.info()"
      ],
      "metadata": {
        "colab": {
          "base_uri": "https://localhost:8080/"
        },
        "id": "fPyeyHZ6qo2T",
        "outputId": "61537f9d-843c-42b8-c31f-e26c0ff2fa36"
      },
      "execution_count": 15,
      "outputs": [
        {
          "output_type": "stream",
          "name": "stdout",
          "text": [
            "<class 'pandas.core.frame.DataFrame'>\n",
            "RangeIndex: 7105 entries, 0 to 7104\n",
            "Data columns (total 2 columns):\n",
            " #   Column  Non-Null Count  Dtype \n",
            "---  ------  --------------  ----- \n",
            " 0   결제금액    7105 non-null   int64 \n",
            " 1   date    7105 non-null   object\n",
            "dtypes: int64(1), object(1)\n",
            "memory usage: 111.1+ KB\n"
          ]
        }
      ]
    },
    {
      "cell_type": "markdown",
      "source": [
        "## temp_var의 payment열을 date 기준으로 집계하기"
      ],
      "metadata": {
        "id": "SZ8ubsz0xBgn"
      }
    },
    {
      "cell_type": "code",
      "source": [
        "# temp_var의 payment열을 date 기준으로 집계하기\n",
        "payment_data = temp_var['payment'].groupby(temp_var['date']).sum()\n",
        "payment_data"
      ],
      "metadata": {
        "colab": {
          "base_uri": "https://localhost:8080/"
        },
        "id": "DXnOhBFRquRU",
        "outputId": "ae9bb4ce-031f-467e-b97d-9bc487a1c3d7"
      },
      "execution_count": 44,
      "outputs": [
        {
          "output_type": "execute_result",
          "data": {
            "text/plain": [
              "date\n",
              "2021-02       7000\n",
              "2021-03    2104500\n",
              "2021-04    3116600\n",
              "2021-05    2537000\n",
              "2021-06    3621500\n",
              "2021-07    1215000\n",
              "2021-08    1229000\n",
              "2021-09    1197500\n",
              "2021-10    2138500\n",
              "2021-11    2748500\n",
              "2021-12    3290000\n",
              "2022-01    1430500\n",
              "2022-02    1181500\n",
              "2022-03    1870900\n",
              "2022-04      49900\n",
              "Name: payment, dtype: int64"
            ]
          },
          "metadata": {},
          "execution_count": 44
        }
      ]
    },
    {
      "cell_type": "markdown",
      "source": [
        "## 집게 결과를 시각화하기"
      ],
      "metadata": {
        "id": "d-NrTVuDzv_B"
      }
    },
    {
      "cell_type": "code",
      "source": [
        "# 집계 결과를 시각화하기\n",
        "ax = payment_data.plot(kind='bar')\n",
        "\n",
        "plt.title('Sales By Months')\n",
        "plt.xlabel('Month')\n",
        "plt.ylabel('Sales')\n",
        "plt.show()"
      ],
      "metadata": {
        "colab": {
          "base_uri": "https://localhost:8080/",
          "height": 515
        },
        "id": "e_dIbLQ29sI6",
        "outputId": "983dc567-5be6-4a59-9627-6fc03a993517"
      },
      "execution_count": 45,
      "outputs": [
        {
          "output_type": "display_data",
          "data": {
            "text/plain": [
              "<Figure size 640x480 with 1 Axes>"
            ],
            "image/png": "[encoded data removed]"
          },
          "metadata": {}
        }
      ]
    },
    {
      "cell_type": "markdown",
      "source": [
        "# 필수 문제2"
      ],
      "metadata": {
        "id": "bOCMtCBg-Kro"
      }
    },
    {
      "cell_type": "markdown",
      "source": [
        "## temp_var 의 상품명을 value_counts를 이용해 집계하기"
      ],
      "metadata": {
        "id": "7MQqmG7W-OSJ"
      }
    },
    {
      "cell_type": "code",
      "source": [
        "# temp_var의 상품명을 value_counts를 이용해 집계하기\n",
        "items_count = temp_var[temp_var['판매수량']!=-1].value_counts()\n",
        "items_count"
      ],
      "metadata": {
        "colab": {
          "base_uri": "https://localhost:8080/"
        },
        "id": "4QUQL88M-MGX",
        "outputId": "f5c506a9-c6d0-4ecc-9b16-fdd244e84015"
      },
      "execution_count": 46,
      "outputs": [
        {
          "output_type": "execute_result",
          "data": {
            "text/plain": [
              "결제일시              판매위치  상품명         결제방식  비고    판매수량  결제금액  고객              date     payment\n",
              "2021-10-05 13:33  선불기1  치즈추가        현금    결제완료  1     500   customer803089  2021-10  500        4\n",
              "                        라면          현금    결제완료  1     4000  customer803089  2021-10  4000       4\n",
              "2021-10-07 10:05  선불기1  시럽추가        신용카드  결제완료  1     500   customer777135  2021-10  500        4\n",
              "2021-06-19 21:02  선불기1  라면          신용카드  결제완료  1     4000  customer283589  2021-06  4000       4\n",
              "2021-06-14 11:37  선불기1  치즈추가        신용카드  결제완료  1     500   customer950393  2021-06  500        3\n",
              "                                                                                               ..\n",
              "2021-06-13 12:59  선불기1  계란추가        신용카드  결제완료  1     500   customer339447  2021-06  500        1\n",
              "2021-06-13 11:46  선불기1  새우볶음밥       신용카드  결제완료  1     5000  customer950393  2021-06  5000       1\n",
              "2021-06-13 10:33  선불기1  김치볶음밥       신용카드  결제완료  1     5000  customer983308  2021-06  5000       1\n",
              "2021-06-13 10:00  선불기1  김치볶음밥       신용카드  결제완료  1     5000  customer258946  2021-06  5000       1\n",
              "2022-04-01 19:41  선불기1  치킨카라아케 6pc  신용카드  결제완료  1     4500  customer275507  2022-04  4500       1\n",
              "Length: 5988, dtype: int64"
            ]
          },
          "metadata": {},
          "execution_count": 46
        }
      ]
    },
    {
      "cell_type": "markdown",
      "source": [
        "## 집계 결과를 데이터프레임으로 변환하고, 상위 10개 선정하기"
      ],
      "metadata": {
        "id": "mMk15ipmBCYg"
      }
    },
    {
      "cell_type": "code",
      "source": [
        "# 집계 결과를 데이터프레임으로 변환하고, 상위 10개 선정하기\n",
        "items_count = pd.DataFrame(items_count)\n",
        "items_count[:10]"
      ],
      "metadata": {
        "colab": {
          "base_uri": "https://localhost:8080/",
          "height": 394
        },
        "id": "MV0sZAKJA-Pf",
        "outputId": "5dda0fa6-57c7-4837-ee20-0022d7921a2b"
      },
      "execution_count": 48,
      "outputs": [
        {
          "output_type": "execute_result",
          "data": {
            "text/plain": [
              "                                                                                0\n",
              "결제일시             판매위치 상품명   결제방식 비고   판매수량 결제금액 고객             date    payment   \n",
              "2021-10-05 13:33 선불기1 치즈추가  현금   결제완료 1    500  customer803089 2021-10 500      4\n",
              "                      라면    현금   결제완료 1    4000 customer803089 2021-10 4000     4\n",
              "2021-10-07 10:05 선불기1 시럽추가  신용카드 결제완료 1    500  customer777135 2021-10 500      4\n",
              "2021-06-19 21:02 선불기1 라면    신용카드 결제완료 1    4000 customer283589 2021-06 4000     4\n",
              "2021-06-14 11:37 선불기1 치즈추가  신용카드 결제완료 1    500  customer950393 2021-06 500      3\n",
              "2021-03-23 13:41 선불기1 계란추가  신용카드 결제완료 1    500  customer556974 2021-03 500      3\n",
              "2021-11-29 19:20 선불기1 김치볶음밥 신용카드 결제완료 1    5000 customer975556 2021-11 5000     3\n",
              "2021-06-16 12:17 선불기1 라면    신용카드 결제완료 1    4000 customer996256 2021-06 4000     3\n",
              "2021-08-22 17:12 선불기1 라면    신용카드 결제완료 1    4000 customer439220 2021-08 4000     3\n",
              "2021-04-25 18:31 선불기1 김치볶음밥 신용카드 결제완료 1    5000 customer304481 2021-04 5000     3"
            ],
            "text/html": [
              "\n",
              "  <div id=\"df-f3efa950-a1bc-4ee8-978d-a913473df8a4\">\n",
              "    <div class=\"colab-df-container\">\n",
              "      <div>\n",
              "<style scoped>\n",
              "    .dataframe tbody tr th:only-of-type {\n",
              "        vertical-align: middle;\n",
              "    }\n",
              "\n",
              "    .dataframe tbody tr th {\n",
              "        vertical-align: top;\n",
              "    }\n",
              "\n",
              "    .dataframe thead th {\n",
              "        text-align: right;\n",
              "    }\n",
              "</style>\n",
              "<table border=\"1\" class=\"dataframe\">\n",
              "  <thead>\n",
              "    <tr style=\"text-align: right;\">\n",
              "      <th></th>\n",
              "      <th></th>\n",
              "      <th></th>\n",
              "      <th></th>\n",
              "      <th></th>\n",
              "      <th></th>\n",
              "      <th></th>\n",
              "      <th></th>\n",
              "      <th></th>\n",
              "      <th></th>\n",
              "      <th>0</th>\n",
              "    </tr>\n",
              "    <tr>\n",
              "      <th>결제일시</th>\n",
              "      <th>판매위치</th>\n",
              "      <th>상품명</th>\n",
              "      <th>결제방식</th>\n",
              "      <th>비고</th>\n",
              "      <th>판매수량</th>\n",
              "      <th>결제금액</th>\n",
              "      <th>고객</th>\n",
              "      <th>date</th>\n",
              "      <th>payment</th>\n",
              "      <th></th>\n",
              "    </tr>\n",
              "  </thead>\n",
              "  <tbody>\n",
              "    <tr>\n",
              "      <th rowspan=\"2\" valign=\"top\">2021-10-05 13:33</th>\n",
              "      <th rowspan=\"2\" valign=\"top\">선불기1</th>\n",
              "      <th>치즈추가</th>\n",
              "      <th>현금</th>\n",
              "      <th>결제완료</th>\n",
              "      <th>1</th>\n",
              "      <th>500</th>\n",
              "      <th>customer803089</th>\n",
              "      <th>2021-10</th>\n",
              "      <th>500</th>\n",
              "      <td>4</td>\n",
              "    </tr>\n",
              "    <tr>\n",
              "      <th>라면</th>\n",
              "      <th>현금</th>\n",
              "      <th>결제완료</th>\n",
              "      <th>1</th>\n",
              "      <th>4000</th>\n",
              "      <th>customer803089</th>\n",
              "      <th>2021-10</th>\n",
              "      <th>4000</th>\n",
              "      <td>4</td>\n",
              "    </tr>\n",
              "    <tr>\n",
              "      <th>2021-10-07 10:05</th>\n",
              "      <th>선불기1</th>\n",
              "      <th>시럽추가</th>\n",
              "      <th>신용카드</th>\n",
              "      <th>결제완료</th>\n",
              "      <th>1</th>\n",
              "      <th>500</th>\n",
              "      <th>customer777135</th>\n",
              "      <th>2021-10</th>\n",
              "      <th>500</th>\n",
              "      <td>4</td>\n",
              "    </tr>\n",
              "    <tr>\n",
              "      <th>2021-06-19 21:02</th>\n",
              "      <th>선불기1</th>\n",
              "      <th>라면</th>\n",
              "      <th>신용카드</th>\n",
              "      <th>결제완료</th>\n",
              "      <th>1</th>\n",
              "      <th>4000</th>\n",
              "      <th>customer283589</th>\n",
              "      <th>2021-06</th>\n",
              "      <th>4000</th>\n",
              "      <td>4</td>\n",
              "    </tr>\n",
              "    <tr>\n",
              "      <th>2021-06-14 11:37</th>\n",
              "      <th>선불기1</th>\n",
              "      <th>치즈추가</th>\n",
              "      <th>신용카드</th>\n",
              "      <th>결제완료</th>\n",
              "      <th>1</th>\n",
              "      <th>500</th>\n",
              "      <th>customer950393</th>\n",
              "      <th>2021-06</th>\n",
              "      <th>500</th>\n",
              "      <td>3</td>\n",
              "    </tr>\n",
              "    <tr>\n",
              "      <th>2021-03-23 13:41</th>\n",
              "      <th>선불기1</th>\n",
              "      <th>계란추가</th>\n",
              "      <th>신용카드</th>\n",
              "      <th>결제완료</th>\n",
              "      <th>1</th>\n",
              "      <th>500</th>\n",
              "      <th>customer556974</th>\n",
              "      <th>2021-03</th>\n",
              "      <th>500</th>\n",
              "      <td>3</td>\n",
              "    </tr>\n",
              "    <tr>\n",
              "      <th>2021-11-29 19:20</th>\n",
              "      <th>선불기1</th>\n",
              "      <th>김치볶음밥</th>\n",
              "      <th>신용카드</th>\n",
              "      <th>결제완료</th>\n",
              "      <th>1</th>\n",
              "      <th>5000</th>\n",
              "      <th>customer975556</th>\n",
              "      <th>2021-11</th>\n",
              "      <th>5000</th>\n",
              "      <td>3</td>\n",
              "    </tr>\n",
              "    <tr>\n",
              "      <th>2021-06-16 12:17</th>\n",
              "      <th>선불기1</th>\n",
              "      <th>라면</th>\n",
              "      <th>신용카드</th>\n",
              "      <th>결제완료</th>\n",
              "      <th>1</th>\n",
              "      <th>4000</th>\n",
              "      <th>customer996256</th>\n",
              "      <th>2021-06</th>\n",
              "      <th>4000</th>\n",
              "      <td>3</td>\n",
              "    </tr>\n",
              "    <tr>\n",
              "      <th>2021-08-22 17:12</th>\n",
              "      <th>선불기1</th>\n",
              "      <th>라면</th>\n",
              "      <th>신용카드</th>\n",
              "      <th>결제완료</th>\n",
              "      <th>1</th>\n",
              "      <th>4000</th>\n",
              "      <th>customer439220</th>\n",
              "      <th>2021-08</th>\n",
              "      <th>4000</th>\n",
              "      <td>3</td>\n",
              "    </tr>\n",
              "    <tr>\n",
              "      <th>2021-04-25 18:31</th>\n",
              "      <th>선불기1</th>\n",
              "      <th>김치볶음밥</th>\n",
              "      <th>신용카드</th>\n",
              "      <th>결제완료</th>\n",
              "      <th>1</th>\n",
              "      <th>5000</th>\n",
              "      <th>customer304481</th>\n",
              "      <th>2021-04</th>\n",
              "      <th>5000</th>\n",
              "      <td>3</td>\n",
              "    </tr>\n",
              "  </tbody>\n",
              "</table>\n",
              "</div>\n",
              "      <button class=\"colab-df-convert\" onclick=\"convertToInteractive('df-f3efa950-a1bc-4ee8-978d-a913473df8a4')\"\n",
              "              title=\"Convert this dataframe to an interactive table.\"\n",
              "              style=\"display:none;\">\n",
              "        \n",
              "  <svg xmlns=\"http://www.w3.org/2000/svg\" height=\"24px\"viewBox=\"0 0 24 24\"\n",
              "       width=\"24px\">\n",
              "    <path d=\"M0 0h24v24H0V0z\" fill=\"none\"/>\n",
              "    <path d=\"M18.56 5.44l.94 2.06.94-2.06 2.06-.94-2.06-.94-.94-2.06-.94 2.06-2.06.94zm-11 1L8.5 8.5l.94-2.06 2.06-.94-2.06-.94L8.5 2.5l-.94 2.06-2.06.94zm10 10l.94 2.06.94-2.06 2.06-.94-2.06-.94-.94-2.06-.94 2.06-2.06.94z\"/><path d=\"M17.41 7.96l-1.37-1.37c-.4-.4-.92-.59-1.43-.59-.52 0-1.04.2-1.43.59L10.3 9.45l-7.72 7.72c-.78.78-.78 2.05 0 2.83L4 21.41c.39.39.9.59 1.41.59.51 0 1.02-.2 1.41-.59l7.78-7.78 2.81-2.81c.8-.78.8-2.07 0-2.86zM5.41 20L4 18.59l7.72-7.72 1.47 1.35L5.41 20z\"/>\n",
              "  </svg>\n",
              "      </button>\n",
              "      \n",
              "  <style>\n",
              "    .colab-df-container {\n",
              "      display:flex;\n",
              "      flex-wrap:wrap;\n",
              "      gap: 12px;\n",
              "    }\n",
              "\n",
              "    .colab-df-convert {\n",
              "      background-color: #E8F0FE;\n",
              "      border: none;\n",
              "      border-radius: 50%;\n",
              "      cursor: pointer;\n",
              "      display: none;\n",
              "      fill: #1967D2;\n",
              "      height: 32px;\n",
              "      padding: 0 0 0 0;\n",
              "      width: 32px;\n",
              "    }\n",
              "\n",
              "    .colab-df-convert:hover {\n",
              "      background-color: #E2EBFA;\n",
              "      box-shadow: 0px 1px 2px rgba(60, 64, 67, 0.3), 0px 1px 3px 1px rgba(60, 64, 67, 0.15);\n",
              "      fill: #174EA6;\n",
              "    }\n",
              "\n",
              "    [theme=dark] .colab-df-convert {\n",
              "      background-color: #3B4455;\n",
              "      fill: #D2E3FC;\n",
              "    }\n",
              "\n",
              "    [theme=dark] .colab-df-convert:hover {\n",
              "      background-color: #434B5C;\n",
              "      box-shadow: 0px 1px 3px 1px rgba(0, 0, 0, 0.15);\n",
              "      filter: drop-shadow(0px 1px 2px rgba(0, 0, 0, 0.3));\n",
              "      fill: #FFFFFF;\n",
              "    }\n",
              "  </style>\n",
              "\n",
              "      <script>\n",
              "        const buttonEl =\n",
              "          document.querySelector('#df-f3efa950-a1bc-4ee8-978d-a913473df8a4 button.colab-df-convert');\n",
              "        buttonEl.style.display =\n",
              "          google.colab.kernel.accessAllowed ? 'block' : 'none';\n",
              "\n",
              "        async function convertToInteractive(key) {\n",
              "          const element = document.querySelector('#df-f3efa950-a1bc-4ee8-978d-a913473df8a4');\n",
              "          const dataTable =\n",
              "            await google.colab.kernel.invokeFunction('convertToInteractive',\n",
              "                                                     [key], {});\n",
              "          if (!dataTable) return;\n",
              "\n",
              "          const docLinkHtml = 'Like what you see? Visit the ' +\n",
              "            '<a target=\"_blank\" href=https://colab.research.google.com/notebooks/data_table.ipynb>data table notebook</a>'\n",
              "            + ' to learn more about interactive tables.';\n",
              "          element.innerHTML = '';\n",
              "          dataTable['output_type'] = 'display_data';\n",
              "          await google.colab.output.renderOutput(dataTable, element);\n",
              "          const docLink = document.createElement('div');\n",
              "          docLink.innerHTML = docLinkHtml;\n",
              "          element.appendChild(docLink);\n",
              "        }\n",
              "      </script>\n",
              "    </div>\n",
              "  </div>\n",
              "  "
            ]
          },
          "metadata": {},
          "execution_count": 48
        }
      ]
    },
    {
      "cell_type": "markdown",
      "source": [
        "## 한글이 포함된 시각화를 위해 Matplotlib 설정"
      ],
      "metadata": {
        "id": "pxHTa9pDFvnw"
      }
    },
    {
      "cell_type": "code",
      "source": [
        "# 한글이 포함된 시각화를 위해 Matplotlib 설정\n",
        "import matplotlib as mpl\n",
        "import matplotlib.pyplot as plt\n",
        "import matplotlib.font_manager as fm\n",
        "fontpath = '/content/drive/MyDrive/font/나눔 글꼴/나눔바른고딕/NanumBarunGothic.ttf'\n",
        "font = fm.FontProperties(fname=fontpath, size=9)\n",
        "plt.rc('font', family='NanumBarunGothic') \n",
        "mpl.font_manager.findfont(font)\n",
        "print(\"완료!\")"
      ],
      "metadata": {
        "colab": {
          "base_uri": "https://localhost:8080/"
        },
        "id": "eDnpTgfJWnAF",
        "outputId": "093762ea-9a51-43c1-dd89-552540ecbc4a"
      },
      "execution_count": 52,
      "outputs": [
        {
          "output_type": "stream",
          "name": "stdout",
          "text": [
            "완료!\n"
          ]
        }
      ]
    },
    {
      "cell_type": "markdown",
      "source": [
        "## 집계 결과를 시각화하기"
      ],
      "metadata": {
        "id": "EUdsLVJbMB2g"
      }
    },
    {
      "cell_type": "code",
      "source": [
        "# 집계 결과를 시각화하기\n",
        "items_count[:10].plot(kind='bar')\n",
        "plt.ylabel('개')\n",
        "plt.title('판매 개수')\n",
        "plt.show()"
      ],
      "metadata": {
        "colab": {
          "base_uri": "https://localhost:8080/",
          "height": 1000
        },
        "id": "8wqOEXgHHhH5",
        "outputId": "b455126a-f1b0-402f-d63e-349f98bca398"
      },
      "execution_count": 53,
      "outputs": [
        {
          "output_type": "display_data",
          "data": {
            "text/plain": [
              "<Figure size 640x480 with 1 Axes>"
            ],
            "image/png": "[encoded data removed]"
          },
          "metadata": {}
        }
      ]
    },
    {
      "cell_type": "markdown",
      "source": [
        "## temp_var의 paymant열을 상품명을 기준으로 집계하기"
      ],
      "metadata": {
        "id": "M-JH2vuIMKBt"
      }
    },
    {
      "cell_type": "code",
      "source": [
        "# temp_var의 payment열을 상품명을 기준으로 집계하기\n",
        "items_payment = temp_var['payment'].groupby(temp_var['상품명'][temp_var['판매수량']!=-1]).sum()\n",
        "items_payment"
      ],
      "metadata": {
        "colab": {
          "base_uri": "https://localhost:8080/"
        },
        "id": "FT-o5ZgLHqRw",
        "outputId": "911a2eba-bed1-4116-874a-4ee085184cf9"
      },
      "execution_count": 54,
      "outputs": [
        {
          "output_type": "execute_result",
          "data": {
            "text/plain": [
              "상품명\n",
              "(면)계란추가-국물라면           5000\n",
              "(면)계란후라이 추가-불닭/짜장     20000\n",
              "(면)치즈추가               10500\n",
              "(밥)계란후라이 추가            3000\n",
              "(밥)슈레드치즈추가             4500\n",
              "                      ...  \n",
              "한돈간장불고기덮밥            112500\n",
              "한돈고추장불고기덮밥           127500\n",
              "허니밀크쉐이크              114000\n",
              "헤이즐넛라떼(HOT)            9000\n",
              "헤이즐넛라떼(ICE)           67500\n",
              "Name: payment, Length: 100, dtype: int64"
            ]
          },
          "metadata": {},
          "execution_count": 54
        }
      ]
    },
    {
      "cell_type": "markdown",
      "source": [
        "## item_payment의 값을 내림차순으로 정렬하고 상위 10개 도출하기"
      ],
      "metadata": {
        "id": "mEUQmjdScf86"
      }
    },
    {
      "cell_type": "code",
      "source": [
        "# item_payment의 값을 내림차순으로 정렬하고 상위 10개 도출하기\n",
        "items_payment = items_payment.sort_values(ascending=False)\n",
        "items_payment[:10]"
      ],
      "metadata": {
        "colab": {
          "base_uri": "https://localhost:8080/"
        },
        "id": "v93GraR2MWWY",
        "outputId": "97f2e2cf-8a71-47d9-b6f3-e856b78db289"
      },
      "execution_count": 55,
      "outputs": [
        {
          "output_type": "execute_result",
          "data": {
            "text/plain": [
              "상품명\n",
              "김치볶음밥         6004400\n",
              "라면            2941500\n",
              "치즈불고기볶음밥      2292600\n",
              "짜장라면          2038500\n",
              "낙지볶음밥         1710700\n",
              "새우볶음밥         1539800\n",
              "치즈감자튀김        1354200\n",
              "감자튀김          1083800\n",
              "아메리카노(ICE)    1058100\n",
              "불닭볶음면          693000\n",
              "Name: payment, dtype: int64"
            ]
          },
          "metadata": {},
          "execution_count": 55
        }
      ]
    },
    {
      "cell_type": "markdown",
      "source": [
        "## 집계 결과 시각화하기"
      ],
      "metadata": {
        "id": "79XuwCbccjI_"
      }
    },
    {
      "cell_type": "code",
      "source": [
        "# 집계 결과 시각화하기\n",
        "items_payment[:10].plot(kind='bar')\n",
        "plt.ylabel('원')\n",
        "plt.title('판매 금액')\n",
        "plt.show()"
      ],
      "metadata": {
        "colab": {
          "base_uri": "https://localhost:8080/",
          "height": 1000
        },
        "id": "ywUMzwODcfIj",
        "outputId": "201f386e-e1cc-4d1a-c5ba-9b9d83fe852f"
      },
      "execution_count": 56,
      "outputs": [
        {
          "output_type": "stream",
          "name": "stderr",
          "text": [
            "/usr/local/lib/python3.7/dist-packages/IPython/core/pylabtools.py:128: UserWarning: Glyph 51676 (\\N{HANGUL SYLLABLE JJA}) missing from current font.\n",
            "  fig.canvas.print_figure(bytes_io, **kw)\n",
            "/usr/local/lib/python3.7/dist-packages/IPython/core/pylabtools.py:128: UserWarning: Glyph 51109 (\\N{HANGUL SYLLABLE JANG}) missing from current font.\n",
            "  fig.canvas.print_figure(bytes_io, **kw)\n",
            "/usr/local/lib/python3.7/dist-packages/IPython/core/pylabtools.py:128: UserWarning: Glyph 45209 (\\N{HANGUL SYLLABLE NAG}) missing from current font.\n",
            "  fig.canvas.print_figure(bytes_io, **kw)\n",
            "/usr/local/lib/python3.7/dist-packages/IPython/core/pylabtools.py:128: UserWarning: Glyph 51648 (\\N{HANGUL SYLLABLE JI}) missing from current font.\n",
            "  fig.canvas.print_figure(bytes_io, **kw)\n",
            "/usr/local/lib/python3.7/dist-packages/IPython/core/pylabtools.py:128: UserWarning: Glyph 49352 (\\N{HANGUL SYLLABLE SAE}) missing from current font.\n",
            "  fig.canvas.print_figure(bytes_io, **kw)\n",
            "/usr/local/lib/python3.7/dist-packages/IPython/core/pylabtools.py:128: UserWarning: Glyph 50864 (\\N{HANGUL SYLLABLE U}) missing from current font.\n",
            "  fig.canvas.print_figure(bytes_io, **kw)\n",
            "/usr/local/lib/python3.7/dist-packages/IPython/core/pylabtools.py:128: UserWarning: Glyph 44048 (\\N{HANGUL SYLLABLE GAM}) missing from current font.\n",
            "  fig.canvas.print_figure(bytes_io, **kw)\n",
            "/usr/local/lib/python3.7/dist-packages/IPython/core/pylabtools.py:128: UserWarning: Glyph 51088 (\\N{HANGUL SYLLABLE JA}) missing from current font.\n",
            "  fig.canvas.print_figure(bytes_io, **kw)\n",
            "/usr/local/lib/python3.7/dist-packages/IPython/core/pylabtools.py:128: UserWarning: Glyph 53888 (\\N{HANGUL SYLLABLE TWI}) missing from current font.\n",
            "  fig.canvas.print_figure(bytes_io, **kw)\n",
            "/usr/local/lib/python3.7/dist-packages/IPython/core/pylabtools.py:128: UserWarning: Glyph 50500 (\\N{HANGUL SYLLABLE A}) missing from current font.\n",
            "  fig.canvas.print_figure(bytes_io, **kw)\n",
            "/usr/local/lib/python3.7/dist-packages/IPython/core/pylabtools.py:128: UserWarning: Glyph 47700 (\\N{HANGUL SYLLABLE ME}) missing from current font.\n",
            "  fig.canvas.print_figure(bytes_io, **kw)\n",
            "/usr/local/lib/python3.7/dist-packages/IPython/core/pylabtools.py:128: UserWarning: Glyph 47532 (\\N{HANGUL SYLLABLE RI}) missing from current font.\n",
            "  fig.canvas.print_figure(bytes_io, **kw)\n",
            "/usr/local/lib/python3.7/dist-packages/IPython/core/pylabtools.py:128: UserWarning: Glyph 45432 (\\N{HANGUL SYLLABLE NO}) missing from current font.\n",
            "  fig.canvas.print_figure(bytes_io, **kw)\n",
            "/usr/local/lib/python3.7/dist-packages/IPython/core/pylabtools.py:128: UserWarning: Glyph 45805 (\\N{HANGUL SYLLABLE DALG}) missing from current font.\n",
            "  fig.canvas.print_figure(bytes_io, **kw)\n",
            "/usr/local/lib/python3.7/dist-packages/IPython/core/pylabtools.py:128: UserWarning: Glyph 50896 (\\N{HANGUL SYLLABLE WEON}) missing from current font.\n",
            "  fig.canvas.print_figure(bytes_io, **kw)\n"
          ]
        },
        {
          "output_type": "display_data",
          "data": {
            "text/plain": [
              "<Figure size 640x480 with 1 Axes>"
            ],
            "image/png": "[encoded data removed]"
          },
          "metadata": {}
        }
      ]
    },
    {
      "cell_type": "markdown",
      "source": [
        "# 필수 문제3"
      ],
      "metadata": {
        "id": "J8ZHAF3lcoCm"
      }
    },
    {
      "cell_type": "code",
      "source": [
        "# 활용할 데이터(entry_data)를 temp_var로 정의하기\n",
        "temp_var = entry_data\n",
        "temp_var"
      ],
      "metadata": {
        "colab": {
          "base_uri": "https://localhost:8080/",
          "height": 424
        },
        "id": "xxgyGKnVck12",
        "outputId": "57b62f8a-4fc7-457e-c567-7c47bec3285d"
      },
      "execution_count": 57,
      "outputs": [
        {
          "output_type": "execute_result",
          "data": {
            "text/plain": [
              "               요금제명                입실                퇴실           이용    위치  \\\n",
              "0        시간요금제(1시간)  2022-04-01 23:39   2022-04-02 0:39   오전 1:00:00  선불기2   \n",
              "1        시간요금제(1시간)  2022-04-01 23:39   2022-04-02 0:39   오전 1:00:00  선불기2   \n",
              "2           무제한 입장권  2022-04-01 20:55  2022-04-01 21:41  오전 12:46:00  선불기2   \n",
              "3           무제한 입장권  2022-04-01 20:55  2022-04-01 21:41  오전 12:46:00  선불기2   \n",
              "4      한국대생 무제한 입장권  2022-04-01 19:54  2022-04-01 22:28   오전 2:33:00  선불기2   \n",
              "...             ...               ...               ...          ...   ...   \n",
              "22550         종일요금제  2021-02-17 13:09  2021-02-17 14:19   오전 1:10:00  선불기1   \n",
              "22551         종일요금제  2021-02-17 13:09  2021-02-17 14:19   오전 1:10:00  선불기1   \n",
              "22552         종일요금제  2021-02-17 13:06  2021-02-17 14:19   오전 1:13:00  선불기1   \n",
              "22553         종일요금제  2021-02-17 13:06  2021-02-17 14:19   오전 1:13:00  선불기1   \n",
              "22554         종일요금제  2021-02-17 12:58  2021-02-17 14:19   오전 1:21:00  선불기1   \n",
              "\n",
              "         금액  구분              고객  \n",
              "0      3000  퇴실  customer263717  \n",
              "1      3000  퇴실  customer263717  \n",
              "2      7400  퇴실  customer247263  \n",
              "3      7400  퇴실  customer247263  \n",
              "4      7400  퇴실  customer388928  \n",
              "...     ...  ..             ...  \n",
              "22550  6500  퇴실  customer774105  \n",
              "22551  6500  퇴실  customer774105  \n",
              "22552  7000  퇴실  customer774105  \n",
              "22553  7000  퇴실  customer774105  \n",
              "22554  7000  퇴실  customer774105  \n",
              "\n",
              "[22555 rows x 8 columns]"
            ],
            "text/html": [
              "\n",
              "  <div id=\"df-8bb080d8-4bd4-4165-bdd8-edd84392e5ae\">\n",
              "    <div class=\"colab-df-container\">\n",
              "      <div>\n",
              "<style scoped>\n",
              "    .dataframe tbody tr th:only-of-type {\n",
              "        vertical-align: middle;\n",
              "    }\n",
              "\n",
              "    .dataframe tbody tr th {\n",
              "        vertical-align: top;\n",
              "    }\n",
              "\n",
              "    .dataframe thead th {\n",
              "        text-align: right;\n",
              "    }\n",
              "</style>\n",
              "<table border=\"1\" class=\"dataframe\">\n",
              "  <thead>\n",
              "    <tr style=\"text-align: right;\">\n",
              "      <th></th>\n",
              "      <th>요금제명</th>\n",
              "      <th>입실</th>\n",
              "      <th>퇴실</th>\n",
              "      <th>이용</th>\n",
              "      <th>위치</th>\n",
              "      <th>금액</th>\n",
              "      <th>구분</th>\n",
              "      <th>고객</th>\n",
              "    </tr>\n",
              "  </thead>\n",
              "  <tbody>\n",
              "    <tr>\n",
              "      <th>0</th>\n",
              "      <td>시간요금제(1시간)</td>\n",
              "      <td>2022-04-01 23:39</td>\n",
              "      <td>2022-04-02 0:39</td>\n",
              "      <td>오전 1:00:00</td>\n",
              "      <td>선불기2</td>\n",
              "      <td>3000</td>\n",
              "      <td>퇴실</td>\n",
              "      <td>customer263717</td>\n",
              "    </tr>\n",
              "    <tr>\n",
              "      <th>1</th>\n",
              "      <td>시간요금제(1시간)</td>\n",
              "      <td>2022-04-01 23:39</td>\n",
              "      <td>2022-04-02 0:39</td>\n",
              "      <td>오전 1:00:00</td>\n",
              "      <td>선불기2</td>\n",
              "      <td>3000</td>\n",
              "      <td>퇴실</td>\n",
              "      <td>customer263717</td>\n",
              "    </tr>\n",
              "    <tr>\n",
              "      <th>2</th>\n",
              "      <td>무제한 입장권</td>\n",
              "      <td>2022-04-01 20:55</td>\n",
              "      <td>2022-04-01 21:41</td>\n",
              "      <td>오전 12:46:00</td>\n",
              "      <td>선불기2</td>\n",
              "      <td>7400</td>\n",
              "      <td>퇴실</td>\n",
              "      <td>customer247263</td>\n",
              "    </tr>\n",
              "    <tr>\n",
              "      <th>3</th>\n",
              "      <td>무제한 입장권</td>\n",
              "      <td>2022-04-01 20:55</td>\n",
              "      <td>2022-04-01 21:41</td>\n",
              "      <td>오전 12:46:00</td>\n",
              "      <td>선불기2</td>\n",
              "      <td>7400</td>\n",
              "      <td>퇴실</td>\n",
              "      <td>customer247263</td>\n",
              "    </tr>\n",
              "    <tr>\n",
              "      <th>4</th>\n",
              "      <td>한국대생 무제한 입장권</td>\n",
              "      <td>2022-04-01 19:54</td>\n",
              "      <td>2022-04-01 22:28</td>\n",
              "      <td>오전 2:33:00</td>\n",
              "      <td>선불기2</td>\n",
              "      <td>7400</td>\n",
              "      <td>퇴실</td>\n",
              "      <td>customer388928</td>\n",
              "    </tr>\n",
              "    <tr>\n",
              "      <th>...</th>\n",
              "      <td>...</td>\n",
              "      <td>...</td>\n",
              "      <td>...</td>\n",
              "      <td>...</td>\n",
              "      <td>...</td>\n",
              "      <td>...</td>\n",
              "      <td>...</td>\n",
              "      <td>...</td>\n",
              "    </tr>\n",
              "    <tr>\n",
              "      <th>22550</th>\n",
              "      <td>종일요금제</td>\n",
              "      <td>2021-02-17 13:09</td>\n",
              "      <td>2021-02-17 14:19</td>\n",
              "      <td>오전 1:10:00</td>\n",
              "      <td>선불기1</td>\n",
              "      <td>6500</td>\n",
              "      <td>퇴실</td>\n",
              "      <td>customer774105</td>\n",
              "    </tr>\n",
              "    <tr>\n",
              "      <th>22551</th>\n",
              "      <td>종일요금제</td>\n",
              "      <td>2021-02-17 13:09</td>\n",
              "      <td>2021-02-17 14:19</td>\n",
              "      <td>오전 1:10:00</td>\n",
              "      <td>선불기1</td>\n",
              "      <td>6500</td>\n",
              "      <td>퇴실</td>\n",
              "      <td>customer774105</td>\n",
              "    </tr>\n",
              "    <tr>\n",
              "      <th>22552</th>\n",
              "      <td>종일요금제</td>\n",
              "      <td>2021-02-17 13:06</td>\n",
              "      <td>2021-02-17 14:19</td>\n",
              "      <td>오전 1:13:00</td>\n",
              "      <td>선불기1</td>\n",
              "      <td>7000</td>\n",
              "      <td>퇴실</td>\n",
              "      <td>customer774105</td>\n",
              "    </tr>\n",
              "    <tr>\n",
              "      <th>22553</th>\n",
              "      <td>종일요금제</td>\n",
              "      <td>2021-02-17 13:06</td>\n",
              "      <td>2021-02-17 14:19</td>\n",
              "      <td>오전 1:13:00</td>\n",
              "      <td>선불기1</td>\n",
              "      <td>7000</td>\n",
              "      <td>퇴실</td>\n",
              "      <td>customer774105</td>\n",
              "    </tr>\n",
              "    <tr>\n",
              "      <th>22554</th>\n",
              "      <td>종일요금제</td>\n",
              "      <td>2021-02-17 12:58</td>\n",
              "      <td>2021-02-17 14:19</td>\n",
              "      <td>오전 1:21:00</td>\n",
              "      <td>선불기1</td>\n",
              "      <td>7000</td>\n",
              "      <td>퇴실</td>\n",
              "      <td>customer774105</td>\n",
              "    </tr>\n",
              "  </tbody>\n",
              "</table>\n",
              "<p>22555 rows × 8 columns</p>\n",
              "</div>\n",
              "      <button class=\"colab-df-convert\" onclick=\"convertToInteractive('df-8bb080d8-4bd4-4165-bdd8-edd84392e5ae')\"\n",
              "              title=\"Convert this dataframe to an interactive table.\"\n",
              "              style=\"display:none;\">\n",
              "        \n",
              "  <svg xmlns=\"http://www.w3.org/2000/svg\" height=\"24px\"viewBox=\"0 0 24 24\"\n",
              "       width=\"24px\">\n",
              "    <path d=\"M0 0h24v24H0V0z\" fill=\"none\"/>\n",
              "    <path d=\"M18.56 5.44l.94 2.06.94-2.06 2.06-.94-2.06-.94-.94-2.06-.94 2.06-2.06.94zm-11 1L8.5 8.5l.94-2.06 2.06-.94-2.06-.94L8.5 2.5l-.94 2.06-2.06.94zm10 10l.94 2.06.94-2.06 2.06-.94-2.06-.94-.94-2.06-.94 2.06-2.06.94z\"/><path d=\"M17.41 7.96l-1.37-1.37c-.4-.4-.92-.59-1.43-.59-.52 0-1.04.2-1.43.59L10.3 9.45l-7.72 7.72c-.78.78-.78 2.05 0 2.83L4 21.41c.39.39.9.59 1.41.59.51 0 1.02-.2 1.41-.59l7.78-7.78 2.81-2.81c.8-.78.8-2.07 0-2.86zM5.41 20L4 18.59l7.72-7.72 1.47 1.35L5.41 20z\"/>\n",
              "  </svg>\n",
              "      </button>\n",
              "      \n",
              "  <style>\n",
              "    .colab-df-container {\n",
              "      display:flex;\n",
              "      flex-wrap:wrap;\n",
              "      gap: 12px;\n",
              "    }\n",
              "\n",
              "    .colab-df-convert {\n",
              "      background-color: #E8F0FE;\n",
              "      border: none;\n",
              "      border-radius: 50%;\n",
              "      cursor: pointer;\n",
              "      display: none;\n",
              "      fill: #1967D2;\n",
              "      height: 32px;\n",
              "      padding: 0 0 0 0;\n",
              "      width: 32px;\n",
              "    }\n",
              "\n",
              "    .colab-df-convert:hover {\n",
              "      background-color: #E2EBFA;\n",
              "      box-shadow: 0px 1px 2px rgba(60, 64, 67, 0.3), 0px 1px 3px 1px rgba(60, 64, 67, 0.15);\n",
              "      fill: #174EA6;\n",
              "    }\n",
              "\n",
              "    [theme=dark] .colab-df-convert {\n",
              "      background-color: #3B4455;\n",
              "      fill: #D2E3FC;\n",
              "    }\n",
              "\n",
              "    [theme=dark] .colab-df-convert:hover {\n",
              "      background-color: #434B5C;\n",
              "      box-shadow: 0px 1px 3px 1px rgba(0, 0, 0, 0.15);\n",
              "      filter: drop-shadow(0px 1px 2px rgba(0, 0, 0, 0.3));\n",
              "      fill: #FFFFFF;\n",
              "    }\n",
              "  </style>\n",
              "\n",
              "      <script>\n",
              "        const buttonEl =\n",
              "          document.querySelector('#df-8bb080d8-4bd4-4165-bdd8-edd84392e5ae button.colab-df-convert');\n",
              "        buttonEl.style.display =\n",
              "          google.colab.kernel.accessAllowed ? 'block' : 'none';\n",
              "\n",
              "        async function convertToInteractive(key) {\n",
              "          const element = document.querySelector('#df-8bb080d8-4bd4-4165-bdd8-edd84392e5ae');\n",
              "          const dataTable =\n",
              "            await google.colab.kernel.invokeFunction('convertToInteractive',\n",
              "                                                     [key], {});\n",
              "          if (!dataTable) return;\n",
              "\n",
              "          const docLinkHtml = 'Like what you see? Visit the ' +\n",
              "            '<a target=\"_blank\" href=https://colab.research.google.com/notebooks/data_table.ipynb>data table notebook</a>'\n",
              "            + ' to learn more about interactive tables.';\n",
              "          element.innerHTML = '';\n",
              "          dataTable['output_type'] = 'display_data';\n",
              "          await google.colab.output.renderOutput(dataTable, element);\n",
              "          const docLink = document.createElement('div');\n",
              "          docLink.innerHTML = docLinkHtml;\n",
              "          element.appendChild(docLink);\n",
              "        }\n",
              "      </script>\n",
              "    </div>\n",
              "  </div>\n",
              "  "
            ]
          },
          "metadata": {},
          "execution_count": 57
        }
      ]
    },
    {
      "cell_type": "code",
      "source": [
        "# temp_var의 금액을 숫자형태로 변환하기\n",
        "temp_var['금액'] = temp_var['금액'].astype(int)"
      ],
      "metadata": {
        "id": "RiqnX1kXcrQw"
      },
      "execution_count": 58,
      "outputs": []
    },
    {
      "cell_type": "code",
      "source": [
        "# temp_var의 금액을 요금제명을 기준으로 집계하기\n",
        "tickets = temp_var['금액'].groupby(temp_var['요금제명']).sum()\n",
        "tickets"
      ],
      "metadata": {
        "colab": {
          "base_uri": "https://localhost:8080/"
        },
        "id": "CA79hChTcuEu",
        "outputId": "a42e6725-cbab-46e7-a6fb-62653b2aa3b6"
      },
      "execution_count": 59,
      "outputs": [
        {
          "output_type": "execute_result",
          "data": {
            "text/plain": [
              "요금제명\n",
              "18시이후 무제한           1330500\n",
              "1시간                   90000\n",
              "1시간 요금제               14000\n",
              "3시간                   21000\n",
              "기간권                       0\n",
              "무제한 입장권             1568600\n",
              "무제한(일반요금)              6000\n",
              "무제한(한국대생)             14000\n",
              "시간 요금제(1시간당)          25000\n",
              "시간권                       0\n",
              "시간요금제                 12300\n",
              "시간요금제(1시간)          2665500\n",
              "시간요금제(1시간당)           22500\n",
              "시간요금제(3시간)          2042000\n",
              "심야-조조무제한            6221000\n",
              "심야-조조무제한(06시까지)    11600000\n",
              "이용권                       0\n",
              "입장권(종일권)           23570500\n",
              "조조무제한                693000\n",
              "종일요금제                233000\n",
              "한국대생 무제한 입장권        5207500\n",
              "한국대생 입장권(종일권)      70037000\n",
              "Name: 금액, dtype: int64"
            ]
          },
          "metadata": {},
          "execution_count": 59
        }
      ]
    },
    {
      "cell_type": "code",
      "source": [
        "# tickets의 값을 내림차순으로 정렬하고 상위 10개 도출하기\n",
        "tickets = tickets.sort_values(ascending=False)\n",
        "tickets[:10]"
      ],
      "metadata": {
        "colab": {
          "base_uri": "https://localhost:8080/"
        },
        "id": "kNzyIWoVc2oF",
        "outputId": "745b54cc-9589-492b-d6de-a02b47dcf72b"
      },
      "execution_count": 60,
      "outputs": [
        {
          "output_type": "execute_result",
          "data": {
            "text/plain": [
              "요금제명\n",
              "한국대생 입장권(종일권)      70037000\n",
              "입장권(종일권)           23570500\n",
              "심야-조조무제한(06시까지)    11600000\n",
              "심야-조조무제한            6221000\n",
              "한국대생 무제한 입장권        5207500\n",
              "시간요금제(1시간)          2665500\n",
              "시간요금제(3시간)          2042000\n",
              "무제한 입장권             1568600\n",
              "18시이후 무제한           1330500\n",
              "조조무제한                693000\n",
              "Name: 금액, dtype: int64"
            ]
          },
          "metadata": {},
          "execution_count": 60
        }
      ]
    },
    {
      "cell_type": "code",
      "source": [
        "# 집계 결과 시각화하기\n",
        "tickets[:10].plot(kind='bar')\n",
        "plt.ylabel('원')\n",
        "plt.title('입장권별 판매금액')\n",
        "plt.show()"
      ],
      "metadata": {
        "colab": {
          "base_uri": "https://localhost:8080/",
          "height": 1000
        },
        "id": "AwO5rMwHc9i3",
        "outputId": "f07aaca4-6ae3-4e3a-8006-bcccba34befd"
      },
      "execution_count": 61,
      "outputs": [
        {
          "output_type": "stream",
          "name": "stderr",
          "text": [
            "/usr/local/lib/python3.7/dist-packages/IPython/core/pylabtools.py:128: UserWarning: Glyph 51077 (\\N{HANGUL SYLLABLE IB}) missing from current font.\n",
            "  fig.canvas.print_figure(bytes_io, **kw)\n",
            "/usr/local/lib/python3.7/dist-packages/IPython/core/pylabtools.py:128: UserWarning: Glyph 51109 (\\N{HANGUL SYLLABLE JANG}) missing from current font.\n",
            "  fig.canvas.print_figure(bytes_io, **kw)\n",
            "/usr/local/lib/python3.7/dist-packages/IPython/core/pylabtools.py:128: UserWarning: Glyph 44428 (\\N{HANGUL SYLLABLE GWEON}) missing from current font.\n",
            "  fig.canvas.print_figure(bytes_io, **kw)\n",
            "/usr/local/lib/python3.7/dist-packages/IPython/core/pylabtools.py:128: UserWarning: Glyph 48324 (\\N{HANGUL SYLLABLE BYEOL}) missing from current font.\n",
            "  fig.canvas.print_figure(bytes_io, **kw)\n",
            "/usr/local/lib/python3.7/dist-packages/IPython/core/pylabtools.py:128: UserWarning: Glyph 54032 (\\N{HANGUL SYLLABLE PAN}) missing from current font.\n",
            "  fig.canvas.print_figure(bytes_io, **kw)\n",
            "/usr/local/lib/python3.7/dist-packages/IPython/core/pylabtools.py:128: UserWarning: Glyph 47588 (\\N{HANGUL SYLLABLE MAE}) missing from current font.\n",
            "  fig.canvas.print_figure(bytes_io, **kw)\n",
            "/usr/local/lib/python3.7/dist-packages/IPython/core/pylabtools.py:128: UserWarning: Glyph 44552 (\\N{HANGUL SYLLABLE GEUM}) missing from current font.\n",
            "  fig.canvas.print_figure(bytes_io, **kw)\n",
            "/usr/local/lib/python3.7/dist-packages/IPython/core/pylabtools.py:128: UserWarning: Glyph 50529 (\\N{HANGUL SYLLABLE AEG}) missing from current font.\n",
            "  fig.canvas.print_figure(bytes_io, **kw)\n",
            "/usr/local/lib/python3.7/dist-packages/IPython/core/pylabtools.py:128: UserWarning: Glyph 54620 (\\N{HANGUL SYLLABLE HAN}) missing from current font.\n",
            "  fig.canvas.print_figure(bytes_io, **kw)\n",
            "/usr/local/lib/python3.7/dist-packages/IPython/core/pylabtools.py:128: UserWarning: Glyph 44397 (\\N{HANGUL SYLLABLE GUG}) missing from current font.\n",
            "  fig.canvas.print_figure(bytes_io, **kw)\n",
            "/usr/local/lib/python3.7/dist-packages/IPython/core/pylabtools.py:128: UserWarning: Glyph 45824 (\\N{HANGUL SYLLABLE DAE}) missing from current font.\n",
            "  fig.canvas.print_figure(bytes_io, **kw)\n",
            "/usr/local/lib/python3.7/dist-packages/IPython/core/pylabtools.py:128: UserWarning: Glyph 49373 (\\N{HANGUL SYLLABLE SAENG}) missing from current font.\n",
            "  fig.canvas.print_figure(bytes_io, **kw)\n",
            "/usr/local/lib/python3.7/dist-packages/IPython/core/pylabtools.py:128: UserWarning: Glyph 51333 (\\N{HANGUL SYLLABLE JONG}) missing from current font.\n",
            "  fig.canvas.print_figure(bytes_io, **kw)\n",
            "/usr/local/lib/python3.7/dist-packages/IPython/core/pylabtools.py:128: UserWarning: Glyph 51068 (\\N{HANGUL SYLLABLE IL}) missing from current font.\n",
            "  fig.canvas.print_figure(bytes_io, **kw)\n",
            "/usr/local/lib/python3.7/dist-packages/IPython/core/pylabtools.py:128: UserWarning: Glyph 49900 (\\N{HANGUL SYLLABLE SIM}) missing from current font.\n",
            "  fig.canvas.print_figure(bytes_io, **kw)\n",
            "/usr/local/lib/python3.7/dist-packages/IPython/core/pylabtools.py:128: UserWarning: Glyph 50556 (\\N{HANGUL SYLLABLE YA}) missing from current font.\n",
            "  fig.canvas.print_figure(bytes_io, **kw)\n",
            "/usr/local/lib/python3.7/dist-packages/IPython/core/pylabtools.py:128: UserWarning: Glyph 51312 (\\N{HANGUL SYLLABLE JO}) missing from current font.\n",
            "  fig.canvas.print_figure(bytes_io, **kw)\n",
            "/usr/local/lib/python3.7/dist-packages/IPython/core/pylabtools.py:128: UserWarning: Glyph 47924 (\\N{HANGUL SYLLABLE MU}) missing from current font.\n",
            "  fig.canvas.print_figure(bytes_io, **kw)\n",
            "/usr/local/lib/python3.7/dist-packages/IPython/core/pylabtools.py:128: UserWarning: Glyph 51228 (\\N{HANGUL SYLLABLE JE}) missing from current font.\n",
            "  fig.canvas.print_figure(bytes_io, **kw)\n",
            "/usr/local/lib/python3.7/dist-packages/IPython/core/pylabtools.py:128: UserWarning: Glyph 49884 (\\N{HANGUL SYLLABLE SI}) missing from current font.\n",
            "  fig.canvas.print_figure(bytes_io, **kw)\n",
            "/usr/local/lib/python3.7/dist-packages/IPython/core/pylabtools.py:128: UserWarning: Glyph 44620 (\\N{HANGUL SYLLABLE GGA}) missing from current font.\n",
            "  fig.canvas.print_figure(bytes_io, **kw)\n",
            "/usr/local/lib/python3.7/dist-packages/IPython/core/pylabtools.py:128: UserWarning: Glyph 51648 (\\N{HANGUL SYLLABLE JI}) missing from current font.\n",
            "  fig.canvas.print_figure(bytes_io, **kw)\n",
            "/usr/local/lib/python3.7/dist-packages/IPython/core/pylabtools.py:128: UserWarning: Glyph 44036 (\\N{HANGUL SYLLABLE GAN}) missing from current font.\n",
            "  fig.canvas.print_figure(bytes_io, **kw)\n",
            "/usr/local/lib/python3.7/dist-packages/IPython/core/pylabtools.py:128: UserWarning: Glyph 50836 (\\N{HANGUL SYLLABLE YO}) missing from current font.\n",
            "  fig.canvas.print_figure(bytes_io, **kw)\n",
            "/usr/local/lib/python3.7/dist-packages/IPython/core/pylabtools.py:128: UserWarning: Glyph 51060 (\\N{HANGUL SYLLABLE I}) missing from current font.\n",
            "  fig.canvas.print_figure(bytes_io, **kw)\n",
            "/usr/local/lib/python3.7/dist-packages/IPython/core/pylabtools.py:128: UserWarning: Glyph 54980 (\\N{HANGUL SYLLABLE HU}) missing from current font.\n",
            "  fig.canvas.print_figure(bytes_io, **kw)\n",
            "/usr/local/lib/python3.7/dist-packages/IPython/core/pylabtools.py:128: UserWarning: Glyph 47749 (\\N{HANGUL SYLLABLE MYEONG}) missing from current font.\n",
            "  fig.canvas.print_figure(bytes_io, **kw)\n",
            "/usr/local/lib/python3.7/dist-packages/IPython/core/pylabtools.py:128: UserWarning: Glyph 50896 (\\N{HANGUL SYLLABLE WEON}) missing from current font.\n",
            "  fig.canvas.print_figure(bytes_io, **kw)\n"
          ]
        },
        {
          "output_type": "display_data",
          "data": {
            "text/plain": [
              "<Figure size 640x480 with 1 Axes>"
            ],
            "image/png": "[encoded data removed]"
          },
          "metadata": {}
        }
      ]
    },
    {
      "cell_type": "code",
      "source": [],
      "metadata": {
        "id": "79he0V1HdBYM"
      },
      "execution_count": null,
      "outputs": []
    }
  ]
}