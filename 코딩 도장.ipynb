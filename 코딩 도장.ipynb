{
 "cells": [
  {
   "cell_type": "markdown",
   "id": "ceb888d3",
   "metadata": {},
   "source": [
    "## 기본 문법 알아보기"
   ]
  },
  {
   "cell_type": "markdown",
   "id": "f6c21b6e",
   "metadata": {},
   "source": [
    "### 세미콜론\n",
    "\n",
    "파이썬은 구문이 끝날 때 ;(세미콜론)을 붙이지 않는다. 다만, 한 줄에 여러 구문을 사용할 때 세미콜론을 구분해준다."
   ]
  },
  {
   "cell_type": "markdown",
   "id": "85942198",
   "metadata": {},
   "source": [
    "### 주석"
   ]
  },
  {
   "cell_type": "markdown",
   "id": "f8253ad5",
   "metadata": {},
   "source": [
    "### 들여쓰기"
   ]
  },
  {
   "cell_type": "markdown",
   "id": "24e8da08",
   "metadata": {
    "ExecuteTime": {
     "end_time": "2022-08-28T13:39:00.375635Z",
     "start_time": "2022-08-28T13:39:00.365638Z"
    }
   },
   "source": [
    "### 코드 블록"
   ]
  },
  {
   "cell_type": "markdown",
   "id": "e3782f11",
   "metadata": {},
   "source": [
    "## 숫자 계산하기"
   ]
  },
  {
   "cell_type": "markdown",
   "id": "d278477c",
   "metadata": {},
   "source": [
    "### 정수 계산하기"
   ]
  },
  {
   "cell_type": "markdown",
   "id": "a9e583b6",
   "metadata": {},
   "source": [
    "#### 사칙연산\n",
    "\n",
    "* +, -, *, /, //(소수점 이하 버림), %(나머지), **(거듭제곱)\n",
    "* divmod(5,2) => (몫,나머지)\n",
    "* int(숫자), int(계산식), int('문자열')\n",
    "* type(값): 객체 확인"
   ]
  },
  {
   "cell_type": "markdown",
   "id": "423e20fd",
   "metadata": {},
   "source": [
    "### 실수 계산하기"
   ]
  },
  {
   "cell_type": "markdown",
   "id": "1d8f331f",
   "metadata": {},
   "source": [
    "* 실수와 정수를 함께 계산하면 실수가 나온다. => 표현 범위가 넓은 쪽으로 계산"
   ]
  },
  {
   "cell_type": "markdown",
   "id": "c93b4e99",
   "metadata": {},
   "source": [
    "### 연습문제: 아파트에서 소음이 가장 심한 츠이수 출력하기"
   ]
  },
  {
   "cell_type": "code",
   "execution_count": 1,
   "id": "1f35fcea",
   "metadata": {
    "ExecuteTime": {
     "end_time": "2022-08-29T06:02:29.322985Z",
     "start_time": "2022-08-29T06:02:29.295984Z"
    }
   },
   "outputs": [
    {
     "name": "stdout",
     "output_type": "stream",
     "text": [
      "7\n"
     ]
    }
   ],
   "source": [
    "print(int(0.2467*12+4.159))"
   ]
  },
  {
   "cell_type": "markdown",
   "id": "5cff57ea",
   "metadata": {},
   "source": [
    "### 심화문제: 스킬 공격력 출력하기"
   ]
  },
  {
   "cell_type": "code",
   "execution_count": 2,
   "id": "34239781",
   "metadata": {
    "ExecuteTime": {
     "end_time": "2022-08-29T06:02:29.337984Z",
     "start_time": "2022-08-29T06:02:29.329983Z"
    }
   },
   "outputs": [
    {
     "name": "stdout",
     "output_type": "stream",
     "text": [
      "286.2\n"
     ]
    }
   ],
   "source": [
    "print(102*0.6+225)"
   ]
  },
  {
   "cell_type": "markdown",
   "id": "ab145c80",
   "metadata": {},
   "source": [
    "## 변수와 입력 사용하기"
   ]
  },
  {
   "cell_type": "markdown",
   "id": "f5892a86",
   "metadata": {},
   "source": [
    "### 변수 만들기\n",
    "\n",
    "* 영문 문자와 숫자를 사용할 수 있다.\n",
    "* 대소문자 구별\n",
    "* 문자부터 시작해야 한다.(숫자부터 안 된다.)\n",
    "* _(밑줄)로 시작할 수 있다.\n",
    "* 특수 문자(+, -, *, /, $, @, &, % 등) 사용할 수 없다.\n",
    "* if, for, while, and, or 등은 사용할 수 없다."
   ]
  },
  {
   "cell_type": "markdown",
   "id": "8f389c1e",
   "metadata": {
    "ExecuteTime": {
     "end_time": "2022-08-28T16:23:56.322195Z",
     "start_time": "2022-08-28T16:23:56.315175Z"
    }
   },
   "source": [
    "#### 변수 여려 개를 한 번에 만들기"
   ]
  },
  {
   "cell_type": "code",
   "execution_count": 3,
   "id": "4d004908",
   "metadata": {
    "ExecuteTime": {
     "end_time": "2022-08-29T06:02:29.382986Z",
     "start_time": "2022-08-29T06:02:29.342983Z"
    }
   },
   "outputs": [
    {
     "data": {
      "text/plain": [
       "10"
      ]
     },
     "execution_count": 3,
     "metadata": {},
     "output_type": "execute_result"
    }
   ],
   "source": [
    "x,y,z = 10,20,30\n",
    "x"
   ]
  },
  {
   "cell_type": "code",
   "execution_count": 4,
   "id": "1e7b5598",
   "metadata": {
    "ExecuteTime": {
     "end_time": "2022-08-29T06:02:29.413007Z",
     "start_time": "2022-08-29T06:02:29.388990Z"
    }
   },
   "outputs": [
    {
     "data": {
      "text/plain": [
       "20"
      ]
     },
     "execution_count": 4,
     "metadata": {},
     "output_type": "execute_result"
    }
   ],
   "source": [
    "y"
   ]
  },
  {
   "cell_type": "markdown",
   "id": "985b418f",
   "metadata": {},
   "source": [
    "### 변수로 계산하기"
   ]
  },
  {
   "cell_type": "code",
   "execution_count": 5,
   "id": "263bb088",
   "metadata": {
    "ExecuteTime": {
     "end_time": "2022-08-29T06:02:29.427991Z",
     "start_time": "2022-08-29T06:02:29.416988Z"
    }
   },
   "outputs": [
    {
     "data": {
      "text/plain": [
       "30"
      ]
     },
     "execution_count": 5,
     "metadata": {},
     "output_type": "execute_result"
    }
   ],
   "source": [
    "a=10\n",
    "b=20\n",
    "c=a+b\n",
    "c"
   ]
  },
  {
   "cell_type": "markdown",
   "id": "074c1268",
   "metadata": {},
   "source": [
    "#### 산술 연산 후 할당 연산자 사용\n",
    "\n",
    "* a= a + 20  과 같이 a에 20을 더한 값을 다시 a에 할당하면 계산결과가 유지된다.\n",
    "    - a += 20 과 같이 표현 할 수 있다.(다른 연산에도 적용 가능)"
   ]
  },
  {
   "cell_type": "code",
   "execution_count": 6,
   "id": "9ae63aca",
   "metadata": {
    "ExecuteTime": {
     "end_time": "2022-08-29T06:02:29.443012Z",
     "start_time": "2022-08-29T06:02:29.431992Z"
    }
   },
   "outputs": [
    {
     "data": {
      "text/plain": [
       "30"
      ]
     },
     "execution_count": 6,
     "metadata": {},
     "output_type": "execute_result"
    }
   ],
   "source": [
    "a = 10\n",
    "a = a + 20\n",
    "a"
   ]
  },
  {
   "cell_type": "code",
   "execution_count": 7,
   "id": "3b9fac6a",
   "metadata": {
    "ExecuteTime": {
     "end_time": "2022-08-29T06:02:29.457991Z",
     "start_time": "2022-08-29T06:02:29.447993Z"
    }
   },
   "outputs": [
    {
     "data": {
      "text/plain": [
       "30"
      ]
     },
     "execution_count": 7,
     "metadata": {},
     "output_type": "execute_result"
    }
   ],
   "source": [
    "a = 10\n",
    "a += 20\n",
    "a"
   ]
  },
  {
   "cell_type": "markdown",
   "id": "0b575929",
   "metadata": {},
   "source": [
    "### 입력 값을 변수에 저장하기"
   ]
  },
  {
   "cell_type": "markdown",
   "id": "6735952c",
   "metadata": {},
   "source": [
    "####  input 함수 사용하기"
   ]
  },
  {
   "cell_type": "code",
   "execution_count": null,
   "id": "a0c31368",
   "metadata": {
    "ExecuteTime": {
     "start_time": "2022-08-29T06:02:29.401Z"
    }
   },
   "outputs": [],
   "source": [
    "input()"
   ]
  },
  {
   "cell_type": "code",
   "execution_count": null,
   "id": "6d59a1ef",
   "metadata": {
    "ExecuteTime": {
     "start_time": "2022-08-29T06:02:29.409Z"
    }
   },
   "outputs": [],
   "source": [
    "a= input('첫 번째 숫자를 입력하세요:')  # input에서 입력받은 값은 문자열.\n",
    "b= input('두 번째 숫자를 입력하세요:')\n",
    "\n",
    "print(a+b)"
   ]
  },
  {
   "cell_type": "code",
   "execution_count": null,
   "id": "07573589",
   "metadata": {
    "ExecuteTime": {
     "start_time": "2022-08-29T06:02:29.417Z"
    }
   },
   "outputs": [],
   "source": [
    "a= int(input('첫 번째 숫자를 입력하세요:'))\n",
    "b= int(input('두 번째 숫자를 입력하세요:'))\n",
    "\n",
    "print(a+b)"
   ]
  },
  {
   "cell_type": "markdown",
   "id": "e301bfa4",
   "metadata": {},
   "source": [
    "### 입력 값을 변수 두 개에 저장하기\n",
    "\n",
    "* 변수1, 변수2 = input().split()\n",
    "* 변수1, 변수2 = input().split('기준 문자열')\n",
    "* 변수1, 변수2 = input('문자열').split()\n",
    "* 변수1, 변수2 = input('문자열').split('기준 문자열')"
   ]
  },
  {
   "cell_type": "code",
   "execution_count": null,
   "id": "ce5e2065",
   "metadata": {
    "ExecuteTime": {
     "start_time": "2022-08-29T06:02:29.432Z"
    }
   },
   "outputs": [],
   "source": [
    "a,b = input('문자열 두 개를 입력하세요:').split() \n",
    "# 입력 받은 값을 공백으로 분리 (Hello (공백) Python)\n",
    "print(a)\n",
    "print(b)"
   ]
  },
  {
   "cell_type": "code",
   "execution_count": null,
   "id": "50d7196f",
   "metadata": {
    "ExecuteTime": {
     "start_time": "2022-08-29T06:02:29.441Z"
    }
   },
   "outputs": [],
   "source": [
    "a,b = input('숫자 두 개를 입력하세요:').split()\n",
    "\n",
    "a = int(a)\n",
    "b = int(b)\n",
    "\n",
    "print(a+b)\n",
    "\n",
    "# map(int,input('숫자 두개를 입력하세요:').split())\n",
    "# a= int(a)\n",
    "# print(int(a)+int(b))"
   ]
  },
  {
   "cell_type": "code",
   "execution_count": null,
   "id": "355c9570",
   "metadata": {
    "ExecuteTime": {
     "start_time": "2022-08-29T06:02:29.453Z"
    }
   },
   "outputs": [],
   "source": [
    "a,b = input('숫자 두 개를 입력하세요:').split(',')    #,(콤마) 로 분리\n",
    "\n",
    "a = int(a)\n",
    "b = int(b)\n",
    "\n",
    "print(a+b)"
   ]
  },
  {
   "cell_type": "markdown",
   "id": "a9580a69",
   "metadata": {},
   "source": [
    "### 연습문제: 정수 세 개를 입력받고 합계 출력하기"
   ]
  },
  {
   "cell_type": "code",
   "execution_count": null,
   "id": "9ad9041c",
   "metadata": {
    "ExecuteTime": {
     "start_time": "2022-08-29T06:02:29.470Z"
    }
   },
   "outputs": [],
   "source": [
    "a,b,c = map(int,input().split())\n",
    "\n",
    "print(a+b+c)"
   ]
  },
  {
   "cell_type": "markdown",
   "id": "1e664c59",
   "metadata": {
    "ExecuteTime": {
     "end_time": "2022-08-28T16:52:11.517460Z",
     "start_time": "2022-08-28T16:52:11.509440Z"
    }
   },
   "source": [
    "### 심사문제: 변수 만들기"
   ]
  },
  {
   "cell_type": "code",
   "execution_count": null,
   "id": "84ca567a",
   "metadata": {
    "ExecuteTime": {
     "start_time": "2022-08-29T06:02:29.487Z"
    }
   },
   "outputs": [],
   "source": [
    "a=50\n",
    "b=100\n",
    "c='None'\n",
    "\n",
    "print(a)\n",
    "print(b)\n",
    "print(c)"
   ]
  },
  {
   "cell_type": "markdown",
   "id": "aa4cedce",
   "metadata": {
    "ExecuteTime": {
     "end_time": "2022-08-28T16:54:28.732802Z",
     "start_time": "2022-08-28T16:54:28.723800Z"
    }
   },
   "source": [
    "### 심사문제: 평균 점수 구하기"
   ]
  },
  {
   "cell_type": "code",
   "execution_count": null,
   "id": "8a4c059e",
   "metadata": {
    "ExecuteTime": {
     "start_time": "2022-08-29T06:02:29.497Z"
    }
   },
   "outputs": [],
   "source": [
    "a,b,c,d=map(int,input().split())\n",
    "print((a+b+c+d)//4)"
   ]
  },
  {
   "cell_type": "markdown",
   "id": "5b80379b",
   "metadata": {},
   "source": [
    "##  출력 방법 알아보기"
   ]
  },
  {
   "cell_type": "markdown",
   "id": "35458482",
   "metadata": {
    "ExecuteTime": {
     "end_time": "2022-08-28T17:23:45.007010Z",
     "start_time": "2022-08-28T17:23:44.987009Z"
    }
   },
   "source": [
    "### 값을 여러 개 출력하기\n",
    "\n",
    "* print(값1, 값2, 값3)\n",
    "* print(변수1, 변수2, 변수3)"
   ]
  },
  {
   "cell_type": "markdown",
   "id": "45e06956",
   "metadata": {},
   "source": [
    "#### sep로 값 사이에 문자 넣기\n",
    "\n",
    "* print(값1, 값2, 값3, sep='문자 또는 문자열')\n",
    "* print(변수1, 변수2, 변수3, sep='문자 또는 문자열')"
   ]
  },
  {
   "cell_type": "code",
   "execution_count": null,
   "id": "1446be6b",
   "metadata": {
    "ExecuteTime": {
     "start_time": "2022-08-29T06:02:29.514Z"
    }
   },
   "outputs": [],
   "source": [
    "print(1,2,3,sep=',')"
   ]
  },
  {
   "cell_type": "code",
   "execution_count": null,
   "id": "2545938c",
   "metadata": {
    "ExecuteTime": {
     "start_time": "2022-08-29T06:02:29.522Z"
    }
   },
   "outputs": [],
   "source": [
    "print('Hello','Python',sep='')"
   ]
  },
  {
   "cell_type": "code",
   "execution_count": null,
   "id": "acc12912",
   "metadata": {
    "ExecuteTime": {
     "start_time": "2022-08-29T06:02:29.530Z"
    }
   },
   "outputs": [],
   "source": [
    "print(1920,1080,sep='x')"
   ]
  },
  {
   "cell_type": "markdown",
   "id": "de5f8194",
   "metadata": {
    "ExecuteTime": {
     "end_time": "2022-08-28T17:26:28.579038Z",
     "start_time": "2022-08-28T17:26:28.564036Z"
    }
   },
   "source": [
    "### 줄바꿈 활용하기"
   ]
  },
  {
   "cell_type": "code",
   "execution_count": null,
   "id": "604f0476",
   "metadata": {
    "ExecuteTime": {
     "start_time": "2022-08-29T06:02:29.540Z"
    }
   },
   "outputs": [],
   "source": [
    "print(1,2,3,sep='\\n')       # \\n 은 제어 문자이므로 화면에 출력되지 않는다."
   ]
  },
  {
   "cell_type": "code",
   "execution_count": null,
   "id": "4b7243c3",
   "metadata": {
    "ExecuteTime": {
     "start_time": "2022-08-29T06:02:29.550Z"
    }
   },
   "outputs": [],
   "source": [
    "print('1,\\n2,\\n3')"
   ]
  },
  {
   "cell_type": "code",
   "execution_count": null,
   "id": "1784a3cf",
   "metadata": {
    "ExecuteTime": {
     "start_time": "2022-08-29T06:02:29.558Z"
    }
   },
   "outputs": [],
   "source": [
    "# \\n: 다음 줄로 이동하며 '개행'이라고도 부른다.\n",
    "# \\t: 탭 문자, 키보드의 Tab 키와 같이 여러 칸을 띄운다.\n",
    "# \\\\: \\  문자 자체를 출력할 때는 \\ 를 두 번 써야 한다."
   ]
  },
  {
   "cell_type": "markdown",
   "id": "9a5ed794",
   "metadata": {
    "ExecuteTime": {
     "end_time": "2022-08-28T17:30:53.473479Z",
     "start_time": "2022-08-28T17:30:53.457458Z"
    }
   },
   "source": [
    "#### end 사용하기\n",
    "\n",
    "*  end 는 현재 print가 끝난 뒤 그 다음에 오는 print에 영향을 준다."
   ]
  },
  {
   "cell_type": "code",
   "execution_count": null,
   "id": "3cb115c1",
   "metadata": {
    "ExecuteTime": {
     "start_time": "2022-08-29T06:02:29.571Z"
    }
   },
   "outputs": [],
   "source": [
    "print(1)\n",
    "print(2)\n",
    "print(3)"
   ]
  },
  {
   "cell_type": "code",
   "execution_count": null,
   "id": "207f0e5a",
   "metadata": {
    "ExecuteTime": {
     "start_time": "2022-08-29T06:02:29.579Z"
    }
   },
   "outputs": [],
   "source": [
    "print(1,end='')\n",
    "print(2,end='')\n",
    "print(3)"
   ]
  },
  {
   "cell_type": "markdown",
   "id": "5f9d1ebd",
   "metadata": {},
   "source": [
    "### 연습문제: 날짜와 시간 출력하기"
   ]
  },
  {
   "cell_type": "code",
   "execution_count": null,
   "id": "7350173e",
   "metadata": {
    "ExecuteTime": {
     "start_time": "2022-08-29T06:02:29.589Z"
    }
   },
   "outputs": [],
   "source": [
    "year = 2000\n",
    "month = 10\n",
    "day = 27\n",
    "hour = 11\n",
    "minute = 43\n",
    "second = 59\n",
    "\n",
    "print(year, month, day, sep='/',end=' ')\n",
    "print(hour, minute, second, sep=':')"
   ]
  },
  {
   "cell_type": "markdown",
   "id": "3b8e5b5b",
   "metadata": {},
   "source": [
    "### 심사묹제: 날짜와 시간 출력하기"
   ]
  },
  {
   "cell_type": "code",
   "execution_count": null,
   "id": "915de2f8",
   "metadata": {
    "ExecuteTime": {
     "start_time": "2022-08-29T06:02:29.599Z"
    }
   },
   "outputs": [],
   "source": [
    "year, month, day, hour, minute, second = input().split()\n",
    "print(year, month, day, sep='-',end='T')\n",
    "print(hour, minute, second, sep=':')"
   ]
  },
  {
   "cell_type": "markdown",
   "id": "d3342138",
   "metadata": {},
   "source": [
    "## 불과 비교, 눈리 연산자 알아보기"
   ]
  },
  {
   "cell_type": "markdown",
   "id": "eb7d9974",
   "metadata": {
    "ExecuteTime": {
     "end_time": "2022-08-28T17:45:22.521770Z",
     "start_time": "2022-08-28T17:45:22.500746Z"
    }
   },
   "source": [
    "### 불과 비교 연산자 사용하기\n",
    "\n",
    "* 숫자의 크기, 같음 등을 비교 판단할 수 있다.\n",
    "* 문자열이 같은지 다른지 비교한다. 이 때, 대소문자가 다르면 다른 문자로 판단\n",
    "* 객체가 같은지 다른지 판단한다.\n",
    "    - ==, != 는 값 자체를 비교한다.\n",
    "    - is, is not은 객체를 비교한다."
   ]
  },
  {
   "cell_type": "code",
   "execution_count": null,
   "id": "e7065165",
   "metadata": {
    "ExecuteTime": {
     "start_time": "2022-08-29T06:02:29.612Z"
    }
   },
   "outputs": [],
   "source": [
    "1 == 1.0"
   ]
  },
  {
   "cell_type": "code",
   "execution_count": null,
   "id": "9422cc56",
   "metadata": {
    "ExecuteTime": {
     "start_time": "2022-08-29T06:02:29.619Z"
    }
   },
   "outputs": [],
   "source": [
    "1 is 1.0"
   ]
  },
  {
   "cell_type": "code",
   "execution_count": null,
   "id": "823da9d9",
   "metadata": {
    "ExecuteTime": {
     "start_time": "2022-08-29T06:02:29.626Z"
    }
   },
   "outputs": [],
   "source": [
    "1 is not 1.0"
   ]
  },
  {
   "cell_type": "markdown",
   "id": "24f58841",
   "metadata": {
    "ExecuteTime": {
     "end_time": "2022-08-28T17:48:26.544490Z",
     "start_time": "2022-08-28T17:48:26.535493Z"
    }
   },
   "source": [
    "### 논리 연산자 사용하기\n",
    "\n",
    "* 논리 연산자에는 and, or, not 이 있다.\n",
    "* bool() 은 빈 '정수 0, 실수 0.0, 빈 문자열, ' '(공백), \" \"(공백)' 은 모두 거짓 "
   ]
  },
  {
   "cell_type": "markdown",
   "id": "0fc1930b",
   "metadata": {
    "ExecuteTime": {
     "end_time": "2022-08-28T17:55:07.091813Z",
     "start_time": "2022-08-28T17:55:07.080814Z"
    }
   },
   "source": [
    "### 연습문제: 합격 여부 출력하기"
   ]
  },
  {
   "cell_type": "code",
   "execution_count": null,
   "id": "b9e61e22",
   "metadata": {
    "ExecuteTime": {
     "start_time": "2022-08-29T06:02:29.636Z"
    }
   },
   "outputs": [],
   "source": [
    "korean = 92\n",
    "english = 47\n",
    "mathematics = 86\n",
    "science = 81\n",
    "\n",
    "print(korean >=50 and english >= 50 and mathematics >= 50 and science >= 50)"
   ]
  },
  {
   "cell_type": "markdown",
   "id": "bbee1191",
   "metadata": {
    "ExecuteTime": {
     "end_time": "2022-08-28T17:57:23.123500Z",
     "start_time": "2022-08-28T17:57:23.114505Z"
    }
   },
   "source": [
    "### 심사문제: 합격 여부 출력하기"
   ]
  },
  {
   "cell_type": "code",
   "execution_count": null,
   "id": "e467edd3",
   "metadata": {
    "ExecuteTime": {
     "start_time": "2022-08-29T06:02:29.647Z"
    }
   },
   "outputs": [],
   "source": [
    "국어,영어,수학,과학=map(int,input().split())\n",
    "print(국어>=90 and 영어>80 and 수학>85 and 과학>=80)"
   ]
  },
  {
   "cell_type": "markdown",
   "id": "aca3442e",
   "metadata": {},
   "source": [
    "## 문자열 사용하기"
   ]
  },
  {
   "cell_type": "code",
   "execution_count": null,
   "id": "1dd2af50",
   "metadata": {
    "ExecuteTime": {
     "start_time": "2022-08-29T06:02:29.656Z"
    }
   },
   "outputs": [],
   "source": [
    "hello='Hello, world!'\n",
    "hello"
   ]
  },
  {
   "cell_type": "code",
   "execution_count": null,
   "id": "c12d2c73",
   "metadata": {
    "ExecuteTime": {
     "start_time": "2022-08-29T06:02:29.663Z"
    }
   },
   "outputs": [],
   "source": [
    "hello=\"Hello, world!\"\n",
    "hello"
   ]
  },
  {
   "cell_type": "code",
   "execution_count": null,
   "id": "7304bb6a",
   "metadata": {
    "ExecuteTime": {
     "start_time": "2022-08-29T06:02:29.671Z"
    }
   },
   "outputs": [],
   "source": [
    "hello='Hello, world!'\n",
    "print(hello)"
   ]
  },
  {
   "cell_type": "code",
   "execution_count": null,
   "id": "cfd02337",
   "metadata": {
    "ExecuteTime": {
     "start_time": "2022-08-29T06:02:29.680Z"
    }
   },
   "outputs": [],
   "source": [
    "print('Hello, world!')"
   ]
  },
  {
   "cell_type": "markdown",
   "id": "6cb0a18c",
   "metadata": {
    "ExecuteTime": {
     "end_time": "2022-08-28T18:13:02.860035Z",
     "start_time": "2022-08-28T18:13:02.843035Z"
    }
   },
   "source": [
    "### 여러 줄로 된 문자열 사용하기"
   ]
  },
  {
   "cell_type": "code",
   "execution_count": null,
   "id": "4cf86e18",
   "metadata": {
    "ExecuteTime": {
     "start_time": "2022-08-29T06:02:29.691Z"
    }
   },
   "outputs": [],
   "source": [
    "hello='''Hellow,world!\n",
    "안녕하세요.\n",
    "Python입니다.'''\n",
    "print(hello)"
   ]
  },
  {
   "cell_type": "markdown",
   "id": "c5978f91",
   "metadata": {},
   "source": [
    "### 문자열 안에 작은따옴표나 큰따옴표 포함하기\n",
    "\n",
    "* 문자열 안에 작은따옴표를 넣고 싶다면 문자열을 큰따옴표로 묶는다.\n",
    "    - 반대도 마찬가지다.\n",
    "    - 작은따옴표 안에 작은따옴표를 넣을 때는 \\(역슬래시)를 붙인다."
   ]
  },
  {
   "cell_type": "code",
   "execution_count": null,
   "id": "8f16ec5f",
   "metadata": {
    "ExecuteTime": {
     "start_time": "2022-08-29T06:02:29.714Z"
    }
   },
   "outputs": [],
   "source": [
    "'Python isn\\'t difficult'"
   ]
  },
  {
   "cell_type": "code",
   "execution_count": null,
   "id": "3fcd0279",
   "metadata": {
    "ExecuteTime": {
     "start_time": "2022-08-29T06:02:29.725Z"
    }
   },
   "outputs": [],
   "source": [
    "s=\"\"\"'Python' is a \"programming language\"\n",
    "that lets you work quickly\n",
    "and\n",
    "integrate systems more effectively\"\"\"\n",
    "\n",
    "print(s)"
   ]
  },
  {
   "cell_type": "markdown",
   "id": "b15d885b",
   "metadata": {
    "ExecuteTime": {
     "end_time": "2022-08-28T18:24:34.483732Z",
     "start_time": "2022-08-28T18:24:34.472733Z"
    }
   },
   "source": [
    "## 리스트와 튜플 사용하기"
   ]
  },
  {
   "cell_type": "markdown",
   "id": "dec917cc",
   "metadata": {
    "ExecuteTime": {
     "end_time": "2022-08-29T00:36:48.738148Z",
     "start_time": "2022-08-29T00:36:48.731150Z"
    }
   },
   "source": [
    "### 리스트 만들기\n",
    "\n",
    "* 변수에 값을 저장할 때 [](대괄호)로 묶어준다.\n",
    "* 값은 ,(콤마)로 구분한다.\n",
    "    - 리스트 = [값, 값, 값]\n",
    "    - 리스트 = list()\n",
    "* 리스트는 문자열, 정수, 실수, 불 등 모든 자료형을 저장할 수 있으며, 자료형을 섞어서 저장할 수 있다."
   ]
  },
  {
   "cell_type": "code",
   "execution_count": null,
   "id": "54f9c8eb",
   "metadata": {
    "ExecuteTime": {
     "start_time": "2022-08-29T06:02:29.736Z"
    }
   },
   "outputs": [],
   "source": [
    "a = [38, 21, 53 , 62, 19]\n",
    "a"
   ]
  },
  {
   "cell_type": "markdown",
   "id": "43c766fc",
   "metadata": {
    "ExecuteTime": {
     "end_time": "2022-08-29T00:41:27.168647Z",
     "start_time": "2022-08-29T00:41:27.147647Z"
    }
   },
   "source": [
    "#### range를 사용하여 리스트 만들기\n",
    "\n",
    "* range(시작, 끝)\\\n",
    "   range(10)              # 시작 생략 가능\\\n",
    "   range(0.10)             # 0 부터 9까지 생성 되고 10은 포함되지 않는다.\\\n",
    "* 리스트 = list(range(시작, 끝, 증가폭))"
   ]
  },
  {
   "cell_type": "code",
   "execution_count": null,
   "id": "be5a8512",
   "metadata": {
    "ExecuteTime": {
     "start_time": "2022-08-29T06:02:29.746Z"
    }
   },
   "outputs": [],
   "source": [
    "b=list(range(5,12))\n",
    "b"
   ]
  },
  {
   "cell_type": "markdown",
   "id": "9df4f37e",
   "metadata": {
    "ExecuteTime": {
     "end_time": "2022-08-29T00:44:53.358355Z",
     "start_time": "2022-08-29T00:44:53.346356Z"
    }
   },
   "source": [
    "### 튜플 사용하기\n",
    "\n",
    "* 리스트 처럼 요소를 일렬로 저장한다.\n",
    "* 안에 저장된 요소를 변경, 추가, 삭제를 할 수 없다.(읽기 전용)\n",
    "* 변수에 값을 저장할 때 ()(괄호)로 묶는다(괄호 생략가능). 값은 ,(콤마)로 구분한다. \n",
    "    - 튜플 = (값, 값, 값)\n",
    "    - 튜플 = 값, 값, 값"
   ]
  },
  {
   "cell_type": "markdown",
   "id": "a6db5d29",
   "metadata": {
    "ExecuteTime": {
     "end_time": "2022-08-29T00:49:21.591093Z",
     "start_time": "2022-08-29T00:49:21.582097Z"
    }
   },
   "source": [
    "#### 요소가 한 개 들어있는 튜플 만들기\n",
    "\n",
    "* 값 한 개를 괄호로 묶으면 튜플이 아니라 그냥 값이 된다.\n",
    "* 요소가 한 개인 튜플을 만들 때는 ()(괄호)안에 값 한 개를 넣고 ,(콤마)를 붙인다. 괄호로 묶지 않고 값 한 개에 ,를 붙여도 된다."
   ]
  },
  {
   "cell_type": "code",
   "execution_count": null,
   "id": "8ebca023",
   "metadata": {
    "ExecuteTime": {
     "start_time": "2022-08-29T06:02:29.758Z"
    }
   },
   "outputs": [],
   "source": [
    "(38, )"
   ]
  },
  {
   "cell_type": "code",
   "execution_count": null,
   "id": "e08d9d69",
   "metadata": {
    "ExecuteTime": {
     "start_time": "2022-08-29T06:02:29.766Z"
    }
   },
   "outputs": [],
   "source": [
    "38,"
   ]
  },
  {
   "cell_type": "markdown",
   "id": "f9f6f66a",
   "metadata": {},
   "source": [
    "#### range를 사용하여 튜플 만들기\n",
    "\n",
    "* 튜플 = tuple(range(횟수))\n",
    "* 튜플 = tuple(range(시작, 끝))\n",
    "* 튜플 = tuple(range(시작, 끝, 증가폭))"
   ]
  },
  {
   "cell_type": "markdown",
   "id": "a6c96ac2",
   "metadata": {},
   "source": [
    "### 연습문제: range로 리스트 만들기"
   ]
  },
  {
   "cell_type": "code",
   "execution_count": null,
   "id": "07cce1bc",
   "metadata": {
    "ExecuteTime": {
     "start_time": "2022-08-29T06:02:29.778Z"
    }
   },
   "outputs": [],
   "source": [
    "a=list(range(5,-10,-2))\n",
    "\n",
    "print(a)"
   ]
  },
  {
   "cell_type": "markdown",
   "id": "33fd7b83",
   "metadata": {
    "ExecuteTime": {
     "end_time": "2022-08-29T01:02:53.601661Z",
     "start_time": "2022-08-29T01:02:53.589663Z"
    }
   },
   "source": [
    "### 심사문제: 날씨와 시간 출력하기"
   ]
  },
  {
   "cell_type": "code",
   "execution_count": null,
   "id": "34cf6e81",
   "metadata": {
    "ExecuteTime": {
     "start_time": "2022-08-29T06:02:29.788Z"
    }
   },
   "outputs": [],
   "source": [
    "a=int(input())\n",
    "b=tuple(range(-10,10,a))\n",
    "print(b)"
   ]
  },
  {
   "cell_type": "markdown",
   "id": "fde851ae",
   "metadata": {
    "ExecuteTime": {
     "end_time": "2022-08-29T01:08:03.513875Z",
     "start_time": "2022-08-29T01:08:03.497876Z"
    }
   },
   "source": [
    "## 시퀀스 자료형 활용하기\n",
    "\n",
    "* 리스트, 튜플, range, 문자열처럼 값이 연속적으로 이어진 자료형을 시퀀스 자료형(sequence types)라고 부른다."
   ]
  },
  {
   "cell_type": "markdown",
   "id": "8e9aac23",
   "metadata": {
    "ExecuteTime": {
     "end_time": "2022-08-29T01:12:05.887910Z",
     "start_time": "2022-08-29T01:12:05.874374Z"
    }
   },
   "source": [
    "### 시퀀스 자료형의 공통 기능 사용하기"
   ]
  },
  {
   "cell_type": "markdown",
   "id": "c73cb65c",
   "metadata": {
    "ExecuteTime": {
     "end_time": "2022-08-29T01:12:20.615708Z",
     "start_time": "2022-08-29T01:12:20.598708Z"
    }
   },
   "source": [
    "#### 특정 값이 있는지 확인하기\n",
    "\n",
    "* 값 in 시퀀스객체"
   ]
  },
  {
   "cell_type": "code",
   "execution_count": null,
   "id": "c6a0caac",
   "metadata": {
    "ExecuteTime": {
     "start_time": "2022-08-29T06:02:29.804Z"
    }
   },
   "outputs": [],
   "source": [
    "a=[0, 10, 20, 30, 40, 50, 60, 70, 80, 90]\n",
    "30 in a"
   ]
  },
  {
   "cell_type": "markdown",
   "id": "a6b7e717",
   "metadata": {
    "ExecuteTime": {
     "end_time": "2022-08-29T01:15:07.826814Z",
     "start_time": "2022-08-29T01:15:07.805814Z"
    }
   },
   "source": [
    "#### 시퀀스 객체 연결하기\n",
    "\n",
    "* 시퀀스객체1 + 시퀀스객체2\n",
    "* 시퀀스 자료형 중에서 range는 + 연산자로 객체를 연결할 수 없다.\n",
    "    - 이 때는 리스트 또는 튜플로 만들어서 연결한다.\n",
    "* 문자열은 + 연산자로 여러 만자열을 연결할 수 있다.\n",
    "    - 문자열과 숫자 연결 시에는 숫자는 문자열로 변환한다. str(숫자)"
   ]
  },
  {
   "cell_type": "code",
   "execution_count": null,
   "id": "5fcc8859",
   "metadata": {
    "ExecuteTime": {
     "start_time": "2022-08-29T06:02:29.813Z"
    }
   },
   "outputs": [],
   "source": [
    "a=[0,10,20,30]\n",
    "b=[9,8,7,6]\n",
    "a+b"
   ]
  },
  {
   "cell_type": "markdown",
   "id": "2d9e94c1",
   "metadata": {},
   "source": [
    "### 시퀀스 객체의 요소 개수 구하기"
   ]
  },
  {
   "cell_type": "markdown",
   "id": "be7c38d7",
   "metadata": {
    "ExecuteTime": {
     "end_time": "2022-08-29T01:18:45.759481Z",
     "start_time": "2022-08-29T01:18:45.741483Z"
    }
   },
   "source": [
    "#### 리스트와 튜플의 요소 개수 구하기"
   ]
  },
  {
   "cell_type": "code",
   "execution_count": null,
   "id": "e1f76e7e",
   "metadata": {
    "ExecuteTime": {
     "start_time": "2022-08-29T06:02:29.830Z"
    }
   },
   "outputs": [],
   "source": [
    "a = [0, 10, 20, 30, 40, 50, 60, 70, 80, 90]\n",
    "len(a)"
   ]
  },
  {
   "cell_type": "markdown",
   "id": "d97d2342",
   "metadata": {
    "ExecuteTime": {
     "end_time": "2022-08-29T01:19:23.268429Z",
     "start_time": "2022-08-29T01:19:23.252432Z"
    }
   },
   "source": [
    "#### range의 숫자 생성 개수 구하기"
   ]
  },
  {
   "cell_type": "code",
   "execution_count": null,
   "id": "096d7134",
   "metadata": {
    "ExecuteTime": {
     "start_time": "2022-08-29T06:02:29.843Z"
    }
   },
   "outputs": [],
   "source": [
    "len(range(0,10,2))"
   ]
  },
  {
   "cell_type": "markdown",
   "id": "5bb0dc45",
   "metadata": {},
   "source": [
    "#### 문자열의 길이 구하기\n",
    "\n",
    "* 문자열의 길이는 공백까지 포함한다.\n",
    "    - 단, 문자열을 묶은 따옴표는 제외(따옴표는 문자열을 표현하는 문법)\n",
    "        - 단, 문자열 안에 포함된 작은따옴표, 큰따옴표는 포함"
   ]
  },
  {
   "cell_type": "markdown",
   "id": "20eeba85",
   "metadata": {
    "ExecuteTime": {
     "end_time": "2022-08-29T01:21:20.265865Z",
     "start_time": "2022-08-29T01:21:20.253869Z"
    }
   },
   "source": [
    "### 인덱스 사용하기\n",
    "\n",
    "* 시퀀스 객체의 각 요소는 순서가 정해져 있으며, 이 순서를 인덱스라 한다.\n",
    "    - 시퀀스객체[인덱스]\n",
    "* __getitem__ 메서드를 호출하여 요소가져오기"
   ]
  },
  {
   "cell_type": "code",
   "execution_count": null,
   "id": "a6fc7d2f",
   "metadata": {
    "ExecuteTime": {
     "start_time": "2022-08-29T06:02:29.857Z"
    }
   },
   "outputs": [],
   "source": [
    "a = [38, 21, 53, 62, 19]\n",
    "a[0]"
   ]
  },
  {
   "cell_type": "code",
   "execution_count": null,
   "id": "12291252",
   "metadata": {
    "ExecuteTime": {
     "start_time": "2022-08-29T06:02:29.866Z"
    }
   },
   "outputs": [],
   "source": [
    "r=range(0,10,2)\n",
    "r[2]"
   ]
  },
  {
   "cell_type": "code",
   "execution_count": null,
   "id": "809338d3",
   "metadata": {
    "ExecuteTime": {
     "start_time": "2022-08-29T06:02:29.874Z"
    },
    "scrolled": true
   },
   "outputs": [],
   "source": [
    "a = [38, 21, 53, 62, 19]\n",
    "a          # 시퀀스 객체에 인덱스를 지정하지 않으면 시퀀스 객체 전체를 뜻함"
   ]
  },
  {
   "cell_type": "code",
   "execution_count": null,
   "id": "afc3cab5",
   "metadata": {
    "ExecuteTime": {
     "start_time": "2022-08-29T06:02:29.882Z"
    }
   },
   "outputs": [],
   "source": [
    "a = [38, 21, 53, 62, 19]\n",
    "a.__getitem__(1)"
   ]
  },
  {
   "cell_type": "markdown",
   "id": "0f8e3caf",
   "metadata": {},
   "source": [
    "#### 음수 인덱스 지정하기"
   ]
  },
  {
   "cell_type": "code",
   "execution_count": null,
   "id": "314fa5b4",
   "metadata": {
    "ExecuteTime": {
     "start_time": "2022-08-29T06:02:29.892Z"
    }
   },
   "outputs": [],
   "source": [
    "a = [38, 21, 53, 62, 19]\n",
    "a[-1]                   # 리스트 뒤에서 첫 번째(인덱스 -1) 요소 출력"
   ]
  },
  {
   "cell_type": "code",
   "execution_count": null,
   "id": "8700a1ae",
   "metadata": {
    "ExecuteTime": {
     "start_time": "2022-08-29T06:02:29.900Z"
    }
   },
   "outputs": [],
   "source": [
    "a = [38, 21, 53, 62, 19]\n",
    "a[-5]                   # 리스트 뒤에서 첫 번째(인덱스 -5) 요소 출력"
   ]
  },
  {
   "cell_type": "markdown",
   "id": "2092895d",
   "metadata": {},
   "source": [
    "#### 요소에 값 할당하기\n",
    "\n",
    "* 시퀀스객체[인덱스] = 값\n",
    "    - 튜플, range, 문자열은 안에 저장된 요소를 변경할 수 없다."
   ]
  },
  {
   "cell_type": "code",
   "execution_count": null,
   "id": "bb35edec",
   "metadata": {
    "ExecuteTime": {
     "start_time": "2022-08-29T06:02:29.910Z"
    }
   },
   "outputs": [],
   "source": [
    "a = [0, 0, 0, 0, 0]\n",
    "a[0] = 38\n",
    "a[1] = 21\n",
    "a[2] = 53\n",
    "a[3] = 62\n",
    "a[4] = 19\n",
    "\n",
    "a"
   ]
  },
  {
   "cell_type": "code",
   "execution_count": null,
   "id": "20ad9368",
   "metadata": {
    "ExecuteTime": {
     "start_time": "2022-08-29T06:02:29.917Z"
    }
   },
   "outputs": [],
   "source": [
    "a[0]"
   ]
  },
  {
   "cell_type": "code",
   "execution_count": null,
   "id": "a5b41446",
   "metadata": {
    "ExecuteTime": {
     "start_time": "2022-08-29T06:02:29.925Z"
    }
   },
   "outputs": [],
   "source": [
    "a[4]"
   ]
  },
  {
   "cell_type": "markdown",
   "id": "94208985",
   "metadata": {},
   "source": [
    "#### del로 요소 삭제하기\n",
    "\n",
    "* del 시퀀스객체[인덱스]"
   ]
  },
  {
   "cell_type": "code",
   "execution_count": null,
   "id": "3d917f40",
   "metadata": {
    "ExecuteTime": {
     "start_time": "2022-08-29T06:02:29.934Z"
    }
   },
   "outputs": [],
   "source": [
    "a = [38, 21, 53, 62, 19]\n",
    "del a[2]\n",
    "a"
   ]
  },
  {
   "cell_type": "markdown",
   "id": "ed2b6701",
   "metadata": {
    "ExecuteTime": {
     "end_time": "2022-08-29T01:31:02.755608Z",
     "start_time": "2022-08-29T01:31:02.741607Z"
    }
   },
   "source": [
    "### 슬라이스 사용하기\n",
    "\n",
    "* 시퀀스 객체의 일부를 잘라낸다.\n",
    "    - 시퀀스객체[시작인덱스:끝인덱스]\n",
    "    - 시퀀스객체[시작인덱스:끝인덱스:인덱스증가폭]\n",
    "    - 시퀀스객체[:끝인덱스]\n",
    "    - 시퀀스객체[시작인덱스:]\n",
    "    - 시퀀스객체[:]\n",
    "    - 시퀀스객체[:끝인덱스:증가폭]\n",
    "    - 시퀀스객체[시작인덱스::증가폭]\n",
    "    - 시퀀스객체[::증가폭]\n",
    "    - 시퀀스객체[::]"
   ]
  },
  {
   "cell_type": "code",
   "execution_count": null,
   "id": "bf248b35",
   "metadata": {
    "ExecuteTime": {
     "start_time": "2022-08-29T06:02:29.944Z"
    }
   },
   "outputs": [],
   "source": [
    "a = [0, 10, 20, 30, 40, 50, 60, 70, 80, 90]\n",
    "a[0:4]   \n",
    "\n",
    "# 인덱스 0부터 3까지 잘라서 새 리스트를 만듦\n",
    "# 끝 인덱스는 실제로 가져오려는 인덱스보다 1을 더 크게 지정 해야한다."
   ]
  },
  {
   "cell_type": "markdown",
   "id": "5594d298",
   "metadata": {
    "ExecuteTime": {
     "end_time": "2022-08-29T01:38:47.675175Z",
     "start_time": "2022-08-29T01:38:47.662175Z"
    }
   },
   "source": [
    "#### 슬라이스에 요소 할당하기\n",
    "\n",
    "* 시퀀스객체[시작인덱스:끝인덱스] = 시퀀스객체\n",
    "    - 슬라이스 범위와 할당할 리스트의 요소 개수가 맞지 않아도 됨.\n",
    "* 시퀀스객체[시작인덱스:끝인덱스:인덱스증가폭] = 시퀀스객체\n",
    "    - 슬라이스 범위와 할당할 리스트의 요소 개수가 맞아야됨."
   ]
  },
  {
   "cell_type": "code",
   "execution_count": null,
   "id": "7fefc1b7",
   "metadata": {
    "ExecuteTime": {
     "start_time": "2022-08-29T06:02:29.954Z"
    }
   },
   "outputs": [],
   "source": [
    "a = [0, 10, 20, 30, 40, 50, 60, 70, 80, 90]\n",
    "a[2:5] = ['a','b','c']\n",
    "a"
   ]
  },
  {
   "cell_type": "code",
   "execution_count": null,
   "id": "02a45973",
   "metadata": {
    "ExecuteTime": {
     "start_time": "2022-08-29T06:02:29.963Z"
    }
   },
   "outputs": [],
   "source": [
    "a = [0, 10, 20, 30, 40, 50, 60, 70, 80, 90]\n",
    "a[2:5] = ['a']    # 인덱스 2부터 4까지에 값 1개를 할당하여 요소의 개수가 줄어듦\n",
    "a"
   ]
  },
  {
   "cell_type": "code",
   "execution_count": null,
   "id": "b7829f96",
   "metadata": {
    "ExecuteTime": {
     "start_time": "2022-08-29T06:02:29.972Z"
    }
   },
   "outputs": [],
   "source": [
    "a = [0, 10, 20, 30, 40, 50, 60, 70, 80, 90]\n",
    "a[2:8:2] = ['a','b','c']\n",
    "a"
   ]
  },
  {
   "cell_type": "markdown",
   "id": "67f408a6",
   "metadata": {
    "ExecuteTime": {
     "end_time": "2022-08-29T01:44:00.197862Z",
     "start_time": "2022-08-29T01:44:00.179879Z"
    }
   },
   "source": [
    "#### del로 슬라이스 삭제하기\n",
    "\n",
    "* del 시퀀스객체[시작인덱스:끝인덱스]\n",
    "* 튜플, range, 문자열은 del로 슬라이스를 삭제할 수 없다."
   ]
  },
  {
   "cell_type": "markdown",
   "id": "53afe3b5",
   "metadata": {},
   "source": [
    "### 연습문제: 최근 3년간 인구 출력하기"
   ]
  },
  {
   "cell_type": "code",
   "execution_count": null,
   "id": "4f2b4be3",
   "metadata": {
    "ExecuteTime": {
     "start_time": "2022-08-29T06:02:29.984Z"
    }
   },
   "outputs": [],
   "source": [
    "year = [2011, 2012, 2013, 2014, 2015, 2016, 2017, 2018]\n",
    "population = [10249679, 10195318, 10143645, 10103233, 10022181, 9930616, 9857426, 9838892]\n",
    "\n",
    "print(year[-3:])\n",
    "print(population[-3:])"
   ]
  },
  {
   "cell_type": "markdown",
   "id": "0bc9730d",
   "metadata": {
    "ExecuteTime": {
     "end_time": "2022-08-29T01:52:42.619263Z",
     "start_time": "2022-08-29T01:52:42.611264Z"
    }
   },
   "source": [
    "### 연습문제: 인덱스가 홀수인 요소 출력하기"
   ]
  },
  {
   "cell_type": "code",
   "execution_count": null,
   "id": "46f0e56b",
   "metadata": {
    "ExecuteTime": {
     "start_time": "2022-08-29T06:02:29.995Z"
    }
   },
   "outputs": [],
   "source": [
    "n = -32, 75, 97, -10, 9, 32, 4, -15, 0, 76, 14, 2\n",
    "\n",
    "print(n[1::2])"
   ]
  },
  {
   "cell_type": "markdown",
   "id": "f2ffaffb",
   "metadata": {},
   "source": [
    "### 심사문제: 리스트의 마지막 부분 삭제하기"
   ]
  },
  {
   "cell_type": "code",
   "execution_count": null,
   "id": "b289c8b4",
   "metadata": {
    "ExecuteTime": {
     "start_time": "2022-08-29T06:02:30.006Z"
    }
   },
   "outputs": [],
   "source": [
    "x = input().split()\n",
    "\n",
    "del x[-5::]\n",
    "print(tuple(x))"
   ]
  },
  {
   "cell_type": "markdown",
   "id": "c61b2386",
   "metadata": {
    "ExecuteTime": {
     "end_time": "2022-08-29T01:59:16.928917Z",
     "start_time": "2022-08-29T01:59:16.922901Z"
    }
   },
   "source": [
    "### 심사문제: 문자열에서 인덱스가 홀수인 문자와 짝수인 문자 연결하기"
   ]
  },
  {
   "cell_type": "code",
   "execution_count": null,
   "id": "f03f3df9",
   "metadata": {
    "ExecuteTime": {
     "start_time": "2022-08-29T06:02:30.018Z"
    }
   },
   "outputs": [],
   "source": [
    "a=input()\n",
    "b=input()\n",
    "print(a[1::2]+b[0::2])"
   ]
  },
  {
   "cell_type": "markdown",
   "id": "44904f8b",
   "metadata": {
    "ExecuteTime": {
     "end_time": "2022-08-29T02:04:00.988367Z",
     "start_time": "2022-08-29T02:04:00.975372Z"
    }
   },
   "source": [
    "## 딕셔너리 사용하기"
   ]
  },
  {
   "cell_type": "markdown",
   "id": "73132a50",
   "metadata": {
    "ExecuteTime": {
     "end_time": "2022-08-29T02:15:53.610228Z",
     "start_time": "2022-08-29T02:15:53.589233Z"
    }
   },
   "source": [
    "### 딕셔너리 만들기\n",
    "\n",
    "* 딕셔너리는 {}(중괄호)안에 키:값 형식으로 저장되며, 각 키와 값은 ,(콤마)로 구분\n",
    "    - 딕셔너리 = {키1:값1, 키2:값2}\n",
    "    - 키 이름이 중복되면 가장 뒤에 있는 값만 사용\n",
    "    - 딕셔너리 = dict(키1=값1, 키2=값2)\n",
    "    - 딕셔너리 = dict(zip([키1, 키2], [값1, 값2]))\n",
    "    - 딕셔너리 = dict([(키1, 값1), (키2, 값2)])\n",
    "    - 딕셔너리 = dict(zip(['키1','키2'],[값1,값2]))\n",
    "    - 딕셔너리 = dict({키1: 값1, 키2: 값2})\n",
    "        - dic에서 키에 ''(작은따옴표)나 \"\"(큰따옴표)를 사용하지 않아야 한다.\n",
    "        - 키는 딕셔너리를 만들고 나면 문자열로 바뀐다.\n",
    "* 딕셔너리의 키는 문자열, 정수 등과 불도 사용가능하고 자료형을 섞어서 사용해도 된다.\n",
    "    - 키에는 리스트와 딕셔너리 사용 불가\n",
    "* 딕셔너리의 값은 리스트, 딕셔너리 등을 포함하여 모든 자료형 사용가능"
   ]
  },
  {
   "cell_type": "code",
   "execution_count": null,
   "id": "bf815dc5",
   "metadata": {
    "ExecuteTime": {
     "start_time": "2022-08-29T06:02:30.033Z"
    }
   },
   "outputs": [],
   "source": [
    "lux = {'health': 490, 'mana': 334, 'melee': 550, 'armor': 18.72}\n",
    "lux"
   ]
  },
  {
   "cell_type": "code",
   "execution_count": null,
   "id": "974fefe5",
   "metadata": {
    "ExecuteTime": {
     "start_time": "2022-08-29T06:02:30.041Z"
    }
   },
   "outputs": [],
   "source": [
    "lux = {'health': 490, 'health': 800, 'mana': 334, 'melee': 550, 'armor': 18.72}\n",
    "lux['health']"
   ]
  },
  {
   "cell_type": "code",
   "execution_count": null,
   "id": "53764c6b",
   "metadata": {
    "ExecuteTime": {
     "start_time": "2022-08-29T06:02:30.049Z"
    }
   },
   "outputs": [],
   "source": [
    "lux"
   ]
  },
  {
   "cell_type": "markdown",
   "id": "3338db5d",
   "metadata": {},
   "source": [
    "### 딕셔너리의 키에 접근하고 값 할당하기\n",
    "\n",
    "* 딕셔너리['키']\n",
    "* 딕셔너리에 없는 키에 값을 할당하면 해당 키가 추가되고 값이 할당된다."
   ]
  },
  {
   "cell_type": "code",
   "execution_count": null,
   "id": "a349b612",
   "metadata": {
    "ExecuteTime": {
     "start_time": "2022-08-29T06:02:30.059Z"
    }
   },
   "outputs": [],
   "source": [
    "lux = {'health': 490, 'mana': 334, 'melee': 550, 'armor': 18.72}\n",
    "lux['health']"
   ]
  },
  {
   "cell_type": "code",
   "execution_count": null,
   "id": "3b4b9af8",
   "metadata": {
    "ExecuteTime": {
     "start_time": "2022-08-29T06:02:30.067Z"
    }
   },
   "outputs": [],
   "source": [
    "lux = {'health': 490, 'mana': 334, 'melee': 550, 'armor': 18.72}\n",
    "lux            #딕셔너리에 키를 지정하지 않으면 딕셔너리 전체를 뜻함"
   ]
  },
  {
   "cell_type": "markdown",
   "id": "27bbce99",
   "metadata": {},
   "source": [
    "### 심사문제: 딕셔너리에 게임 캐릭터 능력치 저장하기"
   ]
  },
  {
   "cell_type": "code",
   "execution_count": null,
   "id": "643ff37b",
   "metadata": {
    "ExecuteTime": {
     "start_time": "2022-08-29T06:02:30.076Z"
    },
    "scrolled": false
   },
   "outputs": [],
   "source": [
    "a=input().split()\n",
    "b=map(float,input().split())\n",
    "c=dict(zip(a,b))\n",
    "print(c)"
   ]
  },
  {
   "cell_type": "markdown",
   "id": "68f439b2",
   "metadata": {},
   "source": [
    "## if 조건문으로 특정 조건일 때 코드 실행하기"
   ]
  },
  {
   "cell_type": "markdown",
   "id": "a49d7b6b",
   "metadata": {},
   "source": [
    "### if 조건문 사용하기\n",
    "\n",
    "* 변수 할당, if 조건문 (끝에 :(콜론)), 조건식이 만족할 때 실행할 코드(들여쓰기)\n",
    "* if 조건문의 조건식에는 =(할당 연산자)를 사용할 수 없다.\n",
    "    - 나머지 ' >, is, not, !='  연산자는 사용할 수 있다."
   ]
  },
  {
   "cell_type": "markdown",
   "id": "849db542",
   "metadata": {
    "ExecuteTime": {
     "end_time": "2022-08-29T02:52:58.008837Z",
     "start_time": "2022-08-29T02:52:57.999839Z"
    }
   },
   "source": [
    "### if 조건문과 들여쓰기"
   ]
  },
  {
   "cell_type": "code",
   "execution_count": null,
   "id": "4f7ed9a6",
   "metadata": {
    "ExecuteTime": {
     "start_time": "2022-08-29T06:02:30.089Z"
    }
   },
   "outputs": [],
   "source": [
    "x=10\n",
    "\n",
    "if x==10:\n",
    "    print('x에 들어있는 숫자는')\n",
    "    print('10입니다.')"
   ]
  },
  {
   "cell_type": "markdown",
   "id": "d7d274bb",
   "metadata": {
    "ExecuteTime": {
     "end_time": "2022-08-29T02:54:27.925821Z",
     "start_time": "2022-08-29T02:54:27.909820Z"
    }
   },
   "source": [
    "### 중첩 if 조건문 사용하기"
   ]
  },
  {
   "cell_type": "code",
   "execution_count": null,
   "id": "642dfe20",
   "metadata": {
    "ExecuteTime": {
     "start_time": "2022-08-29T06:02:30.104Z"
    }
   },
   "outputs": [],
   "source": [
    "x=15\n",
    "if x>= 10:\n",
    "    print('10 이상입니다.')\n",
    "    \n",
    "    if x==15:\n",
    "        print('15입니다.')\n",
    "    if x==20:\n",
    "        print('20입니다')"
   ]
  },
  {
   "cell_type": "markdown",
   "id": "52e71ed7",
   "metadata": {
    "ExecuteTime": {
     "end_time": "2022-08-29T02:57:03.479050Z",
     "start_time": "2022-08-29T02:57:03.461054Z"
    }
   },
   "source": [
    "### 사용자가 입력한 값에 if 조건문 사용하기"
   ]
  },
  {
   "cell_type": "code",
   "execution_count": null,
   "id": "80255fdb",
   "metadata": {
    "ExecuteTime": {
     "start_time": "2022-08-29T06:02:30.120Z"
    }
   },
   "outputs": [],
   "source": [
    "x = int(input())\n",
    "\n",
    "if x==10:\n",
    "    print('10입니다.')\n",
    "if x==20:\n",
    "    print('20입니다.')"
   ]
  },
  {
   "cell_type": "markdown",
   "id": "702d73e9",
   "metadata": {
    "ExecuteTime": {
     "end_time": "2022-08-29T03:01:26.640527Z",
     "start_time": "2022-08-29T03:01:26.635526Z"
    }
   },
   "source": [
    "### 심사문제: 온라인 할인 쿠폰 시스템 만들기"
   ]
  },
  {
   "cell_type": "code",
   "execution_count": null,
   "id": "dc3ac405",
   "metadata": {
    "ExecuteTime": {
     "start_time": "2022-08-29T06:02:30.129Z"
    }
   },
   "outputs": [],
   "source": [
    "a=int(input())\n",
    "b=input()\n",
    "if b == 'Cash3000':\n",
    "    a-=3000\n",
    "if b == 'Cash5000':\n",
    "    a-=5000\n",
    "print(a)"
   ]
  },
  {
   "cell_type": "markdown",
   "id": "44eb3faf",
   "metadata": {},
   "source": [
    "## else를 사용하여 두 방향으로 분기하기\n",
    "\n",
    "* if 광고 전화인가?:\\\n",
    "    전화를 끊고, 차단 목록에 등록한다.\\\n",
    "  else:\\\n",
    "    계속 통화한다."
   ]
  },
  {
   "cell_type": "markdown",
   "id": "02fe2805",
   "metadata": {},
   "source": [
    "### else 사용하기\n",
    "\n",
    "* else는 if 조건문 뒤에 오며 단독으로 사용할 수 없다.\n",
    "* if와 마찬가지로 else도 :(콜론)을 붙이며 다음 줄에 실행할 코드가 온다.\n",
    "* 조건식이 참(True)이면 if의 코드(if 본문)가 실행되고,\\\n",
    "  거짓(False)이면 else의 코드(else 본문)가 실행된다."
   ]
  },
  {
   "cell_type": "code",
   "execution_count": null,
   "id": "da270b21",
   "metadata": {
    "ExecuteTime": {
     "start_time": "2022-08-29T06:02:30.142Z"
    }
   },
   "outputs": [],
   "source": [
    "x=5\n",
    "if x ==10:\n",
    "    print('10입니다.')\n",
    "else:\n",
    "    print('10이 아닙니다.')\n"
   ]
  },
  {
   "cell_type": "markdown",
   "id": "b65c9717",
   "metadata": {},
   "source": [
    "### else와 들여쓰기"
   ]
  },
  {
   "cell_type": "markdown",
   "id": "3cf6a48a",
   "metadata": {
    "ExecuteTime": {
     "end_time": "2022-08-29T03:16:03.199474Z",
     "start_time": "2022-08-29T03:16:03.181485Z"
    }
   },
   "source": [
    "### if 조건문의 동작 방식 알아보기\n",
    "\n",
    "* Flase 로 취급하는 것들\n",
    "    - None\n",
    "    - False\n",
    "    - 0 인 숫자들: 0, 0.0, 0j\n",
    "    - 비어 있는 문자열, 리스트, 튜플, 딕셔너리, 세트: \n",
    "        - '', \"\", [], (), {}, set()"
   ]
  },
  {
   "cell_type": "markdown",
   "id": "81bc4f3e",
   "metadata": {
    "ExecuteTime": {
     "end_time": "2022-08-29T03:19:21.390668Z",
     "start_time": "2022-08-29T03:19:21.378668Z"
    }
   },
   "source": [
    "### 조건식을 여러 개 지정하기"
   ]
  },
  {
   "cell_type": "markdown",
   "id": "bd110762",
   "metadata": {},
   "source": [
    "### 연습문제: 합격 여부 판단하기"
   ]
  },
  {
   "cell_type": "code",
   "execution_count": null,
   "id": "57e21c42",
   "metadata": {
    "ExecuteTime": {
     "start_time": "2022-08-29T06:02:30.159Z"
    }
   },
   "outputs": [],
   "source": [
    "written_test = 75\n",
    "coding_test = True\n",
    "\n",
    "if written_test >= 80 and coding_test == True:\n",
    "    print('합격')\n",
    "else:\n",
    "    print('불합격')"
   ]
  },
  {
   "cell_type": "markdown",
   "id": "ce32c5c3",
   "metadata": {},
   "source": [
    "### 심사문제: 합격 여부 판단하기"
   ]
  },
  {
   "cell_type": "code",
   "execution_count": null,
   "id": "1536ad66",
   "metadata": {
    "ExecuteTime": {
     "start_time": "2022-08-29T06:02:30.176Z"
    }
   },
   "outputs": [],
   "source": [
    "국어, 영어, 수학, 과학 = map(int,input().split())\n",
    "if 0 > 국어 or 국어 > 100 or 0 > 영어 or 영어 > 100 or 0 > 수학 or 수학 > 100 or 0 > 과학 or 과학 > 100:\n",
    "    print('잘못된 점수')\n",
    "    \n",
    "else:\n",
    "    if (국어+영어+수학+과학) / 4 >= 80:\n",
    "        print('합격')\n",
    "    else:\n",
    "        print('불합격')"
   ]
  },
  {
   "cell_type": "markdown",
   "id": "68d96be5",
   "metadata": {},
   "source": [
    "## elif를 사용하여 여러 방향으로 분기하기\n",
    "\n",
    "* if 콜라 버튼을 눌렀다면:\\\n",
    "    콜라를 내보냄\\\n",
    "  elif 사이다 버튼을 눌렀다면:\\\n",
    "    사이다를 내보냄\\\n",
    "  elif 환타 버튼을 눌렀다면:\\\n",
    "    환타를 내보냄:\\\n",
    "  else:\\\n",
    "    제공하지 않는 메뉴"
   ]
  },
  {
   "cell_type": "code",
   "execution_count": null,
   "id": "5ca85a53",
   "metadata": {
    "ExecuteTime": {
     "start_time": "2022-08-29T06:02:30.188Z"
    }
   },
   "outputs": [],
   "source": [
    "x = 30\n",
    " \n",
    "if x == 10:             # x가 10일 때\n",
    "    print('10입니다.')\n",
    "elif x == 20:           # x가 20일 때\n",
    "    print('20입니다.')\n",
    "else:                   # 앞의 조건식에 모두 만족하지 않을 때\n",
    "    print('10도 20도 아닙니다.')"
   ]
  },
  {
   "cell_type": "markdown",
   "id": "1a34d7ce",
   "metadata": {},
   "source": [
    "### 심사문제: 교통카드 시스템 만들기"
   ]
  },
  {
   "cell_type": "code",
   "execution_count": null,
   "id": "c1c27594",
   "metadata": {
    "ExecuteTime": {
     "start_time": "2022-08-29T06:02:30.200Z"
    }
   },
   "outputs": [],
   "source": [
    "age = int(input())\n",
    "balance = 9000\n",
    "\n",
    "if 7 <= age <= 12:\n",
    "    balance-=650\n",
    "elif 13 <= age <= 18:\n",
    "    balance-=1050\n",
    "elif age >= 19:\n",
    "    balance-=1250\n",
    "    \n",
    "print(balance)"
   ]
  },
  {
   "cell_type": "markdown",
   "id": "b46f4fe3",
   "metadata": {},
   "source": [
    "## for  반복문으로 Hello, world! 100번 출력하기"
   ]
  },
  {
   "cell_type": "markdown",
   "id": "d8ecd69b",
   "metadata": {},
   "source": [
    "### for와 range 사용하기\n",
    "\n",
    "\n",
    "* for 변수 in ragne(횟수):\n",
    "       반복할 코드"
   ]
  },
  {
   "cell_type": "code",
   "execution_count": null,
   "id": "c9fa4b7c",
   "metadata": {
    "ExecuteTime": {
     "start_time": "2022-08-29T06:02:30.214Z"
    }
   },
   "outputs": [],
   "source": [
    "for i in range(5):\n",
    "    print('Hello, world!')"
   ]
  },
  {
   "cell_type": "code",
   "execution_count": null,
   "id": "aaa6307d",
   "metadata": {
    "ExecuteTime": {
     "start_time": "2022-08-29T06:02:30.222Z"
    }
   },
   "outputs": [],
   "source": [
    "for i in range(5):\n",
    "    print('Hello, world!',i)"
   ]
  },
  {
   "cell_type": "markdown",
   "id": "ed533477",
   "metadata": {
    "ExecuteTime": {
     "end_time": "2022-08-29T03:52:50.879587Z",
     "start_time": "2022-08-29T03:52:50.868584Z"
    }
   },
   "source": [
    "### for 와 range 응용하기\n",
    "\n",
    "* for 변수 in range(횟수)\n",
    "* for 변수 in range(시작,끝)\n",
    "* for 변수 in range(시작,끝,증가폭)\n",
    "    - 반복문 변수 i를 변경해도 영향을 미치지 못 한다.\n",
    "* for 에 range 대신 리스트, 튜플, 문자열 등 시퀀스 객체로 반복할 수 있다."
   ]
  },
  {
   "cell_type": "code",
   "execution_count": null,
   "id": "0859b601",
   "metadata": {
    "ExecuteTime": {
     "start_time": "2022-08-29T06:02:30.232Z"
    }
   },
   "outputs": [],
   "source": [
    "a=[10, 20, 30, 40, 50]\n",
    "for i in a:\n",
    "    print(i)"
   ]
  },
  {
   "cell_type": "code",
   "execution_count": null,
   "id": "5f3ae594",
   "metadata": {
    "ExecuteTime": {
     "start_time": "2022-08-29T06:02:30.241Z"
    }
   },
   "outputs": [],
   "source": [
    "fruits = ('apple', 'orange', 'grape')\n",
    "for fruit in fruits:\n",
    "    print(fruit)"
   ]
  },
  {
   "cell_type": "code",
   "execution_count": null,
   "id": "0cee6649",
   "metadata": {
    "ExecuteTime": {
     "start_time": "2022-08-29T06:02:30.249Z"
    }
   },
   "outputs": [],
   "source": [
    "for letter in 'Python':\n",
    "    print(letter, end=' ')"
   ]
  },
  {
   "cell_type": "markdown",
   "id": "40e46aa4",
   "metadata": {
    "ExecuteTime": {
     "end_time": "2022-08-29T05:03:22.314969Z",
     "start_time": "2022-08-29T05:03:22.310968Z"
    }
   },
   "source": [
    "### 심사문제: 구구단 출력하기"
   ]
  },
  {
   "cell_type": "code",
   "execution_count": null,
   "id": "722a13b5",
   "metadata": {
    "ExecuteTime": {
     "start_time": "2022-08-29T06:02:30.260Z"
    }
   },
   "outputs": [],
   "source": [
    "a=int(input())\n",
    "for i in range(1,10):\n",
    "    print(a,'*',i,'=',a*i)"
   ]
  },
  {
   "cell_type": "markdown",
   "id": "e03a2bf6",
   "metadata": {
    "ExecuteTime": {
     "end_time": "2022-08-29T05:13:56.240904Z",
     "start_time": "2022-08-29T05:13:56.235927Z"
    }
   },
   "source": [
    "## while 반복문으로 Hello, world! 100번 출력하기\n",
    "\n",
    "* while 반복문은 조건식으로만 동작하며 반복할 코드 안에 조건식에 영향을 주는 변화식이 들어간다.\n",
    "    - i = 0                          \n",
    "      while i < 100:             \n",
    "          print('Hello, world!')  \n",
    "          i =+1                   \n",
    " #초기식\\\n",
    " #조건식:\\\n",
    " #반복할 코드\\\n",
    " #변화식"
   ]
  },
  {
   "cell_type": "markdown",
   "id": "ae846a83",
   "metadata": {},
   "source": [
    "### while 반복문 사용하기"
   ]
  },
  {
   "cell_type": "code",
   "execution_count": null,
   "id": "d326caa7",
   "metadata": {
    "ExecuteTime": {
     "start_time": "2022-08-29T06:02:30.272Z"
    }
   },
   "outputs": [],
   "source": [
    "i=1\n",
    "while i <= 5:\n",
    "    print('Hello, world!')\n",
    "    i +=1"
   ]
  },
  {
   "cell_type": "code",
   "execution_count": null,
   "id": "f2a72443",
   "metadata": {
    "ExecuteTime": {
     "start_time": "2022-08-29T06:02:30.280Z"
    }
   },
   "outputs": [],
   "source": [
    "i=5\n",
    "while i > 0:\n",
    "    print('Hello, world!',i)\n",
    "    i -= 1"
   ]
  },
  {
   "cell_type": "markdown",
   "id": "8e33cfdb",
   "metadata": {},
   "source": [
    "### 반복 횟수가 정해지지 않은 경우\n",
    "\n",
    "* 난수(random number): 특정 주기로 반복되지 않으며 규칙 없는 무작위 나열\n",
    "* randint 함수는 난수를 생성할 범위를 지정(범위에 지정한 숫자도 난수에 포함)"
   ]
  },
  {
   "cell_type": "code",
   "execution_count": null,
   "id": "e57727de",
   "metadata": {
    "ExecuteTime": {
     "start_time": "2022-08-29T06:02:30.291Z"
    }
   },
   "outputs": [],
   "source": [
    "import random"
   ]
  },
  {
   "cell_type": "code",
   "execution_count": null,
   "id": "4e7be60d",
   "metadata": {
    "ExecuteTime": {
     "start_time": "2022-08-29T06:02:30.299Z"
    }
   },
   "outputs": [],
   "source": [
    "random.random()"
   ]
  },
  {
   "cell_type": "code",
   "execution_count": null,
   "id": "17fdb721",
   "metadata": {
    "ExecuteTime": {
     "start_time": "2022-08-29T06:02:30.307Z"
    }
   },
   "outputs": [],
   "source": [
    "random.randint(1,6)"
   ]
  },
  {
   "cell_type": "code",
   "execution_count": null,
   "id": "30fa7348",
   "metadata": {
    "ExecuteTime": {
     "start_time": "2022-08-29T06:02:30.315Z"
    }
   },
   "outputs": [],
   "source": [
    "import random\n",
    "\n",
    "i = 0\n",
    "while i !=3:\n",
    "    i = random.randint(1,6)\n",
    "    print(i)"
   ]
  },
  {
   "cell_type": "code",
   "execution_count": null,
   "id": "60af3c42",
   "metadata": {
    "ExecuteTime": {
     "start_time": "2022-08-29T06:02:30.324Z"
    }
   },
   "outputs": [],
   "source": [
    "dice = [1, 2, 3, 4, 5, 6]\n",
    "random.choice(dice)"
   ]
  },
  {
   "cell_type": "markdown",
   "id": "65653c5f",
   "metadata": {},
   "source": [
    "### while 반복문으로 무한 루프 만들기\n",
    "\n",
    "*  Ctrl + C 를 입력하여 무한 루프를 끝낼 수 있다."
   ]
  },
  {
   "cell_type": "markdown",
   "id": "dc296573",
   "metadata": {},
   "source": [
    "### 심사문제: 교통카드 잔액 출력하기"
   ]
  },
  {
   "cell_type": "code",
   "execution_count": null,
   "id": "b285369c",
   "metadata": {
    "ExecuteTime": {
     "start_time": "2022-08-29T06:02:30.336Z"
    }
   },
   "outputs": [],
   "source": [
    "a=int(input())\n",
    "while a >= 1350:\n",
    "    a -= 1350\n",
    "    print(a)\n",
    "    "
   ]
  },
  {
   "cell_type": "markdown",
   "id": "99b07dd5",
   "metadata": {},
   "source": [
    "## break, continue 로 반복문 제어하기\n",
    "\n",
    "* break 는 for와 while 문법에서 제어흐름(반복)을 벗어나기 위해 사용한다.(루프 중단)\n",
    "* continue는 제어흐름(반복)을 유지한 상태에서 코드의 실행만 건너뛴다.\n",
    "    - break: 제어흐름(반복) 중단\n",
    "    - continue: 제어흐름 유지, 코드 실행만 건너뜀"
   ]
  },
  {
   "cell_type": "markdown",
   "id": "51ab64c0",
   "metadata": {
    "ExecuteTime": {
     "end_time": "2022-08-29T05:41:23.862402Z",
     "start_time": "2022-08-29T05:41:23.855416Z"
    }
   },
   "source": [
    "### break로 반복문 끝내기"
   ]
  },
  {
   "cell_type": "code",
   "execution_count": null,
   "id": "ea701bd8",
   "metadata": {
    "ExecuteTime": {
     "start_time": "2022-08-29T06:02:30.348Z"
    }
   },
   "outputs": [],
   "source": [
    "i=0\n",
    "while True:\n",
    "    print(i)\n",
    "    i += 1\n",
    "    if i == 10:\n",
    "        break\n",
    "        \n",
    "# break 에는 :(콜론)을 붙이지 않는다."
   ]
  },
  {
   "cell_type": "code",
   "execution_count": null,
   "id": "8e978f93",
   "metadata": {
    "ExecuteTime": {
     "start_time": "2022-08-29T06:02:30.356Z"
    }
   },
   "outputs": [],
   "source": [
    "for i in range(10000):\n",
    "    print(i)\n",
    "    if i == 10:\n",
    "        break"
   ]
  },
  {
   "cell_type": "markdown",
   "id": "0cc6dd9c",
   "metadata": {
    "ExecuteTime": {
     "end_time": "2022-08-29T05:44:31.623654Z",
     "start_time": "2022-08-29T05:44:31.615657Z"
    }
   },
   "source": [
    "### continue 로 코드 실행 건너뛰기"
   ]
  },
  {
   "cell_type": "code",
   "execution_count": null,
   "id": "a39fba52",
   "metadata": {
    "ExecuteTime": {
     "start_time": "2022-08-29T06:02:30.369Z"
    }
   },
   "outputs": [],
   "source": [
    "for i in range(10):\n",
    "    if i % 3 != 0:\n",
    "        continue\n",
    "    print(i)"
   ]
  },
  {
   "cell_type": "code",
   "execution_count": null,
   "id": "8a2439d4",
   "metadata": {
    "ExecuteTime": {
     "start_time": "2022-08-29T06:02:30.378Z"
    }
   },
   "outputs": [],
   "source": [
    "for i in range(10):\n",
    "    if i % 3 != 0:\n",
    "        break\n",
    "    print(i)"
   ]
  },
  {
   "cell_type": "code",
   "execution_count": null,
   "id": "3db5bbb0",
   "metadata": {
    "ExecuteTime": {
     "start_time": "2022-08-29T06:02:30.385Z"
    }
   },
   "outputs": [],
   "source": [
    "i=0\n",
    "while i < 10:\n",
    "    i += 1\n",
    "    if i % 2 == 0:\n",
    "        continue\n",
    "    print(i)"
   ]
  },
  {
   "cell_type": "markdown",
   "id": "565dffa3",
   "metadata": {
    "ExecuteTime": {
     "end_time": "2022-08-29T05:49:46.098288Z",
     "start_time": "2022-08-29T05:49:46.081290Z"
    }
   },
   "source": [
    "### 입력한 횟수대로 반복하기"
   ]
  },
  {
   "cell_type": "code",
   "execution_count": null,
   "id": "a0246b55",
   "metadata": {
    "ExecuteTime": {
     "start_time": "2022-08-29T06:02:30.396Z"
    }
   },
   "outputs": [],
   "source": [
    "count = int(input('반복할 횟수를 입력하세요: '))\n",
    " \n",
    "i = 0\n",
    "while True:    # 무한 루프\n",
    "    print(i)\n",
    "    i += 1\n",
    "    if i == count:    # i가 입력받은 값과 같을 때\n",
    "        break         # 반복문을 끝냄"
   ]
  },
  {
   "cell_type": "markdown",
   "id": "207be3ac",
   "metadata": {},
   "source": [
    "### 심사문제: 두 수 사이의 숫자 중 3으로 끝나지 않는 숫자 출력하기"
   ]
  },
  {
   "cell_type": "code",
   "execution_count": null,
   "id": "0c2ae8fb",
   "metadata": {
    "ExecuteTime": {
     "end_time": "2022-08-29T06:04:55.517025Z",
     "start_time": "2022-08-29T06:04:55.517025Z"
    }
   },
   "outputs": [],
   "source": [
    "start, stop = map(int, input().split())\n",
    "i = start\n",
    "while True:\n",
    "    if i>stop:\n",
    "        break\n",
    "    if i%10==3:\n",
    "        i+=1\n",
    "        continue\n",
    "    print(i,end=' ')\n",
    "    i+=1"
   ]
  },
  {
   "cell_type": "markdown",
   "id": "06fde0a0",
   "metadata": {
    "ExecuteTime": {
     "end_time": "2022-08-29T06:07:15.065811Z",
     "start_time": "2022-08-29T06:07:15.052813Z"
    }
   },
   "source": [
    "## 계단식으로 별 출력하기\n",
    "\n",
    "* 중첩 루프 (가로 x 세로 2차원)"
   ]
  },
  {
   "cell_type": "code",
   "execution_count": 11,
   "id": "f6ee9e6e",
   "metadata": {
    "ExecuteTime": {
     "end_time": "2022-08-29T06:08:02.895018Z",
     "start_time": "2022-08-29T06:08:02.866018Z"
    }
   },
   "outputs": [
    {
     "name": "stdout",
     "output_type": "stream",
     "text": [
      "j:0 j:1 j:2 j:3 j:4 i:0\\n\n",
      "j:0 j:1 j:2 j:3 j:4 i:1\\n\n",
      "j:0 j:1 j:2 j:3 j:4 i:2\\n\n",
      "j:0 j:1 j:2 j:3 j:4 i:3\\n\n",
      "j:0 j:1 j:2 j:3 j:4 i:4\\n\n"
     ]
    }
   ],
   "source": [
    "for i in range(5):          # 5번 반복. 바깥쪽 루프는 세로 방향\n",
    "    for j in range(5):      # 5번 반복. 안쪽 루프는 가로 방향\n",
    "        print('j:', j, sep='', end=' ')    # j값 출력. end에 ' '를 지정하여 줄바꿈 대신 한 칸 띄움\n",
    "    print('i:', i, '\\\\n', sep='')    # i값 출력, 개행 문자 모양도 출력\n",
    "                                     # 가로 방향으로 숫자를 모두 출력한 뒤 다음 줄로 넘어감\n",
    "                                     # (print는 기본적으로 출력 후 다음 줄로 넘어감)"
   ]
  },
  {
   "cell_type": "code",
   "execution_count": 12,
   "id": "c2bce9a2",
   "metadata": {
    "ExecuteTime": {
     "end_time": "2022-08-29T06:08:17.633804Z",
     "start_time": "2022-08-29T06:08:17.618804Z"
    }
   },
   "outputs": [
    {
     "name": "stdout",
     "output_type": "stream",
     "text": [
      "*****\n",
      "*****\n",
      "*****\n",
      "*****\n",
      "*****\n"
     ]
    }
   ],
   "source": [
    "for i in range(5):            # 5번 반복. 바깥쪽 루프는 세로 방향\n",
    "    for j in range(5):        # 5번 반복. 안쪽 루프는 가로 방향\n",
    "        print('*', end='')    # 별 출력. end에 ''를 지정하여 줄바꿈을 하지 않음\n",
    "    print()    # 가로 방향으로 별을 다 그린 뒤 다음 줄로 넘어감\n",
    "               # (print는 출력 후 기본적으로 다음 줄로 넘어감)"
   ]
  },
  {
   "cell_type": "markdown",
   "id": "6bcbc4a5",
   "metadata": {},
   "source": [
    "## 리스트와 튜플 응용하기"
   ]
  },
  {
   "cell_type": "markdown",
   "id": "63d349c0",
   "metadata": {},
   "source": [
    "### 리스트 조작하기\n",
    "\n",
    "* append: 요소 하나를 추가\n",
    "* extend: 리스트를 연결하여 확장\n",
    "    - 메서드를 호출한 리스트가 변경되며 새 리스트는 생성되지 않음\n",
    "* insert: 특정 인덱스에 요소 추가\n",
    "    - insert(0,요소): 리스트의 맨 처음에 요소를 추가\n",
    "    - insert(len(리스트),요소): 리스트 끝에 요소를 추가\n",
    "    - '슬라이스'와 같은역활을 한다.\n",
    "* pop: 리스트의 마지막 요소를 삭제한 뒤 삭제한 요소를 반환한다. \n",
    "* remove(값): 리스트에서 특정 값을 찾아서 삭제한다.\n",
    "    - 리스트에 같은 값이 여러개 있을 경우 처음 찾은 값을 삭제한다.\n",
    "* index(값): 리스트에서 특정 값의 인덱스를 구한다. \n",
    "    - 같은 값이 여러 개일 경우 처음 찾은 인덱스를 구한다.\n",
    "* count(값): 리스트에서 특정 값의 개수를 구한다.\n",
    "* reverse(): 리스트에서 요소의 순서를 반대로 뒤집는다.\n",
    "* sort(): 리스트의 요소를 작은 순서대로 정렬한다.(오름차순)\n",
    "    - = sort(reverse=False)\n",
    "    - sorted 는 오름차순으로 정렬하면서 새로운 리스트를 생성한다.\n",
    "    - <-> sort(reverse=True): 내림차순\n",
    "* clear(): 리스트의 모든 요소를 삭제한다. \n",
    "    - = del a[:]"
   ]
  },
  {
   "cell_type": "code",
   "execution_count": 13,
   "id": "77286ea7",
   "metadata": {
    "ExecuteTime": {
     "end_time": "2022-08-29T06:19:22.646626Z",
     "start_time": "2022-08-29T06:19:22.631623Z"
    }
   },
   "outputs": [
    {
     "data": {
      "text/plain": [
       "[10, 20, 30, 500]"
      ]
     },
     "execution_count": 13,
     "metadata": {},
     "output_type": "execute_result"
    }
   ],
   "source": [
    "a=[10,20,30]\n",
    "a.append(500)\n",
    "a"
   ]
  },
  {
   "cell_type": "code",
   "execution_count": 16,
   "id": "33c73d24",
   "metadata": {
    "ExecuteTime": {
     "end_time": "2022-08-29T06:20:34.704708Z",
     "start_time": "2022-08-29T06:20:34.677706Z"
    }
   },
   "outputs": [
    {
     "data": {
      "text/plain": [
       "[10, 20, 30, [500, 600]]"
      ]
     },
     "execution_count": 16,
     "metadata": {},
     "output_type": "execute_result"
    }
   ],
   "source": [
    "a=[10,20,30]\n",
    "a.append([500,600])   # 리스트 a 안에 리스트 [500,600] 넣기\n",
    "a                     # 중첩 리스트"
   ]
  },
  {
   "cell_type": "code",
   "execution_count": 17,
   "id": "14c6fe36",
   "metadata": {
    "ExecuteTime": {
     "end_time": "2022-08-29T06:21:16.129116Z",
     "start_time": "2022-08-29T06:21:16.114119Z"
    }
   },
   "outputs": [
    {
     "data": {
      "text/plain": [
       "[10, 20, 30, 500, 600]"
      ]
     },
     "execution_count": 17,
     "metadata": {},
     "output_type": "execute_result"
    }
   ],
   "source": [
    "a=[10,20,30]\n",
    "a.extend([500,600])   # 리스트 a 안에 여러 요소를 추가\n",
    "a"
   ]
  },
  {
   "cell_type": "code",
   "execution_count": 19,
   "id": "0b0016ec",
   "metadata": {
    "ExecuteTime": {
     "end_time": "2022-08-29T06:22:58.429852Z",
     "start_time": "2022-08-29T06:22:58.417851Z"
    }
   },
   "outputs": [
    {
     "data": {
      "text/plain": [
       "[10, 20, 500, 30]"
      ]
     },
     "execution_count": 19,
     "metadata": {},
     "output_type": "execute_result"
    }
   ],
   "source": [
    "a=[10,20,30]\n",
    "a.insert(2,500)        # 인덱스 2에 500 요소 추가\n",
    "a"
   ]
  },
  {
   "cell_type": "code",
   "execution_count": 21,
   "id": "7ee75c41",
   "metadata": {
    "ExecuteTime": {
     "end_time": "2022-08-29T06:26:19.216812Z",
     "start_time": "2022-08-29T06:26:19.199811Z"
    }
   },
   "outputs": [
    {
     "data": {
      "text/plain": [
       "[10, 20, 500, 30]"
      ]
     },
     "execution_count": 21,
     "metadata": {},
     "output_type": "execute_result"
    }
   ],
   "source": [
    "a=[10,20,30]\n",
    "a[2:2] = [500]         # insert  메서드 대신 '슬라이드'할당하기\n",
    "a"
   ]
  },
  {
   "cell_type": "code",
   "execution_count": 22,
   "id": "6835e0e4",
   "metadata": {
    "ExecuteTime": {
     "end_time": "2022-08-29T06:27:18.519142Z",
     "start_time": "2022-08-29T06:27:18.509136Z"
    }
   },
   "outputs": [
    {
     "data": {
      "text/plain": [
       "[10, 20]"
      ]
     },
     "execution_count": 22,
     "metadata": {},
     "output_type": "execute_result"
    }
   ],
   "source": [
    "a=[10,20,30]\n",
    "a.pop()\n",
    "a"
   ]
  },
  {
   "cell_type": "code",
   "execution_count": 25,
   "id": "85782881",
   "metadata": {
    "ExecuteTime": {
     "end_time": "2022-08-29T06:28:00.069686Z",
     "start_time": "2022-08-29T06:28:00.051686Z"
    }
   },
   "outputs": [
    {
     "data": {
      "text/plain": [
       "[10, 30]"
      ]
     },
     "execution_count": 25,
     "metadata": {},
     "output_type": "execute_result"
    }
   ],
   "source": [
    "a=[10,20,30]\n",
    "a.pop(1)          # pop 대신 del 을 사용해도 된다.\n",
    "a"
   ]
  },
  {
   "cell_type": "code",
   "execution_count": 26,
   "id": "f6060bb8",
   "metadata": {
    "ExecuteTime": {
     "end_time": "2022-08-29T06:28:19.351018Z",
     "start_time": "2022-08-29T06:28:19.339017Z"
    }
   },
   "outputs": [
    {
     "data": {
      "text/plain": [
       "[10, 30]"
      ]
     },
     "execution_count": 26,
     "metadata": {},
     "output_type": "execute_result"
    }
   ],
   "source": [
    "a=[10,20,30]\n",
    "del a[1]\n",
    "a"
   ]
  },
  {
   "cell_type": "code",
   "execution_count": 28,
   "id": "cad0a818",
   "metadata": {
    "ExecuteTime": {
     "end_time": "2022-08-29T06:29:19.590426Z",
     "start_time": "2022-08-29T06:29:19.571421Z"
    }
   },
   "outputs": [
    {
     "data": {
      "text/plain": [
       "[10, 30]"
      ]
     },
     "execution_count": 28,
     "metadata": {},
     "output_type": "execute_result"
    }
   ],
   "source": [
    "a = [10, 20, 30]\n",
    "a.remove(20)\n",
    "a"
   ]
  },
  {
   "cell_type": "code",
   "execution_count": 31,
   "id": "3957e183",
   "metadata": {
    "ExecuteTime": {
     "end_time": "2022-08-29T06:30:17.163324Z",
     "start_time": "2022-08-29T06:30:17.139306Z"
    }
   },
   "outputs": [
    {
     "data": {
      "text/plain": [
       "[10, 30, 20]"
      ]
     },
     "execution_count": 31,
     "metadata": {},
     "output_type": "execute_result"
    }
   ],
   "source": [
    "a = [10, 20, 30,20]\n",
    "a.remove(20)           \n",
    "a    # 만약 리스트에 같은 값이 여러 개 있을 경우 처음 찾은 값을 삭제한다."
   ]
  },
  {
   "cell_type": "markdown",
   "id": "e23a8006",
   "metadata": {},
   "source": [
    "### 리스트의 할당과 복사 알아보기\n",
    "\n",
    "* 리스트의 할당은 리스트를 새로 생성하지 않고 변수 이름만 다른 같은 객체이다.\n",
    "* 리스트를 서로 다른 리스트로 만들려면 copy 메서드를 이용한다."
   ]
  },
  {
   "cell_type": "code",
   "execution_count": 33,
   "id": "224a07d3",
   "metadata": {
    "ExecuteTime": {
     "end_time": "2022-08-29T06:38:49.385681Z",
     "start_time": "2022-08-29T06:38:49.372680Z"
    }
   },
   "outputs": [
    {
     "data": {
      "text/plain": [
       "True"
      ]
     },
     "execution_count": 33,
     "metadata": {},
     "output_type": "execute_result"
    }
   ],
   "source": [
    "a=[0,0,0,0,0]\n",
    "b=a\n",
    "a is b"
   ]
  },
  {
   "cell_type": "code",
   "execution_count": 34,
   "id": "d25e8482",
   "metadata": {
    "ExecuteTime": {
     "end_time": "2022-08-29T06:39:03.104935Z",
     "start_time": "2022-08-29T06:39:03.085956Z"
    }
   },
   "outputs": [
    {
     "data": {
      "text/plain": [
       "[0, 0, 99, 0, 0]"
      ]
     },
     "execution_count": 34,
     "metadata": {},
     "output_type": "execute_result"
    }
   ],
   "source": [
    "b[2] = 99\n",
    "a"
   ]
  },
  {
   "cell_type": "code",
   "execution_count": 36,
   "id": "e115b8b2",
   "metadata": {
    "ExecuteTime": {
     "end_time": "2022-08-29T06:40:12.901920Z",
     "start_time": "2022-08-29T06:40:12.876921Z"
    }
   },
   "outputs": [
    {
     "data": {
      "text/plain": [
       "[0, 0, 0, 0, 0]"
      ]
     },
     "execution_count": 36,
     "metadata": {},
     "output_type": "execute_result"
    }
   ],
   "source": [
    "a=[0,0,0,0,0]\n",
    "b=a.copy()\n",
    "b"
   ]
  },
  {
   "cell_type": "code",
   "execution_count": 37,
   "id": "b1dddee3",
   "metadata": {
    "ExecuteTime": {
     "end_time": "2022-08-29T06:40:16.524213Z",
     "start_time": "2022-08-29T06:40:16.499210Z"
    }
   },
   "outputs": [
    {
     "data": {
      "text/plain": [
       "False"
      ]
     },
     "execution_count": 37,
     "metadata": {},
     "output_type": "execute_result"
    }
   ],
   "source": [
    "a is b"
   ]
  },
  {
   "cell_type": "code",
   "execution_count": 38,
   "id": "3f3fad10",
   "metadata": {
    "ExecuteTime": {
     "end_time": "2022-08-29T06:40:21.129549Z",
     "start_time": "2022-08-29T06:40:21.116551Z"
    }
   },
   "outputs": [
    {
     "data": {
      "text/plain": [
       "True"
      ]
     },
     "execution_count": 38,
     "metadata": {},
     "output_type": "execute_result"
    }
   ],
   "source": [
    "a == b"
   ]
  },
  {
   "cell_type": "code",
   "execution_count": 39,
   "id": "b8e269d5",
   "metadata": {
    "ExecuteTime": {
     "end_time": "2022-08-29T06:40:35.279925Z",
     "start_time": "2022-08-29T06:40:35.265929Z"
    }
   },
   "outputs": [
    {
     "data": {
      "text/plain": [
       "[0, 0, 99, 0, 0]"
      ]
     },
     "execution_count": 39,
     "metadata": {},
     "output_type": "execute_result"
    }
   ],
   "source": [
    "b[2]=99\n",
    "b"
   ]
  },
  {
   "cell_type": "code",
   "execution_count": 40,
   "id": "e2473e56",
   "metadata": {
    "ExecuteTime": {
     "end_time": "2022-08-29T06:40:36.704961Z",
     "start_time": "2022-08-29T06:40:36.693961Z"
    }
   },
   "outputs": [
    {
     "data": {
      "text/plain": [
       "[0, 0, 0, 0, 0]"
      ]
     },
     "execution_count": 40,
     "metadata": {},
     "output_type": "execute_result"
    }
   ],
   "source": [
    "a"
   ]
  },
  {
   "cell_type": "markdown",
   "id": "997bd405",
   "metadata": {
    "ExecuteTime": {
     "end_time": "2022-08-29T06:41:38.982642Z",
     "start_time": "2022-08-29T06:41:38.965639Z"
    }
   },
   "source": [
    "#### 인덱스와 요소를 함께 출력하기\n",
    "\n",
    "* for 인덱스, 요소 in enumerate(리스트)\\\n",
    "    print(index+숫자, value)\n",
    "* for 인덱스, 요소 in enumerate(리스트, start=숫자)\\\n",
    "    print(index, value)\n",
    "* for 인덱스, 요소 in enumerate(리스트, 숫자)\\\n",
    "    print(index, value)"
   ]
  },
  {
   "cell_type": "code",
   "execution_count": 42,
   "id": "7d19b547",
   "metadata": {
    "ExecuteTime": {
     "end_time": "2022-08-29T06:42:12.493677Z",
     "start_time": "2022-08-29T06:42:12.479675Z"
    }
   },
   "outputs": [
    {
     "name": "stdout",
     "output_type": "stream",
     "text": [
      "0 38\n",
      "1 21\n",
      "2 53\n",
      "3 62\n",
      "4 19\n"
     ]
    }
   ],
   "source": [
    "a = [38, 21, 53, 62, 19]\n",
    "for index, value in enumerate(a):\n",
    "    print(index,value)"
   ]
  },
  {
   "cell_type": "code",
   "execution_count": 43,
   "id": "959959e6",
   "metadata": {
    "ExecuteTime": {
     "end_time": "2022-08-29T06:42:50.990887Z",
     "start_time": "2022-08-29T06:42:50.970886Z"
    }
   },
   "outputs": [
    {
     "name": "stdout",
     "output_type": "stream",
     "text": [
      "1 38\n",
      "2 21\n",
      "3 53\n",
      "4 62\n",
      "5 19\n"
     ]
    }
   ],
   "source": [
    "a = [38, 21, 53, 62, 19]\n",
    "for index, value in enumerate(a):\n",
    "    print(index+1,value)"
   ]
  },
  {
   "cell_type": "code",
   "execution_count": 44,
   "id": "9247868b",
   "metadata": {
    "ExecuteTime": {
     "end_time": "2022-08-29T06:43:02.855226Z",
     "start_time": "2022-08-29T06:43:02.846241Z"
    }
   },
   "outputs": [
    {
     "name": "stdout",
     "output_type": "stream",
     "text": [
      "1 38\n",
      "2 21\n",
      "3 53\n",
      "4 62\n",
      "5 19\n"
     ]
    }
   ],
   "source": [
    "a = [38, 21, 53, 62, 19]\n",
    "for index, value in enumerate(a,start=1):\n",
    "    print(index,value)"
   ]
  },
  {
   "cell_type": "code",
   "execution_count": 45,
   "id": "2ebab2c7",
   "metadata": {
    "ExecuteTime": {
     "end_time": "2022-08-29T06:43:12.254639Z",
     "start_time": "2022-08-29T06:43:12.247638Z"
    }
   },
   "outputs": [
    {
     "name": "stdout",
     "output_type": "stream",
     "text": [
      "1 38\n",
      "2 21\n",
      "3 53\n",
      "4 62\n",
      "5 19\n"
     ]
    }
   ],
   "source": [
    "a = [38, 21, 53, 62, 19]\n",
    "for index, value in enumerate(a,1):\n",
    "    print(index,value)"
   ]
  },
  {
   "cell_type": "markdown",
   "id": "34b28e50",
   "metadata": {
    "ExecuteTime": {
     "end_time": "2022-08-29T06:46:59.383964Z",
     "start_time": "2022-08-29T06:46:59.374963Z"
    }
   },
   "source": [
    "#### 가장 작은 수와 가장 큰 수 구하기\n",
    "\n",
    "* for 반복문을 통해서 구하기\n",
    "* 오름차순 또는 내림차순을 통해 처음 요소 값([0]) 구하기\n",
    "* 메서스 min(), max() 통해 구하기"
   ]
  },
  {
   "cell_type": "code",
   "execution_count": 47,
   "id": "8312c3cc",
   "metadata": {
    "ExecuteTime": {
     "end_time": "2022-08-29T06:47:51.883079Z",
     "start_time": "2022-08-29T06:47:51.859075Z"
    }
   },
   "outputs": [
    {
     "data": {
      "text/plain": [
       "19"
      ]
     },
     "execution_count": 47,
     "metadata": {},
     "output_type": "execute_result"
    }
   ],
   "source": [
    "a = [38, 21, 53, 62, 19]\n",
    "smallest = a[0]\n",
    "for i in a:\n",
    "    if i < smallest:\n",
    "        smallest = i\n",
    "        \n",
    "smallest"
   ]
  },
  {
   "cell_type": "code",
   "execution_count": 49,
   "id": "72709dea",
   "metadata": {
    "ExecuteTime": {
     "end_time": "2022-08-29T06:49:57.483921Z",
     "start_time": "2022-08-29T06:49:57.464916Z"
    }
   },
   "outputs": [
    {
     "data": {
      "text/plain": [
       "62"
      ]
     },
     "execution_count": 49,
     "metadata": {},
     "output_type": "execute_result"
    }
   ],
   "source": [
    "a = [38, 21, 53, 62, 19]\n",
    "largest = a[0]\n",
    "for i in a:\n",
    "    if i > largest:\n",
    "        largest = i\n",
    "        \n",
    "largest"
   ]
  },
  {
   "cell_type": "code",
   "execution_count": 50,
   "id": "c2b272d6",
   "metadata": {
    "ExecuteTime": {
     "end_time": "2022-08-29T06:50:25.411991Z",
     "start_time": "2022-08-29T06:50:25.394988Z"
    }
   },
   "outputs": [
    {
     "data": {
      "text/plain": [
       "19"
      ]
     },
     "execution_count": 50,
     "metadata": {},
     "output_type": "execute_result"
    }
   ],
   "source": [
    "a = [38, 21, 53, 62, 19]\n",
    "a.sort()\n",
    "a[0]"
   ]
  },
  {
   "cell_type": "code",
   "execution_count": 51,
   "id": "9d568e7e",
   "metadata": {
    "ExecuteTime": {
     "end_time": "2022-08-29T06:50:51.023658Z",
     "start_time": "2022-08-29T06:50:51.001658Z"
    }
   },
   "outputs": [
    {
     "data": {
      "text/plain": [
       "62"
      ]
     },
     "execution_count": 51,
     "metadata": {},
     "output_type": "execute_result"
    }
   ],
   "source": [
    "a = [38, 21, 53, 62, 19]\n",
    "a.sort(reverse=True)\n",
    "a[0]"
   ]
  },
  {
   "cell_type": "code",
   "execution_count": 52,
   "id": "28f44990",
   "metadata": {
    "ExecuteTime": {
     "end_time": "2022-08-29T06:51:06.579399Z",
     "start_time": "2022-08-29T06:51:06.565392Z"
    }
   },
   "outputs": [
    {
     "data": {
      "text/plain": [
       "19"
      ]
     },
     "execution_count": 52,
     "metadata": {},
     "output_type": "execute_result"
    }
   ],
   "source": [
    "a = [38, 21, 53, 62, 19]\n",
    "min(a)"
   ]
  },
  {
   "cell_type": "code",
   "execution_count": 53,
   "id": "d2090312",
   "metadata": {
    "ExecuteTime": {
     "end_time": "2022-08-29T06:51:12.965619Z",
     "start_time": "2022-08-29T06:51:12.942620Z"
    }
   },
   "outputs": [
    {
     "data": {
      "text/plain": [
       "62"
      ]
     },
     "execution_count": 53,
     "metadata": {},
     "output_type": "execute_result"
    }
   ],
   "source": [
    "a = [38, 21, 53, 62, 19]\n",
    "max(a)"
   ]
  },
  {
   "cell_type": "markdown",
   "id": "950fa102",
   "metadata": {},
   "source": [
    "#### 요소의 합계 구하기\n",
    "\n",
    "* for 반복문을 통해 구하기\n",
    "* 메서드 sum()을 통해 구하기"
   ]
  },
  {
   "cell_type": "code",
   "execution_count": 54,
   "id": "8f5c9944",
   "metadata": {
    "ExecuteTime": {
     "end_time": "2022-08-29T06:53:46.765283Z",
     "start_time": "2022-08-29T06:53:46.746269Z"
    }
   },
   "outputs": [
    {
     "data": {
      "text/plain": [
       "50"
      ]
     },
     "execution_count": 54,
     "metadata": {},
     "output_type": "execute_result"
    }
   ],
   "source": [
    "a= [10, 10, 10, 10, 10]\n",
    "x = 0\n",
    "for i in a:\n",
    "    x += i\n",
    "x"
   ]
  },
  {
   "cell_type": "code",
   "execution_count": 55,
   "id": "42305e3a",
   "metadata": {
    "ExecuteTime": {
     "end_time": "2022-08-29T06:53:59.202253Z",
     "start_time": "2022-08-29T06:53:59.193252Z"
    }
   },
   "outputs": [
    {
     "data": {
      "text/plain": [
       "50"
      ]
     },
     "execution_count": 55,
     "metadata": {},
     "output_type": "execute_result"
    }
   ],
   "source": [
    "a= [10, 10, 10, 10, 10]\n",
    "sum(a)"
   ]
  },
  {
   "cell_type": "markdown",
   "id": "531979a8",
   "metadata": {
    "ExecuteTime": {
     "end_time": "2022-08-29T06:55:05.051022Z",
     "start_time": "2022-08-29T06:55:05.033020Z"
    }
   },
   "source": [
    "### 리스트 표현식 사용하기\n",
    "\n",
    "* 리스트 컴프리헨션(list comprehension)\n",
    " : 리스트 안에 '식, for 반복문, if 조건문 등' 을 지정하여 리스트를 생성\n",
    "     - [식 for 변수 in 리스트]\n",
    "     - list(식 for 변수 in 리스트)"
   ]
  },
  {
   "cell_type": "code",
   "execution_count": 57,
   "id": "6612550e",
   "metadata": {
    "ExecuteTime": {
     "end_time": "2022-08-29T06:57:56.152184Z",
     "start_time": "2022-08-29T06:57:56.131183Z"
    }
   },
   "outputs": [
    {
     "data": {
      "text/plain": [
       "[0, 1, 2, 3, 4, 5, 6, 7, 8, 9]"
      ]
     },
     "execution_count": 57,
     "metadata": {},
     "output_type": "execute_result"
    }
   ],
   "source": [
    "a = [i for i in range(10)]\n",
    "a"
   ]
  },
  {
   "cell_type": "code",
   "execution_count": 58,
   "id": "08626ff6",
   "metadata": {
    "ExecuteTime": {
     "end_time": "2022-08-29T06:58:28.143982Z",
     "start_time": "2022-08-29T06:58:28.131984Z"
    }
   },
   "outputs": [
    {
     "data": {
      "text/plain": [
       "[0, 1, 2, 3, 4, 5, 6, 7, 8, 9]"
      ]
     },
     "execution_count": 58,
     "metadata": {},
     "output_type": "execute_result"
    }
   ],
   "source": [
    "b=list(i for i in range(10))\n",
    "b"
   ]
  },
  {
   "cell_type": "code",
   "execution_count": 59,
   "id": "95da119e",
   "metadata": {
    "ExecuteTime": {
     "end_time": "2022-08-29T06:59:33.650525Z",
     "start_time": "2022-08-29T06:59:33.627523Z"
    }
   },
   "outputs": [
    {
     "data": {
      "text/plain": [
       "[5, 6, 7, 8, 9, 10, 11, 12, 13, 14]"
      ]
     },
     "execution_count": 59,
     "metadata": {},
     "output_type": "execute_result"
    }
   ],
   "source": [
    "c=[i+5 for i in range(10)]\n",
    "c"
   ]
  },
  {
   "cell_type": "markdown",
   "id": "c5849bd4",
   "metadata": {},
   "source": [
    "#### 리스트 표현식에서 if 조건문 사용하기\n",
    "\n",
    "\n",
    "* [식 for 변수 in 리스트 if 조건식]\n",
    "* list(식 for 변수 in 리스트 if 조건식)"
   ]
  },
  {
   "cell_type": "code",
   "execution_count": 61,
   "id": "a168e621",
   "metadata": {
    "ExecuteTime": {
     "end_time": "2022-08-29T07:02:22.767397Z",
     "start_time": "2022-08-29T07:02:22.753404Z"
    }
   },
   "outputs": [
    {
     "data": {
      "text/plain": [
       "[0, 2, 4, 6, 8]"
      ]
     },
     "execution_count": 61,
     "metadata": {},
     "output_type": "execute_result"
    }
   ],
   "source": [
    "a=[i for i in range(10) if i%2 == 0]\n",
    "a"
   ]
  },
  {
   "cell_type": "code",
   "execution_count": 62,
   "id": "cceaef8c",
   "metadata": {
    "ExecuteTime": {
     "end_time": "2022-08-29T07:02:54.914244Z",
     "start_time": "2022-08-29T07:02:54.903242Z"
    }
   },
   "outputs": [
    {
     "data": {
      "text/plain": [
       "[6, 8, 10, 12, 14]"
      ]
     },
     "execution_count": 62,
     "metadata": {},
     "output_type": "execute_result"
    }
   ],
   "source": [
    "b = [i + 5 for i in range(10) if i % 2 == 1]\n",
    "b"
   ]
  },
  {
   "cell_type": "markdown",
   "id": "d292e5b7",
   "metadata": {},
   "source": [
    "#### for 반복문과 if 조건문을 여러 번 사용하기"
   ]
  },
  {
   "cell_type": "code",
   "execution_count": 69,
   "id": "dbecb676",
   "metadata": {
    "ExecuteTime": {
     "end_time": "2022-08-29T07:06:09.796269Z",
     "start_time": "2022-08-29T07:06:09.788267Z"
    }
   },
   "outputs": [
    {
     "name": "stdout",
     "output_type": "stream",
     "text": [
      "[2, 4, 6, 8, 10, 12, 14, 16, 18, 3, 6, 9, 12, 15, 18, 21, 24, 27, 4, 8, 12, 16, 20, 24, 28, 32, 36, 5, 10, 15, 20, 25, 30, 35, 40, 45, 6, 12, 18, 24, 30, 36, 42, 48, 54, 7, 14, 21, 28, 35, 42, 49, 56, 63, 8, 16, 24, 32, 40, 48, 56, 64, 72, 9, 18, 27, 36, 45, 54, 63, 72, 81]"
     ]
    }
   ],
   "source": [
    "a = [i * j for j in range(2, 10) for i in range(1, 10)]\n",
    "print(a,end='')"
   ]
  },
  {
   "cell_type": "markdown",
   "id": "dd682476",
   "metadata": {},
   "source": [
    "### 리스트에 map 사용하기\n",
    "\n",
    "* map 은 리스트의 요소를 지정된 함수로 처리해주는 함수이다.\n",
    "* map 은 원본 리스트를 변경하지 않고 새 리스트를 생성한다."
   ]
  },
  {
   "cell_type": "code",
   "execution_count": 72,
   "id": "005c9102",
   "metadata": {
    "ExecuteTime": {
     "end_time": "2022-08-29T07:15:10.385913Z",
     "start_time": "2022-08-29T07:15:10.365913Z"
    }
   },
   "outputs": [
    {
     "data": {
      "text/plain": [
       "[1, 2, 3, 4]"
      ]
     },
     "execution_count": 72,
     "metadata": {},
     "output_type": "execute_result"
    }
   ],
   "source": [
    "a = [1.2, 2.5, 3.7, 4.6]\n",
    "for i in range(len(a)):\n",
    "    a[i]=int(a[i])\n",
    "a"
   ]
  },
  {
   "cell_type": "code",
   "execution_count": 73,
   "id": "aa596295",
   "metadata": {
    "ExecuteTime": {
     "end_time": "2022-08-29T07:15:39.811954Z",
     "start_time": "2022-08-29T07:15:39.790953Z"
    }
   },
   "outputs": [
    {
     "data": {
      "text/plain": [
       "[1, 2, 3, 4]"
      ]
     },
     "execution_count": 73,
     "metadata": {},
     "output_type": "execute_result"
    }
   ],
   "source": [
    "a = [1.2, 2.5, 3.7, 4.6]\n",
    "a = list(map(int,a))\n",
    "a"
   ]
  },
  {
   "cell_type": "code",
   "execution_count": 74,
   "id": "474a705b",
   "metadata": {
    "ExecuteTime": {
     "end_time": "2022-08-29T07:16:11.513976Z",
     "start_time": "2022-08-29T07:16:11.489957Z"
    }
   },
   "outputs": [
    {
     "data": {
      "text/plain": [
       "['0', '1', '2', '3', '4', '5', '6', '7', '8', '9']"
      ]
     },
     "execution_count": 74,
     "metadata": {},
     "output_type": "execute_result"
    }
   ],
   "source": [
    "a = list(map(str, range(10)))\n",
    "a"
   ]
  },
  {
   "cell_type": "markdown",
   "id": "a5ea1ebe",
   "metadata": {
    "ExecuteTime": {
     "end_time": "2022-08-29T07:17:08.644989Z",
     "start_time": "2022-08-29T07:17:08.629988Z"
    }
   },
   "source": [
    "### 튜플 응용하기"
   ]
  },
  {
   "cell_type": "markdown",
   "id": "d38f765b",
   "metadata": {
    "ExecuteTime": {
     "end_time": "2022-08-29T07:25:50.375180Z",
     "start_time": "2022-08-29T07:25:50.366181Z"
    }
   },
   "source": [
    "### 연습문제: 리스트에서 특정 요소만 뽑아내기"
   ]
  },
  {
   "cell_type": "code",
   "execution_count": 77,
   "id": "295904df",
   "metadata": {
    "ExecuteTime": {
     "end_time": "2022-08-29T07:26:43.467158Z",
     "start_time": "2022-08-29T07:26:43.443152Z"
    }
   },
   "outputs": [
    {
     "name": "stdout",
     "output_type": "stream",
     "text": [
      "['alpha', 'bravo', 'delta', 'hotel', 'india']\n"
     ]
    }
   ],
   "source": [
    "a = ['alpha', 'bravo', 'charlie', 'delta', 'echo', 'foxtrot', 'golf', 'hotel', 'india']\n",
    "b = [i for i in a if len(i)==5]\n",
    "print(b)"
   ]
  },
  {
   "cell_type": "markdown",
   "id": "cdb09339",
   "metadata": {},
   "source": [
    "### 심사문제: 2의 거듭제곱 리스트 생성하기"
   ]
  },
  {
   "cell_type": "code",
   "execution_count": 89,
   "id": "db86d7b5",
   "metadata": {
    "ExecuteTime": {
     "end_time": "2022-08-29T07:39:03.514264Z",
     "start_time": "2022-08-29T07:39:01.605867Z"
    }
   },
   "outputs": [
    {
     "name": "stdout",
     "output_type": "stream",
     "text": [
      "1 10\n",
      "[2, 8, 16, 32, 64, 128, 256, 1024]\n"
     ]
    }
   ],
   "source": [
    "a,b=map(int,input().split())\n",
    "c=[2**i for i in range(a,b+1) if a < b]\n",
    "del c[1]\n",
    "del c[-2]\n",
    "print(c)"
   ]
  },
  {
   "cell_type": "markdown",
   "id": "1fc1ed50",
   "metadata": {
    "ExecuteTime": {
     "end_time": "2022-08-29T07:39:44.276853Z",
     "start_time": "2022-08-29T07:39:44.269834Z"
    }
   },
   "source": [
    "## 2차원 리스트 사용하기\n",
    "\n",
    "* 2차원 리스트는 가로 x 세로 형태로 이루어져 있으며 행과 열 모두 0 부터 시작\n",
    "* 2차원 리스트의 사각형 구조를 유지하도록 출력하려면 pprint 모듈의 pprint 함수를 사용한다."
   ]
  },
  {
   "cell_type": "markdown",
   "id": "5e2b189c",
   "metadata": {},
   "source": [
    "### 2차원 리스트를 만들고 요소에 접근하기"
   ]
  },
  {
   "cell_type": "code",
   "execution_count": 96,
   "id": "3e57c220",
   "metadata": {
    "ExecuteTime": {
     "end_time": "2022-08-29T07:43:54.408951Z",
     "start_time": "2022-08-29T07:43:54.390950Z"
    }
   },
   "outputs": [
    {
     "data": {
      "text/plain": [
       "10"
      ]
     },
     "execution_count": 96,
     "metadata": {},
     "output_type": "execute_result"
    }
   ],
   "source": [
    "a = [[10, 20], [30, 40], [50, 60]]\n",
    "a[0][0]"
   ]
  },
  {
   "cell_type": "code",
   "execution_count": 98,
   "id": "4db16d00",
   "metadata": {
    "ExecuteTime": {
     "end_time": "2022-08-29T07:44:15.268610Z",
     "start_time": "2022-08-29T07:44:15.256591Z"
    }
   },
   "outputs": [
    {
     "data": {
      "text/plain": [
       "20"
      ]
     },
     "execution_count": 98,
     "metadata": {},
     "output_type": "execute_result"
    }
   ],
   "source": [
    "a[0][1]"
   ]
  },
  {
   "cell_type": "code",
   "execution_count": 103,
   "id": "cb1fcaf5",
   "metadata": {
    "ExecuteTime": {
     "end_time": "2022-08-29T07:45:42.542184Z",
     "start_time": "2022-08-29T07:45:42.523182Z"
    }
   },
   "outputs": [
    {
     "data": {
      "text/plain": [
       "1000"
      ]
     },
     "execution_count": 103,
     "metadata": {},
     "output_type": "execute_result"
    }
   ],
   "source": [
    "a = [[10, 20], [30, 40], [50, 60]]\n",
    "a[0][1]=1000\n",
    "a[0][1]"
   ]
  },
  {
   "cell_type": "code",
   "execution_count": 104,
   "id": "f6a545fd",
   "metadata": {
    "ExecuteTime": {
     "end_time": "2022-08-29T07:48:30.025402Z",
     "start_time": "2022-08-29T07:48:30.006401Z"
    }
   },
   "outputs": [
    {
     "name": "stdout",
     "output_type": "stream",
     "text": [
      "[   [10, 1000],\n",
      "    [30, 40],\n",
      "    [50, 60]]\n"
     ]
    }
   ],
   "source": [
    "from pprint import pprint\n",
    "pprint(a, indent=4, width=20)"
   ]
  },
  {
   "cell_type": "markdown",
   "id": "79e02790",
   "metadata": {},
   "source": [
    "### 반복문으로 2차원 리스트의 요소를 모두 출력하기"
   ]
  },
  {
   "cell_type": "markdown",
   "id": "0dcd1415",
   "metadata": {
    "ExecuteTime": {
     "end_time": "2022-08-29T07:49:31.325178Z",
     "start_time": "2022-08-29T07:49:31.308177Z"
    }
   },
   "source": [
    "#### for 반복문을 한 번만 사용하기"
   ]
  },
  {
   "cell_type": "code",
   "execution_count": 106,
   "id": "00d0f988",
   "metadata": {
    "ExecuteTime": {
     "end_time": "2022-08-29T07:50:02.781922Z",
     "start_time": "2022-08-29T07:50:02.763920Z"
    }
   },
   "outputs": [
    {
     "name": "stdout",
     "output_type": "stream",
     "text": [
      "10 20\n",
      "30 40\n",
      "50 60\n"
     ]
    }
   ],
   "source": [
    "a = [[10, 20], [30, 40], [50, 60]]\n",
    "for x,y in a:\n",
    "    print(x,y)"
   ]
  },
  {
   "cell_type": "markdown",
   "id": "839d7d69",
   "metadata": {},
   "source": [
    "#### for 반복문을 두 번 사용하기"
   ]
  },
  {
   "cell_type": "code",
   "execution_count": 108,
   "id": "a2dbd103",
   "metadata": {
    "ExecuteTime": {
     "end_time": "2022-08-29T07:52:59.550422Z",
     "start_time": "2022-08-29T07:52:59.525423Z"
    },
    "scrolled": true
   },
   "outputs": [
    {
     "name": "stdout",
     "output_type": "stream",
     "text": [
      "10 20 \n",
      "30 40 \n",
      "50 60 \n"
     ]
    }
   ],
   "source": [
    "a = [[10, 20], [30, 40], [50, 60]]\n",
    "\n",
    "for i in a:                 # a에서 안쪽 리스트를 꺼냄\n",
    "    for j in i:             # 안쪽 리스트에서 요소를 하나씩 꺼냄\n",
    "        print(j, end=' ')\n",
    "    print()"
   ]
  },
  {
   "cell_type": "markdown",
   "id": "1ad6e231",
   "metadata": {},
   "source": [
    "#### for 와 range 사용하기"
   ]
  },
  {
   "cell_type": "code",
   "execution_count": 112,
   "id": "cffe9989",
   "metadata": {
    "ExecuteTime": {
     "end_time": "2022-08-29T07:55:40.358252Z",
     "start_time": "2022-08-29T07:55:40.333250Z"
    }
   },
   "outputs": [
    {
     "name": "stdout",
     "output_type": "stream",
     "text": [
      "10 20 \n",
      "30 40 \n",
      "50 60 \n"
     ]
    }
   ],
   "source": [
    "a = [[10, 20], [30, 40], [50, 60]]\n",
    "\n",
    "for i in range(len(a)):               # len(a) 는 3\n",
    "    for j in range(len(a[i])):        # len(a[i])는 2\n",
    "        print(a[i][j],end=' ')\n",
    "    print()"
   ]
  },
  {
   "cell_type": "markdown",
   "id": "5c402173",
   "metadata": {},
   "source": [
    "#### while 반복문을 한 번 사용하기"
   ]
  },
  {
   "cell_type": "code",
   "execution_count": null,
   "id": "1984274c",
   "metadata": {},
   "outputs": [],
   "source": []
  }
 ],
 "metadata": {
  "kernelspec": {
   "display_name": "Python 3 (ipykernel)",
   "language": "python",
   "name": "python3"
  },
  "language_info": {
   "codemirror_mode": {
    "name": "ipython",
    "version": 3
   },
   "file_extension": ".py",
   "mimetype": "text/x-python",
   "name": "python",
   "nbconvert_exporter": "python",
   "pygments_lexer": "ipython3",
   "version": "3.9.12"
  },
  "toc": {
   "base_numbering": 1,
   "nav_menu": {},
   "number_sections": true,
   "sideBar": true,
   "skip_h1_title": false,
   "title_cell": "Table of Contents",
   "title_sidebar": "Contents",
   "toc_cell": false,
   "toc_position": {
    "height": "calc(100% - 180px)",
    "left": "10px",
    "top": "150px",
    "width": "192px"
   },
   "toc_section_display": true,
   "toc_window_display": true
  }
 },
 "nbformat": 4,
 "nbformat_minor": 5
}
