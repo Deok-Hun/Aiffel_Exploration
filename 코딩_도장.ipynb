{
  "cells": [
    {
      "cell_type": "markdown",
      "metadata": {
        "id": "view-in-github",
        "colab_type": "text"
      },
      "source": [
        "<a href=\"https://colab.research.google.com/github/Deok-Hun/Aiffel_Kun/blob/master/%EC%BD%94%EB%94%A9_%EB%8F%84%EC%9E%A5.ipynb\" target=\"_parent\"><img src=\"https://colab.research.google.com/assets/colab-badge.svg\" alt=\"Open In Colab\"/></a>"
      ]
    },
    {
      "cell_type": "markdown",
      "id": "ceb888d3",
      "metadata": {
        "id": "ceb888d3"
      },
      "source": [
        "## 기본 문법 알아보기"
      ]
    },
    {
      "cell_type": "code",
      "source": [
        "from google.colab import drive\n",
        "drive.mount('/content/drive')\n",
        "drive.mount(\"/content/drive\", force_remount=True)"
      ],
      "metadata": {
        "id": "nJJJzHjXr-bE",
        "colab": {
          "base_uri": "https://localhost:8080/"
        },
        "outputId": "ef03b837-ef4a-4a6d-bed4-9455bd472f43"
      },
      "id": "nJJJzHjXr-bE",
      "execution_count": 28,
      "outputs": [
        {
          "output_type": "stream",
          "name": "stdout",
          "text": [
            "Drive already mounted at /content/drive; to attempt to forcibly remount, call drive.mount(\"/content/drive\", force_remount=True).\n",
            "Mounted at /content/drive\n"
          ]
        }
      ]
    },
    {
      "cell_type": "code",
      "source": [
        "go to this URL in a browser: "
      ],
      "metadata": {
        "id": "xL_pGymVwJMd"
      },
      "id": "xL_pGymVwJMd",
      "execution_count": null,
      "outputs": []
    },
    {
      "cell_type": "markdown",
      "id": "f6c21b6e",
      "metadata": {
        "id": "f6c21b6e"
      },
      "source": [
        "### 세미콜론\n",
        "\n",
        "파이썬은 구문이 끝날 때 ;(세미콜론)을 붙이지 않는다. 다만, 한 줄에 여러 구문을 사용할 때 세미콜론을 구분해준다."
      ]
    },
    {
      "cell_type": "markdown",
      "id": "85942198",
      "metadata": {
        "id": "85942198"
      },
      "source": [
        "### 주석"
      ]
    },
    {
      "cell_type": "markdown",
      "id": "f8253ad5",
      "metadata": {
        "id": "f8253ad5"
      },
      "source": [
        "### 들여쓰기"
      ]
    },
    {
      "cell_type": "markdown",
      "id": "24e8da08",
      "metadata": {
        "ExecuteTime": {
          "end_time": "2022-08-28T13:39:00.375635Z",
          "start_time": "2022-08-28T13:39:00.365638Z"
        },
        "id": "24e8da08"
      },
      "source": [
        "### 코드 블록"
      ]
    },
    {
      "cell_type": "markdown",
      "id": "e3782f11",
      "metadata": {
        "id": "e3782f11"
      },
      "source": [
        "## 숫자 계산하기"
      ]
    },
    {
      "cell_type": "markdown",
      "id": "d278477c",
      "metadata": {
        "id": "d278477c"
      },
      "source": [
        "### 정수 계산하기"
      ]
    },
    {
      "cell_type": "markdown",
      "id": "a9e583b6",
      "metadata": {
        "id": "a9e583b6"
      },
      "source": [
        "#### 사칙연산\n",
        "\n",
        "* +, -, *, /, //(소수점 이하 버림), %(나머지), **(거듭제곱)\n",
        "* divmod(5,2) => (몫,나머지)\n",
        "* int(숫자), int(계산식), int('문자열')\n",
        "* type(값): 객체 확인"
      ]
    },
    {
      "cell_type": "markdown",
      "id": "423e20fd",
      "metadata": {
        "id": "423e20fd"
      },
      "source": [
        "### 실수 계산하기"
      ]
    },
    {
      "cell_type": "markdown",
      "id": "1d8f331f",
      "metadata": {
        "id": "1d8f331f"
      },
      "source": [
        "* 실수와 정수를 함께 계산하면 실수가 나온다. => 표현 범위가 넓은 쪽으로 계산"
      ]
    },
    {
      "cell_type": "markdown",
      "id": "c93b4e99",
      "metadata": {
        "id": "c93b4e99"
      },
      "source": [
        "### 연습문제: 아파트에서 소음이 가장 심한 츠이수 출력하기"
      ]
    },
    {
      "cell_type": "code",
      "execution_count": null,
      "id": "1f35fcea",
      "metadata": {
        "ExecuteTime": {
          "end_time": "2022-08-29T06:02:29.322985Z",
          "start_time": "2022-08-29T06:02:29.295984Z"
        },
        "id": "1f35fcea"
      },
      "outputs": [],
      "source": [
        "print(int(0.2467*12+4.159))"
      ]
    },
    {
      "cell_type": "markdown",
      "id": "5cff57ea",
      "metadata": {
        "id": "5cff57ea"
      },
      "source": [
        "### 심화문제: 스킬 공격력 출력하기"
      ]
    },
    {
      "cell_type": "code",
      "execution_count": null,
      "id": "34239781",
      "metadata": {
        "ExecuteTime": {
          "end_time": "2022-08-29T06:02:29.337984Z",
          "start_time": "2022-08-29T06:02:29.329983Z"
        },
        "id": "34239781"
      },
      "outputs": [],
      "source": [
        "print(102*0.6+225)"
      ]
    },
    {
      "cell_type": "markdown",
      "id": "ab145c80",
      "metadata": {
        "id": "ab145c80"
      },
      "source": [
        "## 변수와 입력 사용하기"
      ]
    },
    {
      "cell_type": "markdown",
      "id": "f5892a86",
      "metadata": {
        "id": "f5892a86"
      },
      "source": [
        "### 변수 만들기\n",
        "\n",
        "* 영문 문자와 숫자를 사용할 수 있다.\n",
        "* 대소문자 구별\n",
        "* 문자부터 시작해야 한다.(숫자부터 안 된다.)\n",
        "* _(밑줄)로 시작할 수 있다.\n",
        "* 특수 문자(+, -, *, /, $, @, &, % 등) 사용할 수 없다.\n",
        "* if, for, while, and, or 등은 사용할 수 없다."
      ]
    },
    {
      "cell_type": "markdown",
      "id": "8f389c1e",
      "metadata": {
        "ExecuteTime": {
          "end_time": "2022-08-28T16:23:56.322195Z",
          "start_time": "2022-08-28T16:23:56.315175Z"
        },
        "id": "8f389c1e"
      },
      "source": [
        "#### 변수 여려 개를 한 번에 만들기"
      ]
    },
    {
      "cell_type": "code",
      "execution_count": null,
      "id": "4d004908",
      "metadata": {
        "ExecuteTime": {
          "end_time": "2022-08-29T06:02:29.382986Z",
          "start_time": "2022-08-29T06:02:29.342983Z"
        },
        "id": "4d004908"
      },
      "outputs": [],
      "source": [
        "x,y,z = 10,20,30\n",
        "x"
      ]
    },
    {
      "cell_type": "code",
      "execution_count": null,
      "id": "1e7b5598",
      "metadata": {
        "ExecuteTime": {
          "end_time": "2022-08-29T06:02:29.413007Z",
          "start_time": "2022-08-29T06:02:29.388990Z"
        },
        "id": "1e7b5598"
      },
      "outputs": [],
      "source": [
        "y"
      ]
    },
    {
      "cell_type": "markdown",
      "id": "985b418f",
      "metadata": {
        "id": "985b418f"
      },
      "source": [
        "### 변수로 계산하기"
      ]
    },
    {
      "cell_type": "code",
      "execution_count": null,
      "id": "263bb088",
      "metadata": {
        "ExecuteTime": {
          "end_time": "2022-08-29T06:02:29.427991Z",
          "start_time": "2022-08-29T06:02:29.416988Z"
        },
        "id": "263bb088"
      },
      "outputs": [],
      "source": [
        "a=10\n",
        "b=20\n",
        "c=a+b\n",
        "c"
      ]
    },
    {
      "cell_type": "markdown",
      "id": "074c1268",
      "metadata": {
        "id": "074c1268"
      },
      "source": [
        "#### 산술 연산 후 할당 연산자 사용\n",
        "\n",
        "* a= a + 20  과 같이 a에 20을 더한 값을 다시 a에 할당하면 계산결과가 유지된다.\n",
        "    - a += 20 과 같이 표현 할 수 있다.(다른 연산에도 적용 가능)"
      ]
    },
    {
      "cell_type": "code",
      "execution_count": null,
      "id": "9ae63aca",
      "metadata": {
        "ExecuteTime": {
          "end_time": "2022-08-29T06:02:29.443012Z",
          "start_time": "2022-08-29T06:02:29.431992Z"
        },
        "id": "9ae63aca"
      },
      "outputs": [],
      "source": [
        "a = 10\n",
        "a = a + 20\n",
        "a"
      ]
    },
    {
      "cell_type": "code",
      "execution_count": null,
      "id": "3b9fac6a",
      "metadata": {
        "ExecuteTime": {
          "end_time": "2022-08-29T06:02:29.457991Z",
          "start_time": "2022-08-29T06:02:29.447993Z"
        },
        "id": "3b9fac6a"
      },
      "outputs": [],
      "source": [
        "a = 10\n",
        "a += 20\n",
        "a"
      ]
    },
    {
      "cell_type": "markdown",
      "id": "0b575929",
      "metadata": {
        "id": "0b575929"
      },
      "source": [
        "### 입력 값을 변수에 저장하기"
      ]
    },
    {
      "cell_type": "markdown",
      "id": "6735952c",
      "metadata": {
        "id": "6735952c"
      },
      "source": [
        "####  input 함수 사용하기"
      ]
    },
    {
      "cell_type": "code",
      "execution_count": null,
      "id": "a0c31368",
      "metadata": {
        "ExecuteTime": {
          "start_time": "2022-08-29T06:02:29.401Z"
        },
        "id": "a0c31368"
      },
      "outputs": [],
      "source": [
        "input()"
      ]
    },
    {
      "cell_type": "code",
      "execution_count": null,
      "id": "6d59a1ef",
      "metadata": {
        "ExecuteTime": {
          "start_time": "2022-08-29T06:02:29.409Z"
        },
        "id": "6d59a1ef"
      },
      "outputs": [],
      "source": [
        "a= input('첫 번째 숫자를 입력하세요:')  # input에서 입력받은 값은 문자열.\n",
        "b= input('두 번째 숫자를 입력하세요:')\n",
        "\n",
        "print(a+b)"
      ]
    },
    {
      "cell_type": "code",
      "execution_count": null,
      "id": "07573589",
      "metadata": {
        "ExecuteTime": {
          "start_time": "2022-08-29T06:02:29.417Z"
        },
        "id": "07573589"
      },
      "outputs": [],
      "source": [
        "a= int(input('첫 번째 숫자를 입력하세요:'))\n",
        "b= int(input('두 번째 숫자를 입력하세요:'))\n",
        "\n",
        "print(a+b)"
      ]
    },
    {
      "cell_type": "markdown",
      "id": "e301bfa4",
      "metadata": {
        "id": "e301bfa4"
      },
      "source": [
        "### 입력 값을 변수 두 개에 저장하기\n",
        "\n",
        "* 변수1, 변수2 = input().split()\n",
        "* 변수1, 변수2 = input().split('기준 문자열')\n",
        "* 변수1, 변수2 = input('문자열').split()\n",
        "* 변수1, 변수2 = input('문자열').split('기준 문자열')"
      ]
    },
    {
      "cell_type": "code",
      "execution_count": null,
      "id": "ce5e2065",
      "metadata": {
        "ExecuteTime": {
          "start_time": "2022-08-29T06:02:29.432Z"
        },
        "id": "ce5e2065"
      },
      "outputs": [],
      "source": [
        "a,b = input('문자열 두 개를 입력하세요:').split() \n",
        "# 입력 받은 값을 공백으로 분리 (Hello (공백) Python)\n",
        "print(a)\n",
        "print(b)"
      ]
    },
    {
      "cell_type": "code",
      "execution_count": null,
      "id": "50d7196f",
      "metadata": {
        "ExecuteTime": {
          "start_time": "2022-08-29T06:02:29.441Z"
        },
        "id": "50d7196f"
      },
      "outputs": [],
      "source": [
        "a,b = input('숫자 두 개를 입력하세요:').split()\n",
        "\n",
        "a = int(a)\n",
        "b = int(b)\n",
        "\n",
        "print(a+b)\n",
        "\n",
        "# map(int,input('숫자 두개를 입력하세요:').split())\n",
        "# a= int(a)\n",
        "# print(int(a)+int(b))"
      ]
    },
    {
      "cell_type": "code",
      "execution_count": null,
      "id": "355c9570",
      "metadata": {
        "ExecuteTime": {
          "start_time": "2022-08-29T06:02:29.453Z"
        },
        "id": "355c9570"
      },
      "outputs": [],
      "source": [
        "a,b = input('숫자 두 개를 입력하세요:').split(',')    #,(콤마) 로 분리\n",
        "\n",
        "a = int(a)\n",
        "b = int(b)\n",
        "\n",
        "print(a+b)"
      ]
    },
    {
      "cell_type": "markdown",
      "id": "a9580a69",
      "metadata": {
        "id": "a9580a69"
      },
      "source": [
        "### 연습문제: 정수 세 개를 입력받고 합계 출력하기"
      ]
    },
    {
      "cell_type": "code",
      "execution_count": null,
      "id": "9ad9041c",
      "metadata": {
        "ExecuteTime": {
          "start_time": "2022-08-29T06:02:29.470Z"
        },
        "id": "9ad9041c"
      },
      "outputs": [],
      "source": [
        "a,b,c = map(int,input().split())\n",
        "\n",
        "print(a+b+c)"
      ]
    },
    {
      "cell_type": "markdown",
      "id": "1e664c59",
      "metadata": {
        "ExecuteTime": {
          "end_time": "2022-08-28T16:52:11.517460Z",
          "start_time": "2022-08-28T16:52:11.509440Z"
        },
        "id": "1e664c59"
      },
      "source": [
        "### 심사문제: 변수 만들기"
      ]
    },
    {
      "cell_type": "code",
      "execution_count": null,
      "id": "84ca567a",
      "metadata": {
        "ExecuteTime": {
          "start_time": "2022-08-29T06:02:29.487Z"
        },
        "id": "84ca567a"
      },
      "outputs": [],
      "source": [
        "a=50\n",
        "b=100\n",
        "c='None'\n",
        "\n",
        "print(a)\n",
        "print(b)\n",
        "print(c)"
      ]
    },
    {
      "cell_type": "markdown",
      "id": "aa4cedce",
      "metadata": {
        "ExecuteTime": {
          "end_time": "2022-08-28T16:54:28.732802Z",
          "start_time": "2022-08-28T16:54:28.723800Z"
        },
        "id": "aa4cedce"
      },
      "source": [
        "### 심사문제: 평균 점수 구하기"
      ]
    },
    {
      "cell_type": "code",
      "execution_count": null,
      "id": "8a4c059e",
      "metadata": {
        "ExecuteTime": {
          "start_time": "2022-08-29T06:02:29.497Z"
        },
        "id": "8a4c059e"
      },
      "outputs": [],
      "source": [
        "a,b,c,d=map(int,input().split())\n",
        "print((a+b+c+d)//4)"
      ]
    },
    {
      "cell_type": "markdown",
      "id": "5b80379b",
      "metadata": {
        "id": "5b80379b"
      },
      "source": [
        "##  출력 방법 알아보기"
      ]
    },
    {
      "cell_type": "markdown",
      "id": "35458482",
      "metadata": {
        "ExecuteTime": {
          "end_time": "2022-08-28T17:23:45.007010Z",
          "start_time": "2022-08-28T17:23:44.987009Z"
        },
        "id": "35458482"
      },
      "source": [
        "### 값을 여러 개 출력하기\n",
        "\n",
        "* print(값1, 값2, 값3)\n",
        "* print(변수1, 변수2, 변수3)"
      ]
    },
    {
      "cell_type": "markdown",
      "id": "45e06956",
      "metadata": {
        "id": "45e06956"
      },
      "source": [
        "#### sep로 값 사이에 문자 넣기\n",
        "\n",
        "* print(값1, 값2, 값3, sep='문자 또는 문자열')\n",
        "* print(변수1, 변수2, 변수3, sep='문자 또는 문자열')"
      ]
    },
    {
      "cell_type": "code",
      "execution_count": null,
      "id": "1446be6b",
      "metadata": {
        "ExecuteTime": {
          "start_time": "2022-08-29T06:02:29.514Z"
        },
        "id": "1446be6b"
      },
      "outputs": [],
      "source": [
        "print(1,2,3,sep=',')"
      ]
    },
    {
      "cell_type": "code",
      "execution_count": null,
      "id": "2545938c",
      "metadata": {
        "ExecuteTime": {
          "start_time": "2022-08-29T06:02:29.522Z"
        },
        "id": "2545938c"
      },
      "outputs": [],
      "source": [
        "print('Hello','Python',sep='')"
      ]
    },
    {
      "cell_type": "code",
      "execution_count": null,
      "id": "acc12912",
      "metadata": {
        "ExecuteTime": {
          "start_time": "2022-08-29T06:02:29.530Z"
        },
        "id": "acc12912"
      },
      "outputs": [],
      "source": [
        "print(1920,1080,sep='x')"
      ]
    },
    {
      "cell_type": "markdown",
      "id": "de5f8194",
      "metadata": {
        "ExecuteTime": {
          "end_time": "2022-08-28T17:26:28.579038Z",
          "start_time": "2022-08-28T17:26:28.564036Z"
        },
        "id": "de5f8194"
      },
      "source": [
        "### 줄바꿈 활용하기"
      ]
    },
    {
      "cell_type": "code",
      "execution_count": null,
      "id": "604f0476",
      "metadata": {
        "ExecuteTime": {
          "start_time": "2022-08-29T06:02:29.540Z"
        },
        "id": "604f0476"
      },
      "outputs": [],
      "source": [
        "print(1,2,3,sep='\\n')       # \\n 은 제어 문자이므로 화면에 출력되지 않는다."
      ]
    },
    {
      "cell_type": "code",
      "execution_count": null,
      "id": "4b7243c3",
      "metadata": {
        "ExecuteTime": {
          "start_time": "2022-08-29T06:02:29.550Z"
        },
        "id": "4b7243c3"
      },
      "outputs": [],
      "source": [
        "print('1,\\n2,\\n3')"
      ]
    },
    {
      "cell_type": "code",
      "execution_count": null,
      "id": "1784a3cf",
      "metadata": {
        "ExecuteTime": {
          "start_time": "2022-08-29T06:02:29.558Z"
        },
        "id": "1784a3cf"
      },
      "outputs": [],
      "source": [
        "# \\n: 다음 줄로 이동하며 '개행'이라고도 부른다.\n",
        "# \\t: 탭 문자, 키보드의 Tab 키와 같이 여러 칸을 띄운다.\n",
        "# \\\\: \\  문자 자체를 출력할 때는 \\ 를 두 번 써야 한다."
      ]
    },
    {
      "cell_type": "markdown",
      "id": "9a5ed794",
      "metadata": {
        "ExecuteTime": {
          "end_time": "2022-08-28T17:30:53.473479Z",
          "start_time": "2022-08-28T17:30:53.457458Z"
        },
        "id": "9a5ed794"
      },
      "source": [
        "#### end 사용하기\n",
        "\n",
        "*  end 는 현재 print가 끝난 뒤 그 다음에 오는 print에 영향을 준다."
      ]
    },
    {
      "cell_type": "code",
      "execution_count": null,
      "id": "3cb115c1",
      "metadata": {
        "ExecuteTime": {
          "start_time": "2022-08-29T06:02:29.571Z"
        },
        "id": "3cb115c1"
      },
      "outputs": [],
      "source": [
        "print(1)\n",
        "print(2)\n",
        "print(3)"
      ]
    },
    {
      "cell_type": "code",
      "execution_count": null,
      "id": "207f0e5a",
      "metadata": {
        "ExecuteTime": {
          "start_time": "2022-08-29T06:02:29.579Z"
        },
        "id": "207f0e5a"
      },
      "outputs": [],
      "source": [
        "print(1,end='')\n",
        "print(2,end='')\n",
        "print(3)"
      ]
    },
    {
      "cell_type": "markdown",
      "id": "5f9d1ebd",
      "metadata": {
        "id": "5f9d1ebd"
      },
      "source": [
        "### 연습문제: 날짜와 시간 출력하기"
      ]
    },
    {
      "cell_type": "code",
      "execution_count": null,
      "id": "7350173e",
      "metadata": {
        "ExecuteTime": {
          "start_time": "2022-08-29T06:02:29.589Z"
        },
        "id": "7350173e"
      },
      "outputs": [],
      "source": [
        "year = 2000\n",
        "month = 10\n",
        "day = 27\n",
        "hour = 11\n",
        "minute = 43\n",
        "second = 59\n",
        "\n",
        "print(year, month, day, sep='/',end=' ')\n",
        "print(hour, minute, second, sep=':')"
      ]
    },
    {
      "cell_type": "markdown",
      "id": "3b8e5b5b",
      "metadata": {
        "id": "3b8e5b5b"
      },
      "source": [
        "### 심사묹제: 날짜와 시간 출력하기"
      ]
    },
    {
      "cell_type": "code",
      "execution_count": null,
      "id": "915de2f8",
      "metadata": {
        "ExecuteTime": {
          "start_time": "2022-08-29T06:02:29.599Z"
        },
        "id": "915de2f8"
      },
      "outputs": [],
      "source": [
        "year, month, day, hour, minute, second = input().split()\n",
        "print(year, month, day, sep='-',end='T')\n",
        "print(hour, minute, second, sep=':')"
      ]
    },
    {
      "cell_type": "markdown",
      "id": "d3342138",
      "metadata": {
        "id": "d3342138"
      },
      "source": [
        "## 불과 비교, 눈리 연산자 알아보기"
      ]
    },
    {
      "cell_type": "markdown",
      "id": "eb7d9974",
      "metadata": {
        "ExecuteTime": {
          "end_time": "2022-08-28T17:45:22.521770Z",
          "start_time": "2022-08-28T17:45:22.500746Z"
        },
        "id": "eb7d9974"
      },
      "source": [
        "### 불과 비교 연산자 사용하기\n",
        "\n",
        "* 숫자의 크기, 같음 등을 비교 판단할 수 있다.\n",
        "* 문자열이 같은지 다른지 비교한다. 이 때, 대소문자가 다르면 다른 문자로 판단\n",
        "* 객체가 같은지 다른지 판단한다.\n",
        "    - ==, != 는 값 자체를 비교한다.\n",
        "    - is, is not은 객체를 비교한다."
      ]
    },
    {
      "cell_type": "code",
      "execution_count": null,
      "id": "e7065165",
      "metadata": {
        "ExecuteTime": {
          "start_time": "2022-08-29T06:02:29.612Z"
        },
        "id": "e7065165"
      },
      "outputs": [],
      "source": [
        "1 == 1.0"
      ]
    },
    {
      "cell_type": "code",
      "execution_count": null,
      "id": "9422cc56",
      "metadata": {
        "ExecuteTime": {
          "start_time": "2022-08-29T06:02:29.619Z"
        },
        "id": "9422cc56"
      },
      "outputs": [],
      "source": [
        "1 is 1.0"
      ]
    },
    {
      "cell_type": "code",
      "execution_count": null,
      "id": "823da9d9",
      "metadata": {
        "ExecuteTime": {
          "start_time": "2022-08-29T06:02:29.626Z"
        },
        "id": "823da9d9"
      },
      "outputs": [],
      "source": [
        "1 is not 1.0"
      ]
    },
    {
      "cell_type": "markdown",
      "id": "24f58841",
      "metadata": {
        "ExecuteTime": {
          "end_time": "2022-08-28T17:48:26.544490Z",
          "start_time": "2022-08-28T17:48:26.535493Z"
        },
        "id": "24f58841"
      },
      "source": [
        "### 논리 연산자 사용하기\n",
        "\n",
        "* 논리 연산자에는 and, or, not 이 있다.\n",
        "* bool() 은 빈 '정수 0, 실수 0.0, 빈 문자열, ' '(공백), \" \"(공백)' 은 모두 거짓 "
      ]
    },
    {
      "cell_type": "markdown",
      "id": "0fc1930b",
      "metadata": {
        "ExecuteTime": {
          "end_time": "2022-08-28T17:55:07.091813Z",
          "start_time": "2022-08-28T17:55:07.080814Z"
        },
        "id": "0fc1930b"
      },
      "source": [
        "### 연습문제: 합격 여부 출력하기"
      ]
    },
    {
      "cell_type": "code",
      "execution_count": null,
      "id": "b9e61e22",
      "metadata": {
        "ExecuteTime": {
          "start_time": "2022-08-29T06:02:29.636Z"
        },
        "id": "b9e61e22"
      },
      "outputs": [],
      "source": [
        "korean = 92\n",
        "english = 47\n",
        "mathematics = 86\n",
        "science = 81\n",
        "\n",
        "print(korean >=50 and english >= 50 and mathematics >= 50 and science >= 50)"
      ]
    },
    {
      "cell_type": "markdown",
      "id": "bbee1191",
      "metadata": {
        "ExecuteTime": {
          "end_time": "2022-08-28T17:57:23.123500Z",
          "start_time": "2022-08-28T17:57:23.114505Z"
        },
        "id": "bbee1191"
      },
      "source": [
        "### 심사문제: 합격 여부 출력하기"
      ]
    },
    {
      "cell_type": "code",
      "execution_count": null,
      "id": "e467edd3",
      "metadata": {
        "ExecuteTime": {
          "start_time": "2022-08-29T06:02:29.647Z"
        },
        "id": "e467edd3"
      },
      "outputs": [],
      "source": [
        "국어,영어,수학,과학=map(int,input().split())\n",
        "print(국어>=90 and 영어>80 and 수학>85 and 과학>=80)"
      ]
    },
    {
      "cell_type": "markdown",
      "id": "aca3442e",
      "metadata": {
        "id": "aca3442e"
      },
      "source": [
        "## 문자열 사용하기"
      ]
    },
    {
      "cell_type": "code",
      "execution_count": null,
      "id": "1dd2af50",
      "metadata": {
        "ExecuteTime": {
          "start_time": "2022-08-29T06:02:29.656Z"
        },
        "id": "1dd2af50"
      },
      "outputs": [],
      "source": [
        "hello='Hello, world!'\n",
        "hello"
      ]
    },
    {
      "cell_type": "code",
      "execution_count": null,
      "id": "c12d2c73",
      "metadata": {
        "ExecuteTime": {
          "start_time": "2022-08-29T06:02:29.663Z"
        },
        "id": "c12d2c73"
      },
      "outputs": [],
      "source": [
        "hello=\"Hello, world!\"\n",
        "hello"
      ]
    },
    {
      "cell_type": "code",
      "execution_count": null,
      "id": "7304bb6a",
      "metadata": {
        "ExecuteTime": {
          "start_time": "2022-08-29T06:02:29.671Z"
        },
        "id": "7304bb6a"
      },
      "outputs": [],
      "source": [
        "hello='Hello, world!'\n",
        "print(hello)"
      ]
    },
    {
      "cell_type": "code",
      "execution_count": null,
      "id": "cfd02337",
      "metadata": {
        "ExecuteTime": {
          "start_time": "2022-08-29T06:02:29.680Z"
        },
        "id": "cfd02337"
      },
      "outputs": [],
      "source": [
        "print('Hello, world!')"
      ]
    },
    {
      "cell_type": "markdown",
      "id": "6cb0a18c",
      "metadata": {
        "ExecuteTime": {
          "end_time": "2022-08-28T18:13:02.860035Z",
          "start_time": "2022-08-28T18:13:02.843035Z"
        },
        "id": "6cb0a18c"
      },
      "source": [
        "### 여러 줄로 된 문자열 사용하기"
      ]
    },
    {
      "cell_type": "code",
      "execution_count": null,
      "id": "4cf86e18",
      "metadata": {
        "ExecuteTime": {
          "start_time": "2022-08-29T06:02:29.691Z"
        },
        "id": "4cf86e18"
      },
      "outputs": [],
      "source": [
        "hello='''Hellow,world!\n",
        "안녕하세요.\n",
        "Python입니다.'''\n",
        "print(hello)"
      ]
    },
    {
      "cell_type": "markdown",
      "id": "c5978f91",
      "metadata": {
        "id": "c5978f91"
      },
      "source": [
        "### 문자열 안에 작은따옴표나 큰따옴표 포함하기\n",
        "\n",
        "* 문자열 안에 작은따옴표를 넣고 싶다면 문자열을 큰따옴표로 묶는다.\n",
        "    - 반대도 마찬가지다.\n",
        "    - 작은따옴표 안에 작은따옴표를 넣을 때는 \\(역슬래시)를 붙인다."
      ]
    },
    {
      "cell_type": "code",
      "execution_count": null,
      "id": "8f16ec5f",
      "metadata": {
        "ExecuteTime": {
          "start_time": "2022-08-29T06:02:29.714Z"
        },
        "id": "8f16ec5f"
      },
      "outputs": [],
      "source": [
        "'Python isn\\'t difficult'"
      ]
    },
    {
      "cell_type": "code",
      "execution_count": null,
      "id": "3fcd0279",
      "metadata": {
        "ExecuteTime": {
          "start_time": "2022-08-29T06:02:29.725Z"
        },
        "id": "3fcd0279"
      },
      "outputs": [],
      "source": [
        "s=\"\"\"'Python' is a \"programming language\"\n",
        "that lets you work quickly\n",
        "and\n",
        "integrate systems more effectively\"\"\"\n",
        "\n",
        "print(s)"
      ]
    },
    {
      "cell_type": "markdown",
      "id": "b15d885b",
      "metadata": {
        "ExecuteTime": {
          "end_time": "2022-08-28T18:24:34.483732Z",
          "start_time": "2022-08-28T18:24:34.472733Z"
        },
        "id": "b15d885b"
      },
      "source": [
        "## 리스트와 튜플 사용하기"
      ]
    },
    {
      "cell_type": "markdown",
      "id": "dec917cc",
      "metadata": {
        "ExecuteTime": {
          "end_time": "2022-08-29T00:36:48.738148Z",
          "start_time": "2022-08-29T00:36:48.731150Z"
        },
        "id": "dec917cc"
      },
      "source": [
        "### 리스트 만들기\n",
        "\n",
        "* 변수에 값을 저장할 때 [](대괄호)로 묶어준다.\n",
        "* 값은 ,(콤마)로 구분한다.\n",
        "    - 리스트 = [값, 값, 값]\n",
        "    - 리스트 = list()\n",
        "* 리스트는 문자열, 정수, 실수, 불 등 모든 자료형을 저장할 수 있으며, 자료형을 섞어서 저장할 수 있다."
      ]
    },
    {
      "cell_type": "code",
      "execution_count": null,
      "id": "54f9c8eb",
      "metadata": {
        "ExecuteTime": {
          "start_time": "2022-08-29T06:02:29.736Z"
        },
        "id": "54f9c8eb"
      },
      "outputs": [],
      "source": [
        "a = [38, 21, 53 , 62, 19]\n",
        "a"
      ]
    },
    {
      "cell_type": "markdown",
      "id": "43c766fc",
      "metadata": {
        "ExecuteTime": {
          "end_time": "2022-08-29T00:41:27.168647Z",
          "start_time": "2022-08-29T00:41:27.147647Z"
        },
        "id": "43c766fc"
      },
      "source": [
        "#### range를 사용하여 리스트 만들기\n",
        "\n",
        "* range(시작, 끝)\\\n",
        "   range(10)              # 시작 생략 가능\\\n",
        "   range(0.10)             # 0 부터 9까지 생성 되고 10은 포함되지 않는다.\\\n",
        "* 리스트 = list(range(시작, 끝, 증가폭))"
      ]
    },
    {
      "cell_type": "code",
      "execution_count": null,
      "id": "be5a8512",
      "metadata": {
        "ExecuteTime": {
          "start_time": "2022-08-29T06:02:29.746Z"
        },
        "id": "be5a8512"
      },
      "outputs": [],
      "source": [
        "b=list(range(5,12))\n",
        "b"
      ]
    },
    {
      "cell_type": "markdown",
      "id": "9df4f37e",
      "metadata": {
        "ExecuteTime": {
          "end_time": "2022-08-29T00:44:53.358355Z",
          "start_time": "2022-08-29T00:44:53.346356Z"
        },
        "id": "9df4f37e"
      },
      "source": [
        "### 튜플 사용하기\n",
        "\n",
        "* 리스트 처럼 요소를 일렬로 저장한다.\n",
        "* 안에 저장된 요소를 변경, 추가, 삭제를 할 수 없다.(읽기 전용)\n",
        "* 변수에 값을 저장할 때 ()(괄호)로 묶는다(괄호 생략가능). 값은 ,(콤마)로 구분한다. \n",
        "    - 튜플 = (값, 값, 값)\n",
        "    - 튜플 = 값, 값, 값"
      ]
    },
    {
      "cell_type": "markdown",
      "id": "a6db5d29",
      "metadata": {
        "ExecuteTime": {
          "end_time": "2022-08-29T00:49:21.591093Z",
          "start_time": "2022-08-29T00:49:21.582097Z"
        },
        "id": "a6db5d29"
      },
      "source": [
        "#### 요소가 한 개 들어있는 튜플 만들기\n",
        "\n",
        "* 값 한 개를 괄호로 묶으면 튜플이 아니라 그냥 값이 된다.\n",
        "* 요소가 한 개인 튜플을 만들 때는 ()(괄호)안에 값 한 개를 넣고 ,(콤마)를 붙인다. 괄호로 묶지 않고 값 한 개에 ,를 붙여도 된다."
      ]
    },
    {
      "cell_type": "code",
      "execution_count": null,
      "id": "8ebca023",
      "metadata": {
        "ExecuteTime": {
          "start_time": "2022-08-29T06:02:29.758Z"
        },
        "id": "8ebca023"
      },
      "outputs": [],
      "source": [
        "(38, )"
      ]
    },
    {
      "cell_type": "code",
      "execution_count": null,
      "id": "e08d9d69",
      "metadata": {
        "ExecuteTime": {
          "start_time": "2022-08-29T06:02:29.766Z"
        },
        "id": "e08d9d69"
      },
      "outputs": [],
      "source": [
        "38,"
      ]
    },
    {
      "cell_type": "markdown",
      "id": "f9f6f66a",
      "metadata": {
        "id": "f9f6f66a"
      },
      "source": [
        "#### range를 사용하여 튜플 만들기\n",
        "\n",
        "* 튜플 = tuple(range(횟수))\n",
        "* 튜플 = tuple(range(시작, 끝))\n",
        "* 튜플 = tuple(range(시작, 끝, 증가폭))"
      ]
    },
    {
      "cell_type": "markdown",
      "id": "a6c96ac2",
      "metadata": {
        "id": "a6c96ac2"
      },
      "source": [
        "### 연습문제: range로 리스트 만들기"
      ]
    },
    {
      "cell_type": "code",
      "execution_count": null,
      "id": "07cce1bc",
      "metadata": {
        "ExecuteTime": {
          "start_time": "2022-08-29T06:02:29.778Z"
        },
        "id": "07cce1bc"
      },
      "outputs": [],
      "source": [
        "a=list(range(5,-10,-2))\n",
        "\n",
        "print(a)"
      ]
    },
    {
      "cell_type": "markdown",
      "id": "33fd7b83",
      "metadata": {
        "ExecuteTime": {
          "end_time": "2022-08-29T01:02:53.601661Z",
          "start_time": "2022-08-29T01:02:53.589663Z"
        },
        "id": "33fd7b83"
      },
      "source": [
        "### 심사문제: 날씨와 시간 출력하기"
      ]
    },
    {
      "cell_type": "code",
      "execution_count": null,
      "id": "34cf6e81",
      "metadata": {
        "ExecuteTime": {
          "start_time": "2022-08-29T06:02:29.788Z"
        },
        "id": "34cf6e81"
      },
      "outputs": [],
      "source": [
        "a=int(input())\n",
        "b=tuple(range(-10,10,a))\n",
        "print(b)"
      ]
    },
    {
      "cell_type": "markdown",
      "id": "fde851ae",
      "metadata": {
        "ExecuteTime": {
          "end_time": "2022-08-29T01:08:03.513875Z",
          "start_time": "2022-08-29T01:08:03.497876Z"
        },
        "id": "fde851ae"
      },
      "source": [
        "## 시퀀스 자료형 활용하기\n",
        "\n",
        "* 리스트, 튜플, range, 문자열처럼 값이 연속적으로 이어진 자료형을 시퀀스 자료형(sequence types)라고 부른다."
      ]
    },
    {
      "cell_type": "markdown",
      "id": "8e9aac23",
      "metadata": {
        "ExecuteTime": {
          "end_time": "2022-08-29T01:12:05.887910Z",
          "start_time": "2022-08-29T01:12:05.874374Z"
        },
        "id": "8e9aac23"
      },
      "source": [
        "### 시퀀스 자료형의 공통 기능 사용하기"
      ]
    },
    {
      "cell_type": "markdown",
      "id": "c73cb65c",
      "metadata": {
        "ExecuteTime": {
          "end_time": "2022-08-29T01:12:20.615708Z",
          "start_time": "2022-08-29T01:12:20.598708Z"
        },
        "id": "c73cb65c"
      },
      "source": [
        "#### 특정 값이 있는지 확인하기\n",
        "\n",
        "* 값 in 시퀀스객체"
      ]
    },
    {
      "cell_type": "code",
      "execution_count": null,
      "id": "c6a0caac",
      "metadata": {
        "ExecuteTime": {
          "start_time": "2022-08-29T06:02:29.804Z"
        },
        "id": "c6a0caac"
      },
      "outputs": [],
      "source": [
        "a=[0, 10, 20, 30, 40, 50, 60, 70, 80, 90]\n",
        "30 in a"
      ]
    },
    {
      "cell_type": "markdown",
      "id": "a6b7e717",
      "metadata": {
        "ExecuteTime": {
          "end_time": "2022-08-29T01:15:07.826814Z",
          "start_time": "2022-08-29T01:15:07.805814Z"
        },
        "id": "a6b7e717"
      },
      "source": [
        "#### 시퀀스 객체 연결하기\n",
        "\n",
        "* 시퀀스객체1 + 시퀀스객체2\n",
        "* 시퀀스 자료형 중에서 range는 + 연산자로 객체를 연결할 수 없다.\n",
        "    - 이 때는 리스트 또는 튜플로 만들어서 연결한다.\n",
        "* 문자열은 + 연산자로 여러 만자열을 연결할 수 있다.\n",
        "    - 문자열과 숫자 연결 시에는 숫자는 문자열로 변환한다. str(숫자)"
      ]
    },
    {
      "cell_type": "code",
      "execution_count": null,
      "id": "5fcc8859",
      "metadata": {
        "ExecuteTime": {
          "start_time": "2022-08-29T06:02:29.813Z"
        },
        "id": "5fcc8859"
      },
      "outputs": [],
      "source": [
        "a=[0,10,20,30]\n",
        "b=[9,8,7,6]\n",
        "a+b"
      ]
    },
    {
      "cell_type": "markdown",
      "id": "2d9e94c1",
      "metadata": {
        "id": "2d9e94c1"
      },
      "source": [
        "### 시퀀스 객체의 요소 개수 구하기"
      ]
    },
    {
      "cell_type": "markdown",
      "id": "be7c38d7",
      "metadata": {
        "ExecuteTime": {
          "end_time": "2022-08-29T01:18:45.759481Z",
          "start_time": "2022-08-29T01:18:45.741483Z"
        },
        "id": "be7c38d7"
      },
      "source": [
        "#### 리스트와 튜플의 요소 개수 구하기"
      ]
    },
    {
      "cell_type": "code",
      "execution_count": null,
      "id": "e1f76e7e",
      "metadata": {
        "ExecuteTime": {
          "start_time": "2022-08-29T06:02:29.830Z"
        },
        "id": "e1f76e7e"
      },
      "outputs": [],
      "source": [
        "a = [0, 10, 20, 30, 40, 50, 60, 70, 80, 90]\n",
        "len(a)"
      ]
    },
    {
      "cell_type": "markdown",
      "id": "d97d2342",
      "metadata": {
        "ExecuteTime": {
          "end_time": "2022-08-29T01:19:23.268429Z",
          "start_time": "2022-08-29T01:19:23.252432Z"
        },
        "id": "d97d2342"
      },
      "source": [
        "#### range의 숫자 생성 개수 구하기"
      ]
    },
    {
      "cell_type": "code",
      "execution_count": null,
      "id": "096d7134",
      "metadata": {
        "ExecuteTime": {
          "start_time": "2022-08-29T06:02:29.843Z"
        },
        "id": "096d7134"
      },
      "outputs": [],
      "source": [
        "len(range(0,10,2))"
      ]
    },
    {
      "cell_type": "markdown",
      "id": "5bb0dc45",
      "metadata": {
        "id": "5bb0dc45"
      },
      "source": [
        "#### 문자열의 길이 구하기\n",
        "\n",
        "* 문자열의 길이는 공백까지 포함한다.\n",
        "    - 단, 문자열을 묶은 따옴표는 제외(따옴표는 문자열을 표현하는 문법)\n",
        "        - 단, 문자열 안에 포함된 작은따옴표, 큰따옴표는 포함"
      ]
    },
    {
      "cell_type": "markdown",
      "id": "20eeba85",
      "metadata": {
        "ExecuteTime": {
          "end_time": "2022-08-29T01:21:20.265865Z",
          "start_time": "2022-08-29T01:21:20.253869Z"
        },
        "id": "20eeba85"
      },
      "source": [
        "### 인덱스 사용하기\n",
        "\n",
        "* 시퀀스 객체의 각 요소는 순서가 정해져 있으며, 이 순서를 인덱스라 한다.\n",
        "    - 시퀀스객체[인덱스]\n",
        "* __getitem__ 메서드를 호출하여 요소가져오기"
      ]
    },
    {
      "cell_type": "code",
      "execution_count": null,
      "id": "a6fc7d2f",
      "metadata": {
        "ExecuteTime": {
          "start_time": "2022-08-29T06:02:29.857Z"
        },
        "id": "a6fc7d2f"
      },
      "outputs": [],
      "source": [
        "a = [38, 21, 53, 62, 19]\n",
        "a[0]"
      ]
    },
    {
      "cell_type": "code",
      "execution_count": null,
      "id": "12291252",
      "metadata": {
        "ExecuteTime": {
          "start_time": "2022-08-29T06:02:29.866Z"
        },
        "id": "12291252"
      },
      "outputs": [],
      "source": [
        "r=range(0,10,2)\n",
        "r[2]"
      ]
    },
    {
      "cell_type": "code",
      "execution_count": null,
      "id": "809338d3",
      "metadata": {
        "ExecuteTime": {
          "start_time": "2022-08-29T06:02:29.874Z"
        },
        "scrolled": true,
        "id": "809338d3"
      },
      "outputs": [],
      "source": [
        "a = [38, 21, 53, 62, 19]\n",
        "a          # 시퀀스 객체에 인덱스를 지정하지 않으면 시퀀스 객체 전체를 뜻함"
      ]
    },
    {
      "cell_type": "code",
      "execution_count": null,
      "id": "afc3cab5",
      "metadata": {
        "ExecuteTime": {
          "start_time": "2022-08-29T06:02:29.882Z"
        },
        "id": "afc3cab5"
      },
      "outputs": [],
      "source": [
        "a = [38, 21, 53, 62, 19]\n",
        "a.__getitem__(1)"
      ]
    },
    {
      "cell_type": "markdown",
      "id": "0f8e3caf",
      "metadata": {
        "id": "0f8e3caf"
      },
      "source": [
        "#### 음수 인덱스 지정하기"
      ]
    },
    {
      "cell_type": "code",
      "execution_count": null,
      "id": "314fa5b4",
      "metadata": {
        "ExecuteTime": {
          "start_time": "2022-08-29T06:02:29.892Z"
        },
        "id": "314fa5b4"
      },
      "outputs": [],
      "source": [
        "a = [38, 21, 53, 62, 19]\n",
        "a[-1]                   # 리스트 뒤에서 첫 번째(인덱스 -1) 요소 출력"
      ]
    },
    {
      "cell_type": "code",
      "execution_count": null,
      "id": "8700a1ae",
      "metadata": {
        "ExecuteTime": {
          "start_time": "2022-08-29T06:02:29.900Z"
        },
        "id": "8700a1ae"
      },
      "outputs": [],
      "source": [
        "a = [38, 21, 53, 62, 19]\n",
        "a[-5]                   # 리스트 뒤에서 첫 번째(인덱스 -5) 요소 출력"
      ]
    },
    {
      "cell_type": "markdown",
      "id": "2092895d",
      "metadata": {
        "id": "2092895d"
      },
      "source": [
        "#### 요소에 값 할당하기\n",
        "\n",
        "* 시퀀스객체[인덱스] = 값\n",
        "    - 튜플, range, 문자열은 안에 저장된 요소를 변경할 수 없다."
      ]
    },
    {
      "cell_type": "code",
      "execution_count": null,
      "id": "bb35edec",
      "metadata": {
        "ExecuteTime": {
          "start_time": "2022-08-29T06:02:29.910Z"
        },
        "id": "bb35edec"
      },
      "outputs": [],
      "source": [
        "a = [0, 0, 0, 0, 0]\n",
        "a[0] = 38\n",
        "a[1] = 21\n",
        "a[2] = 53\n",
        "a[3] = 62\n",
        "a[4] = 19\n",
        "\n",
        "a"
      ]
    },
    {
      "cell_type": "code",
      "execution_count": null,
      "id": "20ad9368",
      "metadata": {
        "ExecuteTime": {
          "start_time": "2022-08-29T06:02:29.917Z"
        },
        "id": "20ad9368"
      },
      "outputs": [],
      "source": [
        "a[0]"
      ]
    },
    {
      "cell_type": "code",
      "execution_count": null,
      "id": "a5b41446",
      "metadata": {
        "ExecuteTime": {
          "start_time": "2022-08-29T06:02:29.925Z"
        },
        "id": "a5b41446"
      },
      "outputs": [],
      "source": [
        "a[4]"
      ]
    },
    {
      "cell_type": "markdown",
      "id": "94208985",
      "metadata": {
        "id": "94208985"
      },
      "source": [
        "#### del로 요소 삭제하기\n",
        "\n",
        "* del 시퀀스객체[인덱스]"
      ]
    },
    {
      "cell_type": "code",
      "execution_count": null,
      "id": "3d917f40",
      "metadata": {
        "ExecuteTime": {
          "start_time": "2022-08-29T06:02:29.934Z"
        },
        "id": "3d917f40"
      },
      "outputs": [],
      "source": [
        "a = [38, 21, 53, 62, 19]\n",
        "del a[2]\n",
        "a"
      ]
    },
    {
      "cell_type": "markdown",
      "id": "ed2b6701",
      "metadata": {
        "ExecuteTime": {
          "end_time": "2022-08-29T01:31:02.755608Z",
          "start_time": "2022-08-29T01:31:02.741607Z"
        },
        "id": "ed2b6701"
      },
      "source": [
        "### 슬라이스 사용하기\n",
        "\n",
        "* 시퀀스 객체의 일부를 잘라낸다.\n",
        "    - 시퀀스객체[시작인덱스:끝인덱스]\n",
        "    - 시퀀스객체[시작인덱스:끝인덱스:인덱스증가폭]\n",
        "    - 시퀀스객체[:끝인덱스]\n",
        "    - 시퀀스객체[시작인덱스:]\n",
        "    - 시퀀스객체[:]\n",
        "    - 시퀀스객체[:끝인덱스:증가폭]\n",
        "    - 시퀀스객체[시작인덱스::증가폭]\n",
        "    - 시퀀스객체[::증가폭]\n",
        "    - 시퀀스객체[::]"
      ]
    },
    {
      "cell_type": "code",
      "execution_count": null,
      "id": "bf248b35",
      "metadata": {
        "ExecuteTime": {
          "start_time": "2022-08-29T06:02:29.944Z"
        },
        "id": "bf248b35"
      },
      "outputs": [],
      "source": [
        "a = [0, 10, 20, 30, 40, 50, 60, 70, 80, 90]\n",
        "a[0:4]   \n",
        "\n",
        "# 인덱스 0부터 3까지 잘라서 새 리스트를 만듦\n",
        "# 끝 인덱스는 실제로 가져오려는 인덱스보다 1을 더 크게 지정 해야한다."
      ]
    },
    {
      "cell_type": "markdown",
      "id": "5594d298",
      "metadata": {
        "ExecuteTime": {
          "end_time": "2022-08-29T01:38:47.675175Z",
          "start_time": "2022-08-29T01:38:47.662175Z"
        },
        "id": "5594d298"
      },
      "source": [
        "#### 슬라이스에 요소 할당하기\n",
        "\n",
        "* 시퀀스객체[시작인덱스:끝인덱스] = 시퀀스객체\n",
        "    - 슬라이스 범위와 할당할 리스트의 요소 개수가 맞지 않아도 됨.\n",
        "* 시퀀스객체[시작인덱스:끝인덱스:인덱스증가폭] = 시퀀스객체\n",
        "    - 슬라이스 범위와 할당할 리스트의 요소 개수가 맞아야됨."
      ]
    },
    {
      "cell_type": "code",
      "execution_count": null,
      "id": "7fefc1b7",
      "metadata": {
        "ExecuteTime": {
          "start_time": "2022-08-29T06:02:29.954Z"
        },
        "id": "7fefc1b7"
      },
      "outputs": [],
      "source": [
        "a = [0, 10, 20, 30, 40, 50, 60, 70, 80, 90]\n",
        "a[2:5] = ['a','b','c']\n",
        "a"
      ]
    },
    {
      "cell_type": "code",
      "execution_count": null,
      "id": "02a45973",
      "metadata": {
        "ExecuteTime": {
          "start_time": "2022-08-29T06:02:29.963Z"
        },
        "id": "02a45973"
      },
      "outputs": [],
      "source": [
        "a = [0, 10, 20, 30, 40, 50, 60, 70, 80, 90]\n",
        "a[2:5] = ['a']    # 인덱스 2부터 4까지에 값 1개를 할당하여 요소의 개수가 줄어듦\n",
        "a"
      ]
    },
    {
      "cell_type": "code",
      "execution_count": null,
      "id": "b7829f96",
      "metadata": {
        "ExecuteTime": {
          "start_time": "2022-08-29T06:02:29.972Z"
        },
        "id": "b7829f96"
      },
      "outputs": [],
      "source": [
        "a = [0, 10, 20, 30, 40, 50, 60, 70, 80, 90]\n",
        "a[2:8:2] = ['a','b','c']\n",
        "a"
      ]
    },
    {
      "cell_type": "markdown",
      "id": "67f408a6",
      "metadata": {
        "ExecuteTime": {
          "end_time": "2022-08-29T01:44:00.197862Z",
          "start_time": "2022-08-29T01:44:00.179879Z"
        },
        "id": "67f408a6"
      },
      "source": [
        "#### del로 슬라이스 삭제하기\n",
        "\n",
        "* del 시퀀스객체[시작인덱스:끝인덱스]\n",
        "* 튜플, range, 문자열은 del로 슬라이스를 삭제할 수 없다."
      ]
    },
    {
      "cell_type": "markdown",
      "id": "53afe3b5",
      "metadata": {
        "id": "53afe3b5"
      },
      "source": [
        "### 연습문제: 최근 3년간 인구 출력하기"
      ]
    },
    {
      "cell_type": "code",
      "execution_count": null,
      "id": "4f2b4be3",
      "metadata": {
        "ExecuteTime": {
          "start_time": "2022-08-29T06:02:29.984Z"
        },
        "id": "4f2b4be3"
      },
      "outputs": [],
      "source": [
        "year = [2011, 2012, 2013, 2014, 2015, 2016, 2017, 2018]\n",
        "population = [10249679, 10195318, 10143645, 10103233, 10022181, 9930616, 9857426, 9838892]\n",
        "\n",
        "print(year[-3:])\n",
        "print(population[-3:])"
      ]
    },
    {
      "cell_type": "markdown",
      "id": "0bc9730d",
      "metadata": {
        "ExecuteTime": {
          "end_time": "2022-08-29T01:52:42.619263Z",
          "start_time": "2022-08-29T01:52:42.611264Z"
        },
        "id": "0bc9730d"
      },
      "source": [
        "### 연습문제: 인덱스가 홀수인 요소 출력하기"
      ]
    },
    {
      "cell_type": "code",
      "execution_count": null,
      "id": "46f0e56b",
      "metadata": {
        "ExecuteTime": {
          "start_time": "2022-08-29T06:02:29.995Z"
        },
        "id": "46f0e56b"
      },
      "outputs": [],
      "source": [
        "n = -32, 75, 97, -10, 9, 32, 4, -15, 0, 76, 14, 2\n",
        "\n",
        "print(n[1::2])"
      ]
    },
    {
      "cell_type": "markdown",
      "id": "f2ffaffb",
      "metadata": {
        "id": "f2ffaffb"
      },
      "source": [
        "### 심사문제: 리스트의 마지막 부분 삭제하기"
      ]
    },
    {
      "cell_type": "code",
      "execution_count": null,
      "id": "b289c8b4",
      "metadata": {
        "ExecuteTime": {
          "start_time": "2022-08-29T06:02:30.006Z"
        },
        "id": "b289c8b4"
      },
      "outputs": [],
      "source": [
        "x = input().split()\n",
        "\n",
        "del x[-5::]\n",
        "print(tuple(x))"
      ]
    },
    {
      "cell_type": "markdown",
      "id": "c61b2386",
      "metadata": {
        "ExecuteTime": {
          "end_time": "2022-08-29T01:59:16.928917Z",
          "start_time": "2022-08-29T01:59:16.922901Z"
        },
        "id": "c61b2386"
      },
      "source": [
        "### 심사문제: 문자열에서 인덱스가 홀수인 문자와 짝수인 문자 연결하기"
      ]
    },
    {
      "cell_type": "code",
      "execution_count": null,
      "id": "f03f3df9",
      "metadata": {
        "ExecuteTime": {
          "start_time": "2022-08-29T06:02:30.018Z"
        },
        "id": "f03f3df9"
      },
      "outputs": [],
      "source": [
        "a=input()\n",
        "b=input()\n",
        "print(a[1::2]+b[0::2])"
      ]
    },
    {
      "cell_type": "markdown",
      "id": "44904f8b",
      "metadata": {
        "ExecuteTime": {
          "end_time": "2022-08-29T02:04:00.988367Z",
          "start_time": "2022-08-29T02:04:00.975372Z"
        },
        "id": "44904f8b"
      },
      "source": [
        "## 딕셔너리 사용하기"
      ]
    },
    {
      "cell_type": "markdown",
      "id": "73132a50",
      "metadata": {
        "ExecuteTime": {
          "end_time": "2022-08-29T02:15:53.610228Z",
          "start_time": "2022-08-29T02:15:53.589233Z"
        },
        "id": "73132a50"
      },
      "source": [
        "### 딕셔너리 만들기\n",
        "\n",
        "* 딕셔너리는 {}(중괄호)안에 키:값 형식으로 저장되며, 각 키와 값은 ,(콤마)로 구분\n",
        "    - 딕셔너리 = {키1:값1, 키2:값2}\n",
        "    - 키 이름이 중복되면 가장 뒤에 있는 값만 사용\n",
        "    - 딕셔너리 = dict(키1=값1, 키2=값2)\n",
        "    - 딕셔너리 = dict(zip([키1, 키2], [값1, 값2]))\n",
        "    - 딕셔너리 = dict([(키1, 값1), (키2, 값2)])\n",
        "    - 딕셔너리 = dict(zip(['키1','키2'],[값1,값2]))\n",
        "    - 딕셔너리 = dict({키1: 값1, 키2: 값2})\n",
        "        - dic에서 키에 ''(작은따옴표)나 \"\"(큰따옴표)를 사용하지 않아야 한다.\n",
        "        - 키는 딕셔너리를 만들고 나면 문자열로 바뀐다.\n",
        "* 딕셔너리의 키는 문자열, 정수 등과 불도 사용가능하고 자료형을 섞어서 사용해도 된다.\n",
        "    - 키에는 리스트와 딕셔너리 사용 불가\n",
        "* 딕셔너리의 값은 리스트, 딕셔너리 등을 포함하여 모든 자료형 사용가능"
      ]
    },
    {
      "cell_type": "code",
      "execution_count": null,
      "id": "bf815dc5",
      "metadata": {
        "ExecuteTime": {
          "start_time": "2022-08-29T06:02:30.033Z"
        },
        "id": "bf815dc5"
      },
      "outputs": [],
      "source": [
        "lux = {'health': 490, 'mana': 334, 'melee': 550, 'armor': 18.72}\n",
        "lux"
      ]
    },
    {
      "cell_type": "code",
      "execution_count": null,
      "id": "974fefe5",
      "metadata": {
        "ExecuteTime": {
          "start_time": "2022-08-29T06:02:30.041Z"
        },
        "id": "974fefe5"
      },
      "outputs": [],
      "source": [
        "lux = {'health': 490, 'health': 800, 'mana': 334, 'melee': 550, 'armor': 18.72}\n",
        "lux['health']"
      ]
    },
    {
      "cell_type": "code",
      "execution_count": null,
      "id": "53764c6b",
      "metadata": {
        "ExecuteTime": {
          "start_time": "2022-08-29T06:02:30.049Z"
        },
        "id": "53764c6b"
      },
      "outputs": [],
      "source": [
        "lux"
      ]
    },
    {
      "cell_type": "markdown",
      "id": "3338db5d",
      "metadata": {
        "id": "3338db5d"
      },
      "source": [
        "### 딕셔너리의 키에 접근하고 값 할당하기\n",
        "\n",
        "* 딕셔너리['키']\n",
        "* 딕셔너리에 없는 키에 값을 할당하면 해당 키가 추가되고 값이 할당된다."
      ]
    },
    {
      "cell_type": "code",
      "execution_count": null,
      "id": "a349b612",
      "metadata": {
        "ExecuteTime": {
          "start_time": "2022-08-29T06:02:30.059Z"
        },
        "id": "a349b612"
      },
      "outputs": [],
      "source": [
        "lux = {'health': 490, 'mana': 334, 'melee': 550, 'armor': 18.72}\n",
        "lux['health']"
      ]
    },
    {
      "cell_type": "code",
      "execution_count": null,
      "id": "3b4b9af8",
      "metadata": {
        "ExecuteTime": {
          "start_time": "2022-08-29T06:02:30.067Z"
        },
        "id": "3b4b9af8"
      },
      "outputs": [],
      "source": [
        "lux = {'health': 490, 'mana': 334, 'melee': 550, 'armor': 18.72}\n",
        "lux            #딕셔너리에 키를 지정하지 않으면 딕셔너리 전체를 뜻함"
      ]
    },
    {
      "cell_type": "markdown",
      "id": "27bbce99",
      "metadata": {
        "id": "27bbce99"
      },
      "source": [
        "### 심사문제: 딕셔너리에 게임 캐릭터 능력치 저장하기"
      ]
    },
    {
      "cell_type": "code",
      "execution_count": null,
      "id": "643ff37b",
      "metadata": {
        "ExecuteTime": {
          "start_time": "2022-08-29T06:02:30.076Z"
        },
        "scrolled": false,
        "id": "643ff37b"
      },
      "outputs": [],
      "source": [
        "a=input().split()\n",
        "b=map(float,input().split())\n",
        "c=dict(zip(a,b))\n",
        "print(c)"
      ]
    },
    {
      "cell_type": "markdown",
      "id": "68f439b2",
      "metadata": {
        "id": "68f439b2"
      },
      "source": [
        "## if 조건문으로 특정 조건일 때 코드 실행하기"
      ]
    },
    {
      "cell_type": "markdown",
      "id": "a49d7b6b",
      "metadata": {
        "id": "a49d7b6b"
      },
      "source": [
        "### if 조건문 사용하기\n",
        "\n",
        "* 변수 할당, if 조건문 (끝에 :(콜론)), 조건식이 만족할 때 실행할 코드(들여쓰기)\n",
        "* if 조건문의 조건식에는 =(할당 연산자)를 사용할 수 없다.\n",
        "    - 나머지 ' >, is, not, !='  연산자는 사용할 수 있다."
      ]
    },
    {
      "cell_type": "markdown",
      "id": "849db542",
      "metadata": {
        "ExecuteTime": {
          "end_time": "2022-08-29T02:52:58.008837Z",
          "start_time": "2022-08-29T02:52:57.999839Z"
        },
        "id": "849db542"
      },
      "source": [
        "### if 조건문과 들여쓰기"
      ]
    },
    {
      "cell_type": "code",
      "execution_count": null,
      "id": "4f7ed9a6",
      "metadata": {
        "ExecuteTime": {
          "start_time": "2022-08-29T06:02:30.089Z"
        },
        "id": "4f7ed9a6"
      },
      "outputs": [],
      "source": [
        "x=10\n",
        "\n",
        "if x==10:\n",
        "    print('x에 들어있는 숫자는')\n",
        "    print('10입니다.')"
      ]
    },
    {
      "cell_type": "markdown",
      "id": "d7d274bb",
      "metadata": {
        "ExecuteTime": {
          "end_time": "2022-08-29T02:54:27.925821Z",
          "start_time": "2022-08-29T02:54:27.909820Z"
        },
        "id": "d7d274bb"
      },
      "source": [
        "### 중첩 if 조건문 사용하기"
      ]
    },
    {
      "cell_type": "code",
      "execution_count": null,
      "id": "642dfe20",
      "metadata": {
        "ExecuteTime": {
          "start_time": "2022-08-29T06:02:30.104Z"
        },
        "id": "642dfe20"
      },
      "outputs": [],
      "source": [
        "x=15\n",
        "if x>= 10:\n",
        "    print('10 이상입니다.')\n",
        "    \n",
        "    if x==15:\n",
        "        print('15입니다.')\n",
        "    if x==20:\n",
        "        print('20입니다')"
      ]
    },
    {
      "cell_type": "markdown",
      "id": "52e71ed7",
      "metadata": {
        "ExecuteTime": {
          "end_time": "2022-08-29T02:57:03.479050Z",
          "start_time": "2022-08-29T02:57:03.461054Z"
        },
        "id": "52e71ed7"
      },
      "source": [
        "### 사용자가 입력한 값에 if 조건문 사용하기"
      ]
    },
    {
      "cell_type": "code",
      "execution_count": null,
      "id": "80255fdb",
      "metadata": {
        "ExecuteTime": {
          "start_time": "2022-08-29T06:02:30.120Z"
        },
        "id": "80255fdb"
      },
      "outputs": [],
      "source": [
        "x = int(input())\n",
        "\n",
        "if x==10:\n",
        "    print('10입니다.')\n",
        "if x==20:\n",
        "    print('20입니다.')"
      ]
    },
    {
      "cell_type": "markdown",
      "id": "702d73e9",
      "metadata": {
        "ExecuteTime": {
          "end_time": "2022-08-29T03:01:26.640527Z",
          "start_time": "2022-08-29T03:01:26.635526Z"
        },
        "id": "702d73e9"
      },
      "source": [
        "### 심사문제: 온라인 할인 쿠폰 시스템 만들기"
      ]
    },
    {
      "cell_type": "code",
      "execution_count": null,
      "id": "dc3ac405",
      "metadata": {
        "ExecuteTime": {
          "start_time": "2022-08-29T06:02:30.129Z"
        },
        "id": "dc3ac405"
      },
      "outputs": [],
      "source": [
        "a=int(input())\n",
        "b=input()\n",
        "if b == 'Cash3000':\n",
        "    a-=3000\n",
        "if b == 'Cash5000':\n",
        "    a-=5000\n",
        "print(a)"
      ]
    },
    {
      "cell_type": "markdown",
      "id": "44eb3faf",
      "metadata": {
        "id": "44eb3faf"
      },
      "source": [
        "## else를 사용하여 두 방향으로 분기하기\n",
        "\n",
        "* if 광고 전화인가?:\\\n",
        "    전화를 끊고, 차단 목록에 등록한다.\\\n",
        "  else:\\\n",
        "    계속 통화한다."
      ]
    },
    {
      "cell_type": "markdown",
      "id": "02fe2805",
      "metadata": {
        "id": "02fe2805"
      },
      "source": [
        "### else 사용하기\n",
        "\n",
        "* else는 if 조건문 뒤에 오며 단독으로 사용할 수 없다.\n",
        "* if와 마찬가지로 else도 :(콜론)을 붙이며 다음 줄에 실행할 코드가 온다.\n",
        "* 조건식이 참(True)이면 if의 코드(if 본문)가 실행되고,\\\n",
        "  거짓(False)이면 else의 코드(else 본문)가 실행된다."
      ]
    },
    {
      "cell_type": "code",
      "execution_count": null,
      "id": "da270b21",
      "metadata": {
        "ExecuteTime": {
          "start_time": "2022-08-29T06:02:30.142Z"
        },
        "id": "da270b21"
      },
      "outputs": [],
      "source": [
        "x=5\n",
        "if x ==10:\n",
        "    print('10입니다.')\n",
        "else:\n",
        "    print('10이 아닙니다.')\n"
      ]
    },
    {
      "cell_type": "markdown",
      "id": "b65c9717",
      "metadata": {
        "id": "b65c9717"
      },
      "source": [
        "### else와 들여쓰기"
      ]
    },
    {
      "cell_type": "markdown",
      "id": "3cf6a48a",
      "metadata": {
        "ExecuteTime": {
          "end_time": "2022-08-29T03:16:03.199474Z",
          "start_time": "2022-08-29T03:16:03.181485Z"
        },
        "id": "3cf6a48a"
      },
      "source": [
        "### if 조건문의 동작 방식 알아보기\n",
        "\n",
        "* Flase 로 취급하는 것들\n",
        "    - None\n",
        "    - False\n",
        "    - 0 인 숫자들: 0, 0.0, 0j\n",
        "    - 비어 있는 문자열, 리스트, 튜플, 딕셔너리, 세트: \n",
        "        - '', \"\", [], (), {}, set()"
      ]
    },
    {
      "cell_type": "markdown",
      "id": "81bc4f3e",
      "metadata": {
        "ExecuteTime": {
          "end_time": "2022-08-29T03:19:21.390668Z",
          "start_time": "2022-08-29T03:19:21.378668Z"
        },
        "id": "81bc4f3e"
      },
      "source": [
        "### 조건식을 여러 개 지정하기"
      ]
    },
    {
      "cell_type": "markdown",
      "id": "bd110762",
      "metadata": {
        "id": "bd110762"
      },
      "source": [
        "### 연습문제: 합격 여부 판단하기"
      ]
    },
    {
      "cell_type": "code",
      "execution_count": null,
      "id": "57e21c42",
      "metadata": {
        "ExecuteTime": {
          "start_time": "2022-08-29T06:02:30.159Z"
        },
        "id": "57e21c42"
      },
      "outputs": [],
      "source": [
        "written_test = 75\n",
        "coding_test = True\n",
        "\n",
        "if written_test >= 80 and coding_test == True:\n",
        "    print('합격')\n",
        "else:\n",
        "    print('불합격')"
      ]
    },
    {
      "cell_type": "markdown",
      "id": "ce32c5c3",
      "metadata": {
        "id": "ce32c5c3"
      },
      "source": [
        "### 심사문제: 합격 여부 판단하기"
      ]
    },
    {
      "cell_type": "code",
      "execution_count": null,
      "id": "1536ad66",
      "metadata": {
        "ExecuteTime": {
          "start_time": "2022-08-29T06:02:30.176Z"
        },
        "id": "1536ad66"
      },
      "outputs": [],
      "source": [
        "국어, 영어, 수학, 과학 = map(int,input().split())\n",
        "if 0 > 국어 or 국어 > 100 or 0 > 영어 or 영어 > 100 or 0 > 수학 or 수학 > 100 or 0 > 과학 or 과학 > 100:\n",
        "    print('잘못된 점수')\n",
        "    \n",
        "else:\n",
        "    if (국어+영어+수학+과학) / 4 >= 80:\n",
        "        print('합격')\n",
        "    else:\n",
        "        print('불합격')"
      ]
    },
    {
      "cell_type": "markdown",
      "id": "68d96be5",
      "metadata": {
        "id": "68d96be5"
      },
      "source": [
        "## elif를 사용하여 여러 방향으로 분기하기\n",
        "\n",
        "* if 콜라 버튼을 눌렀다면:\\\n",
        "    콜라를 내보냄\\\n",
        "  elif 사이다 버튼을 눌렀다면:\\\n",
        "    사이다를 내보냄\\\n",
        "  elif 환타 버튼을 눌렀다면:\\\n",
        "    환타를 내보냄:\\\n",
        "  else:\\\n",
        "    제공하지 않는 메뉴"
      ]
    },
    {
      "cell_type": "code",
      "execution_count": null,
      "id": "5ca85a53",
      "metadata": {
        "ExecuteTime": {
          "start_time": "2022-08-29T06:02:30.188Z"
        },
        "id": "5ca85a53"
      },
      "outputs": [],
      "source": [
        "x = 30\n",
        " \n",
        "if x == 10:             # x가 10일 때\n",
        "    print('10입니다.')\n",
        "elif x == 20:           # x가 20일 때\n",
        "    print('20입니다.')\n",
        "else:                   # 앞의 조건식에 모두 만족하지 않을 때\n",
        "    print('10도 20도 아닙니다.')"
      ]
    },
    {
      "cell_type": "markdown",
      "id": "1a34d7ce",
      "metadata": {
        "id": "1a34d7ce"
      },
      "source": [
        "### 심사문제: 교통카드 시스템 만들기"
      ]
    },
    {
      "cell_type": "code",
      "execution_count": null,
      "id": "c1c27594",
      "metadata": {
        "ExecuteTime": {
          "start_time": "2022-08-29T06:02:30.200Z"
        },
        "id": "c1c27594"
      },
      "outputs": [],
      "source": [
        "age = int(input())\n",
        "balance = 9000\n",
        "\n",
        "if 7 <= age <= 12:\n",
        "    balance-=650\n",
        "elif 13 <= age <= 18:\n",
        "    balance-=1050\n",
        "elif age >= 19:\n",
        "    balance-=1250\n",
        "    \n",
        "print(balance)"
      ]
    },
    {
      "cell_type": "markdown",
      "id": "b46f4fe3",
      "metadata": {
        "id": "b46f4fe3"
      },
      "source": [
        "## for  반복문으로 Hello, world! 100번 출력하기"
      ]
    },
    {
      "cell_type": "markdown",
      "id": "d8ecd69b",
      "metadata": {
        "id": "d8ecd69b"
      },
      "source": [
        "### for와 range 사용하기\n",
        "\n",
        "\n",
        "* for 변수 in ragne(횟수):\n",
        "       반복할 코드"
      ]
    },
    {
      "cell_type": "code",
      "execution_count": null,
      "id": "c9fa4b7c",
      "metadata": {
        "ExecuteTime": {
          "start_time": "2022-08-29T06:02:30.214Z"
        },
        "id": "c9fa4b7c"
      },
      "outputs": [],
      "source": [
        "for i in range(5):\n",
        "    print('Hello, world!')"
      ]
    },
    {
      "cell_type": "code",
      "execution_count": null,
      "id": "aaa6307d",
      "metadata": {
        "ExecuteTime": {
          "start_time": "2022-08-29T06:02:30.222Z"
        },
        "id": "aaa6307d"
      },
      "outputs": [],
      "source": [
        "for i in range(5):\n",
        "    print('Hello, world!',i)"
      ]
    },
    {
      "cell_type": "markdown",
      "id": "ed533477",
      "metadata": {
        "ExecuteTime": {
          "end_time": "2022-08-29T03:52:50.879587Z",
          "start_time": "2022-08-29T03:52:50.868584Z"
        },
        "id": "ed533477"
      },
      "source": [
        "### for 와 range 응용하기\n",
        "\n",
        "* for 변수 in range(횟수)\n",
        "* for 변수 in range(시작,끝)\n",
        "* for 변수 in range(시작,끝,증가폭)\n",
        "    - 반복문 변수 i를 변경해도 영향을 미치지 못 한다.\n",
        "* for 에 range 대신 리스트, 튜플, 문자열 등 시퀀스 객체로 반복할 수 있다."
      ]
    },
    {
      "cell_type": "code",
      "execution_count": null,
      "id": "0859b601",
      "metadata": {
        "ExecuteTime": {
          "start_time": "2022-08-29T06:02:30.232Z"
        },
        "id": "0859b601"
      },
      "outputs": [],
      "source": [
        "a=[10, 20, 30, 40, 50]\n",
        "for i in a:\n",
        "    print(i)"
      ]
    },
    {
      "cell_type": "code",
      "execution_count": null,
      "id": "5f3ae594",
      "metadata": {
        "ExecuteTime": {
          "start_time": "2022-08-29T06:02:30.241Z"
        },
        "id": "5f3ae594"
      },
      "outputs": [],
      "source": [
        "fruits = ('apple', 'orange', 'grape')\n",
        "for fruit in fruits:\n",
        "    print(fruit)"
      ]
    },
    {
      "cell_type": "code",
      "execution_count": null,
      "id": "0cee6649",
      "metadata": {
        "ExecuteTime": {
          "start_time": "2022-08-29T06:02:30.249Z"
        },
        "id": "0cee6649"
      },
      "outputs": [],
      "source": [
        "for letter in 'Python':\n",
        "    print(letter, end=' ')"
      ]
    },
    {
      "cell_type": "markdown",
      "id": "40e46aa4",
      "metadata": {
        "ExecuteTime": {
          "end_time": "2022-08-29T05:03:22.314969Z",
          "start_time": "2022-08-29T05:03:22.310968Z"
        },
        "id": "40e46aa4"
      },
      "source": [
        "### 심사문제: 구구단 출력하기"
      ]
    },
    {
      "cell_type": "code",
      "execution_count": null,
      "id": "722a13b5",
      "metadata": {
        "ExecuteTime": {
          "start_time": "2022-08-29T06:02:30.260Z"
        },
        "id": "722a13b5"
      },
      "outputs": [],
      "source": [
        "a=int(input())\n",
        "for i in range(1,10):\n",
        "    print(a,'*',i,'=',a*i)"
      ]
    },
    {
      "cell_type": "markdown",
      "id": "e03a2bf6",
      "metadata": {
        "ExecuteTime": {
          "end_time": "2022-08-29T05:13:56.240904Z",
          "start_time": "2022-08-29T05:13:56.235927Z"
        },
        "id": "e03a2bf6"
      },
      "source": [
        "## while 반복문으로 Hello, world! 100번 출력하기\n",
        "\n",
        "* while 반복문은 조건식으로만 동작하며 반복할 코드 안에 조건식에 영향을 주는 변화식이 들어간다.\n",
        "    - i = 0                          \n",
        "      while i < 100:             \n",
        "          print('Hello, world!')  \n",
        "          i =+1                   \n",
        " #초기식\\\n",
        " #조건식:\\\n",
        " #반복할 코드\\\n",
        " #변화식"
      ]
    },
    {
      "cell_type": "markdown",
      "id": "ae846a83",
      "metadata": {
        "id": "ae846a83"
      },
      "source": [
        "### while 반복문 사용하기"
      ]
    },
    {
      "cell_type": "code",
      "execution_count": null,
      "id": "d326caa7",
      "metadata": {
        "ExecuteTime": {
          "start_time": "2022-08-29T06:02:30.272Z"
        },
        "id": "d326caa7"
      },
      "outputs": [],
      "source": [
        "i=1\n",
        "while i <= 5:\n",
        "    print('Hello, world!')\n",
        "    i +=1"
      ]
    },
    {
      "cell_type": "code",
      "execution_count": null,
      "id": "f2a72443",
      "metadata": {
        "ExecuteTime": {
          "start_time": "2022-08-29T06:02:30.280Z"
        },
        "id": "f2a72443"
      },
      "outputs": [],
      "source": [
        "i=5\n",
        "while i > 0:\n",
        "    print('Hello, world!',i)\n",
        "    i -= 1"
      ]
    },
    {
      "cell_type": "markdown",
      "id": "8e33cfdb",
      "metadata": {
        "id": "8e33cfdb"
      },
      "source": [
        "### 반복 횟수가 정해지지 않은 경우\n",
        "\n",
        "* 난수(random number): 특정 주기로 반복되지 않으며 규칙 없는 무작위 나열\n",
        "* randint 함수는 난수를 생성할 범위를 지정(범위에 지정한 숫자도 난수에 포함)"
      ]
    },
    {
      "cell_type": "code",
      "execution_count": null,
      "id": "e57727de",
      "metadata": {
        "ExecuteTime": {
          "start_time": "2022-08-29T06:02:30.291Z"
        },
        "id": "e57727de"
      },
      "outputs": [],
      "source": [
        "import random"
      ]
    },
    {
      "cell_type": "code",
      "execution_count": null,
      "id": "4e7be60d",
      "metadata": {
        "ExecuteTime": {
          "start_time": "2022-08-29T06:02:30.299Z"
        },
        "id": "4e7be60d"
      },
      "outputs": [],
      "source": [
        "random.random()"
      ]
    },
    {
      "cell_type": "code",
      "execution_count": null,
      "id": "17fdb721",
      "metadata": {
        "ExecuteTime": {
          "start_time": "2022-08-29T06:02:30.307Z"
        },
        "id": "17fdb721"
      },
      "outputs": [],
      "source": [
        "random.randint(1,6)"
      ]
    },
    {
      "cell_type": "code",
      "execution_count": null,
      "id": "30fa7348",
      "metadata": {
        "ExecuteTime": {
          "start_time": "2022-08-29T06:02:30.315Z"
        },
        "id": "30fa7348"
      },
      "outputs": [],
      "source": [
        "import random\n",
        "\n",
        "i = 0\n",
        "while i !=3:\n",
        "    i = random.randint(1,6)\n",
        "    print(i)"
      ]
    },
    {
      "cell_type": "code",
      "execution_count": null,
      "id": "60af3c42",
      "metadata": {
        "ExecuteTime": {
          "start_time": "2022-08-29T06:02:30.324Z"
        },
        "id": "60af3c42"
      },
      "outputs": [],
      "source": [
        "dice = [1, 2, 3, 4, 5, 6]\n",
        "random.choice(dice)"
      ]
    },
    {
      "cell_type": "markdown",
      "id": "65653c5f",
      "metadata": {
        "id": "65653c5f"
      },
      "source": [
        "### while 반복문으로 무한 루프 만들기\n",
        "\n",
        "*  Ctrl + C 를 입력하여 무한 루프를 끝낼 수 있다."
      ]
    },
    {
      "cell_type": "markdown",
      "id": "dc296573",
      "metadata": {
        "id": "dc296573"
      },
      "source": [
        "### 심사문제: 교통카드 잔액 출력하기"
      ]
    },
    {
      "cell_type": "code",
      "execution_count": null,
      "id": "b285369c",
      "metadata": {
        "ExecuteTime": {
          "start_time": "2022-08-29T06:02:30.336Z"
        },
        "id": "b285369c"
      },
      "outputs": [],
      "source": [
        "a=int(input())\n",
        "while a >= 1350:\n",
        "    a -= 1350\n",
        "    print(a)\n",
        "    "
      ]
    },
    {
      "cell_type": "markdown",
      "id": "99b07dd5",
      "metadata": {
        "id": "99b07dd5"
      },
      "source": [
        "## break, continue 로 반복문 제어하기\n",
        "\n",
        "* break 는 for와 while 문법에서 제어흐름(반복)을 벗어나기 위해 사용한다.(루프 중단)\n",
        "* continue는 제어흐름(반복)을 유지한 상태에서 코드의 실행만 건너뛴다.\n",
        "    - break: 제어흐름(반복) 중단\n",
        "    - continue: 제어흐름 유지, 코드 실행만 건너뜀"
      ]
    },
    {
      "cell_type": "markdown",
      "id": "51ab64c0",
      "metadata": {
        "ExecuteTime": {
          "end_time": "2022-08-29T05:41:23.862402Z",
          "start_time": "2022-08-29T05:41:23.855416Z"
        },
        "id": "51ab64c0"
      },
      "source": [
        "### break로 반복문 끝내기"
      ]
    },
    {
      "cell_type": "code",
      "execution_count": null,
      "id": "ea701bd8",
      "metadata": {
        "ExecuteTime": {
          "start_time": "2022-08-29T06:02:30.348Z"
        },
        "id": "ea701bd8"
      },
      "outputs": [],
      "source": [
        "i=0\n",
        "while True:\n",
        "    print(i)\n",
        "    i += 1\n",
        "    if i == 10:\n",
        "        break\n",
        "        \n",
        "# break 에는 :(콜론)을 붙이지 않는다."
      ]
    },
    {
      "cell_type": "code",
      "execution_count": null,
      "id": "8e978f93",
      "metadata": {
        "ExecuteTime": {
          "start_time": "2022-08-29T06:02:30.356Z"
        },
        "id": "8e978f93"
      },
      "outputs": [],
      "source": [
        "for i in range(10000):\n",
        "    print(i)\n",
        "    if i == 10:\n",
        "        break"
      ]
    },
    {
      "cell_type": "markdown",
      "id": "0cc6dd9c",
      "metadata": {
        "ExecuteTime": {
          "end_time": "2022-08-29T05:44:31.623654Z",
          "start_time": "2022-08-29T05:44:31.615657Z"
        },
        "id": "0cc6dd9c"
      },
      "source": [
        "### continue 로 코드 실행 건너뛰기"
      ]
    },
    {
      "cell_type": "code",
      "execution_count": null,
      "id": "a39fba52",
      "metadata": {
        "ExecuteTime": {
          "start_time": "2022-08-29T06:02:30.369Z"
        },
        "id": "a39fba52"
      },
      "outputs": [],
      "source": [
        "for i in range(10):\n",
        "    if i % 3 != 0:\n",
        "        continue\n",
        "    print(i)"
      ]
    },
    {
      "cell_type": "code",
      "execution_count": null,
      "id": "8a2439d4",
      "metadata": {
        "ExecuteTime": {
          "start_time": "2022-08-29T06:02:30.378Z"
        },
        "id": "8a2439d4"
      },
      "outputs": [],
      "source": [
        "for i in range(10):\n",
        "    if i % 3 != 0:\n",
        "        break\n",
        "    print(i)"
      ]
    },
    {
      "cell_type": "code",
      "execution_count": null,
      "id": "3db5bbb0",
      "metadata": {
        "ExecuteTime": {
          "start_time": "2022-08-29T06:02:30.385Z"
        },
        "id": "3db5bbb0"
      },
      "outputs": [],
      "source": [
        "i=0\n",
        "while i < 10:\n",
        "    i += 1\n",
        "    if i % 2 == 0:\n",
        "        continue\n",
        "    print(i)"
      ]
    },
    {
      "cell_type": "markdown",
      "id": "565dffa3",
      "metadata": {
        "ExecuteTime": {
          "end_time": "2022-08-29T05:49:46.098288Z",
          "start_time": "2022-08-29T05:49:46.081290Z"
        },
        "id": "565dffa3"
      },
      "source": [
        "### 입력한 횟수대로 반복하기"
      ]
    },
    {
      "cell_type": "code",
      "execution_count": null,
      "id": "a0246b55",
      "metadata": {
        "ExecuteTime": {
          "start_time": "2022-08-29T06:02:30.396Z"
        },
        "id": "a0246b55"
      },
      "outputs": [],
      "source": [
        "count = int(input('반복할 횟수를 입력하세요: '))\n",
        " \n",
        "i = 0\n",
        "while True:    # 무한 루프\n",
        "    print(i)\n",
        "    i += 1\n",
        "    if i == count:    # i가 입력받은 값과 같을 때\n",
        "        break         # 반복문을 끝냄"
      ]
    },
    {
      "cell_type": "markdown",
      "id": "207be3ac",
      "metadata": {
        "id": "207be3ac"
      },
      "source": [
        "### 심사문제: 두 수 사이의 숫자 중 3으로 끝나지 않는 숫자 출력하기"
      ]
    },
    {
      "cell_type": "code",
      "execution_count": null,
      "id": "0c2ae8fb",
      "metadata": {
        "ExecuteTime": {
          "end_time": "2022-08-29T06:04:55.517025Z",
          "start_time": "2022-08-29T06:04:55.517025Z"
        },
        "id": "0c2ae8fb"
      },
      "outputs": [],
      "source": [
        "start, stop = map(int, input().split())\n",
        "i = start\n",
        "while True:\n",
        "    if i>stop:\n",
        "        break\n",
        "    if i%10==3:\n",
        "        i+=1\n",
        "        continue\n",
        "    print(i,end=' ')\n",
        "    i+=1"
      ]
    },
    {
      "cell_type": "markdown",
      "id": "06fde0a0",
      "metadata": {
        "ExecuteTime": {
          "end_time": "2022-08-29T06:07:15.065811Z",
          "start_time": "2022-08-29T06:07:15.052813Z"
        },
        "id": "06fde0a0"
      },
      "source": [
        "## 계단식으로 별 출력하기\n",
        "\n",
        "* 중첩 루프 (가로 x 세로 2차원)"
      ]
    },
    {
      "cell_type": "code",
      "execution_count": null,
      "id": "f6ee9e6e",
      "metadata": {
        "ExecuteTime": {
          "end_time": "2022-08-29T06:08:02.895018Z",
          "start_time": "2022-08-29T06:08:02.866018Z"
        },
        "id": "f6ee9e6e"
      },
      "outputs": [],
      "source": [
        "for i in range(5):          # 5번 반복. 바깥쪽 루프는 세로 방향\n",
        "    for j in range(5):      # 5번 반복. 안쪽 루프는 가로 방향\n",
        "        print('j:', j, sep='', end=' ')    # j값 출력. end에 ' '를 지정하여 줄바꿈 대신 한 칸 띄움\n",
        "    print('i:', i, '\\\\n', sep='')    # i값 출력, 개행 문자 모양도 출력\n",
        "                                     # 가로 방향으로 숫자를 모두 출력한 뒤 다음 줄로 넘어감\n",
        "                                     # (print는 기본적으로 출력 후 다음 줄로 넘어감)"
      ]
    },
    {
      "cell_type": "code",
      "execution_count": null,
      "id": "c2bce9a2",
      "metadata": {
        "ExecuteTime": {
          "end_time": "2022-08-29T06:08:17.633804Z",
          "start_time": "2022-08-29T06:08:17.618804Z"
        },
        "id": "c2bce9a2"
      },
      "outputs": [],
      "source": [
        "for i in range(5):            # 5번 반복. 바깥쪽 루프는 세로 방향\n",
        "    for j in range(5):        # 5번 반복. 안쪽 루프는 가로 방향\n",
        "        print('*', end='')    # 별 출력. end에 ''를 지정하여 줄바꿈을 하지 않음\n",
        "    print()    # 가로 방향으로 별을 다 그린 뒤 다음 줄로 넘어감\n",
        "               # (print는 출력 후 기본적으로 다음 줄로 넘어감)"
      ]
    },
    {
      "cell_type": "markdown",
      "id": "6bcbc4a5",
      "metadata": {
        "id": "6bcbc4a5"
      },
      "source": [
        "## 리스트와 튜플 응용하기"
      ]
    },
    {
      "cell_type": "markdown",
      "id": "63d349c0",
      "metadata": {
        "id": "63d349c0"
      },
      "source": [
        "### 리스트 조작하기\n",
        "\n",
        "* append: 요소 하나를 추가\n",
        "* extend: 리스트를 연결하여 확장\n",
        "    - 메서드를 호출한 리스트가 변경되며 새 리스트는 생성되지 않음\n",
        "* insert: 특정 인덱스에 요소 추가\n",
        "    - insert(0,요소): 리스트의 맨 처음에 요소를 추가\n",
        "    - insert(len(리스트),요소): 리스트 끝에 요소를 추가\n",
        "    - '슬라이스'와 같은역활을 한다.\n",
        "* pop: 리스트의 마지막 요소를 삭제한 뒤 삭제한 요소를 반환한다. \n",
        "* remove(값): 리스트에서 특정 값을 찾아서 삭제한다.\n",
        "    - 리스트에 같은 값이 여러개 있을 경우 처음 찾은 값을 삭제한다.\n",
        "* index(값): 리스트에서 특정 값의 인덱스를 구한다. \n",
        "    - 같은 값이 여러 개일 경우 처음 찾은 인덱스를 구한다.\n",
        "* count(값): 리스트에서 특정 값의 개수를 구한다.\n",
        "* reverse(): 리스트에서 요소의 순서를 반대로 뒤집는다.\n",
        "* sort(): 리스트의 요소를 작은 순서대로 정렬한다.(오름차순)\n",
        "    - = sort(reverse=False)\n",
        "    - sorted 는 오름차순으로 정렬하면서 새로운 리스트를 생성한다.\n",
        "    - <-> sort(reverse=True): 내림차순\n",
        "* clear(): 리스트의 모든 요소를 삭제한다. \n",
        "    - = del a[:]"
      ]
    },
    {
      "cell_type": "code",
      "execution_count": null,
      "id": "77286ea7",
      "metadata": {
        "ExecuteTime": {
          "end_time": "2022-08-29T06:19:22.646626Z",
          "start_time": "2022-08-29T06:19:22.631623Z"
        },
        "id": "77286ea7"
      },
      "outputs": [],
      "source": [
        "a=[10,20,30]\n",
        "a.append(500)\n",
        "a"
      ]
    },
    {
      "cell_type": "code",
      "execution_count": null,
      "id": "33c73d24",
      "metadata": {
        "ExecuteTime": {
          "end_time": "2022-08-29T06:20:34.704708Z",
          "start_time": "2022-08-29T06:20:34.677706Z"
        },
        "id": "33c73d24"
      },
      "outputs": [],
      "source": [
        "a=[10,20,30]\n",
        "a.append([500,600])   # 리스트 a 안에 리스트 [500,600] 넣기\n",
        "a                     # 중첩 리스트"
      ]
    },
    {
      "cell_type": "code",
      "execution_count": null,
      "id": "14c6fe36",
      "metadata": {
        "ExecuteTime": {
          "end_time": "2022-08-29T06:21:16.129116Z",
          "start_time": "2022-08-29T06:21:16.114119Z"
        },
        "id": "14c6fe36"
      },
      "outputs": [],
      "source": [
        "a=[10,20,30]\n",
        "a.extend([500,600])   # 리스트 a 안에 여러 요소를 추가\n",
        "a"
      ]
    },
    {
      "cell_type": "code",
      "execution_count": null,
      "id": "0b0016ec",
      "metadata": {
        "ExecuteTime": {
          "end_time": "2022-08-29T06:22:58.429852Z",
          "start_time": "2022-08-29T06:22:58.417851Z"
        },
        "id": "0b0016ec"
      },
      "outputs": [],
      "source": [
        "a=[10,20,30]\n",
        "a.insert(2,500)        # 인덱스 2에 500 요소 추가\n",
        "a"
      ]
    },
    {
      "cell_type": "code",
      "execution_count": null,
      "id": "7ee75c41",
      "metadata": {
        "ExecuteTime": {
          "end_time": "2022-08-29T06:26:19.216812Z",
          "start_time": "2022-08-29T06:26:19.199811Z"
        },
        "id": "7ee75c41"
      },
      "outputs": [],
      "source": [
        "a=[10,20,30]\n",
        "a[2:2] = [500]         # insert  메서드 대신 '슬라이드'할당하기\n",
        "a"
      ]
    },
    {
      "cell_type": "code",
      "execution_count": null,
      "id": "6835e0e4",
      "metadata": {
        "ExecuteTime": {
          "end_time": "2022-08-29T06:27:18.519142Z",
          "start_time": "2022-08-29T06:27:18.509136Z"
        },
        "id": "6835e0e4"
      },
      "outputs": [],
      "source": [
        "a=[10,20,30]\n",
        "a.pop()\n",
        "a"
      ]
    },
    {
      "cell_type": "code",
      "execution_count": null,
      "id": "85782881",
      "metadata": {
        "ExecuteTime": {
          "end_time": "2022-08-29T06:28:00.069686Z",
          "start_time": "2022-08-29T06:28:00.051686Z"
        },
        "id": "85782881"
      },
      "outputs": [],
      "source": [
        "a=[10,20,30]\n",
        "a.pop(1)          # pop 대신 del 을 사용해도 된다.\n",
        "a"
      ]
    },
    {
      "cell_type": "code",
      "execution_count": null,
      "id": "f6060bb8",
      "metadata": {
        "ExecuteTime": {
          "end_time": "2022-08-29T06:28:19.351018Z",
          "start_time": "2022-08-29T06:28:19.339017Z"
        },
        "id": "f6060bb8"
      },
      "outputs": [],
      "source": [
        "a=[10,20,30]\n",
        "del a[1]\n",
        "a"
      ]
    },
    {
      "cell_type": "code",
      "execution_count": null,
      "id": "cad0a818",
      "metadata": {
        "ExecuteTime": {
          "end_time": "2022-08-29T06:29:19.590426Z",
          "start_time": "2022-08-29T06:29:19.571421Z"
        },
        "id": "cad0a818"
      },
      "outputs": [],
      "source": [
        "a = [10, 20, 30]\n",
        "a.remove(20)\n",
        "a"
      ]
    },
    {
      "cell_type": "code",
      "execution_count": null,
      "id": "3957e183",
      "metadata": {
        "ExecuteTime": {
          "end_time": "2022-08-29T06:30:17.163324Z",
          "start_time": "2022-08-29T06:30:17.139306Z"
        },
        "id": "3957e183"
      },
      "outputs": [],
      "source": [
        "a = [10, 20, 30,20]\n",
        "a.remove(20)           \n",
        "a    # 만약 리스트에 같은 값이 여러 개 있을 경우 처음 찾은 값을 삭제한다."
      ]
    },
    {
      "cell_type": "markdown",
      "id": "e23a8006",
      "metadata": {
        "id": "e23a8006"
      },
      "source": [
        "### 리스트의 할당과 복사 알아보기\n",
        "\n",
        "* 리스트의 할당은 리스트를 새로 생성하지 않고 변수 이름만 다른 같은 객체이다.\n",
        "* 리스트를 서로 다른 리스트로 만들려면 copy 메서드를 이용한다."
      ]
    },
    {
      "cell_type": "code",
      "execution_count": null,
      "id": "224a07d3",
      "metadata": {
        "ExecuteTime": {
          "end_time": "2022-08-29T06:38:49.385681Z",
          "start_time": "2022-08-29T06:38:49.372680Z"
        },
        "id": "224a07d3"
      },
      "outputs": [],
      "source": [
        "a=[0,0,0,0,0]\n",
        "b=a\n",
        "a is b"
      ]
    },
    {
      "cell_type": "code",
      "execution_count": null,
      "id": "d25e8482",
      "metadata": {
        "ExecuteTime": {
          "end_time": "2022-08-29T06:39:03.104935Z",
          "start_time": "2022-08-29T06:39:03.085956Z"
        },
        "id": "d25e8482"
      },
      "outputs": [],
      "source": [
        "b[2] = 99\n",
        "a"
      ]
    },
    {
      "cell_type": "code",
      "execution_count": null,
      "id": "e115b8b2",
      "metadata": {
        "ExecuteTime": {
          "end_time": "2022-08-29T06:40:12.901920Z",
          "start_time": "2022-08-29T06:40:12.876921Z"
        },
        "id": "e115b8b2"
      },
      "outputs": [],
      "source": [
        "a=[0,0,0,0,0]\n",
        "b=a.copy()\n",
        "b"
      ]
    },
    {
      "cell_type": "code",
      "execution_count": null,
      "id": "b1dddee3",
      "metadata": {
        "ExecuteTime": {
          "end_time": "2022-08-29T06:40:16.524213Z",
          "start_time": "2022-08-29T06:40:16.499210Z"
        },
        "id": "b1dddee3"
      },
      "outputs": [],
      "source": [
        "a is b"
      ]
    },
    {
      "cell_type": "code",
      "execution_count": null,
      "id": "3f3fad10",
      "metadata": {
        "ExecuteTime": {
          "end_time": "2022-08-29T06:40:21.129549Z",
          "start_time": "2022-08-29T06:40:21.116551Z"
        },
        "id": "3f3fad10"
      },
      "outputs": [],
      "source": [
        "a == b"
      ]
    },
    {
      "cell_type": "code",
      "execution_count": null,
      "id": "b8e269d5",
      "metadata": {
        "ExecuteTime": {
          "end_time": "2022-08-29T06:40:35.279925Z",
          "start_time": "2022-08-29T06:40:35.265929Z"
        },
        "id": "b8e269d5"
      },
      "outputs": [],
      "source": [
        "b[2]=99\n",
        "b"
      ]
    },
    {
      "cell_type": "code",
      "execution_count": null,
      "id": "e2473e56",
      "metadata": {
        "ExecuteTime": {
          "end_time": "2022-08-29T06:40:36.704961Z",
          "start_time": "2022-08-29T06:40:36.693961Z"
        },
        "id": "e2473e56"
      },
      "outputs": [],
      "source": [
        "a"
      ]
    },
    {
      "cell_type": "markdown",
      "id": "997bd405",
      "metadata": {
        "ExecuteTime": {
          "end_time": "2022-08-29T06:41:38.982642Z",
          "start_time": "2022-08-29T06:41:38.965639Z"
        },
        "id": "997bd405"
      },
      "source": [
        "#### 인덱스와 요소를 함께 출력하기\n",
        "\n",
        "* for 인덱스, 요소 in enumerate(리스트)\\\n",
        "    print(index+숫자, value)\n",
        "* for 인덱스, 요소 in enumerate(리스트, start=숫자)\\\n",
        "    print(index, value)\n",
        "* for 인덱스, 요소 in enumerate(리스트, 숫자)\\\n",
        "    print(index, value)"
      ]
    },
    {
      "cell_type": "code",
      "execution_count": null,
      "id": "7d19b547",
      "metadata": {
        "ExecuteTime": {
          "end_time": "2022-08-29T06:42:12.493677Z",
          "start_time": "2022-08-29T06:42:12.479675Z"
        },
        "id": "7d19b547"
      },
      "outputs": [],
      "source": [
        "a = [38, 21, 53, 62, 19]\n",
        "for index, value in enumerate(a):\n",
        "    print(index,value)"
      ]
    },
    {
      "cell_type": "code",
      "execution_count": null,
      "id": "959959e6",
      "metadata": {
        "ExecuteTime": {
          "end_time": "2022-08-29T06:42:50.990887Z",
          "start_time": "2022-08-29T06:42:50.970886Z"
        },
        "id": "959959e6"
      },
      "outputs": [],
      "source": [
        "a = [38, 21, 53, 62, 19]\n",
        "for index, value in enumerate(a):\n",
        "    print(index+1,value)"
      ]
    },
    {
      "cell_type": "code",
      "execution_count": null,
      "id": "9247868b",
      "metadata": {
        "ExecuteTime": {
          "end_time": "2022-08-29T06:43:02.855226Z",
          "start_time": "2022-08-29T06:43:02.846241Z"
        },
        "id": "9247868b"
      },
      "outputs": [],
      "source": [
        "a = [38, 21, 53, 62, 19]\n",
        "for index, value in enumerate(a,start=1):\n",
        "    print(index,value)"
      ]
    },
    {
      "cell_type": "code",
      "execution_count": null,
      "id": "2ebab2c7",
      "metadata": {
        "ExecuteTime": {
          "end_time": "2022-08-29T06:43:12.254639Z",
          "start_time": "2022-08-29T06:43:12.247638Z"
        },
        "id": "2ebab2c7"
      },
      "outputs": [],
      "source": [
        "a = [38, 21, 53, 62, 19]\n",
        "for index, value in enumerate(a,1):\n",
        "    print(index,value)"
      ]
    },
    {
      "cell_type": "markdown",
      "id": "34b28e50",
      "metadata": {
        "ExecuteTime": {
          "end_time": "2022-08-29T06:46:59.383964Z",
          "start_time": "2022-08-29T06:46:59.374963Z"
        },
        "id": "34b28e50"
      },
      "source": [
        "#### 가장 작은 수와 가장 큰 수 구하기\n",
        "\n",
        "* for 반복문을 통해서 구하기\n",
        "* 오름차순 또는 내림차순을 통해 처음 요소 값([0]) 구하기\n",
        "* 메서스 min(), max() 통해 구하기"
      ]
    },
    {
      "cell_type": "code",
      "execution_count": null,
      "id": "8312c3cc",
      "metadata": {
        "ExecuteTime": {
          "end_time": "2022-08-29T06:47:51.883079Z",
          "start_time": "2022-08-29T06:47:51.859075Z"
        },
        "id": "8312c3cc"
      },
      "outputs": [],
      "source": [
        "a = [38, 21, 53, 62, 19]\n",
        "smallest = a[0]\n",
        "for i in a:\n",
        "    if i < smallest:\n",
        "        smallest = i\n",
        "        \n",
        "smallest"
      ]
    },
    {
      "cell_type": "code",
      "execution_count": null,
      "id": "72709dea",
      "metadata": {
        "ExecuteTime": {
          "end_time": "2022-08-29T06:49:57.483921Z",
          "start_time": "2022-08-29T06:49:57.464916Z"
        },
        "id": "72709dea"
      },
      "outputs": [],
      "source": [
        "a = [38, 21, 53, 62, 19]\n",
        "largest = a[0]\n",
        "for i in a:\n",
        "    if i > largest:\n",
        "        largest = i\n",
        "        \n",
        "largest"
      ]
    },
    {
      "cell_type": "code",
      "execution_count": null,
      "id": "c2b272d6",
      "metadata": {
        "ExecuteTime": {
          "end_time": "2022-08-29T06:50:25.411991Z",
          "start_time": "2022-08-29T06:50:25.394988Z"
        },
        "id": "c2b272d6"
      },
      "outputs": [],
      "source": [
        "a = [38, 21, 53, 62, 19]\n",
        "a.sort()\n",
        "a[0]"
      ]
    },
    {
      "cell_type": "code",
      "execution_count": null,
      "id": "9d568e7e",
      "metadata": {
        "ExecuteTime": {
          "end_time": "2022-08-29T06:50:51.023658Z",
          "start_time": "2022-08-29T06:50:51.001658Z"
        },
        "id": "9d568e7e"
      },
      "outputs": [],
      "source": [
        "a = [38, 21, 53, 62, 19]\n",
        "a.sort(reverse=True)\n",
        "a[0]"
      ]
    },
    {
      "cell_type": "code",
      "execution_count": null,
      "id": "28f44990",
      "metadata": {
        "ExecuteTime": {
          "end_time": "2022-08-29T06:51:06.579399Z",
          "start_time": "2022-08-29T06:51:06.565392Z"
        },
        "id": "28f44990"
      },
      "outputs": [],
      "source": [
        "a = [38, 21, 53, 62, 19]\n",
        "min(a)"
      ]
    },
    {
      "cell_type": "code",
      "execution_count": null,
      "id": "d2090312",
      "metadata": {
        "ExecuteTime": {
          "end_time": "2022-08-29T06:51:12.965619Z",
          "start_time": "2022-08-29T06:51:12.942620Z"
        },
        "id": "d2090312"
      },
      "outputs": [],
      "source": [
        "a = [38, 21, 53, 62, 19]\n",
        "max(a)"
      ]
    },
    {
      "cell_type": "markdown",
      "id": "950fa102",
      "metadata": {
        "id": "950fa102"
      },
      "source": [
        "#### 요소의 합계 구하기\n",
        "\n",
        "* for 반복문을 통해 구하기\n",
        "* 메서드 sum()을 통해 구하기"
      ]
    },
    {
      "cell_type": "code",
      "execution_count": null,
      "id": "8f5c9944",
      "metadata": {
        "ExecuteTime": {
          "end_time": "2022-08-29T06:53:46.765283Z",
          "start_time": "2022-08-29T06:53:46.746269Z"
        },
        "id": "8f5c9944"
      },
      "outputs": [],
      "source": [
        "a= [10, 10, 10, 10, 10]\n",
        "x = 0\n",
        "for i in a:\n",
        "    x += i\n",
        "x"
      ]
    },
    {
      "cell_type": "code",
      "execution_count": null,
      "id": "42305e3a",
      "metadata": {
        "ExecuteTime": {
          "end_time": "2022-08-29T06:53:59.202253Z",
          "start_time": "2022-08-29T06:53:59.193252Z"
        },
        "id": "42305e3a"
      },
      "outputs": [],
      "source": [
        "a= [10, 10, 10, 10, 10]\n",
        "sum(a)"
      ]
    },
    {
      "cell_type": "markdown",
      "id": "531979a8",
      "metadata": {
        "ExecuteTime": {
          "end_time": "2022-08-29T06:55:05.051022Z",
          "start_time": "2022-08-29T06:55:05.033020Z"
        },
        "id": "531979a8"
      },
      "source": [
        "### 리스트 표현식 사용하기\n",
        "\n",
        "* 리스트 컴프리헨션(list comprehension)\n",
        " : 리스트 안에 '식, for 반복문, if 조건문 등' 을 지정하여 리스트를 생성\n",
        "     - [식 for 변수 in 리스트]\n",
        "     - list(식 for 변수 in 리스트)"
      ]
    },
    {
      "cell_type": "code",
      "execution_count": null,
      "id": "6612550e",
      "metadata": {
        "ExecuteTime": {
          "end_time": "2022-08-29T06:57:56.152184Z",
          "start_time": "2022-08-29T06:57:56.131183Z"
        },
        "id": "6612550e"
      },
      "outputs": [],
      "source": [
        "a = [i for i in range(10)]\n",
        "a"
      ]
    },
    {
      "cell_type": "code",
      "execution_count": null,
      "id": "08626ff6",
      "metadata": {
        "ExecuteTime": {
          "end_time": "2022-08-29T06:58:28.143982Z",
          "start_time": "2022-08-29T06:58:28.131984Z"
        },
        "id": "08626ff6"
      },
      "outputs": [],
      "source": [
        "b=list(i for i in range(10))\n",
        "b"
      ]
    },
    {
      "cell_type": "code",
      "execution_count": null,
      "id": "95da119e",
      "metadata": {
        "ExecuteTime": {
          "end_time": "2022-08-29T06:59:33.650525Z",
          "start_time": "2022-08-29T06:59:33.627523Z"
        },
        "id": "95da119e"
      },
      "outputs": [],
      "source": [
        "c=[i+5 for i in range(10)]\n",
        "c"
      ]
    },
    {
      "cell_type": "markdown",
      "id": "c5849bd4",
      "metadata": {
        "id": "c5849bd4"
      },
      "source": [
        "#### 리스트 표현식에서 if 조건문 사용하기\n",
        "\n",
        "\n",
        "* [식 for 변수 in 리스트 if 조건식]\n",
        "* list(식 for 변수 in 리스트 if 조건식)"
      ]
    },
    {
      "cell_type": "code",
      "execution_count": null,
      "id": "a168e621",
      "metadata": {
        "ExecuteTime": {
          "end_time": "2022-08-29T07:02:22.767397Z",
          "start_time": "2022-08-29T07:02:22.753404Z"
        },
        "id": "a168e621"
      },
      "outputs": [],
      "source": [
        "a=[i for i in range(10) if i%2 == 0]\n",
        "a"
      ]
    },
    {
      "cell_type": "code",
      "execution_count": null,
      "id": "cceaef8c",
      "metadata": {
        "ExecuteTime": {
          "end_time": "2022-08-29T07:02:54.914244Z",
          "start_time": "2022-08-29T07:02:54.903242Z"
        },
        "id": "cceaef8c"
      },
      "outputs": [],
      "source": [
        "b = [i + 5 for i in range(10) if i % 2 == 1]\n",
        "b"
      ]
    },
    {
      "cell_type": "markdown",
      "id": "d292e5b7",
      "metadata": {
        "id": "d292e5b7"
      },
      "source": [
        "#### for 반복문과 if 조건문을 여러 번 사용하기"
      ]
    },
    {
      "cell_type": "code",
      "execution_count": null,
      "id": "dbecb676",
      "metadata": {
        "ExecuteTime": {
          "end_time": "2022-08-29T07:06:09.796269Z",
          "start_time": "2022-08-29T07:06:09.788267Z"
        },
        "id": "dbecb676"
      },
      "outputs": [],
      "source": [
        "a = [i * j for j in range(2, 10) for i in range(1, 10)]\n",
        "print(a,end='')"
      ]
    },
    {
      "cell_type": "markdown",
      "id": "dd682476",
      "metadata": {
        "id": "dd682476"
      },
      "source": [
        "### 리스트에 map 사용하기\n",
        "\n",
        "* map 은 리스트의 요소를 지정된 함수로 처리해주는 함수이다.\n",
        "* map 은 원본 리스트를 변경하지 않고 새 리스트를 생성한다."
      ]
    },
    {
      "cell_type": "code",
      "execution_count": null,
      "id": "005c9102",
      "metadata": {
        "ExecuteTime": {
          "end_time": "2022-08-29T07:15:10.385913Z",
          "start_time": "2022-08-29T07:15:10.365913Z"
        },
        "id": "005c9102"
      },
      "outputs": [],
      "source": [
        "a = [1.2, 2.5, 3.7, 4.6]\n",
        "for i in range(len(a)):\n",
        "    a[i]=int(a[i])\n",
        "a"
      ]
    },
    {
      "cell_type": "code",
      "execution_count": null,
      "id": "aa596295",
      "metadata": {
        "ExecuteTime": {
          "end_time": "2022-08-29T07:15:39.811954Z",
          "start_time": "2022-08-29T07:15:39.790953Z"
        },
        "id": "aa596295"
      },
      "outputs": [],
      "source": [
        "a = [1.2, 2.5, 3.7, 4.6]\n",
        "a = list(map(int,a))\n",
        "a"
      ]
    },
    {
      "cell_type": "code",
      "execution_count": null,
      "id": "474a705b",
      "metadata": {
        "ExecuteTime": {
          "end_time": "2022-08-29T07:16:11.513976Z",
          "start_time": "2022-08-29T07:16:11.489957Z"
        },
        "id": "474a705b"
      },
      "outputs": [],
      "source": [
        "a = list(map(str, range(10)))\n",
        "a"
      ]
    },
    {
      "cell_type": "markdown",
      "id": "a5ea1ebe",
      "metadata": {
        "ExecuteTime": {
          "end_time": "2022-08-29T07:17:08.644989Z",
          "start_time": "2022-08-29T07:17:08.629988Z"
        },
        "id": "a5ea1ebe"
      },
      "source": [
        "### 튜플 응용하기"
      ]
    },
    {
      "cell_type": "markdown",
      "id": "d38f765b",
      "metadata": {
        "ExecuteTime": {
          "end_time": "2022-08-29T07:25:50.375180Z",
          "start_time": "2022-08-29T07:25:50.366181Z"
        },
        "id": "d38f765b"
      },
      "source": [
        "### 연습문제: 리스트에서 특정 요소만 뽑아내기"
      ]
    },
    {
      "cell_type": "code",
      "execution_count": null,
      "id": "295904df",
      "metadata": {
        "ExecuteTime": {
          "end_time": "2022-08-29T07:26:43.467158Z",
          "start_time": "2022-08-29T07:26:43.443152Z"
        },
        "id": "295904df"
      },
      "outputs": [],
      "source": [
        "a = ['alpha', 'bravo', 'charlie', 'delta', 'echo', 'foxtrot', 'golf', 'hotel', 'india']\n",
        "b = [i for i in a if len(i)==5]\n",
        "print(b)"
      ]
    },
    {
      "cell_type": "markdown",
      "id": "cdb09339",
      "metadata": {
        "id": "cdb09339"
      },
      "source": [
        "### 심사문제: 2의 거듭제곱 리스트 생성하기"
      ]
    },
    {
      "cell_type": "code",
      "execution_count": null,
      "id": "db86d7b5",
      "metadata": {
        "ExecuteTime": {
          "end_time": "2022-08-29T07:39:03.514264Z",
          "start_time": "2022-08-29T07:39:01.605867Z"
        },
        "id": "db86d7b5"
      },
      "outputs": [],
      "source": [
        "a,b=map(int,input().split())\n",
        "c=[2**i for i in range(a,b+1) if a < b]\n",
        "del c[1]\n",
        "del c[-2]\n",
        "print(c)"
      ]
    },
    {
      "cell_type": "markdown",
      "id": "1fc1ed50",
      "metadata": {
        "ExecuteTime": {
          "end_time": "2022-08-29T07:39:44.276853Z",
          "start_time": "2022-08-29T07:39:44.269834Z"
        },
        "id": "1fc1ed50"
      },
      "source": [
        "## 2차원 리스트 사용하기\n",
        "\n",
        "* 2차원 리스트는 가로 x 세로 형태로 이루어져 있으며 행과 열 모두 0 부터 시작\n",
        "* 2차원 리스트의 사각형 구조를 유지하도록 출력하려면 pprint 모듈의 pprint 함수를 사용한다."
      ]
    },
    {
      "cell_type": "markdown",
      "id": "5e2b189c",
      "metadata": {
        "id": "5e2b189c"
      },
      "source": [
        "### 2차원 리스트를 만들고 요소에 접근하기"
      ]
    },
    {
      "cell_type": "code",
      "execution_count": null,
      "id": "3e57c220",
      "metadata": {
        "ExecuteTime": {
          "end_time": "2022-08-29T07:43:54.408951Z",
          "start_time": "2022-08-29T07:43:54.390950Z"
        },
        "id": "3e57c220"
      },
      "outputs": [],
      "source": [
        "a = [[10, 20], [30, 40], [50, 60]]\n",
        "a[0][0]"
      ]
    },
    {
      "cell_type": "code",
      "execution_count": null,
      "id": "4db16d00",
      "metadata": {
        "ExecuteTime": {
          "end_time": "2022-08-29T07:44:15.268610Z",
          "start_time": "2022-08-29T07:44:15.256591Z"
        },
        "id": "4db16d00"
      },
      "outputs": [],
      "source": [
        "a[0][1]"
      ]
    },
    {
      "cell_type": "code",
      "execution_count": null,
      "id": "cb1fcaf5",
      "metadata": {
        "ExecuteTime": {
          "end_time": "2022-08-29T07:45:42.542184Z",
          "start_time": "2022-08-29T07:45:42.523182Z"
        },
        "id": "cb1fcaf5"
      },
      "outputs": [],
      "source": [
        "a = [[10, 20], [30, 40], [50, 60]]\n",
        "a[0][1]=1000\n",
        "a[0][1]"
      ]
    },
    {
      "cell_type": "code",
      "execution_count": null,
      "id": "f6a545fd",
      "metadata": {
        "ExecuteTime": {
          "end_time": "2022-08-29T07:48:30.025402Z",
          "start_time": "2022-08-29T07:48:30.006401Z"
        },
        "id": "f6a545fd"
      },
      "outputs": [],
      "source": [
        "from pprint import pprint\n",
        "pprint(a, indent=4, width=20)"
      ]
    },
    {
      "cell_type": "markdown",
      "id": "79e02790",
      "metadata": {
        "id": "79e02790"
      },
      "source": [
        "### 반복문으로 2차원 리스트의 요소를 모두 출력하기"
      ]
    },
    {
      "cell_type": "markdown",
      "id": "0dcd1415",
      "metadata": {
        "ExecuteTime": {
          "end_time": "2022-08-29T07:49:31.325178Z",
          "start_time": "2022-08-29T07:49:31.308177Z"
        },
        "id": "0dcd1415"
      },
      "source": [
        "#### for 반복문을 한 번만 사용하기"
      ]
    },
    {
      "cell_type": "code",
      "execution_count": null,
      "id": "00d0f988",
      "metadata": {
        "ExecuteTime": {
          "end_time": "2022-08-29T07:50:02.781922Z",
          "start_time": "2022-08-29T07:50:02.763920Z"
        },
        "id": "00d0f988"
      },
      "outputs": [],
      "source": [
        "a = [[10, 20], [30, 40], [50, 60]]\n",
        "for x,y in a:\n",
        "    print(x,y)"
      ]
    },
    {
      "cell_type": "markdown",
      "id": "839d7d69",
      "metadata": {
        "id": "839d7d69"
      },
      "source": [
        "#### for 반복문을 두 번 사용하기"
      ]
    },
    {
      "cell_type": "code",
      "execution_count": null,
      "id": "a2dbd103",
      "metadata": {
        "ExecuteTime": {
          "end_time": "2022-08-29T07:52:59.550422Z",
          "start_time": "2022-08-29T07:52:59.525423Z"
        },
        "scrolled": true,
        "id": "a2dbd103"
      },
      "outputs": [],
      "source": [
        "a = [[10, 20], [30, 40], [50, 60]]\n",
        "\n",
        "for i in a:                 # a에서 안쪽 리스트를 꺼냄\n",
        "    for j in i:             # 안쪽 리스트에서 요소를 하나씩 꺼냄\n",
        "        print(j, end=' ')\n",
        "    print()"
      ]
    },
    {
      "cell_type": "markdown",
      "id": "1ad6e231",
      "metadata": {
        "id": "1ad6e231"
      },
      "source": [
        "#### for 와 range 사용하기"
      ]
    },
    {
      "cell_type": "code",
      "execution_count": null,
      "id": "cffe9989",
      "metadata": {
        "ExecuteTime": {
          "end_time": "2022-08-29T07:55:40.358252Z",
          "start_time": "2022-08-29T07:55:40.333250Z"
        },
        "id": "cffe9989"
      },
      "outputs": [],
      "source": [
        "a = [[10, 20], [30, 40], [50, 60]]\n",
        "\n",
        "for i in range(len(a)):               # len(a) 는 3\n",
        "    for j in range(len(a[i])):        # len(a[i])는 2\n",
        "        print(a[i][j],end=' ')\n",
        "    print()"
      ]
    },
    {
      "cell_type": "markdown",
      "id": "5c402173",
      "metadata": {
        "id": "5c402173"
      },
      "source": [
        "#### while 반복문을 한 번 사용하기"
      ]
    },
    {
      "cell_type": "code",
      "execution_count": null,
      "id": "1984274c",
      "metadata": {
        "ExecuteTime": {
          "end_time": "2022-08-29T08:39:04.111621Z",
          "start_time": "2022-08-29T08:39:04.085619Z"
        },
        "id": "1984274c"
      },
      "outputs": [],
      "source": [
        "a = [[10, 20], [30, 40], [50, 60]]\n",
        " \n",
        "i = 0\n",
        "while i < len(a):    # 반복할 떄 리스트의 크기 활용(세로 크기)\n",
        "    x,y = a[i]        # 요소 두 개를 한꺼번에 가져오기\n",
        "    print(x,y)\n",
        "    i+=1              # 인덱스를 1 증가시킴"
      ]
    },
    {
      "cell_type": "markdown",
      "id": "94a32057",
      "metadata": {
        "id": "94a32057"
      },
      "source": [
        "#### while 반복문을 두 번 사용하기"
      ]
    },
    {
      "cell_type": "code",
      "execution_count": null,
      "id": "c3020f26",
      "metadata": {
        "ExecuteTime": {
          "end_time": "2022-08-29T08:44:30.580671Z",
          "start_time": "2022-08-29T08:44:30.559666Z"
        },
        "id": "c3020f26"
      },
      "outputs": [],
      "source": [
        "a = [[10, 20], [30, 40], [50, 60]]\n",
        " \n",
        "i = 0\n",
        "while i < len(a):\n",
        "    j=0\n",
        "    while j < len(a[i]):\n",
        "        print(a[i][j], end=' ')\n",
        "        j += 1\n",
        "    print()\n",
        "    i += 1            # 변수 증가 위치 주의!"
      ]
    },
    {
      "cell_type": "markdown",
      "id": "d2c24982",
      "metadata": {
        "ExecuteTime": {
          "end_time": "2022-08-29T08:44:41.212777Z",
          "start_time": "2022-08-29T08:44:41.202795Z"
        },
        "id": "d2c24982"
      },
      "source": [
        "### 반복문으로 리스트 만들기"
      ]
    },
    {
      "cell_type": "markdown",
      "id": "77281aaa",
      "metadata": {
        "id": "77281aaa"
      },
      "source": [
        "#### for 반복문으로 1차원 리스트 만들기"
      ]
    },
    {
      "cell_type": "code",
      "execution_count": null,
      "id": "bbff30d6",
      "metadata": {
        "ExecuteTime": {
          "end_time": "2022-08-29T08:46:05.369620Z",
          "start_time": "2022-08-29T08:46:05.360600Z"
        },
        "id": "bbff30d6"
      },
      "outputs": [],
      "source": [
        "a=[]\n",
        "\n",
        "for i in range(10):\n",
        "    a.append(0)\n",
        "print(a)"
      ]
    },
    {
      "cell_type": "markdown",
      "id": "c0b20846",
      "metadata": {
        "ExecuteTime": {
          "end_time": "2022-08-29T08:46:38.446545Z",
          "start_time": "2022-08-29T08:46:38.427544Z"
        },
        "id": "c0b20846"
      },
      "source": [
        "#### for 반복문으로 2차원 리스트 만들기"
      ]
    },
    {
      "cell_type": "code",
      "execution_count": null,
      "id": "2792cb18",
      "metadata": {
        "ExecuteTime": {
          "end_time": "2022-08-29T08:50:41.865854Z",
          "start_time": "2022-08-29T08:50:41.847856Z"
        },
        "id": "2792cb18"
      },
      "outputs": [],
      "source": [
        "a=[]\n",
        "\n",
        "for i in range(3):     # 안쪽 리스트로 사용할 빈 리스트 생성\n",
        "    line=[]\n",
        "    for j in range(2):\n",
        "        line.append(0)  #[0,0] 생성   -> range(2)만큼 반복\n",
        "    a.append(line)      #[[0,0]] 생성 -> range(3)만큼 반복\n",
        "print(a)"
      ]
    },
    {
      "cell_type": "markdown",
      "id": "d12adf9b",
      "metadata": {
        "id": "d12adf9b"
      },
      "source": [
        "#### 리스트 표현식으로 2차원 리스트 만들기"
      ]
    },
    {
      "cell_type": "code",
      "execution_count": null,
      "id": "62ff719c",
      "metadata": {
        "ExecuteTime": {
          "end_time": "2022-08-29T08:52:20.054977Z",
          "start_time": "2022-08-29T08:52:20.027975Z"
        },
        "id": "62ff719c"
      },
      "outputs": [],
      "source": [
        "a=[[0 for j in range(2)] for i in range(3)]\n",
        "a"
      ]
    },
    {
      "cell_type": "code",
      "execution_count": null,
      "id": "15ec7084",
      "metadata": {
        "ExecuteTime": {
          "end_time": "2022-08-29T08:53:14.537805Z",
          "start_time": "2022-08-29T08:53:14.515823Z"
        },
        "id": "15ec7084"
      },
      "outputs": [],
      "source": [
        "a= [[0]*2 for i in range(3)]\n",
        "a"
      ]
    },
    {
      "cell_type": "markdown",
      "id": "b7b38205",
      "metadata": {
        "ExecuteTime": {
          "end_time": "2022-08-29T08:53:26.639752Z",
          "start_time": "2022-08-29T08:53:26.627757Z"
        },
        "id": "b7b38205"
      },
      "source": [
        "#### 톱니형 리스트 만들기"
      ]
    },
    {
      "cell_type": "code",
      "execution_count": null,
      "id": "90a7b07e",
      "metadata": {
        "ExecuteTime": {
          "end_time": "2022-08-29T08:55:33.250705Z",
          "start_time": "2022-08-29T08:55:33.236705Z"
        },
        "id": "90a7b07e"
      },
      "outputs": [],
      "source": [
        "a = [3, 1, 3, 2, 5]    # 가로 크기를 저장한 리스트\n",
        "b = []    # 빈 리스트 생성\n",
        " \n",
        "for i in a:      # 가로 크기를 저장한 리스트로 반복\n",
        "    line = []    # 안쪽 리스트로 사용할 빈 리스트 생성\n",
        "    for j in range(i):    # 리스트 a에 저장된 가로 크기만큼 반복\n",
        "        line.append(0)\n",
        "    b.append(line)        # 리스트 b에 안쪽 리스트를 추가\n",
        " \n",
        "print(b)"
      ]
    },
    {
      "cell_type": "code",
      "execution_count": null,
      "id": "e82225ad",
      "metadata": {
        "ExecuteTime": {
          "end_time": "2022-08-29T08:55:59.145215Z",
          "start_time": "2022-08-29T08:55:59.121213Z"
        },
        "id": "e82225ad"
      },
      "outputs": [],
      "source": [
        "a = [[0] * i for i in [3, 1, 3, 2, 5]]\n",
        "a"
      ]
    },
    {
      "cell_type": "markdown",
      "id": "447a0d2e",
      "metadata": {
        "ExecuteTime": {
          "end_time": "2022-08-29T08:56:44.263041Z",
          "start_time": "2022-08-29T08:56:44.244039Z"
        },
        "id": "447a0d2e"
      },
      "source": [
        "#### 2차원 리스트의 할당과 복사 알아보기\n",
        "\n",
        "* '17.2 리스트의 할당과 복사' 와 같다.\n",
        "* 할당 시 객체의 변수 이름만 달를 뿐 같은 2차원 리스트 이다.\n",
        "* 2차원 리스트를 만든 뒤 다른 변수에 할당하고, 요소를 변경하면 두 리스트에 모두 반영된다."
      ]
    },
    {
      "cell_type": "code",
      "execution_count": null,
      "id": "4d0b7bab",
      "metadata": {
        "ExecuteTime": {
          "end_time": "2022-08-29T08:59:20.572172Z",
          "start_time": "2022-08-29T08:59:20.555172Z"
        },
        "id": "4d0b7bab"
      },
      "outputs": [],
      "source": [
        "a=[[10,20],[30,40]]\n",
        "b=a\n",
        "b[0][0] =500\n",
        "a"
      ]
    },
    {
      "cell_type": "code",
      "execution_count": null,
      "id": "276a38dd",
      "metadata": {
        "ExecuteTime": {
          "end_time": "2022-08-29T08:59:25.277555Z",
          "start_time": "2022-08-29T08:59:25.265553Z"
        },
        "id": "276a38dd"
      },
      "outputs": [],
      "source": [
        "b"
      ]
    },
    {
      "cell_type": "code",
      "execution_count": null,
      "id": "8ade0cd2",
      "metadata": {
        "ExecuteTime": {
          "end_time": "2022-08-29T09:01:31.044483Z",
          "start_time": "2022-08-29T09:01:31.028485Z"
        },
        "id": "8ade0cd2"
      },
      "outputs": [],
      "source": [
        "a=[[10,20],[30,40]]\n",
        "b=a.copy()             # 2차원 리스트의 복사는 왼쪽 식(a.copy())와 달리\n",
        "b[0][0]=500            # deepcopy를 써야된다.\n",
        "a"
      ]
    },
    {
      "cell_type": "code",
      "execution_count": null,
      "id": "efce443c",
      "metadata": {
        "ExecuteTime": {
          "end_time": "2022-08-29T09:00:01.551881Z",
          "start_time": "2022-08-29T09:00:01.534862Z"
        },
        "id": "efce443c"
      },
      "outputs": [],
      "source": [
        "b"
      ]
    },
    {
      "cell_type": "code",
      "execution_count": null,
      "id": "eb07ccde",
      "metadata": {
        "ExecuteTime": {
          "end_time": "2022-08-29T09:01:55.771474Z",
          "start_time": "2022-08-29T09:01:55.748464Z"
        },
        "id": "eb07ccde"
      },
      "outputs": [],
      "source": [
        "a = [[10, 20], [30, 40]]\n",
        "import copy\n",
        "b=copy.deepcopy(a)\n",
        "b[0][0]=500\n",
        "a"
      ]
    },
    {
      "cell_type": "code",
      "execution_count": null,
      "id": "37039f05",
      "metadata": {
        "ExecuteTime": {
          "end_time": "2022-08-29T09:01:58.127011Z",
          "start_time": "2022-08-29T09:01:58.107012Z"
        },
        "id": "37039f05"
      },
      "outputs": [],
      "source": [
        "b"
      ]
    },
    {
      "cell_type": "markdown",
      "id": "6018cc3f",
      "metadata": {
        "id": "6018cc3f"
      },
      "source": [
        "### 심사문제: 지뢰찾기\n",
        "\n",
        "다음 기회에..."
      ]
    },
    {
      "cell_type": "markdown",
      "id": "6a78cdfc",
      "metadata": {
        "id": "6a78cdfc"
      },
      "source": [
        "## 문자열 응용하기"
      ]
    },
    {
      "cell_type": "markdown",
      "id": "69311079",
      "metadata": {
        "ExecuteTime": {
          "end_time": "2022-08-29T09:18:28.024288Z",
          "start_time": "2022-08-29T09:18:28.015288Z"
        },
        "id": "69311079"
      },
      "source": [
        "### 문자열 조작하기"
      ]
    },
    {
      "cell_type": "markdown",
      "id": "1bf97ea4",
      "metadata": {
        "id": "1bf97ea4"
      },
      "source": [
        "#### 문자열 바꾸기\n",
        "\n",
        "* replace('바꿀문자열','새문자열')\n",
        "* 문자열 자체는 변경하지 않으며 바뀐 결과를 반환한다.\n",
        "    - 바뀐 결과를 유지 하고 싶다면 문자열이 저장된 변수에 replace를 사용한 뒤 다시 변수에 할당해주면 된다."
      ]
    },
    {
      "cell_type": "code",
      "execution_count": null,
      "id": "7d880fcf",
      "metadata": {
        "ExecuteTime": {
          "end_time": "2022-08-29T09:20:11.199725Z",
          "start_time": "2022-08-29T09:20:11.176721Z"
        },
        "id": "7d880fcf"
      },
      "outputs": [],
      "source": [
        "'Hello,world!'.replace('world','Python')"
      ]
    },
    {
      "cell_type": "markdown",
      "id": "18bd78ed",
      "metadata": {
        "id": "18bd78ed"
      },
      "source": [
        "#### 문자 바꾸기\n",
        "\n",
        "* str.maketrans('바꿀문자','새문자') -> translate(테이블)"
      ]
    },
    {
      "cell_type": "code",
      "execution_count": null,
      "id": "2d9f5c5e",
      "metadata": {
        "ExecuteTime": {
          "end_time": "2022-08-29T20:44:41.798825Z",
          "start_time": "2022-08-29T20:44:41.787834Z"
        },
        "id": "2d9f5c5e"
      },
      "outputs": [],
      "source": [
        "table=str.maketrans('aeiou','12345')  # a=1 , e=2, i=3, o=4, u=5\n",
        "'apple'.translate(table)"
      ]
    },
    {
      "cell_type": "markdown",
      "id": "14320fae",
      "metadata": {
        "id": "14320fae"
      },
      "source": [
        "#### 문자열 분리하기"
      ]
    },
    {
      "cell_type": "code",
      "execution_count": null,
      "id": "ca9a28aa",
      "metadata": {
        "ExecuteTime": {
          "end_time": "2022-08-29T20:45:42.722743Z",
          "start_time": "2022-08-29T20:45:42.699719Z"
        },
        "id": "ca9a28aa"
      },
      "outputs": [],
      "source": [
        "'apple pear grape pineapple orange'.split()"
      ]
    },
    {
      "cell_type": "code",
      "execution_count": null,
      "id": "34c8a181",
      "metadata": {
        "ExecuteTime": {
          "end_time": "2022-08-29T20:45:50.282710Z",
          "start_time": "2022-08-29T20:45:50.267693Z"
        },
        "id": "34c8a181"
      },
      "outputs": [],
      "source": [
        "'apple, pear, grape, pineapple, orange'.split(', ')"
      ]
    },
    {
      "cell_type": "markdown",
      "id": "0723c71e",
      "metadata": {
        "id": "0723c71e"
      },
      "source": [
        "#### 구분자 문자열과 문자열 리스트 연결하기"
      ]
    },
    {
      "cell_type": "code",
      "execution_count": null,
      "id": "2f15b1e7",
      "metadata": {
        "ExecuteTime": {
          "end_time": "2022-08-29T20:49:12.399082Z",
          "start_time": "2022-08-29T20:49:12.384085Z"
        },
        "id": "2f15b1e7"
      },
      "outputs": [],
      "source": [
        "' '.join(['apple', 'pear', 'grape', 'pineapple', 'orange'])"
      ]
    },
    {
      "cell_type": "markdown",
      "id": "7f4de387",
      "metadata": {
        "id": "7f4de387"
      },
      "source": [
        "#### 소문자를 대문자로 바꾸기"
      ]
    },
    {
      "cell_type": "code",
      "execution_count": null,
      "id": "8cac4ca6",
      "metadata": {
        "ExecuteTime": {
          "end_time": "2022-08-29T20:49:41.296843Z",
          "start_time": "2022-08-29T20:49:41.276845Z"
        },
        "id": "8cac4ca6"
      },
      "outputs": [],
      "source": [
        "'python'.upper()"
      ]
    },
    {
      "cell_type": "markdown",
      "id": "18409aba",
      "metadata": {
        "id": "18409aba"
      },
      "source": [
        "#### 대문자를 소문자로 바꾸기"
      ]
    },
    {
      "cell_type": "code",
      "execution_count": null,
      "id": "67a379a1",
      "metadata": {
        "ExecuteTime": {
          "end_time": "2022-08-29T20:50:05.104252Z",
          "start_time": "2022-08-29T20:50:05.091253Z"
        },
        "id": "67a379a1"
      },
      "outputs": [],
      "source": [
        "'PYTHON'.lower()"
      ]
    },
    {
      "cell_type": "markdown",
      "id": "1b4c2760",
      "metadata": {
        "id": "1b4c2760"
      },
      "source": [
        "#### 공백 삭제하기\n",
        "\n",
        "* lstrip : 왼쪽 공백 삭제하기\n",
        "* rstrip : 오른쪽 공백 삭제하기\n",
        "* strip : 양쪽 공백 삭제하기"
      ]
    },
    {
      "cell_type": "code",
      "execution_count": null,
      "id": "3a2320f3",
      "metadata": {
        "ExecuteTime": {
          "end_time": "2022-08-29T20:53:45.199530Z",
          "start_time": "2022-08-29T20:53:45.187532Z"
        },
        "id": "3a2320f3"
      },
      "outputs": [],
      "source": [
        "'   Python   '.lstrip()"
      ]
    },
    {
      "cell_type": "code",
      "execution_count": null,
      "id": "30ebd694",
      "metadata": {
        "ExecuteTime": {
          "end_time": "2022-08-29T20:53:53.089913Z",
          "start_time": "2022-08-29T20:53:53.071895Z"
        },
        "id": "30ebd694"
      },
      "outputs": [],
      "source": [
        "'   Python   '.rstrip()"
      ]
    },
    {
      "cell_type": "code",
      "execution_count": null,
      "id": "18917d91",
      "metadata": {
        "ExecuteTime": {
          "end_time": "2022-08-29T20:53:58.254332Z",
          "start_time": "2022-08-29T20:53:58.233312Z"
        },
        "id": "18917d91"
      },
      "outputs": [],
      "source": [
        "'   Python   '.strip()"
      ]
    },
    {
      "cell_type": "markdown",
      "id": "b505b8da",
      "metadata": {
        "id": "b505b8da"
      },
      "source": [
        "#### 특정 문자 삭제하기\n",
        "\n",
        "* lstrip('삭제할문자들'): 문자열 왼쪽에 있는 해당 문자를 삭제한다.\n",
        "* rstrip('삭제할문자들'): 문자열 오른쪽에 있는 해당 문자를 삭제한다.\n",
        "* strip('삭제할문자들'): 문자열 양쪽에 있는 해당 문자를 삭제한다."
      ]
    },
    {
      "cell_type": "code",
      "execution_count": null,
      "id": "dd439e2d",
      "metadata": {
        "ExecuteTime": {
          "end_time": "2022-08-29T20:56:20.714775Z",
          "start_time": "2022-08-29T20:56:20.701774Z"
        },
        "id": "dd439e2d"
      },
      "outputs": [],
      "source": [
        "', python.'.lstrip(',.')"
      ]
    },
    {
      "cell_type": "code",
      "execution_count": null,
      "id": "ed8785ff",
      "metadata": {
        "ExecuteTime": {
          "end_time": "2022-08-29T20:56:25.118855Z",
          "start_time": "2022-08-29T20:56:25.103834Z"
        },
        "id": "ed8785ff"
      },
      "outputs": [],
      "source": [
        "', python.'.rstrip(',.')"
      ]
    },
    {
      "cell_type": "code",
      "execution_count": null,
      "id": "5cf86574",
      "metadata": {
        "ExecuteTime": {
          "end_time": "2022-08-29T20:56:31.916226Z",
          "start_time": "2022-08-29T20:56:31.892243Z"
        },
        "id": "5cf86574"
      },
      "outputs": [],
      "source": [
        "', python.'.strip(',.')"
      ]
    },
    {
      "cell_type": "markdown",
      "id": "451d937c",
      "metadata": {
        "id": "451d937c"
      },
      "source": [
        "#### 구두점을 간단하게 삭제하기"
      ]
    },
    {
      "cell_type": "code",
      "execution_count": null,
      "id": "0d453be0",
      "metadata": {
        "ExecuteTime": {
          "end_time": "2022-08-29T20:58:33.783400Z",
          "start_time": "2022-08-29T20:58:33.764377Z"
        },
        "id": "0d453be0"
      },
      "outputs": [],
      "source": [
        "import string\n",
        "', python.'.strip(string.punctuation)"
      ]
    },
    {
      "cell_type": "code",
      "execution_count": null,
      "id": "42c6a16c",
      "metadata": {
        "ExecuteTime": {
          "end_time": "2022-08-29T20:58:48.917887Z",
          "start_time": "2022-08-29T20:58:48.897872Z"
        },
        "id": "42c6a16c"
      },
      "outputs": [],
      "source": [
        "', python.'.strip(string.punctuation + ' ')"
      ]
    },
    {
      "cell_type": "code",
      "execution_count": null,
      "id": "af26b2e8",
      "metadata": {
        "ExecuteTime": {
          "end_time": "2022-08-29T20:58:58.619480Z",
          "start_time": "2022-08-29T20:58:58.603483Z"
        },
        "id": "af26b2e8"
      },
      "outputs": [],
      "source": [
        "', python.'.strip(string.punctuation).strip()"
      ]
    },
    {
      "cell_type": "markdown",
      "id": "02d131e3",
      "metadata": {
        "id": "02d131e3"
      },
      "source": [
        "#### 문자열을 왼쪽 정렬하기\n",
        "\n",
        "* 문자열에 공백을 넣어서 원하는 위치에 정렬\n",
        "* ljust(길이): 문자열을 지정된 길이로 만든 뒤 왼쪽으로 정렬하며 남는 공간을 공백으로 채운다.\n",
        "* rjust(길이): 문자열을 지정된 길이로 만든 뒤 오른쪽으로 정렬하며 남는 공간을 공백으로 채운다.\n",
        "* center(길이): 문자열을 지정된 길이로 만든 뒤 가운데로 정렬하며 남는 공간을 공백으로 채운다."
      ]
    },
    {
      "cell_type": "code",
      "execution_count": null,
      "id": "06d1ebc1",
      "metadata": {
        "ExecuteTime": {
          "end_time": "2022-08-29T21:02:11.873198Z",
          "start_time": "2022-08-29T21:02:11.857176Z"
        },
        "id": "06d1ebc1"
      },
      "outputs": [],
      "source": [
        "'python'.ljust(10)    # 'python'의 길이를 10으로 만든 뒤 왼쪽으로 정렬\n",
        "                      #  남는 공간을 공백 4칸으로 채운다"
      ]
    },
    {
      "cell_type": "code",
      "execution_count": null,
      "id": "aac5a89a",
      "metadata": {
        "ExecuteTime": {
          "end_time": "2022-08-29T21:02:26.102509Z",
          "start_time": "2022-08-29T21:02:26.090509Z"
        },
        "id": "aac5a89a"
      },
      "outputs": [],
      "source": [
        "'python'.rjust(10)    # 'python'의 길이를 10으로 만든 뒤 오른쪽으로 정렬\n",
        "                      #  남는 공간을 공백 4칸으로 채운다"
      ]
    },
    {
      "cell_type": "code",
      "execution_count": null,
      "id": "c85d49f0",
      "metadata": {
        "ExecuteTime": {
          "end_time": "2022-08-29T21:03:37.343215Z",
          "start_time": "2022-08-29T21:03:37.326219Z"
        },
        "id": "c85d49f0"
      },
      "outputs": [],
      "source": [
        "'python'.center(10)    # 'python'의 길이를 10으로 만든 뒤 가운데로 정렬\n",
        "                       #  남는 공간을 공백을 양 옆으로 2칸씩 채운다\n",
        "                       #  남는 공백이 홀수인 경우 왼쪽을 한칸 더 준다."
      ]
    },
    {
      "cell_type": "markdown",
      "id": "e3ee1ade",
      "metadata": {
        "id": "e3ee1ade"
      },
      "source": [
        "#### 문자열 왼쪽에 0 채우기\n",
        "\n",
        "\n",
        "* zfill(길이): 지정된 길이에 맞춰서 문자열의 왼쪽에 0을 채운다,(zero fill)\n",
        "    - 단, 문자열의 길이보다 지정된 길이가 작다면 아무것도 채우지 않는다."
      ]
    },
    {
      "cell_type": "code",
      "execution_count": null,
      "id": "4d2dffac",
      "metadata": {
        "ExecuteTime": {
          "end_time": "2022-08-29T21:06:38.504236Z",
          "start_time": "2022-08-29T21:06:38.488235Z"
        },
        "id": "4d2dffac"
      },
      "outputs": [],
      "source": [
        "'35'.zfill(4)  # 문자길이를 4로 하고 남은 공간을 앞쪽으로 하고 0을 채움"
      ]
    },
    {
      "cell_type": "markdown",
      "id": "3370aa75",
      "metadata": {
        "id": "3370aa75"
      },
      "source": [
        "#### 문자열 위치 찾기\n",
        "\n",
        "\n",
        "* find('찾을문자열'): 문자열에서 특정 문자열을 찾아서 인덱스를 반환하고, 문자열이 없으면 -1을 반환한다.\n",
        "    - find는 왼쪽에서부터 문자열을 찾는데, 같은 문자열이 여러개일 경우 처음 찾은 문자열의 인덱스를 반환한다.\n",
        "    - = index('찾을문자열')\n",
        "* rfind('찾을문자열'): 오른쪽에서부터 특정 문자열을 찾아서 인덱스를 반환\n",
        "    - = rindex('찾을문자열')"
      ]
    },
    {
      "cell_type": "code",
      "execution_count": null,
      "id": "2d476412",
      "metadata": {
        "ExecuteTime": {
          "end_time": "2022-08-29T21:09:36.490226Z",
          "start_time": "2022-08-29T21:09:36.483225Z"
        },
        "id": "2d476412"
      },
      "outputs": [],
      "source": [
        "'apple pineapple'.find('pl')"
      ]
    },
    {
      "cell_type": "code",
      "execution_count": null,
      "id": "30ae4777",
      "metadata": {
        "ExecuteTime": {
          "end_time": "2022-08-29T21:10:26.958434Z",
          "start_time": "2022-08-29T21:10:26.937414Z"
        },
        "id": "30ae4777"
      },
      "outputs": [],
      "source": [
        "'apple pineapple'.find('l')"
      ]
    },
    {
      "cell_type": "code",
      "execution_count": null,
      "id": "1478ca45",
      "metadata": {
        "ExecuteTime": {
          "end_time": "2022-08-29T21:10:35.630937Z",
          "start_time": "2022-08-29T21:10:35.621941Z"
        },
        "id": "1478ca45"
      },
      "outputs": [],
      "source": [
        "'apple pineapple'.find('xy')"
      ]
    },
    {
      "cell_type": "code",
      "execution_count": null,
      "id": "6322ccf9",
      "metadata": {
        "ExecuteTime": {
          "end_time": "2022-08-29T21:11:37.632745Z",
          "start_time": "2022-08-29T21:11:37.617723Z"
        },
        "id": "6322ccf9"
      },
      "outputs": [],
      "source": [
        "'apple pineapple'.rfind('pl')"
      ]
    },
    {
      "cell_type": "markdown",
      "id": "aaed6d5b",
      "metadata": {
        "id": "aaed6d5b"
      },
      "source": [
        "#### 문자열 개수 세기\n",
        "\n",
        "\n",
        "* count('문자열'): 현재 문자열에서 특정 문자열이 몇 번 나오는지 알아낸다."
      ]
    },
    {
      "cell_type": "code",
      "execution_count": null,
      "id": "806e6f93",
      "metadata": {
        "ExecuteTime": {
          "end_time": "2022-08-29T21:14:15.323482Z",
          "start_time": "2022-08-29T21:14:15.304461Z"
        },
        "id": "806e6f93"
      },
      "outputs": [],
      "source": [
        "'apple pineapple'.count('pl')"
      ]
    },
    {
      "cell_type": "markdown",
      "id": "1c1b8723",
      "metadata": {
        "id": "1c1b8723"
      },
      "source": [
        "### 문자열 서식 지정자와 포매팅 사용하기\n",
        "\n",
        "\n",
        "* 문자열 안에서 특정 부분을 원하는 값으로 바꿀 때 서식 지정자 또는 문자열 포매팅을 사용한다.\n",
        "    - 서식 지정자(format specifier): % \n",
        "    - 문자열 포매팅(string foremtting): {}"
      ]
    },
    {
      "cell_type": "markdown",
      "id": "6b8b269c",
      "metadata": {
        "id": "6b8b269c"
      },
      "source": [
        "#### 서식 지정자로 문자열 넣기\n",
        "\n",
        "\n",
        "* '%s' % '문자열'\n",
        "    - 서식 지정자는 %로 시작하고 자료형을 뜻하는 문자가 붙는다."
      ]
    },
    {
      "cell_type": "code",
      "execution_count": null,
      "id": "75f532d6",
      "metadata": {
        "ExecuteTime": {
          "end_time": "2022-08-29T21:17:45.873818Z",
          "start_time": "2022-08-29T21:17:45.863830Z"
        },
        "id": "75f532d6"
      },
      "outputs": [],
      "source": [
        "'I am %s.' % 'James'"
      ]
    },
    {
      "cell_type": "code",
      "execution_count": null,
      "id": "d45bfc8e",
      "metadata": {
        "ExecuteTime": {
          "end_time": "2022-08-29T21:19:49.570237Z",
          "start_time": "2022-08-29T21:19:49.552237Z"
        },
        "id": "d45bfc8e"
      },
      "outputs": [],
      "source": [
        "name = 'maria'\n",
        "'I am %s.' % name"
      ]
    },
    {
      "cell_type": "markdown",
      "id": "4954a495",
      "metadata": {
        "id": "4954a495"
      },
      "source": [
        "#### 서식 지정자로 숫자 넣기\n",
        "\n",
        "\n",
        "* '%d' % 숫자"
      ]
    },
    {
      "cell_type": "code",
      "execution_count": null,
      "id": "ff75aa50",
      "metadata": {
        "ExecuteTime": {
          "end_time": "2022-08-29T21:21:09.881604Z",
          "start_time": "2022-08-29T21:21:09.859587Z"
        },
        "id": "ff75aa50"
      },
      "outputs": [],
      "source": [
        "'I am %d years old.'%20"
      ]
    },
    {
      "cell_type": "markdown",
      "id": "6be3d137",
      "metadata": {
        "id": "6be3d137"
      },
      "source": [
        "#### 서식 지정자로 소수점 표현하기\n",
        "\n",
        "\n",
        "* '%f' % 숫자\n",
        "    - f 는 fixed point(고정 소수점)\n",
        "    - %f 는 기본적으로 소수점 이하 6자리까지 표시한다.\n",
        "    - '%.자리수f' % 숫자: 소수점 이하 자릿수를 지정할 때 f앞에 .(점)과 자릿수를 지정한다."
      ]
    },
    {
      "cell_type": "code",
      "execution_count": null,
      "id": "2b9b3bce",
      "metadata": {
        "ExecuteTime": {
          "end_time": "2022-08-29T21:22:56.623595Z",
          "start_time": "2022-08-29T21:22:56.601574Z"
        },
        "id": "2b9b3bce"
      },
      "outputs": [],
      "source": [
        "'%f' % 2.3"
      ]
    },
    {
      "cell_type": "markdown",
      "id": "282f3092",
      "metadata": {
        "id": "282f3092"
      },
      "source": [
        "#### 서식 지정자로 문자열 정렬하기\n",
        "\n",
        "\n",
        "* % 뒤에 숫자를 붙이면 문자열을 지정된 길이로 만든 뒤 오른쪽으로 정렬하고 남는 공간을 공백으로 채운다.\n",
        "    - = rjust(길이)\n",
        "* 왼쪽 정렬은 숫자 앞에 -를 붙인다."
      ]
    },
    {
      "cell_type": "code",
      "execution_count": null,
      "id": "c6501fff",
      "metadata": {
        "ExecuteTime": {
          "end_time": "2022-08-29T21:25:35.643340Z",
          "start_time": "2022-08-29T21:25:35.635336Z"
        },
        "id": "c6501fff"
      },
      "outputs": [],
      "source": [
        "'%10s'%'python'"
      ]
    },
    {
      "cell_type": "code",
      "execution_count": null,
      "id": "278304de",
      "metadata": {
        "ExecuteTime": {
          "end_time": "2022-08-29T21:27:21.623013Z",
          "start_time": "2022-08-29T21:27:21.600011Z"
        },
        "id": "278304de"
      },
      "outputs": [],
      "source": [
        "'%-10s'%'python'"
      ]
    },
    {
      "cell_type": "markdown",
      "id": "5b0ff957",
      "metadata": {
        "id": "5b0ff957"
      },
      "source": [
        "#### 서식 지정자로 문자열 안에 값 여러 개 넣기\n",
        "\n",
        "\n",
        "* %를 붙이고, 괄호 안에 값(변수)을 콤마로 구분한다. \n",
        "    - 값을 괄호로 묶지 않으면 에러 발생"
      ]
    },
    {
      "cell_type": "code",
      "execution_count": null,
      "id": "eb8b2dfd",
      "metadata": {
        "ExecuteTime": {
          "end_time": "2022-08-29T21:40:16.316414Z",
          "start_time": "2022-08-29T21:40:16.297390Z"
        },
        "id": "eb8b2dfd"
      },
      "outputs": [],
      "source": [
        "'Today is %d %s.'%(3, 'April')"
      ]
    },
    {
      "cell_type": "code",
      "execution_count": null,
      "id": "cafdb6bb",
      "metadata": {
        "ExecuteTime": {
          "end_time": "2022-08-29T21:41:11.459931Z",
          "start_time": "2022-08-29T21:41:11.445934Z"
        },
        "id": "cafdb6bb"
      },
      "outputs": [],
      "source": [
        "'Today is %d%s.'%(3, 'April')# 서식 지정자를 붙이면 결과도 붙어서 나온다."
      ]
    },
    {
      "cell_type": "markdown",
      "id": "6074677d",
      "metadata": {
        "id": "6074677d"
      },
      "source": [
        "#### format 메서드 사용하기\n",
        "\n",
        "\n",
        "* 문자열 포매팅은 {}(중괄호) 안에 포매팅을 지정하고 format 메서드로 값을 넣는다.\n",
        "* '{인덱스}'.format(값)"
      ]
    },
    {
      "cell_type": "code",
      "execution_count": null,
      "id": "08941d63",
      "metadata": {
        "ExecuteTime": {
          "end_time": "2022-08-29T21:43:10.506174Z",
          "start_time": "2022-08-29T21:43:10.484153Z"
        },
        "id": "08941d63"
      },
      "outputs": [],
      "source": [
        "'Hello, {0}'.format('world!')"
      ]
    },
    {
      "cell_type": "markdown",
      "id": "918a428e",
      "metadata": {
        "id": "918a428e"
      },
      "source": [
        "#### format 메서드로 값을 여러 개 넣기"
      ]
    },
    {
      "cell_type": "code",
      "execution_count": null,
      "id": "14245c19",
      "metadata": {
        "ExecuteTime": {
          "end_time": "2022-08-29T21:44:39.550885Z",
          "start_time": "2022-08-29T21:44:39.539871Z"
        },
        "id": "14245c19"
      },
      "outputs": [],
      "source": [
        "'Hello, {0} {2} {1}'.format('Python', 'Script', 3.6)"
      ]
    },
    {
      "cell_type": "markdown",
      "id": "57b4a99e",
      "metadata": {
        "id": "57b4a99e"
      },
      "source": [
        "#### format 메서드로 같은 값을 여러 개 넣기"
      ]
    },
    {
      "cell_type": "code",
      "execution_count": null,
      "id": "90229044",
      "metadata": {
        "ExecuteTime": {
          "end_time": "2022-08-29T21:45:37.788648Z",
          "start_time": "2022-08-29T21:45:37.767628Z"
        },
        "id": "90229044"
      },
      "outputs": [],
      "source": [
        "'{0} {0} {1} {1}'.format('Python', 'Script')"
      ]
    },
    {
      "cell_type": "markdown",
      "id": "bba33200",
      "metadata": {
        "id": "bba33200"
      },
      "source": [
        "#### form,at 메서드에서 인덱스 생략하기"
      ]
    },
    {
      "cell_type": "code",
      "execution_count": null,
      "id": "45df1612",
      "metadata": {
        "ExecuteTime": {
          "end_time": "2022-08-29T21:46:27.026705Z",
          "start_time": "2022-08-29T21:46:27.002678Z"
        },
        "id": "45df1612"
      },
      "outputs": [],
      "source": [
        "'Hello, {} {} {}'.format('Python', 'Script', 3.6) \n",
        "\n",
        "# {}에서 인덱스를 생략하면 format 에 지정한 순서대로 값이 들어간다."
      ]
    },
    {
      "cell_type": "markdown",
      "id": "e9f3f1af",
      "metadata": {
        "id": "e9f3f1af"
      },
      "source": [
        "#### format 메서드에서 인덱스 대신 이름 지정하기"
      ]
    },
    {
      "cell_type": "code",
      "execution_count": null,
      "id": "1addba2c",
      "metadata": {
        "ExecuteTime": {
          "end_time": "2022-08-29T21:47:52.159923Z",
          "start_time": "2022-08-29T21:47:52.138919Z"
        },
        "id": "1addba2c"
      },
      "outputs": [],
      "source": [
        "'Hello, {language} {version}'.format(language='Python', version=3.6)"
      ]
    },
    {
      "cell_type": "markdown",
      "id": "6c7e5df7",
      "metadata": {
        "id": "6c7e5df7"
      },
      "source": [
        "#### 문자열 포매팅에 변수를 그대로 사용하기"
      ]
    },
    {
      "cell_type": "code",
      "execution_count": null,
      "id": "0812b149",
      "metadata": {
        "ExecuteTime": {
          "end_time": "2022-08-29T21:49:23.104375Z",
          "start_time": "2022-08-29T21:49:23.081345Z"
        },
        "id": "0812b149"
      },
      "outputs": [],
      "source": [
        "language='Python'\n",
        "version=3.6\n",
        "f'Hello, {language} {version}'"
      ]
    },
    {
      "cell_type": "markdown",
      "id": "0405761c",
      "metadata": {
        "id": "0405761c"
      },
      "source": [
        "#### format 메서드로 문자열 정렬하기\n",
        "\n",
        "\n",
        "* 인덱스 뒤에 :(콜론)을 붙이고 정렬할 방향과 길이를 지정한다.\n",
        "* '{인덱스:<길이}'.format(값)"
      ]
    },
    {
      "cell_type": "code",
      "execution_count": null,
      "id": "94c88ac6",
      "metadata": {
        "ExecuteTime": {
          "end_time": "2022-08-29T21:52:28.098492Z",
          "start_time": "2022-08-29T21:52:28.090491Z"
        },
        "id": "94c88ac6"
      },
      "outputs": [],
      "source": [
        "'{0:<10}'.format('python')  # = 'pyrthon'.ljust(10)"
      ]
    },
    {
      "cell_type": "code",
      "execution_count": null,
      "id": "d03f7816",
      "metadata": {
        "ExecuteTime": {
          "end_time": "2022-08-29T21:52:32.241461Z",
          "start_time": "2022-08-29T21:52:32.231461Z"
        },
        "id": "d03f7816"
      },
      "outputs": [],
      "source": [
        "'python'.ljust(10)"
      ]
    },
    {
      "cell_type": "markdown",
      "id": "6f9af5a7",
      "metadata": {
        "id": "6f9af5a7"
      },
      "source": [
        "#### 숫자 개수 맞추기\n",
        "\n",
        "\n",
        "* '%0개수d' % 숫자\n",
        "* {인덱스:0개수d}'.format(35)"
      ]
    },
    {
      "cell_type": "code",
      "execution_count": null,
      "id": "eee1c24a",
      "metadata": {
        "ExecuteTime": {
          "end_time": "2022-08-29T21:55:04.233695Z",
          "start_time": "2022-08-29T21:55:04.221715Z"
        },
        "id": "eee1c24a"
      },
      "outputs": [],
      "source": [
        "'%03d' % 1"
      ]
    },
    {
      "cell_type": "code",
      "execution_count": null,
      "id": "ae5c5d5b",
      "metadata": {
        "ExecuteTime": {
          "end_time": "2022-08-29T21:55:24.767578Z",
          "start_time": "2022-08-29T21:55:24.748594Z"
        },
        "id": "ae5c5d5b"
      },
      "outputs": [],
      "source": [
        "'{0:03d}'.format(35)"
      ]
    },
    {
      "cell_type": "code",
      "execution_count": null,
      "id": "6d0e1a76",
      "metadata": {
        "ExecuteTime": {
          "end_time": "2022-08-29T21:55:53.969331Z",
          "start_time": "2022-08-29T21:55:53.955334Z"
        },
        "id": "6d0e1a76"
      },
      "outputs": [],
      "source": [
        "'%08.2f' % 3.6"
      ]
    },
    {
      "cell_type": "markdown",
      "id": "30408137",
      "metadata": {
        "id": "30408137"
      },
      "source": [
        "#### 채우기와 정렬을 조합해서 사용하기\n",
        "\n",
        "\n",
        "* '{인덱스:[[채우기]정렬][길이][.자릿수][자료형]}'"
      ]
    },
    {
      "cell_type": "code",
      "execution_count": null,
      "id": "c685bfd5",
      "metadata": {
        "ExecuteTime": {
          "end_time": "2022-08-29T21:58:36.634313Z",
          "start_time": "2022-08-29T21:58:36.614292Z"
        },
        "id": "c685bfd5"
      },
      "outputs": [],
      "source": [
        "'{0:0<10}'.format(15)  # 길이 10, 왼쪽 정렬하고 남는 공간은 0으로 채움"
      ]
    },
    {
      "cell_type": "code",
      "execution_count": null,
      "id": "7c72b23a",
      "metadata": {
        "ExecuteTime": {
          "end_time": "2022-08-29T21:59:10.086842Z",
          "start_time": "2022-08-29T21:59:10.076843Z"
        },
        "id": "7c72b23a"
      },
      "outputs": [],
      "source": [
        "'{0:0>10.2f}'.format(15)    # 길이 10, 오른쪽 정렬, 소수점 자릿수는 2자리"
      ]
    },
    {
      "cell_type": "markdown",
      "id": "70614129",
      "metadata": {
        "id": "70614129"
      },
      "source": [
        "#### 금액에서 천단위로 콤마 넣기\n",
        "\n",
        "\n",
        "* format(숫자,',')"
      ]
    },
    {
      "cell_type": "code",
      "execution_count": null,
      "id": "7923f740",
      "metadata": {
        "ExecuteTime": {
          "end_time": "2022-08-29T22:00:41.240866Z",
          "start_time": "2022-08-29T22:00:41.229868Z"
        },
        "id": "7923f740"
      },
      "outputs": [],
      "source": [
        "format(1493500,',')"
      ]
    },
    {
      "cell_type": "code",
      "execution_count": null,
      "id": "420de825",
      "metadata": {
        "ExecuteTime": {
          "end_time": "2022-08-29T22:01:27.548276Z",
          "start_time": "2022-08-29T22:01:27.540277Z"
        },
        "id": "420de825"
      },
      "outputs": [],
      "source": [
        "'{0:,}'.format(1493500)"
      ]
    },
    {
      "cell_type": "markdown",
      "id": "8be82bb2",
      "metadata": {
        "id": "8be82bb2"
      },
      "source": [
        "### 심사문제: 특정 단어 개수 세기"
      ]
    },
    {
      "cell_type": "code",
      "execution_count": null,
      "id": "7b9de5fb",
      "metadata": {
        "ExecuteTime": {
          "end_time": "2022-08-30T01:32:59.481832Z",
          "start_time": "2022-08-30T01:32:57.647087Z"
        },
        "id": "7b9de5fb"
      },
      "outputs": [],
      "source": [
        "a=input().split()\n",
        "b=0\n",
        "for i in a:\n",
        "    if (i.strip(',.')=='the'):\n",
        "        b += 1\n",
        "print(b)"
      ]
    },
    {
      "cell_type": "markdown",
      "id": "689b7d88",
      "metadata": {
        "id": "689b7d88"
      },
      "source": [
        "### 심사문제: 높은 가격순으로 출력하기"
      ]
    },
    {
      "cell_type": "code",
      "execution_count": null,
      "id": "c08727aa",
      "metadata": {
        "ExecuteTime": {
          "end_time": "2022-08-30T01:43:12.892178Z",
          "start_time": "2022-08-30T01:43:01.034262Z"
        },
        "id": "c08727aa"
      },
      "outputs": [],
      "source": [
        "a=list(map(int,input().split(';')))\n",
        "a.sort(reverse=True)\n",
        "for i in a:\n",
        "    print('%9s'%format(i,','))"
      ]
    },
    {
      "cell_type": "markdown",
      "id": "8eacfa6c",
      "metadata": {
        "id": "8eacfa6c"
      },
      "source": [
        "## 딕셔너리 응용하기"
      ]
    },
    {
      "cell_type": "markdown",
      "id": "90f962bf",
      "metadata": {
        "id": "90f962bf"
      },
      "source": [
        "### 딕셔너리 조작하기"
      ]
    },
    {
      "cell_type": "markdown",
      "id": "6c76dd54",
      "metadata": {
        "id": "6c76dd54"
      },
      "source": [
        "#### 딕셔너리에 키-값 쌍 추가하기\n",
        "\n",
        "\n",
        "* setdefault: 키-값 쌍 추가\n",
        "* update: 키의 값 수정, 키가 없으면 키-값 쌍 추가"
      ]
    },
    {
      "cell_type": "code",
      "execution_count": null,
      "id": "1d2907e9",
      "metadata": {
        "ExecuteTime": {
          "end_time": "2022-08-30T02:13:04.871988Z",
          "start_time": "2022-08-30T02:13:04.842985Z"
        },
        "id": "1d2907e9"
      },
      "outputs": [],
      "source": [
        "x = {'a': 10, 'b': 20, 'c': 30, 'd': 40}\n",
        "x.setdefault('e')\n",
        "x"
      ]
    },
    {
      "cell_type": "code",
      "execution_count": null,
      "id": "3cb99cde",
      "metadata": {
        "ExecuteTime": {
          "end_time": "2022-08-30T02:13:33.588755Z",
          "start_time": "2022-08-30T02:13:33.564753Z"
        },
        "id": "3cb99cde"
      },
      "outputs": [],
      "source": [
        "x.setdefault('f',100)\n",
        "x"
      ]
    },
    {
      "cell_type": "code",
      "execution_count": null,
      "id": "ba93e222",
      "metadata": {
        "ExecuteTime": {
          "end_time": "2022-08-30T02:14:13.709748Z",
          "start_time": "2022-08-30T02:14:13.692751Z"
        },
        "id": "ba93e222"
      },
      "outputs": [],
      "source": [
        "x = {'a': 10, 'b': 20, 'c': 30, 'd': 40}\n",
        "x.update(a=90)\n",
        "x"
      ]
    },
    {
      "cell_type": "code",
      "execution_count": null,
      "id": "cecfb07b",
      "metadata": {
        "ExecuteTime": {
          "end_time": "2022-08-30T02:14:40.881173Z",
          "start_time": "2022-08-30T02:14:40.859172Z"
        },
        "id": "cecfb07b"
      },
      "outputs": [],
      "source": [
        "x = {'a': 10, 'b': 20, 'c': 30, 'd': 40}\n",
        "x.update(e=50)\n",
        "x"
      ]
    },
    {
      "cell_type": "code",
      "execution_count": null,
      "id": "3d8dcde3",
      "metadata": {
        "ExecuteTime": {
          "end_time": "2022-08-30T02:17:34.420546Z",
          "start_time": "2022-08-30T02:17:34.396548Z"
        },
        "id": "3d8dcde3"
      },
      "outputs": [],
      "source": [
        "y = {1: 'one', 2: 'two'}\n",
        "y.update({1:'ONE',3:'THREE'})  # 키가 숫자일 때에는 update(딕셔너리)처럼 딕셔너리를 넣어서 값을 수정한다\n",
        "y"
      ]
    },
    {
      "cell_type": "code",
      "execution_count": null,
      "id": "8b74dd48",
      "metadata": {
        "ExecuteTime": {
          "end_time": "2022-08-30T02:19:04.001165Z",
          "start_time": "2022-08-30T02:19:03.979188Z"
        },
        "id": "8b74dd48"
      },
      "outputs": [],
      "source": [
        "y.update([[2, 'TWO'], [4, 'FOUR']]) # 리스트 형식(튜플 동일)의 딕셔너리는 리스트 형식의 키와 값을 만들고 이 리스트를 다시 리스트 안에 넣는다.\n",
        "y"
      ]
    },
    {
      "cell_type": "code",
      "execution_count": null,
      "id": "b1d8a83f",
      "metadata": {
        "ExecuteTime": {
          "end_time": "2022-08-30T02:20:14.802231Z",
          "start_time": "2022-08-30T02:20:14.786230Z"
        },
        "id": "b1d8a83f"
      },
      "outputs": [],
      "source": [
        "y.update(zip([1,2],['one','two']))  # 키 리스트와 값 리스트를 묶은 zip 객체로 값을 수정할 수 있다.\n",
        "y"
      ]
    },
    {
      "cell_type": "markdown",
      "id": "aec267cd",
      "metadata": {
        "id": "aec267cd"
      },
      "source": [
        "#### 딕셔너리에서 키-값 쌍 삭제하기"
      ]
    },
    {
      "cell_type": "code",
      "execution_count": null,
      "id": "adcbab3a",
      "metadata": {
        "ExecuteTime": {
          "end_time": "2022-08-30T02:21:29.248461Z",
          "start_time": "2022-08-30T02:21:29.236443Z"
        },
        "id": "adcbab3a"
      },
      "outputs": [],
      "source": [
        "x = {'a': 10, 'b': 20, 'c': 30, 'd': 40}\n",
        "x.pop('a')"
      ]
    },
    {
      "cell_type": "code",
      "execution_count": null,
      "id": "885a7c36",
      "metadata": {
        "ExecuteTime": {
          "end_time": "2022-08-30T02:21:31.322346Z",
          "start_time": "2022-08-30T02:21:31.308346Z"
        },
        "id": "885a7c36"
      },
      "outputs": [],
      "source": [
        "x"
      ]
    },
    {
      "cell_type": "code",
      "execution_count": null,
      "id": "b976d4dc",
      "metadata": {
        "ExecuteTime": {
          "end_time": "2022-08-30T02:22:20.862573Z",
          "start_time": "2022-08-30T02:22:20.845575Z"
        },
        "id": "b976d4dc"
      },
      "outputs": [],
      "source": [
        "x = {'a': 10, 'b': 20, 'c': 30, 'd': 40}\n",
        "del x['a']\n",
        "x"
      ]
    },
    {
      "cell_type": "markdown",
      "id": "71873ff8",
      "metadata": {
        "id": "71873ff8"
      },
      "source": [
        "#### 딕셔너리에서 임의의 키-값 쌍 삭제하기\n",
        "\n",
        "\n",
        "* popitem()은 딕셔너리에서 임의의 키-값 쌍을 삭제한 뒤 삭제하 키-값 쌍을 튜플로 반환한다."
      ]
    },
    {
      "cell_type": "code",
      "execution_count": null,
      "id": "ed86c8aa",
      "metadata": {
        "ExecuteTime": {
          "end_time": "2022-08-30T02:23:46.383848Z",
          "start_time": "2022-08-30T02:23:46.371847Z"
        },
        "id": "ed86c8aa"
      },
      "outputs": [],
      "source": [
        "x = {'a': 10, 'b': 20, 'c': 30, 'd': 40}\n",
        "x.popitem()\n",
        "x"
      ]
    },
    {
      "cell_type": "code",
      "execution_count": null,
      "id": "0e42a060",
      "metadata": {
        "ExecuteTime": {
          "end_time": "2022-08-30T02:24:23.295149Z",
          "start_time": "2022-08-30T02:24:23.283149Z"
        },
        "id": "0e42a060"
      },
      "outputs": [],
      "source": [
        "x = {'a': 10, 'b': 20, 'c': 30, 'd': 40}\n",
        "x.clear()\n",
        "x"
      ]
    },
    {
      "cell_type": "markdown",
      "id": "3102dedd",
      "metadata": {
        "id": "3102dedd"
      },
      "source": [
        "#### 딕셔너리에서 키의 값을 가져오기"
      ]
    },
    {
      "cell_type": "code",
      "execution_count": null,
      "id": "55bad3eb",
      "metadata": {
        "ExecuteTime": {
          "end_time": "2022-08-30T02:25:27.499928Z",
          "start_time": "2022-08-30T02:25:27.485925Z"
        },
        "id": "55bad3eb"
      },
      "outputs": [],
      "source": [
        "x = {'a': 10, 'b': 20, 'c': 30, 'd': 40}\n",
        "x.get('a')"
      ]
    },
    {
      "cell_type": "markdown",
      "id": "12973707",
      "metadata": {
        "id": "12973707"
      },
      "source": [
        "#### 딕셔너리에서 키-값 쌍을 모두 가져오기\n",
        "\n",
        "\n",
        "* items: 키-값 쌍을 모두 가져옴\n",
        "* keys: 키를 모두 가져옴\n",
        "* values: 값을 모두 가져옴"
      ]
    },
    {
      "cell_type": "code",
      "execution_count": null,
      "id": "e6094c52",
      "metadata": {
        "ExecuteTime": {
          "end_time": "2022-08-30T02:28:07.884489Z",
          "start_time": "2022-08-30T02:28:07.868488Z"
        },
        "id": "e6094c52"
      },
      "outputs": [],
      "source": [
        "x = {'a': 10, 'b': 20, 'c': 30, 'd': 40}\n",
        "x.items()"
      ]
    },
    {
      "cell_type": "code",
      "execution_count": null,
      "id": "4fc6837f",
      "metadata": {
        "ExecuteTime": {
          "end_time": "2022-08-30T02:28:31.827760Z",
          "start_time": "2022-08-30T02:28:31.806740Z"
        },
        "id": "4fc6837f"
      },
      "outputs": [],
      "source": [
        "x = {'a': 10, 'b': 20, 'c': 30, 'd': 40}\n",
        "x.keys()"
      ]
    },
    {
      "cell_type": "code",
      "execution_count": null,
      "id": "cc4da1fc",
      "metadata": {
        "ExecuteTime": {
          "end_time": "2022-08-30T02:28:42.999495Z",
          "start_time": "2022-08-30T02:28:42.992500Z"
        },
        "id": "cc4da1fc"
      },
      "outputs": [],
      "source": [
        "x.values()"
      ]
    },
    {
      "cell_type": "markdown",
      "id": "d5ec4b1c",
      "metadata": {
        "id": "d5ec4b1c"
      },
      "source": [
        "#### 리스트와 튜플로 딕셔너리 만들기\n",
        "\n",
        "\n",
        "* dict.fromkeys(keys) 모든 키와 값을 불러온다."
      ]
    },
    {
      "cell_type": "code",
      "execution_count": null,
      "id": "db26d52a",
      "metadata": {
        "ExecuteTime": {
          "end_time": "2022-08-30T02:30:18.767724Z",
          "start_time": "2022-08-30T02:30:18.751745Z"
        },
        "id": "db26d52a"
      },
      "outputs": [],
      "source": [
        "keys = ['a', 'b', 'c', 'd']\n",
        "x=dict.fromkeys(keys)\n",
        "x"
      ]
    },
    {
      "cell_type": "code",
      "execution_count": null,
      "id": "c01320af",
      "metadata": {
        "ExecuteTime": {
          "end_time": "2022-08-30T02:30:54.175285Z",
          "start_time": "2022-08-30T02:30:54.152281Z"
        },
        "id": "c01320af"
      },
      "outputs": [],
      "source": [
        "y=dict.fromkeys(keys,100)\n",
        "y"
      ]
    },
    {
      "cell_type": "markdown",
      "id": "704715fc",
      "metadata": {
        "id": "704715fc"
      },
      "source": [
        "### 반복문으로 딕셔너리의 키-값 쌍을 모두 출력하기\n",
        "\n",
        "\n",
        "* for 키,값 in 딕셔너리.items():\\\n",
        "반복할 코드\n",
        "\n",
        "* 딕셔너리\n",
        "  변수 = {키:값 for 키,값 in dict.fromkeys(딕셔너리).itmes()}"
      ]
    },
    {
      "cell_type": "code",
      "execution_count": null,
      "id": "a9c41593",
      "metadata": {
        "ExecuteTime": {
          "end_time": "2022-08-30T02:35:04.049359Z",
          "start_time": "2022-08-30T02:35:04.033377Z"
        },
        "id": "a9c41593"
      },
      "outputs": [],
      "source": [
        "x = {'a': 10, 'b': 20, 'c': 30, 'd': 40}\n",
        "for i in x:\n",
        "    print(i,end='')  # 키 값만 출력된다."
      ]
    },
    {
      "cell_type": "code",
      "execution_count": null,
      "id": "056a49bf",
      "metadata": {
        "ExecuteTime": {
          "end_time": "2022-08-30T02:35:37.785425Z",
          "start_time": "2022-08-30T02:35:37.772424Z"
        },
        "id": "056a49bf"
      },
      "outputs": [],
      "source": [
        "x = {'a': 10, 'b': 20, 'c': 30, 'd': 40}\n",
        "for key,value in x.items():\n",
        "    print(key,value)"
      ]
    },
    {
      "cell_type": "code",
      "execution_count": null,
      "id": "c0f4d0a1",
      "metadata": {
        "ExecuteTime": {
          "end_time": "2022-08-30T02:37:04.862176Z",
          "start_time": "2022-08-30T02:37:04.843167Z"
        },
        "id": "c0f4d0a1"
      },
      "outputs": [],
      "source": [
        "for key, value in {'a': 10, 'b': 20, 'c': 30, 'd': 40}.items():\n",
        "    print(key,value)"
      ]
    },
    {
      "cell_type": "markdown",
      "id": "6d254f35",
      "metadata": {
        "id": "6d254f35"
      },
      "source": [
        "#### 딕셔너리의 키만 출력하기"
      ]
    },
    {
      "cell_type": "code",
      "execution_count": null,
      "id": "5001f9e5",
      "metadata": {
        "ExecuteTime": {
          "end_time": "2022-08-30T02:38:10.628374Z",
          "start_time": "2022-08-30T02:38:10.603375Z"
        },
        "id": "5001f9e5"
      },
      "outputs": [],
      "source": [
        "x = {'a': 10, 'b': 20, 'c': 30, 'd': 40}\n",
        "for key in x.keys():\n",
        "    print(key,end='')"
      ]
    },
    {
      "cell_type": "markdown",
      "id": "c708fe8f",
      "metadata": {
        "id": "c708fe8f"
      },
      "source": [
        "#### 딕셔너리의 값만 출력하기"
      ]
    },
    {
      "cell_type": "code",
      "execution_count": null,
      "id": "e60f2b8e",
      "metadata": {
        "ExecuteTime": {
          "end_time": "2022-08-30T02:55:05.372358Z",
          "start_time": "2022-08-30T02:55:05.353361Z"
        },
        "id": "e60f2b8e"
      },
      "outputs": [],
      "source": [
        "x = {'a': 10, 'b': 20, 'c': 30, 'd': 40}\n",
        "for value in x.values():\n",
        "    print(value,end=' ')"
      ]
    },
    {
      "cell_type": "markdown",
      "id": "cb38bc77",
      "metadata": {
        "id": "cb38bc77"
      },
      "source": [
        "### 딕셔너리 표현식 사용하기\n",
        "\n",
        "\n",
        "* {키:값 for 키,값 in 딕셔너리}\n",
        "* dict({키 : 값 for 키, 값 in 딕셔너리})"
      ]
    },
    {
      "cell_type": "code",
      "execution_count": null,
      "id": "d91130c4",
      "metadata": {
        "ExecuteTime": {
          "end_time": "2022-08-30T02:57:40.381688Z",
          "start_time": "2022-08-30T02:57:40.363689Z"
        },
        "id": "d91130c4"
      },
      "outputs": [],
      "source": [
        "keys = ['a', 'b', 'c', 'd']\n",
        "x={key:value for key,vlaue in dict.fromkeys(keys).items()}\n",
        "x"
      ]
    },
    {
      "cell_type": "markdown",
      "id": "319b9810",
      "metadata": {
        "id": "319b9810"
      },
      "source": [
        "#### 딕셔너리 표현식에서 if 조건문 사용하기\n",
        "\n",
        "\n",
        "* {키:값 for 키,값 in 딕셔너리 if 조건식}\n",
        "* dict({키:값 for 키,값 in 딕셔너리 if 조건식})"
      ]
    },
    {
      "cell_type": "code",
      "execution_count": null,
      "id": "cf903f06",
      "metadata": {
        "ExecuteTime": {
          "end_time": "2022-08-30T03:08:36.469119Z",
          "start_time": "2022-08-30T03:08:36.450099Z"
        },
        "id": "cf903f06"
      },
      "outputs": [],
      "source": [
        "x = {'a': 10, 'b': 20, 'c': 30, 'd': 40}\n",
        "\n",
        "x={key: value for key, value in x.items() if value !=20}\n",
        "x"
      ]
    },
    {
      "cell_type": "markdown",
      "id": "1f85dc7b",
      "metadata": {
        "ExecuteTime": {
          "end_time": "2022-08-30T03:08:58.694308Z",
          "start_time": "2022-08-30T03:08:58.676307Z"
        },
        "id": "1f85dc7b"
      },
      "source": [
        "#### 딕셔너리 안에서 딕셔너리 사용하기\n",
        "\n",
        "\n",
        "* 딕셔너리 = {키1: {키A:값A}, 키2: {키B:값B}}"
      ]
    },
    {
      "cell_type": "markdown",
      "id": "dad7bb2d",
      "metadata": {
        "id": "dad7bb2d"
      },
      "source": [
        "### 딕셔너리의 할당과 복사"
      ]
    },
    {
      "cell_type": "markdown",
      "id": "d82cea12",
      "metadata": {
        "id": "d82cea12"
      },
      "source": [
        "#### 중첩 딕셔너리의 할당과 복사 알아보기\n",
        "\n",
        "\n",
        "* 일반적인 딕셔너리의 복사는 copy()를 쓰지만\n",
        "중첩 딕셔너리는 deepcoyp()를 쓴다."
      ]
    },
    {
      "cell_type": "markdown",
      "id": "b384dc5c",
      "metadata": {
        "id": "b384dc5c"
      },
      "source": [
        "### 심사문제: 딕셔너리에서 특정 값 삭제하기"
      ]
    },
    {
      "cell_type": "markdown",
      "id": "9930c4e9",
      "metadata": {
        "id": "9930c4e9"
      },
      "source": [
        "## 세트 사용하기\n",
        "\n",
        "\n",
        "* 수학에서 말하는 집합을 뜻 한다."
      ]
    },
    {
      "cell_type": "markdown",
      "id": "a6094fd8",
      "metadata": {
        "id": "a6094fd8"
      },
      "source": [
        "### 세트 만들기\n",
        "\n",
        "\n",
        "* 세트 = {값1, 값2, 값3}\n",
        "* 세트는 요소의 순서가 정해져 있지 않다. 따라서 \n",
        "세트를 출할하면 매번 요소의 순서가 다르게 나온다.\n",
        "* 세트에 들어가는 요소는 중복될 수 없다.\n",
        "    - 하나만 출력된다.\n",
        "* \\[](대괄호)로 특정 요소만 출력 할 수 업다.\n",
        "* 세트안에 세트를 넣을 수 없다."
      ]
    },
    {
      "cell_type": "code",
      "execution_count": null,
      "id": "2bc3e83d",
      "metadata": {
        "ExecuteTime": {
          "end_time": "2022-08-30T03:31:23.469987Z",
          "start_time": "2022-08-30T03:31:23.457992Z"
        },
        "id": "2bc3e83d"
      },
      "outputs": [],
      "source": [
        "fruits = {'strawberry', 'grape', 'orange', 'pineapple', 'cherry'}\n",
        "fruits"
      ]
    },
    {
      "cell_type": "markdown",
      "id": "f29e05b7",
      "metadata": {
        "id": "f29e05b7"
      },
      "source": [
        "#### 세트에 특정 값이 있는지 확인하기\n",
        "\n",
        "\n",
        "* 값 in 세트"
      ]
    },
    {
      "cell_type": "code",
      "execution_count": null,
      "id": "c2903ccc",
      "metadata": {
        "ExecuteTime": {
          "end_time": "2022-08-30T03:35:03.596280Z",
          "start_time": "2022-08-30T03:35:03.587284Z"
        },
        "id": "c2903ccc"
      },
      "outputs": [],
      "source": [
        "fruits = {'strawberry', 'grape', 'orange', 'pineapple', 'cherry'}\n",
        "'orange' in fruits"
      ]
    },
    {
      "cell_type": "code",
      "execution_count": null,
      "id": "e2392478",
      "metadata": {
        "ExecuteTime": {
          "end_time": "2022-08-30T03:35:12.842122Z",
          "start_time": "2022-08-30T03:35:12.825120Z"
        },
        "id": "e2392478"
      },
      "outputs": [],
      "source": [
        "'peach' in fruits"
      ]
    },
    {
      "cell_type": "markdown",
      "id": "ce3ebc18",
      "metadata": {
        "id": "ce3ebc18"
      },
      "source": [
        "#### set를 사용하여 세트 만들기\n",
        "\n",
        "\n",
        "* set(반복가능한객체)"
      ]
    },
    {
      "cell_type": "code",
      "execution_count": null,
      "id": "f5ae3333",
      "metadata": {
        "ExecuteTime": {
          "end_time": "2022-08-30T03:36:21.044815Z",
          "start_time": "2022-08-30T03:36:21.027813Z"
        },
        "id": "f5ae3333"
      },
      "outputs": [],
      "source": [
        "a=set('apple')\n",
        "a"
      ]
    },
    {
      "cell_type": "code",
      "execution_count": null,
      "id": "868b1565",
      "metadata": {
        "ExecuteTime": {
          "end_time": "2022-08-30T03:36:41.180199Z",
          "start_time": "2022-08-30T03:36:41.168544Z"
        },
        "id": "868b1565"
      },
      "outputs": [],
      "source": [
        "b=set(range(5))\n",
        "b"
      ]
    },
    {
      "cell_type": "markdown",
      "id": "ce44e516",
      "metadata": {
        "id": "ce44e516"
      },
      "source": [
        "### 집합 연산 사용하기\n",
        "\n",
        "\n",
        "* 합집합(union)\n",
        "    - 세트1|세트2\n",
        "    - set.union(세트1, 세트2)\n",
        "    \n",
        "* 교집합(intersection)\n",
        "    - 세트1 & 세트2\n",
        "    - set.intersection(세트1, 세트2)\n",
        "\n",
        "* 차집합(difference)\n",
        "    - 세트1 - 세트2\n",
        "    - set.difference(세트1, 세트2)\n",
        "\n",
        "* 대칭차집합(symmetric difference)\n",
        "    - 세트1 ^ 세트2\n",
        "    - set.symmetric_difference(세트1, 세트2)"
      ]
    },
    {
      "cell_type": "code",
      "execution_count": null,
      "id": "800df798",
      "metadata": {
        "ExecuteTime": {
          "end_time": "2022-08-30T03:40:22.934828Z",
          "start_time": "2022-08-30T03:40:22.910830Z"
        },
        "id": "800df798"
      },
      "outputs": [],
      "source": [
        "a={1,2,3,4}\n",
        "b={3,4,5,6}\n",
        "a|b"
      ]
    },
    {
      "cell_type": "code",
      "execution_count": null,
      "id": "8ce229c9",
      "metadata": {
        "ExecuteTime": {
          "end_time": "2022-08-30T03:41:31.943304Z",
          "start_time": "2022-08-30T03:41:31.928303Z"
        },
        "id": "8ce229c9"
      },
      "outputs": [],
      "source": [
        "set.union(a,b)"
      ]
    },
    {
      "cell_type": "code",
      "execution_count": null,
      "id": "afe63ccd",
      "metadata": {
        "ExecuteTime": {
          "end_time": "2022-08-30T03:42:22.640352Z",
          "start_time": "2022-08-30T03:42:22.624371Z"
        },
        "id": "afe63ccd"
      },
      "outputs": [],
      "source": [
        "a&b\n"
      ]
    },
    {
      "cell_type": "code",
      "execution_count": null,
      "id": "86378f5c",
      "metadata": {
        "ExecuteTime": {
          "end_time": "2022-08-30T03:42:31.111526Z",
          "start_time": "2022-08-30T03:42:31.100529Z"
        },
        "id": "86378f5c"
      },
      "outputs": [],
      "source": [
        "set.intersection(a,b)"
      ]
    },
    {
      "cell_type": "code",
      "execution_count": null,
      "id": "e66408d3",
      "metadata": {
        "ExecuteTime": {
          "end_time": "2022-08-30T03:43:18.178064Z",
          "start_time": "2022-08-30T03:43:18.156065Z"
        },
        "id": "e66408d3"
      },
      "outputs": [],
      "source": [
        "a-b"
      ]
    },
    {
      "cell_type": "code",
      "execution_count": null,
      "id": "be482a43",
      "metadata": {
        "ExecuteTime": {
          "end_time": "2022-08-30T03:43:26.143559Z",
          "start_time": "2022-08-30T03:43:26.126556Z"
        },
        "id": "be482a43"
      },
      "outputs": [],
      "source": [
        "set.difference(a,b)"
      ]
    },
    {
      "cell_type": "code",
      "execution_count": null,
      "id": "edc77811",
      "metadata": {
        "ExecuteTime": {
          "end_time": "2022-08-30T03:44:26.876473Z",
          "start_time": "2022-08-30T03:44:26.858471Z"
        },
        "id": "edc77811"
      },
      "outputs": [],
      "source": [
        "a^b"
      ]
    },
    {
      "cell_type": "code",
      "execution_count": null,
      "id": "e3e9a51f",
      "metadata": {
        "ExecuteTime": {
          "end_time": "2022-08-30T03:44:56.951267Z",
          "start_time": "2022-08-30T03:44:56.937266Z"
        },
        "id": "e3e9a51f"
      },
      "outputs": [],
      "source": [
        "set.symmetric_difference(a,b)"
      ]
    },
    {
      "cell_type": "markdown",
      "id": "ff77afc1",
      "metadata": {
        "id": "ff77afc1"
      },
      "source": [
        "#### 집합 연산 후 하랑 연산자 사용하기\n",
        "\n",
        "\n",
        "* |= : 현재 세트에 다른 세트를 더하며 upate 메서드와 같다.\n",
        "    - 세트1 |= 세트2\n",
        "    - 세트1.update(세트2)\n",
        "    \n",
        "* &= : 현재 세트와 다른 세트 중에서 겹치는 요소만 현재 세트에 저장( = intersection_update)\n",
        "    - 세트1 &= 세트2\n",
        "    - 세트1.intersection_update(세트2)\n",
        "\n",
        "* -= : 현재 세트에서 다른 세트를 빼며 difference_update 메서드와 같다.\n",
        "    - 세트1 -= 세트2\n",
        "    - 세트1.difference_update(세트2)\n",
        "    \n",
        "* ^= : 현재 세트와 다른 세트 중에서 겹치지 않는 요소만 현재 세트에 저장하며 symmetric_difference_update 메서드와 같다.\n",
        "    - 세트1 ^= 세트2\n",
        "    - 세트1.symmetric_difference_update(세트2)"
      ]
    },
    {
      "cell_type": "code",
      "execution_count": null,
      "id": "f9eec0f4",
      "metadata": {
        "ExecuteTime": {
          "end_time": "2022-08-30T03:47:16.838541Z",
          "start_time": "2022-08-30T03:47:16.821540Z"
        },
        "id": "f9eec0f4"
      },
      "outputs": [],
      "source": [
        "a={1,2,3,4}\n",
        "a|={5}\n",
        "a"
      ]
    },
    {
      "cell_type": "code",
      "execution_count": null,
      "id": "30849130",
      "metadata": {
        "ExecuteTime": {
          "end_time": "2022-08-30T03:47:36.773932Z",
          "start_time": "2022-08-30T03:47:36.762929Z"
        },
        "id": "30849130"
      },
      "outputs": [],
      "source": [
        "a={1,2,3,4}\n",
        "a.update({5})\n",
        "a"
      ]
    },
    {
      "cell_type": "code",
      "execution_count": null,
      "id": "df082f30",
      "metadata": {
        "ExecuteTime": {
          "end_time": "2022-08-30T03:49:19.188863Z",
          "start_time": "2022-08-30T03:49:19.178843Z"
        },
        "id": "df082f30"
      },
      "outputs": [],
      "source": [
        "a = {1, 2, 3, 4}\n",
        "a &= {0,1,2,3,4}\n",
        "a"
      ]
    },
    {
      "cell_type": "code",
      "execution_count": null,
      "id": "cbd051a3",
      "metadata": {
        "ExecuteTime": {
          "end_time": "2022-08-30T03:49:51.038981Z",
          "start_time": "2022-08-30T03:49:51.018981Z"
        },
        "id": "cbd051a3"
      },
      "outputs": [],
      "source": [
        "a = {1, 2, 3, 4}\n",
        "a.intersection_update({0,1,2,3,4})\n",
        "a"
      ]
    },
    {
      "cell_type": "code",
      "execution_count": null,
      "id": "729f9d8e",
      "metadata": {
        "ExecuteTime": {
          "end_time": "2022-08-30T03:51:06.122949Z",
          "start_time": "2022-08-30T03:51:06.107951Z"
        },
        "id": "729f9d8e"
      },
      "outputs": [],
      "source": [
        "a = {1, 2, 3, 4}\n",
        "a-={3}\n",
        "a"
      ]
    },
    {
      "cell_type": "code",
      "execution_count": null,
      "id": "03337611",
      "metadata": {
        "ExecuteTime": {
          "end_time": "2022-08-30T03:51:41.736910Z",
          "start_time": "2022-08-30T03:51:41.724907Z"
        },
        "id": "03337611"
      },
      "outputs": [],
      "source": [
        "a={1,2,3,4}\n",
        "a.difference_update({3})\n",
        "a"
      ]
    },
    {
      "cell_type": "code",
      "execution_count": null,
      "id": "0efdee28",
      "metadata": {
        "ExecuteTime": {
          "end_time": "2022-08-30T03:53:23.960086Z",
          "start_time": "2022-08-30T03:53:23.932085Z"
        },
        "id": "0efdee28"
      },
      "outputs": [],
      "source": [
        "a = {1, 2, 3, 4}\n",
        "a ^= {3,4,5,6}\n",
        "a"
      ]
    },
    {
      "cell_type": "code",
      "execution_count": null,
      "id": "213eb397",
      "metadata": {
        "ExecuteTime": {
          "end_time": "2022-08-30T03:53:49.122104Z",
          "start_time": "2022-08-30T03:53:49.107083Z"
        },
        "id": "213eb397"
      },
      "outputs": [],
      "source": [
        "a = {1, 2, 3, 4}\n",
        "a.symmetric_difference_update({3,4,5,6})\n",
        "a"
      ]
    },
    {
      "cell_type": "markdown",
      "id": "9e993cc1",
      "metadata": {
        "id": "9e993cc1"
      },
      "source": [
        "#### 부분 집합과 상위 집합 확인하기\n",
        "\n",
        "\n",
        "* 부분집합(subset)\n",
        "    - 현재세트 <= 다른세트\n",
        "    - 현재세트.issubset(다른세트)\n",
        "    \n",
        "* 진부분집합(proper subset)\n",
        "    - 현재세트 < 다른세트\n",
        "    \n",
        "* 상위집합(superset)\n",
        "    - 현재세트 >= 다른세트\n",
        "    - 현재세트.issuperset(다른세트)\n",
        "    \n",
        "* 진상위집합(proper superset)\n",
        "    - 현재세트 > 다른세트\n",
        "    \n",
        "* 세트가 같은지 다른지\n",
        "    - ==\n",
        "    - !=\n",
        "    \n",
        "* 겹치지 않는지\n",
        "    - 현재세트.isdisjoint(다른세트)\n",
        "   "
      ]
    },
    {
      "cell_type": "code",
      "execution_count": null,
      "id": "2e7eb797",
      "metadata": {
        "ExecuteTime": {
          "end_time": "2022-08-30T03:55:26.552491Z",
          "start_time": "2022-08-30T03:55:26.540488Z"
        },
        "id": "2e7eb797"
      },
      "outputs": [],
      "source": [
        "a = {1, 2, 3, 4}\n",
        "a<={1,2,3,4}"
      ]
    },
    {
      "cell_type": "code",
      "execution_count": null,
      "id": "dd63e2b9",
      "metadata": {
        "ExecuteTime": {
          "end_time": "2022-08-30T03:55:43.249742Z",
          "start_time": "2022-08-30T03:55:43.234740Z"
        },
        "id": "dd63e2b9"
      },
      "outputs": [],
      "source": [
        "a.issubset({1,2,3,4,5})"
      ]
    },
    {
      "cell_type": "code",
      "execution_count": null,
      "id": "f28a999d",
      "metadata": {
        "ExecuteTime": {
          "end_time": "2022-08-30T03:56:45.304033Z",
          "start_time": "2022-08-30T03:56:45.281031Z"
        },
        "id": "f28a999d"
      },
      "outputs": [],
      "source": [
        "a = {1, 2, 3, 4}\n",
        "a < {1,2,3,4,5}"
      ]
    },
    {
      "cell_type": "code",
      "execution_count": null,
      "id": "cddcf5bb",
      "metadata": {
        "ExecuteTime": {
          "end_time": "2022-08-30T03:57:59.834875Z",
          "start_time": "2022-08-30T03:57:59.805874Z"
        },
        "id": "cddcf5bb"
      },
      "outputs": [],
      "source": [
        "a = {1, 2, 3, 4}\n",
        "a >= {1,2,3,4}"
      ]
    },
    {
      "cell_type": "code",
      "execution_count": null,
      "id": "6f9871ba",
      "metadata": {
        "ExecuteTime": {
          "end_time": "2022-08-30T03:58:18.715000Z",
          "start_time": "2022-08-30T03:58:18.695980Z"
        },
        "id": "6f9871ba"
      },
      "outputs": [],
      "source": [
        "a.issuperset({1,2,3,4})"
      ]
    },
    {
      "cell_type": "code",
      "execution_count": null,
      "id": "62f095ea",
      "metadata": {
        "ExecuteTime": {
          "end_time": "2022-08-30T03:59:14.084953Z",
          "start_time": "2022-08-30T03:59:14.072952Z"
        },
        "id": "62f095ea"
      },
      "outputs": [],
      "source": [
        "a = {1, 2, 3, 4}\n",
        "a > {1,2,3}"
      ]
    },
    {
      "cell_type": "code",
      "execution_count": null,
      "id": "843516a8",
      "metadata": {
        "ExecuteTime": {
          "end_time": "2022-08-30T04:00:39.097421Z",
          "start_time": "2022-08-30T04:00:39.078423Z"
        },
        "id": "843516a8"
      },
      "outputs": [],
      "source": [
        "a = {1, 2, 3, 4}\n",
        "a.isdisjoint({5,6,7,8})\n"
      ]
    },
    {
      "cell_type": "code",
      "execution_count": null,
      "id": "c00a1656",
      "metadata": {
        "ExecuteTime": {
          "end_time": "2022-08-30T04:00:58.150908Z",
          "start_time": "2022-08-30T04:00:58.139908Z"
        },
        "id": "c00a1656"
      },
      "outputs": [],
      "source": [
        "a = {1, 2, 3, 4}\n",
        "a.isdisjoint({3,4,5,6})"
      ]
    },
    {
      "cell_type": "markdown",
      "id": "2b324904",
      "metadata": {
        "id": "2b324904"
      },
      "source": [
        "### 세트 조작하기"
      ]
    },
    {
      "cell_type": "markdown",
      "id": "042375cf",
      "metadata": {
        "id": "042375cf"
      },
      "source": [
        "#### 세트에 요소 추가하기\n",
        "\n",
        "\n",
        "* add(요소)는 세트에 요소를 추가한다.\n",
        "* remove(요소)는 세트에 특정 요소를 삭제한다.\n",
        "    - 요소가 없으면 에러 발생\n",
        "* discard(요소)는 세트에서 특정요소를 삭제한다.\n",
        "    - 요소가 없으면 그냥 넘어간다.\n",
        "* pop()은 세트에서 임의의 요소를 삭제하고 해당 요소를 반환한다.\n",
        "    - 요소가 없으면 에러 발생\n",
        "* clear()는 세트에서 모든 요소를 삭제한다.\n",
        "* len(세트)는 세트의 요소 개수(길이)를 구한다."
      ]
    },
    {
      "cell_type": "markdown",
      "id": "a057d8f8",
      "metadata": {
        "id": "a057d8f8"
      },
      "source": [
        "### 세트의 할당과 복사"
      ]
    },
    {
      "cell_type": "markdown",
      "id": "57dcac9b",
      "metadata": {
        "id": "57dcac9b"
      },
      "source": [
        "### 반복문으로 세트의 요소를 모두 출력하기"
      ]
    },
    {
      "cell_type": "code",
      "execution_count": null,
      "id": "e80d3f72",
      "metadata": {
        "ExecuteTime": {
          "end_time": "2022-08-30T04:16:25.326231Z",
          "start_time": "2022-08-30T04:16:25.319212Z"
        },
        "id": "e80d3f72"
      },
      "outputs": [],
      "source": [
        "a = {1, 2, 3, 4}\n",
        "for i in a:\n",
        "    print(i)"
      ]
    },
    {
      "cell_type": "markdown",
      "id": "9fd7e0a2",
      "metadata": {
        "id": "9fd7e0a2"
      },
      "source": [
        "### 세트 표현식 사용하기\n",
        "\n",
        "\n",
        "* {식 for 변수 in 반복가능한객체}\n",
        "* set(식 for 변수 in 반복가능한객체)"
      ]
    },
    {
      "cell_type": "code",
      "execution_count": null,
      "id": "bd60d92c",
      "metadata": {
        "ExecuteTime": {
          "end_time": "2022-08-30T04:18:15.724327Z",
          "start_time": "2022-08-30T04:18:15.709326Z"
        },
        "id": "bd60d92c"
      },
      "outputs": [],
      "source": [
        "a={i for i in 'apple'}\n",
        "a\n",
        "    "
      ]
    },
    {
      "cell_type": "markdown",
      "id": "ac0b3b9a",
      "metadata": {
        "id": "ac0b3b9a"
      },
      "source": [
        "#### 세트 표현식에 if 조건문 사용하기\n",
        "\n",
        "\n",
        "* {식 for 변수 in 세트 if 조건식}\n",
        "* set(식 for 변수 in 세트 if 조건식)"
      ]
    },
    {
      "cell_type": "code",
      "execution_count": null,
      "id": "7bfcccf1",
      "metadata": {
        "ExecuteTime": {
          "end_time": "2022-08-30T04:19:48.340308Z",
          "start_time": "2022-08-30T04:19:48.330308Z"
        },
        "id": "7bfcccf1"
      },
      "outputs": [],
      "source": [
        "a={i for i in 'pineapple' if i not in 'apl'}\n",
        "a"
      ]
    },
    {
      "cell_type": "markdown",
      "id": "9fb00a1d",
      "metadata": {
        "id": "9fb00a1d"
      },
      "source": [
        "### 심사문제: 공약수 구하기\n",
        "\n",
        "다음 기회에..."
      ]
    },
    {
      "cell_type": "markdown",
      "id": "264e1c44",
      "metadata": {
        "id": "264e1c44"
      },
      "source": [
        "## 파일 사용하기"
      ]
    },
    {
      "cell_type": "markdown",
      "id": "a62974cd",
      "metadata": {
        "id": "a62974cd"
      },
      "source": [
        "### 파일에 문자열 쓰기, 읽기"
      ]
    },
    {
      "cell_type": "markdown",
      "id": "ba904475",
      "metadata": {
        "id": "ba904475"
      },
      "source": [
        "#### 파일에 문자열 쓰기\n",
        "\n",
        "\n",
        "* 파일에 문자열을 쓸 때는 open 함수로 파일을 열어서 파일 객체(file object)를 얻은 뒤에 write 메서드를 사용한다.\n",
        "    - 파일객체 = open(파일이름, 파일모드)\n",
        "    - 파일객체.write('문자열')\n",
        "    - 파일객체.close()"
      ]
    },
    {
      "cell_type": "code",
      "execution_count": null,
      "id": "0e654329",
      "metadata": {
        "ExecuteTime": {
          "end_time": "2022-08-30T04:43:29.670464Z",
          "start_time": "2022-08-30T04:43:29.655463Z"
        },
        "id": "0e654329"
      },
      "outputs": [],
      "source": [
        "file = open('hello.txt','w') # hello.txt 파일을 쓰기 모드(w)로 열기. 파일 객체 반환\n",
        "file.write('Hello, world!')  # 파일에 문자열 저장\n",
        "file.close()                 # 파일 객체 닫기"
      ]
    },
    {
      "cell_type": "markdown",
      "id": "a83e9700",
      "metadata": {
        "id": "a83e9700"
      },
      "source": [
        "#### 파일에서 문자열 읽기"
      ]
    },
    {
      "cell_type": "code",
      "execution_count": null,
      "id": "1e9cb841",
      "metadata": {
        "ExecuteTime": {
          "end_time": "2022-08-30T05:10:07.881039Z",
          "start_time": "2022-08-30T05:10:07.861038Z"
        },
        "id": "1e9cb841"
      },
      "outputs": [],
      "source": [
        "file = open('hello.txt','r')\n",
        "s=file.read()\n",
        "print(s)\n",
        "file.close()"
      ]
    },
    {
      "cell_type": "markdown",
      "id": "6d486106",
      "metadata": {
        "id": "6d486106"
      },
      "source": [
        "#### 자동으로 파일 객체 닫기\n",
        "\n",
        "* with open(파일이름, 파일모드) as 파일객체:\\\n",
        "  코드"
      ]
    },
    {
      "cell_type": "code",
      "execution_count": null,
      "id": "bfc13e67",
      "metadata": {
        "ExecuteTime": {
          "end_time": "2022-08-30T05:12:13.424469Z",
          "start_time": "2022-08-30T05:12:13.404468Z"
        },
        "id": "bfc13e67"
      },
      "outputs": [],
      "source": [
        "with open('hello.txt','r') as file:\n",
        "    s=file.read()\n",
        "    print(s)"
      ]
    },
    {
      "cell_type": "markdown",
      "id": "2d239b28",
      "metadata": {
        "id": "2d239b28"
      },
      "source": [
        "### 문자열 여러 줄을 파일에 쓰기, 읽기"
      ]
    },
    {
      "cell_type": "markdown",
      "id": "37fb751e",
      "metadata": {
        "id": "37fb751e"
      },
      "source": [
        "#### 반복문으로 문자열 여러 줄을 파일에 쓰기"
      ]
    },
    {
      "cell_type": "code",
      "execution_count": null,
      "id": "e597cfc7",
      "metadata": {
        "ExecuteTime": {
          "end_time": "2022-08-30T05:15:48.892844Z",
          "start_time": "2022-08-30T05:15:48.872843Z"
        },
        "id": "e597cfc7"
      },
      "outputs": [],
      "source": [
        "with open('hello.txt','w') as file:\n",
        "    for i in range(3):\n",
        "        file.write('Hello, world! {0}\\n'.format(i))"
      ]
    },
    {
      "cell_type": "markdown",
      "id": "4c70f584",
      "metadata": {
        "id": "4c70f584"
      },
      "source": [
        "#### 리스트에 들어있는 문자열을 파일에 쓰기\n",
        "\n",
        "\n",
        "* writelines: 리스트에 들어있는 문자열을 파일에 쓴다."
      ]
    },
    {
      "cell_type": "code",
      "execution_count": null,
      "id": "7c5c9ebc",
      "metadata": {
        "ExecuteTime": {
          "end_time": "2022-08-30T05:19:04.628998Z",
          "start_time": "2022-08-30T05:19:04.607000Z"
        },
        "id": "7c5c9ebc"
      },
      "outputs": [],
      "source": [
        "lines = ['안녕하세요.\\n','파이썬\\n', '코딩 도장입니다.\\n']\n",
        "with open('hello.txt','w') as file:\n",
        "    file.writelines(lines)"
      ]
    },
    {
      "cell_type": "markdown",
      "id": "9a8a2cdc",
      "metadata": {
        "id": "9a8a2cdc"
      },
      "source": [
        "#### 파일의 내용을 한 줄씩 리스트로 가져오기\n",
        "\n",
        "\n",
        "* read 는 파일의 내용을 읽어서 문자열로 가져오지만 readlines는 파일의 내용을 한 줄씩 리스트 형태로 가져온다.\n",
        "    - 변수 = 파일객체.readlines()"
      ]
    },
    {
      "cell_type": "code",
      "execution_count": null,
      "id": "bb318b1e",
      "metadata": {
        "ExecuteTime": {
          "end_time": "2022-08-30T05:21:14.980378Z",
          "start_time": "2022-08-30T05:21:14.964378Z"
        },
        "id": "bb318b1e"
      },
      "outputs": [],
      "source": [
        "with open('hello.txt','r') as file:\n",
        "    lines = file.readlines()\n",
        "    print(lines)"
      ]
    },
    {
      "cell_type": "markdown",
      "id": "796912b6",
      "metadata": {
        "id": "796912b6"
      },
      "source": [
        "#### 파일의 내용을 한 줄씩 읽기\n",
        "\n",
        "\n",
        "* 변수 = 파일객체.readline()   \n",
        "     - readlines 와 차이"
      ]
    },
    {
      "cell_type": "code",
      "execution_count": null,
      "id": "533240b1",
      "metadata": {
        "ExecuteTime": {
          "end_time": "2022-08-30T05:23:30.562086Z",
          "start_time": "2022-08-30T05:23:30.545086Z"
        },
        "id": "533240b1"
      },
      "outputs": [],
      "source": [
        "with open('hello.txt','r') as file:\n",
        "    line = None\n",
        "    while line !=\"\":\n",
        "        line = file.readline()\n",
        "        print(line.strip('\\n'))"
      ]
    },
    {
      "cell_type": "markdown",
      "id": "aad2ea3d",
      "metadata": {
        "ExecuteTime": {
          "end_time": "2022-08-30T05:26:40.466745Z",
          "start_time": "2022-08-30T05:26:40.458748Z"
        },
        "id": "aad2ea3d"
      },
      "source": [
        "#### for 반복문으로 파일의 내용을 줄 단위로 읽기"
      ]
    },
    {
      "cell_type": "code",
      "execution_count": null,
      "id": "221e3ff9",
      "metadata": {
        "ExecuteTime": {
          "end_time": "2022-08-30T05:27:38.453051Z",
          "start_time": "2022-08-30T05:27:38.431050Z"
        },
        "id": "221e3ff9"
      },
      "outputs": [],
      "source": [
        "with open('hello.txt','r') as file:\n",
        "    for line in file:\n",
        "        print(line.strip('\\n'))"
      ]
    },
    {
      "cell_type": "markdown",
      "id": "26e321b1",
      "metadata": {
        "id": "26e321b1"
      },
      "source": [
        "### 파이썬 객체를 파일에 저장하기, 가져오기\n",
        "\n",
        "\n",
        "* 피클링(pickling): 파이썬 객체를 파일에 저장하는 과정\n",
        "* 인피클링(unpickling): 파일에서 객체를 읽어오는 과정"
      ]
    },
    {
      "cell_type": "markdown",
      "id": "ebdd1fbb",
      "metadata": {
        "id": "ebdd1fbb"
      },
      "source": [
        "#### 파이썬 객체를 파일에 저장하기\n",
        "\n",
        "\n",
        "* pickle.dump(객체, 파일객체)"
      ]
    },
    {
      "cell_type": "code",
      "execution_count": null,
      "id": "c398e6c6",
      "metadata": {
        "ExecuteTime": {
          "end_time": "2022-08-30T05:38:55.661051Z",
          "start_time": "2022-08-30T05:38:55.646048Z"
        },
        "id": "c398e6c6"
      },
      "outputs": [],
      "source": [
        "import pickle\n",
        "\n",
        "name = 'james'\n",
        "age = 17\n",
        "address = '서울시 서초구 반포동'\n",
        "scores = {'korean': 90, 'english': 95, 'mathematics': 85, 'science': 82}\n",
        "\n",
        "with open('james.p','wb') as file:   # james.p 파일을 바이너리 쓰기 모드(wb)로 열기\n",
        "    pickle.dump(name, file)\n",
        "    pickle.dump(age, file)\n",
        "    pickle.dump(address, file)\n",
        "    pickle.dump(scores, file)"
      ]
    },
    {
      "cell_type": "markdown",
      "id": "9a85836b",
      "metadata": {
        "id": "9a85836b"
      },
      "source": [
        "#### 파일에서 파이썬 객체 읽기\n",
        "\n",
        "* 반드시 읽기모드 'rb' 로 지정"
      ]
    },
    {
      "cell_type": "code",
      "execution_count": null,
      "id": "e54f4c9e",
      "metadata": {
        "ExecuteTime": {
          "end_time": "2022-08-30T05:42:33.099280Z",
          "start_time": "2022-08-30T05:42:33.086280Z"
        },
        "id": "e54f4c9e"
      },
      "outputs": [],
      "source": [
        "import pickle\n",
        "\n",
        "with open('james.p', 'rb') as file:\n",
        "    name = pickle.load(file)\n",
        "    age = pickle.load(file)\n",
        "    address = pickle.load(file)\n",
        "    scores = pickle.load(file)\n",
        "    print(name)\n",
        "    print(age)\n",
        "    print(address)\n",
        "    print(scores)"
      ]
    },
    {
      "cell_type": "markdown",
      "id": "bbdc9c26",
      "metadata": {
        "id": "bbdc9c26"
      },
      "source": [
        "### 심사문제: 특정 문자가 들어있는 단어 찾기\n",
        "\n",
        "\n",
        "* 다음 기회에..."
      ]
    },
    {
      "cell_type": "markdown",
      "id": "5836d303",
      "metadata": {
        "id": "5836d303"
      },
      "source": [
        "## 회문 판별과 N-gram 만들기"
      ]
    },
    {
      "cell_type": "markdown",
      "id": "d27326fc",
      "metadata": {
        "id": "d27326fc"
      },
      "source": [
        "### 회문 판별하기\n",
        "\n",
        "* 회문(palindrome)은 순서를 거꾸로 읽어도 제대로 읽은 것과 같은 단어와 문장을 말한다.\n",
        "    - ex) 'level', 'sos', 'rotator', 'nurses run' 등\n",
        "    - 안쪽으로 한 글자씩 좁협흘 때 글자가 서로 같으면 회문\n",
        "    \n",
        "* is_palindrome\n",
        "* 슬라이스  \n",
        "    - word == word[::-1]\n",
        "* reversed\n",
        "    - list(word) == list(reversed(word)\n",
        "* join\n",
        "    - word == ' '.join(reversed(word))"
      ]
    },
    {
      "cell_type": "markdown",
      "id": "9588a3ce",
      "metadata": {
        "id": "9588a3ce"
      },
      "source": [
        "#### 반복문으로 문자 검사하기"
      ]
    },
    {
      "cell_type": "code",
      "execution_count": null,
      "id": "612746db",
      "metadata": {
        "ExecuteTime": {
          "end_time": "2022-08-30T05:57:38.050128Z",
          "start_time": "2022-08-30T05:57:35.386637Z"
        },
        "id": "612746db"
      },
      "outputs": [],
      "source": [
        "word = input('단어를 입력하세요: ')\n",
        "\n",
        "is_palindrome = True              # 회문 판별값을 저장할 변수, 초깃값은 True\n",
        "for i in range(len(word)//2):     # 0부터 문자열 길이의 절반만큼 반복\n",
        "    if word[i] != word[-1 - i]:   # 왼쪽 문자와 오른쪽 문자를 비교하여 문자가 다르면\n",
        "        is_palindrome = False     # 회문이 아님\n",
        "        break\n",
        "\n",
        "print(is_palindrome)               # 회문 판별값 출력"
      ]
    },
    {
      "cell_type": "code",
      "execution_count": null,
      "id": "39ddb4bc",
      "metadata": {
        "ExecuteTime": {
          "end_time": "2022-08-30T06:12:36.552282Z",
          "start_time": "2022-08-30T06:12:32.904205Z"
        },
        "id": "39ddb4bc"
      },
      "outputs": [],
      "source": [
        "word = input('단어를 입력하세요: ')\n",
        "print(word == word[::-1])"
      ]
    },
    {
      "cell_type": "code",
      "execution_count": null,
      "id": "b2d74c57",
      "metadata": {
        "ExecuteTime": {
          "end_time": "2022-08-30T06:15:07.432955Z",
          "start_time": "2022-08-30T06:15:07.415954Z"
        },
        "id": "b2d74c57"
      },
      "outputs": [],
      "source": [
        "word = 'level'\n",
        "list(word) == list(reversed(word))"
      ]
    },
    {
      "cell_type": "markdown",
      "id": "21783d30",
      "metadata": {
        "id": "21783d30"
      },
      "source": [
        "#### 문자열의 join 메서드와 reversed 사용하기"
      ]
    },
    {
      "cell_type": "code",
      "execution_count": null,
      "id": "5614dd3f",
      "metadata": {
        "ExecuteTime": {
          "end_time": "2022-08-30T06:18:35.834091Z",
          "start_time": "2022-08-30T06:18:35.811091Z"
        },
        "id": "5614dd3f"
      },
      "outputs": [],
      "source": [
        "word = 'level'\n",
        "word == ''.join(reversed(word))"
      ]
    },
    {
      "cell_type": "markdown",
      "id": "8476d17a",
      "metadata": {
        "id": "8476d17a"
      },
      "source": [
        "### N-gam 만들기\n",
        "\n",
        "* N-gram은 문자열에서 N개(N개의 글자)의 연속된 요소를 추출하는 방법"
      ]
    },
    {
      "cell_type": "code",
      "execution_count": null,
      "id": "f61fd9e8",
      "metadata": {
        "ExecuteTime": {
          "end_time": "2022-08-30T06:22:19.084772Z",
          "start_time": "2022-08-30T06:22:19.073767Z"
        },
        "id": "f61fd9e8"
      },
      "outputs": [],
      "source": [
        "text='Hello'\n",
        "\n",
        "for i in range(len(text)-1):\n",
        "    print(text[i], text[i+1],sep='')"
      ]
    },
    {
      "cell_type": "code",
      "execution_count": null,
      "id": "bab7a0e2",
      "metadata": {
        "ExecuteTime": {
          "end_time": "2022-08-30T06:25:22.015382Z",
          "start_time": "2022-08-30T06:25:21.997380Z"
        },
        "id": "bab7a0e2"
      },
      "outputs": [],
      "source": [
        "text = 'this is python script'\n",
        "words = text.split()\n",
        "for i in range(len(words)-1):\n",
        "    print(words[i],words[i+1])"
      ]
    },
    {
      "cell_type": "markdown",
      "id": "3f39ea15",
      "metadata": {
        "id": "3f39ea15"
      },
      "source": [
        "#### zip 으로 2-gram 만들기"
      ]
    },
    {
      "cell_type": "code",
      "execution_count": null,
      "id": "00eb516d",
      "metadata": {
        "ExecuteTime": {
          "end_time": "2022-08-30T06:27:40.560734Z",
          "start_time": "2022-08-30T06:27:40.546732Z"
        },
        "id": "00eb516d"
      },
      "outputs": [],
      "source": [
        "text = 'hello'\n",
        "\n",
        "two_gram = zip(text,text[1:])\n",
        "for i in two_gram:\n",
        "    print(i[0],i[1],sep='')"
      ]
    },
    {
      "cell_type": "code",
      "execution_count": null,
      "id": "62596fb5",
      "metadata": {
        "ExecuteTime": {
          "end_time": "2022-08-30T06:28:34.679397Z",
          "start_time": "2022-08-30T06:28:34.669414Z"
        },
        "id": "62596fb5"
      },
      "outputs": [],
      "source": [
        "text = 'hello'\n",
        "list(zip(text,text[1:]))"
      ]
    },
    {
      "cell_type": "code",
      "execution_count": null,
      "id": "9f718930",
      "metadata": {
        "ExecuteTime": {
          "end_time": "2022-08-30T06:33:30.937514Z",
          "start_time": "2022-08-30T06:33:30.923512Z"
        },
        "id": "9f718930"
      },
      "outputs": [],
      "source": [
        "text = 'this is python script'\n",
        "words = text.split()\n",
        "a= list(zip(words,words[1:]))\n",
        "for i in a:\n",
        "    print(i[0],i[1],sep=' ')"
      ]
    },
    {
      "cell_type": "code",
      "execution_count": null,
      "id": "83ac5ad8",
      "metadata": {
        "ExecuteTime": {
          "end_time": "2022-08-30T06:34:18.240786Z",
          "start_time": "2022-08-30T06:34:18.229784Z"
        },
        "id": "83ac5ad8"
      },
      "outputs": [],
      "source": [
        "text = 'hello'\n",
        "[text[i:] for i in range(3)]"
      ]
    },
    {
      "cell_type": "markdown",
      "id": "b14e7f53",
      "metadata": {
        "id": "b14e7f53"
      },
      "source": [
        "### 연습문제: 단어 단위 N-gram 만들기"
      ]
    },
    {
      "cell_type": "code",
      "execution_count": null,
      "id": "ae50e060",
      "metadata": {
        "ExecuteTime": {
          "end_time": "2022-08-30T06:46:21.428258Z",
          "start_time": "2022-08-30T06:46:08.845027Z"
        },
        "id": "ae50e060"
      },
      "outputs": [],
      "source": [
        "n = int(input())\n",
        "text = input()\n",
        "words = text.split()\n",
        "if len(words) < n:\n",
        "    print('wrong')\n",
        "else:\n",
        "    n_gram=zip(text,text[1:])\n",
        "    for i in n_gram:\n",
        "        print(i)"
      ]
    },
    {
      "cell_type": "markdown",
      "id": "8d4fd0db",
      "metadata": {
        "id": "8d4fd0db"
      },
      "source": [
        "### 심사문제: 파일에서 회문인 단어 출력하기\n",
        "\n",
        "\n",
        "* 다음 기회에..."
      ]
    },
    {
      "cell_type": "markdown",
      "id": "a60f6f91",
      "metadata": {
        "id": "a60f6f91"
      },
      "source": [
        "## 함수 사용하기"
      ]
    },
    {
      "cell_type": "markdown",
      "id": "689319d2",
      "metadata": {
        "id": "689319d2"
      },
      "source": [
        "### Hello, world! 출력 함수 만들기\n",
        "\n",
        "\n",
        "* 함수는 def 에 함수 읾을 지정하고 ()(괄호)오 :(콜론)을 붙인 뒤 다음 줄에 원하는 코드를 작성한다.\n",
        "    - 함수 이름을 짓는 방법은 변수와 같다.\n",
        "    - 코드는 반드시 들여쓰기를 한다."
      ]
    },
    {
      "cell_type": "markdown",
      "id": "a03069e4",
      "metadata": {
        "id": "a03069e4"
      },
      "source": [
        "#### 함수 만들기"
      ]
    },
    {
      "cell_type": "code",
      "execution_count": null,
      "id": "a5f058b2",
      "metadata": {
        "ExecuteTime": {
          "end_time": "2022-08-30T06:52:10.955719Z",
          "start_time": "2022-08-30T06:52:10.939700Z"
        },
        "id": "a5f058b2"
      },
      "outputs": [],
      "source": [
        "def hello():\n",
        "    print('Hello, world')"
      ]
    },
    {
      "cell_type": "code",
      "execution_count": null,
      "id": "b29d709e",
      "metadata": {
        "ExecuteTime": {
          "end_time": "2022-08-30T06:52:28.603437Z",
          "start_time": "2022-08-30T06:52:28.591438Z"
        },
        "id": "b29d709e"
      },
      "outputs": [],
      "source": [
        "hello()"
      ]
    },
    {
      "cell_type": "markdown",
      "id": "605e3cca",
      "metadata": {
        "id": "605e3cca"
      },
      "source": [
        "#### 함수의 실행 순서\n",
        "\n",
        "* 파이썬 스크립트 최초 실행\n",
        "* hello 함수 호출\n",
        "* hello 함수 실행\n",
        "* print 함수 실행 및 'Hello world!' 출력\n",
        "* hello 함수 종료\n",
        "* 파이썬 스크립트 종료"
      ]
    },
    {
      "cell_type": "markdown",
      "id": "0597dee3",
      "metadata": {
        "id": "0597dee3"
      },
      "source": [
        "### 덧셈 함수 만들기\n",
        "\n",
        "* def 함수이름(매개변수1, 매개변수2):\\\n",
        "    코드\n",
        "* 함수의 :(콜론) 바로 다음 줄에 \"\"\" \"\"\"(큰따옴표 세 개)로 문자열을 입려하면 함수에 대한 설명을 넣을 수 있다. 이를 독스트링 이라한다."
      ]
    },
    {
      "cell_type": "code",
      "execution_count": null,
      "id": "d05426cb",
      "metadata": {
        "ExecuteTime": {
          "end_time": "2022-08-30T06:57:17.273819Z",
          "start_time": "2022-08-30T06:57:17.255812Z"
        },
        "id": "d05426cb"
      },
      "outputs": [],
      "source": [
        "def add(a,b):  # a,b를 인수(argument)라 한다.\n",
        "    print(a+b)"
      ]
    },
    {
      "cell_type": "code",
      "execution_count": null,
      "id": "da119e89",
      "metadata": {
        "ExecuteTime": {
          "end_time": "2022-08-30T06:56:44.391499Z",
          "start_time": "2022-08-30T06:56:44.379497Z"
        },
        "id": "da119e89"
      },
      "outputs": [],
      "source": [
        "add(10,20)"
      ]
    },
    {
      "cell_type": "code",
      "execution_count": null,
      "id": "47368015",
      "metadata": {
        "ExecuteTime": {
          "end_time": "2022-08-30T07:00:44.750252Z",
          "start_time": "2022-08-30T07:00:44.730250Z"
        },
        "id": "47368015"
      },
      "outputs": [],
      "source": [
        "def add(a,b):\n",
        "    \"\"\"이 함수는 a와 b를 더한 뒤 결과를 반환하는 함수입니다.\"\"\"\n",
        "    return a+b\n",
        "\n",
        "x = add(10,20)\n",
        "print(x)\n",
        "\n",
        "print(add.__doc__)   # 함수의 __doc__로 독스트링 출력"
      ]
    },
    {
      "cell_type": "code",
      "execution_count": null,
      "id": "c4177712",
      "metadata": {
        "ExecuteTime": {
          "end_time": "2022-08-30T07:01:18.544275Z",
          "start_time": "2022-08-30T07:01:18.533270Z"
        },
        "id": "c4177712"
      },
      "outputs": [],
      "source": [
        "help(add)"
      ]
    },
    {
      "cell_type": "markdown",
      "id": "21cab7cb",
      "metadata": {
        "id": "21cab7cb"
      },
      "source": [
        "### 함수의 결과를 반환하기\n",
        "\n",
        "\n",
        "* def 함수이름(매개변수):\\\n",
        "    return 반환값\n"
      ]
    },
    {
      "cell_type": "code",
      "execution_count": null,
      "id": "c92251de",
      "metadata": {
        "ExecuteTime": {
          "end_time": "2022-08-30T07:02:46.885537Z",
          "start_time": "2022-08-30T07:02:46.876529Z"
        },
        "id": "c92251de"
      },
      "outputs": [],
      "source": [
        "def add(a,b):\n",
        "    return a+b"
      ]
    },
    {
      "cell_type": "code",
      "execution_count": null,
      "id": "38cb0e41",
      "metadata": {
        "ExecuteTime": {
          "end_time": "2022-08-30T07:03:13.289030Z",
          "start_time": "2022-08-30T07:03:13.277031Z"
        },
        "id": "38cb0e41"
      },
      "outputs": [],
      "source": [
        "x=add(10,20)\n",
        "x"
      ]
    },
    {
      "cell_type": "code",
      "execution_count": null,
      "id": "9702419f",
      "metadata": {
        "ExecuteTime": {
          "end_time": "2022-08-30T07:03:33.342097Z",
          "start_time": "2022-08-30T07:03:33.323113Z"
        },
        "id": "9702419f"
      },
      "outputs": [],
      "source": [
        "print(add(10,20))"
      ]
    },
    {
      "cell_type": "markdown",
      "id": "872dca26",
      "metadata": {
        "id": "872dca26"
      },
      "source": [
        "#### return 으로 함수 중간에서 빠져나오기"
      ]
    },
    {
      "cell_type": "code",
      "execution_count": null,
      "id": "7dc17d79",
      "metadata": {
        "ExecuteTime": {
          "end_time": "2022-08-30T07:06:11.611267Z",
          "start_time": "2022-08-30T07:06:11.594273Z"
        },
        "id": "7dc17d79"
      },
      "outputs": [],
      "source": [
        "def not_ten(a):\n",
        "    if a == 10:\n",
        "        return\n",
        "    print(a,'입니다.',sep='')\n",
        "not_ten(5)"
      ]
    },
    {
      "cell_type": "code",
      "execution_count": null,
      "id": "49ddaab4",
      "metadata": {
        "ExecuteTime": {
          "end_time": "2022-08-30T07:06:19.232912Z",
          "start_time": "2022-08-30T07:06:19.211910Z"
        },
        "id": "49ddaab4"
      },
      "outputs": [],
      "source": [
        "not_ten(10)"
      ]
    },
    {
      "cell_type": "markdown",
      "id": "2f399937",
      "metadata": {
        "id": "2f399937"
      },
      "source": [
        "### 함수에서 값을 여러 개 반환하기\n",
        "\n",
        "\n",
        "* def 함수이름(매개변수):\\\n",
        "    return 반환값1, 반환값2"
      ]
    },
    {
      "cell_type": "code",
      "execution_count": null,
      "id": "88768390",
      "metadata": {
        "ExecuteTime": {
          "end_time": "2022-08-30T07:07:47.773117Z",
          "start_time": "2022-08-30T07:07:47.757117Z"
        },
        "id": "88768390"
      },
      "outputs": [],
      "source": [
        "def add_sub(a,b):\n",
        "    return a+b, a-b"
      ]
    },
    {
      "cell_type": "code",
      "execution_count": null,
      "id": "429e055d",
      "metadata": {
        "ExecuteTime": {
          "end_time": "2022-08-30T07:08:02.122795Z",
          "start_time": "2022-08-30T07:08:02.106795Z"
        },
        "id": "429e055d"
      },
      "outputs": [],
      "source": [
        "x,y = add_sub(10,20)\n",
        "x"
      ]
    },
    {
      "cell_type": "code",
      "execution_count": null,
      "id": "44346931",
      "metadata": {
        "ExecuteTime": {
          "end_time": "2022-08-30T07:08:07.129514Z",
          "start_time": "2022-08-30T07:08:07.102516Z"
        },
        "id": "44346931"
      },
      "outputs": [],
      "source": [
        "y"
      ]
    },
    {
      "cell_type": "markdown",
      "id": "20277e2c",
      "metadata": {
        "id": "20277e2c"
      },
      "source": [
        "### 함수의 호출 과정 알아보기"
      ]
    },
    {
      "cell_type": "code",
      "execution_count": null,
      "id": "977b0f67",
      "metadata": {
        "ExecuteTime": {
          "end_time": "2022-08-30T07:12:51.780190Z",
          "start_time": "2022-08-30T07:12:51.764192Z"
        },
        "id": "977b0f67"
      },
      "outputs": [],
      "source": [
        "def mul(a,b):\n",
        "    c = a*b\n",
        "    return c\n",
        "\n",
        "def add(a,b):\n",
        "    c = a+b\n",
        "    print(c)\n",
        "    d=mul(a,b)\n",
        "    print(d)\n",
        "    \n",
        "    \n",
        "x=10\n",
        "y=20\n",
        "add(x,y)"
      ]
    },
    {
      "cell_type": "markdown",
      "id": "014bc067",
      "metadata": {
        "id": "014bc067"
      },
      "source": [
        "### 심사문제: 사칙 연산 함수 만들기\n",
        "\n",
        "* 다음 기회에..."
      ]
    },
    {
      "cell_type": "markdown",
      "id": "c034cf99",
      "metadata": {
        "id": "c034cf99"
      },
      "source": [
        "## 함수에서 위치 인수와 키워드 인수 사용하기"
      ]
    },
    {
      "cell_type": "markdown",
      "id": "985c9dd7",
      "metadata": {
        "id": "985c9dd7"
      },
      "source": [
        "### 위치 인수와 리스트 언패킹 사용하기"
      ]
    },
    {
      "cell_type": "markdown",
      "id": "ab8a65a1",
      "metadata": {
        "id": "ab8a65a1"
      },
      "source": [
        "#### 위치 인수를 사용하는 함수를 만들고 호출하기"
      ]
    },
    {
      "cell_type": "code",
      "execution_count": null,
      "id": "b3220a47",
      "metadata": {
        "ExecuteTime": {
          "end_time": "2022-08-30T07:30:24.792816Z",
          "start_time": "2022-08-30T07:30:24.782814Z"
        },
        "id": "b3220a47"
      },
      "outputs": [],
      "source": [
        "def print_numbers(a,b,c):\n",
        "    print(a)\n",
        "    print(b)\n",
        "    print(c)"
      ]
    },
    {
      "cell_type": "code",
      "execution_count": null,
      "id": "f96fd0df",
      "metadata": {
        "ExecuteTime": {
          "end_time": "2022-08-30T07:30:47.747315Z",
          "start_time": "2022-08-30T07:30:47.734315Z"
        },
        "id": "f96fd0df"
      },
      "outputs": [],
      "source": [
        "print_numbers(10,20,30)"
      ]
    },
    {
      "cell_type": "markdown",
      "id": "8de83529",
      "metadata": {
        "id": "8de83529"
      },
      "source": [
        "#### 언패킹 사용하기\n",
        "\n",
        "\n",
        "* 함수(*리스트)\n",
        "* 함수(*튜플)"
      ]
    },
    {
      "cell_type": "code",
      "execution_count": null,
      "id": "44c8853e",
      "metadata": {
        "ExecuteTime": {
          "end_time": "2022-08-30T07:32:53.241192Z",
          "start_time": "2022-08-30T07:32:53.228175Z"
        },
        "id": "44c8853e"
      },
      "outputs": [],
      "source": [
        "x=[10,20,30]\n",
        "print_numbers(*x)  # *x는 10,20,30 즉, x의 리스트를 풀어쓴다"
      ]
    },
    {
      "cell_type": "code",
      "execution_count": null,
      "id": "e76f826e",
      "metadata": {
        "ExecuteTime": {
          "end_time": "2022-08-30T07:33:17.193676Z",
          "start_time": "2022-08-30T07:33:17.171656Z"
        },
        "id": "e76f826e"
      },
      "outputs": [],
      "source": [
        "print_numbers(*[10,20,30])"
      ]
    },
    {
      "cell_type": "markdown",
      "id": "6e7482fb",
      "metadata": {
        "id": "6e7482fb"
      },
      "source": [
        "#### 가변 인수 함수 만들기"
      ]
    },
    {
      "cell_type": "code",
      "execution_count": null,
      "id": "827f1ab8",
      "metadata": {
        "ExecuteTime": {
          "end_time": "2022-08-30T07:35:13.605954Z",
          "start_time": "2022-08-30T07:35:13.590952Z"
        },
        "id": "827f1ab8"
      },
      "outputs": [],
      "source": [
        "def print_numbers(*args):\n",
        "    for arg in args:\n",
        "        print(arg)"
      ]
    },
    {
      "cell_type": "code",
      "execution_count": null,
      "id": "e223a24a",
      "metadata": {
        "ExecuteTime": {
          "end_time": "2022-08-30T07:35:51.946042Z",
          "start_time": "2022-08-30T07:35:51.933044Z"
        },
        "id": "e223a24a"
      },
      "outputs": [],
      "source": [
        "print_numbers(10)"
      ]
    },
    {
      "cell_type": "code",
      "execution_count": null,
      "id": "95e409f0",
      "metadata": {
        "ExecuteTime": {
          "end_time": "2022-08-30T07:36:00.490658Z",
          "start_time": "2022-08-30T07:36:00.472656Z"
        },
        "id": "95e409f0"
      },
      "outputs": [],
      "source": [
        "print_numbers(10,20,30,40)"
      ]
    },
    {
      "cell_type": "code",
      "execution_count": null,
      "id": "3576b475",
      "metadata": {
        "ExecuteTime": {
          "end_time": "2022-08-30T07:36:15.395276Z",
          "start_time": "2022-08-30T07:36:15.376258Z"
        },
        "id": "3576b475"
      },
      "outputs": [],
      "source": [
        "x=[10]\n",
        "print_numbers(*x)"
      ]
    },
    {
      "cell_type": "code",
      "execution_count": null,
      "id": "cdfe298c",
      "metadata": {
        "ExecuteTime": {
          "end_time": "2022-08-30T07:36:26.079045Z",
          "start_time": "2022-08-30T07:36:26.059045Z"
        },
        "id": "cdfe298c"
      },
      "outputs": [],
      "source": [
        "y=[10,20,30,40]\n",
        "print_numbers(*y)"
      ]
    },
    {
      "cell_type": "markdown",
      "id": "dbb9dbd5",
      "metadata": {
        "id": "dbb9dbd5"
      },
      "source": [
        "#### 고정 인수와 가변 인수를 함께 사용하기\n",
        "\n",
        "* def print_numbers(a, *argue) \n",
        "    - 이 때, 가변 인수를 고정 인수보다 앞에 위치시켜선 안된다."
      ]
    },
    {
      "cell_type": "code",
      "execution_count": null,
      "id": "41b2c2b7",
      "metadata": {
        "ExecuteTime": {
          "end_time": "2022-08-30T07:38:34.243061Z",
          "start_time": "2022-08-30T07:38:34.236061Z"
        },
        "id": "41b2c2b7"
      },
      "outputs": [],
      "source": [
        "def print_numbers(a,*args):\n",
        "    print(a)\n",
        "    print(args)"
      ]
    },
    {
      "cell_type": "code",
      "execution_count": null,
      "id": "f2119369",
      "metadata": {
        "ExecuteTime": {
          "end_time": "2022-08-30T07:38:40.416778Z",
          "start_time": "2022-08-30T07:38:40.405775Z"
        },
        "id": "f2119369"
      },
      "outputs": [],
      "source": [
        "print_numbers(1,10,20)"
      ]
    },
    {
      "cell_type": "markdown",
      "id": "99161e89",
      "metadata": {
        "id": "99161e89"
      },
      "source": [
        "### 키워드 인수 사용하기"
      ]
    },
    {
      "cell_type": "code",
      "execution_count": null,
      "id": "dd0c1eb2",
      "metadata": {
        "ExecuteTime": {
          "end_time": "2022-08-30T07:40:57.430262Z",
          "start_time": "2022-08-30T07:40:57.410276Z"
        },
        "id": "dd0c1eb2"
      },
      "outputs": [],
      "source": [
        "def personal_info(name,age,address):\n",
        "    print('이름: ', name)\n",
        "    print('나이: ', age)\n",
        "    print('주소: ', address)"
      ]
    },
    {
      "cell_type": "code",
      "execution_count": null,
      "id": "a105ae5c",
      "metadata": {
        "ExecuteTime": {
          "end_time": "2022-08-30T07:41:34.226650Z",
          "start_time": "2022-08-30T07:41:34.214648Z"
        },
        "id": "a105ae5c"
      },
      "outputs": [],
      "source": [
        "personal_info('홍길동',30,'서울시 용산구 이촌동')"
      ]
    },
    {
      "cell_type": "code",
      "execution_count": null,
      "id": "82c1de34",
      "metadata": {
        "ExecuteTime": {
          "end_time": "2022-08-30T07:42:12.861954Z",
          "start_time": "2022-08-30T07:42:12.840934Z"
        },
        "id": "82c1de34"
      },
      "outputs": [],
      "source": [
        "personal_info(name='홍길동', age=30, address='서울시 용산구 이촌동')"
      ]
    },
    {
      "cell_type": "markdown",
      "id": "69623351",
      "metadata": {
        "id": "69623351"
      },
      "source": [
        "### 키워드 인수와 딕셔너리 언패킹 사용하기\n",
        "\n",
        "\n",
        "* 함수(**딕셔너리)"
      ]
    },
    {
      "cell_type": "code",
      "execution_count": null,
      "id": "0fb7aa89",
      "metadata": {
        "ExecuteTime": {
          "end_time": "2022-08-30T07:45:03.279621Z",
          "start_time": "2022-08-30T07:45:03.266620Z"
        },
        "id": "0fb7aa89"
      },
      "outputs": [],
      "source": [
        "def personal_info(name, age, address):\n",
        "    print('이름: ', name)\n",
        "    print('나이: ', age)\n",
        "    print('주소: ', address)"
      ]
    },
    {
      "cell_type": "code",
      "execution_count": null,
      "id": "9d97214c",
      "metadata": {
        "ExecuteTime": {
          "end_time": "2022-08-30T07:46:13.693353Z",
          "start_time": "2022-08-30T07:46:13.683352Z"
        },
        "id": "9d97214c"
      },
      "outputs": [],
      "source": [
        "x={'name':'홍길동', 'age':30,'address':'서울시 용산구 이촌동'}\n",
        "personal_info(**x)"
      ]
    },
    {
      "cell_type": "markdown",
      "id": "c867ff05",
      "metadata": {
        "id": "c867ff05"
      },
      "source": [
        "#### 키워드 인수를 사용하는 가변 인수 함수 만들기\n",
        "\n",
        "\n",
        "* 함수이름(**매개변수):\\\n",
        "    코드"
      ]
    },
    {
      "cell_type": "code",
      "execution_count": null,
      "id": "21b086a1",
      "metadata": {
        "ExecuteTime": {
          "end_time": "2022-08-30T07:51:01.036073Z",
          "start_time": "2022-08-30T07:51:01.027072Z"
        },
        "id": "21b086a1"
      },
      "outputs": [],
      "source": [
        "def personal_info(**kwargs):\n",
        "    for kw, arg in kwargs.items():\n",
        "        print(kw, ': ', arg, sep='')"
      ]
    },
    {
      "cell_type": "code",
      "execution_count": null,
      "id": "a4bb685b",
      "metadata": {
        "ExecuteTime": {
          "end_time": "2022-08-30T07:51:46.327228Z",
          "start_time": "2022-08-30T07:51:46.308231Z"
        },
        "id": "a4bb685b"
      },
      "outputs": [],
      "source": [
        "personal_info(name='홍길동')"
      ]
    },
    {
      "cell_type": "code",
      "execution_count": null,
      "id": "9e329e74",
      "metadata": {
        "ExecuteTime": {
          "end_time": "2022-08-30T07:52:27.546638Z",
          "start_time": "2022-08-30T07:52:27.524639Z"
        },
        "id": "9e329e74"
      },
      "outputs": [],
      "source": [
        "personal_info(name='홍길동', age=30, address='서울시 용산구 이촌동')"
      ]
    },
    {
      "cell_type": "markdown",
      "id": "6ed1f4e1",
      "metadata": {
        "id": "6ed1f4e1"
      },
      "source": [
        "### 매개변수에 초깃값 지정하기\n",
        "\n",
        "\n",
        "* 대표적인 예가 print 함수이다. print 함수의 sep는 초깃값이 ''(공백)으로 지정되어 있어서, 필요시에 sep에 다른 값을 넣어 사용한다."
      ]
    },
    {
      "cell_type": "code",
      "execution_count": null,
      "id": "3ca7d8a0",
      "metadata": {
        "ExecuteTime": {
          "end_time": "2022-08-30T07:58:22.012242Z",
          "start_time": "2022-08-30T07:58:22.003240Z"
        },
        "id": "3ca7d8a0"
      },
      "outputs": [],
      "source": [
        "def personal_info(name, age, address='비공개'):\n",
        "    print('이름: ', name)\n",
        "    print('나이: ', age)\n",
        "    print('주소: ', address) # address는 초깃값이 설정되어 있다."
      ]
    },
    {
      "cell_type": "code",
      "execution_count": null,
      "id": "926fb478",
      "metadata": {
        "ExecuteTime": {
          "end_time": "2022-08-30T07:58:44.000493Z",
          "start_time": "2022-08-30T07:58:43.979492Z"
        },
        "id": "926fb478"
      },
      "outputs": [],
      "source": [
        "personal_info('홍길동',30)"
      ]
    },
    {
      "cell_type": "markdown",
      "id": "499e7766",
      "metadata": {
        "id": "499e7766"
      },
      "source": [
        "### 심사문제: 가장 낮은 점수, 높은 점수와 평균 점수를 구하는 함수 만들기\n",
        "\n",
        "\n",
        "* 다음 기회에..."
      ]
    },
    {
      "cell_type": "markdown",
      "id": "10d148d1",
      "metadata": {
        "id": "10d148d1"
      },
      "source": [
        "## 함수에서 재귀호출 사용하기"
      ]
    },
    {
      "cell_type": "markdown",
      "id": "7b7d9b0c",
      "metadata": {
        "id": "7b7d9b0c"
      },
      "source": [
        "### 재귀호출 사용하기\n",
        "\n",
        "\n",
        "* 함수 안에서 자기자신을 호출하는 방식을 재귀호출(recursive call)이라 한다.\n",
        "* 재귀호출을 사용하려면 반드시 종료 조건을 만들어주어야 한다."
      ]
    },
    {
      "cell_type": "code",
      "execution_count": null,
      "id": "72507835",
      "metadata": {
        "ExecuteTime": {
          "start_time": "2022-08-30T08:16:58.786Z"
        },
        "id": "72507835"
      },
      "outputs": [],
      "source": [
        "def hello():\n",
        "    print('Hello, world!')\n",
        "    hello()\n",
        "    \n",
        "hello()"
      ]
    },
    {
      "cell_type": "code",
      "execution_count": null,
      "id": "4c664ea7",
      "metadata": {
        "ExecuteTime": {
          "end_time": "2022-08-30T08:20:41.435969Z",
          "start_time": "2022-08-30T08:20:41.414969Z"
        },
        "id": "4c664ea7"
      },
      "outputs": [],
      "source": [
        "def hello(count):\n",
        "    if count == 0:\n",
        "        return\n",
        "    print('Hello, world!', count)\n",
        "    \n",
        "    count-=1\n",
        "    hello(count)\n",
        "    \n",
        "hello(5)"
      ]
    },
    {
      "cell_type": "markdown",
      "id": "527155d5",
      "metadata": {
        "id": "527155d5"
      },
      "source": [
        "### 재귀호출로 팩토리얼 구하기"
      ]
    },
    {
      "cell_type": "code",
      "execution_count": null,
      "id": "564536dc",
      "metadata": {
        "ExecuteTime": {
          "end_time": "2022-08-30T08:24:12.983398Z",
          "start_time": "2022-08-30T08:24:12.960397Z"
        },
        "id": "564536dc"
      },
      "outputs": [],
      "source": [
        "def factorial(n):\n",
        "    if n ==1:                   # n이 1일 때\n",
        "        return 1                # 1을 반환하고 재귀호출을 끝냄\n",
        "    return n * factorial(n-1)   # n과 factorial 함수에 n-1을 넣어서 반환된 값을 곱함\n",
        "print(factorial(5))"
      ]
    },
    {
      "cell_type": "code",
      "execution_count": null,
      "id": "30ba65e8",
      "metadata": {
        "ExecuteTime": {
          "end_time": "2022-08-30T08:28:12.998964Z",
          "start_time": "2022-08-30T08:28:12.964964Z"
        },
        "id": "30ba65e8"
      },
      "outputs": [],
      "source": [
        "def factorial(n):\n",
        "    if n==1:\n",
        "        return 1\n",
        "    return n * factorial(n-1)\n",
        "factorial(4)"
      ]
    },
    {
      "cell_type": "markdown",
      "id": "6f4a767f",
      "metadata": {
        "id": "6f4a767f"
      },
      "source": [
        "### 심사문제: 재귀호출로 피보나치 수 구하기\n",
        "\n",
        "\n",
        "* 다음 기회에..."
      ]
    },
    {
      "cell_type": "markdown",
      "id": "a6f668fc",
      "metadata": {
        "id": "a6f668fc"
      },
      "source": [
        "## 람다 표현식 사용하기\n",
        "\n",
        "\n",
        "* 함수를 간편하게 작성 가능\n",
        "* 다른 함수의 인수로 넣을 때 주로 사용"
      ]
    },
    {
      "cell_type": "markdown",
      "id": "f74f75ad",
      "metadata": {
        "id": "f74f75ad"
      },
      "source": [
        "### 람다 표현식으로 함수 만들기\n",
        "\n",
        "\n",
        "* lambda 매개변수들: 식"
      ]
    },
    {
      "cell_type": "code",
      "execution_count": null,
      "id": "e8f34c9f",
      "metadata": {
        "id": "e8f34c9f"
      },
      "outputs": [],
      "source": [
        "def plus_ten(x):\n",
        "    return x + 10\n",
        "\n",
        "plus_ten(1)"
      ]
    },
    {
      "cell_type": "code",
      "execution_count": null,
      "id": "197a6731",
      "metadata": {
        "scrolled": true,
        "id": "197a6731"
      },
      "outputs": [],
      "source": [
        "plus_ten = lambda x: x+10\n",
        "plus_ten(1)"
      ]
    },
    {
      "cell_type": "markdown",
      "id": "08571498",
      "metadata": {
        "id": "08571498"
      },
      "source": [
        "#### 람다 표현식 자체를 호출하기\n",
        "\n",
        "\n",
        "* (lambda 매개변수들: 식)(인수들)"
      ]
    },
    {
      "cell_type": "code",
      "execution_count": null,
      "id": "85f7f2f3",
      "metadata": {
        "id": "85f7f2f3"
      },
      "outputs": [],
      "source": [
        "(lambda x: x+10)(1)"
      ]
    },
    {
      "cell_type": "markdown",
      "id": "14ebb0a8",
      "metadata": {
        "id": "14ebb0a8"
      },
      "source": [
        "#### 람다 표현식 안에서는 변수를 만들 수 없다\n",
        "\n",
        "\n",
        "* 단, 람다 표현식 바깥에 있는 변수는 사용할 수 있다."
      ]
    },
    {
      "cell_type": "code",
      "execution_count": null,
      "id": "bca09d5a",
      "metadata": {
        "id": "bca09d5a"
      },
      "outputs": [],
      "source": [
        "(lambda x:y =10; x+y)(1)"
      ]
    },
    {
      "cell_type": "code",
      "execution_count": null,
      "id": "9df7fe40",
      "metadata": {
        "id": "9df7fe40"
      },
      "outputs": [],
      "source": [
        "y=10\n",
        "(lambda x: x+y)(1)"
      ]
    },
    {
      "cell_type": "markdown",
      "id": "1e2afced",
      "metadata": {
        "id": "1e2afced"
      },
      "source": [
        "#### 람다 표현식을 인수로 사용하기"
      ]
    },
    {
      "cell_type": "code",
      "execution_count": null,
      "id": "2dc673ff",
      "metadata": {
        "id": "2dc673ff"
      },
      "outputs": [],
      "source": [
        "def plus_ten(x):\n",
        "    return x + 10\n",
        "\n",
        "list(map(plus_ten, [1,2,3]))"
      ]
    },
    {
      "cell_type": "code",
      "execution_count": null,
      "id": "cc7378a2",
      "metadata": {
        "id": "cc7378a2"
      },
      "outputs": [],
      "source": [
        "list(map(lambda x: x+10,[1,2,3]))"
      ]
    },
    {
      "cell_type": "markdown",
      "id": "50020e95",
      "metadata": {
        "id": "50020e95"
      },
      "source": [
        "### 람다 표현식과 map, filter, redute 함수 활용하기"
      ]
    },
    {
      "cell_type": "markdown",
      "id": "977fe101",
      "metadata": {
        "id": "977fe101"
      },
      "source": [
        "#### 람다 표현식에 조건부 표현식 사용하기\n",
        "\n",
        "\n",
        "* lambda 매개변수들: 식1 if 조건식 else 식2\n",
        "    - 람다 표현식에서 if를 사용했다면 반드시 else를 사용해야 한다."
      ]
    },
    {
      "cell_type": "code",
      "execution_count": null,
      "id": "68464a97",
      "metadata": {
        "id": "68464a97"
      },
      "outputs": [],
      "source": [
        "a = [1, 2, 3, 4, 5, 6, 7, 8, 9, 10]\n",
        "list(map(lambda x: str(x) if x % 3 ==0 else x, a))"
      ]
    },
    {
      "cell_type": "code",
      "execution_count": null,
      "id": "36acd5cc",
      "metadata": {
        "id": "36acd5cc"
      },
      "outputs": [],
      "source": [
        "a = [1, 2, 3, 4, 5, 6, 7, 8, 9, 10]\n",
        "list(map(lambda x: str(x) if x==1 else float(x) if x==2 else x+10,a))"
      ]
    },
    {
      "cell_type": "code",
      "execution_count": null,
      "id": "b919b421",
      "metadata": {
        "id": "b919b421"
      },
      "outputs": [],
      "source": [
        "def f(x):\n",
        "    if x == 1:\n",
        "        return str(x)\n",
        "    elif x == 2:\n",
        "        return float(x)\n",
        "    else:\n",
        "        return x +10\n",
        "a = [1, 2, 3, 4, 5, 6, 7, 8, 9, 10]\n",
        "list(map(f,a))"
      ]
    },
    {
      "cell_type": "markdown",
      "id": "a914f1f9",
      "metadata": {
        "id": "a914f1f9"
      },
      "source": [
        "#### map 에 객체를 여러 개 넣기"
      ]
    },
    {
      "cell_type": "code",
      "execution_count": null,
      "id": "18ecf3a5",
      "metadata": {
        "id": "18ecf3a5"
      },
      "outputs": [],
      "source": [
        "a=[1,2,3,4,5]\n",
        "b=[2,4,6,8,10]\n",
        "list(map(lambda x,y:x*y,a, b))"
      ]
    },
    {
      "cell_type": "markdown",
      "id": "b7cbb1ae",
      "metadata": {
        "id": "b7cbb1ae"
      },
      "source": [
        "#### filter 사용하기\n",
        "\n",
        "\n",
        "* filter(함수, 반복가능한객체)\n",
        "* filter에 지정한 함수의 반환값이 True 일 때만 해당 요소를 가져온다."
      ]
    },
    {
      "cell_type": "code",
      "execution_count": null,
      "id": "d54ae342",
      "metadata": {
        "id": "d54ae342"
      },
      "outputs": [],
      "source": [
        "def f(x):\n",
        "    return x>5 and x<10\n",
        "a = [8,3,2,10,15,7,1,9,0,11]\n",
        "list(filter(f,a))"
      ]
    },
    {
      "cell_type": "code",
      "execution_count": null,
      "id": "9f91bb4b",
      "metadata": {
        "id": "9f91bb4b"
      },
      "outputs": [],
      "source": [
        "a = [8,3,2,10,15,7,1,9,0,11]\n",
        "list(filter(lambda x: x>5 and x<10,a))"
      ]
    },
    {
      "cell_type": "markdown",
      "id": "06cc1184",
      "metadata": {
        "id": "06cc1184"
      },
      "source": [
        "#### reduce 사용하기\n",
        "\n",
        "\n",
        "* 반복 가능한 객체의 각 요소를 지정된 함수로 처리한 뒤 이전 결과와 누적해서 반환\n",
        "* from functools import reduce\n",
        "* reduce(함수, 반복가능한객체)"
      ]
    },
    {
      "cell_type": "code",
      "execution_count": null,
      "id": "37d23e71",
      "metadata": {
        "id": "37d23e71"
      },
      "outputs": [],
      "source": [
        "def f(x,y):\n",
        "    return x+y\n",
        "a=[1,2,3,4,5]\n",
        "from functools import reduce\n",
        "reduce(f,a)"
      ]
    },
    {
      "cell_type": "code",
      "execution_count": null,
      "id": "ac623794",
      "metadata": {
        "id": "ac623794"
      },
      "outputs": [],
      "source": [
        "a=[1,2,3,4,5]\n",
        "from functools import reduce\n",
        "reduce(lambda x,y: x+y,a)"
      ]
    },
    {
      "cell_type": "markdown",
      "id": "1c3390fe",
      "metadata": {
        "id": "1c3390fe"
      },
      "source": [
        "### 심사문제: 파일 이름을 한꺼번에 바꾸기\n",
        "\n",
        "\n",
        "* 다음 기회에..."
      ]
    },
    {
      "cell_type": "markdown",
      "id": "8c96cb2d",
      "metadata": {
        "id": "8c96cb2d"
      },
      "source": [
        "## 클래스 사용하기"
      ]
    },
    {
      "cell_type": "markdown",
      "id": "249e7efd",
      "metadata": {
        "id": "249e7efd"
      },
      "source": [
        "### 클래스와 메서드 만들기\n",
        "\n",
        "\n",
        "* class 클래스이름:\\\n",
        "def 메서드(self):\\\n",
        "코드\n",
        "* 인스턴스 = 클래스()"
      ]
    },
    {
      "cell_type": "code",
      "execution_count": 8,
      "id": "cc5da2b9",
      "metadata": {
        "id": "cc5da2b9"
      },
      "outputs": [],
      "source": [
        "class person:\n",
        "    def greeting(self):\n",
        "        print('Hello')"
      ]
    },
    {
      "cell_type": "code",
      "execution_count": 9,
      "id": "8ce60cb9",
      "metadata": {
        "id": "8ce60cb9"
      },
      "outputs": [],
      "source": [
        "james=person()  # james 는 person 의 인스턴스 이다."
      ]
    },
    {
      "cell_type": "code",
      "execution_count": 10,
      "id": "76092153",
      "metadata": {
        "id": "76092153",
        "colab": {
          "base_uri": "https://localhost:8080/"
        },
        "outputId": "937f6566-997b-46ad-b57d-458b8a85e865"
      },
      "outputs": [
        {
          "output_type": "stream",
          "name": "stdout",
          "text": [
            "Hello\n"
          ]
        }
      ],
      "source": [
        "james.greeting()"
      ]
    },
    {
      "cell_type": "markdown",
      "id": "be2cd93b",
      "metadata": {
        "id": "be2cd93b"
      },
      "source": [
        "#### 파이썬에서 흐히 볼 수 있는 클래스"
      ]
    },
    {
      "cell_type": "code",
      "execution_count": 11,
      "id": "d2bb7b65",
      "metadata": {
        "id": "d2bb7b65",
        "colab": {
          "base_uri": "https://localhost:8080/"
        },
        "outputId": "7c58a59a-576a-4986-ac2c-5c426e147e70"
      },
      "outputs": [
        {
          "output_type": "execute_result",
          "data": {
            "text/plain": [
              "10"
            ]
          },
          "metadata": {},
          "execution_count": 11
        }
      ],
      "source": [
        "a=int(10)    # int 클래스에 10을 넣어서 인스턴스 a를 만든다.\n",
        "a"
      ]
    },
    {
      "cell_type": "code",
      "execution_count": 12,
      "id": "51559410",
      "metadata": {
        "id": "51559410",
        "colab": {
          "base_uri": "https://localhost:8080/"
        },
        "outputId": "e1827f4d-e4a6-4c3f-e1e9-9cb55a984ffe"
      },
      "outputs": [
        {
          "output_type": "execute_result",
          "data": {
            "text/plain": [
              "[0, 1, 2, 3, 4, 5, 6, 7, 8, 9]"
            ]
          },
          "metadata": {},
          "execution_count": 12
        }
      ],
      "source": [
        "b=list(range(10))     # list 클래스에 range(10)을 넣어서 인스턴스 b를 만든다.\n",
        "b"
      ]
    },
    {
      "cell_type": "code",
      "execution_count": 13,
      "id": "a9a8d9d2",
      "metadata": {
        "id": "a9a8d9d2",
        "colab": {
          "base_uri": "https://localhost:8080/"
        },
        "outputId": "879d0868-4195-47e0-8812-b2c693ba5d9e"
      },
      "outputs": [
        {
          "output_type": "execute_result",
          "data": {
            "text/plain": [
              "{'x': 10, 'y': 20}"
            ]
          },
          "metadata": {},
          "execution_count": 13
        }
      ],
      "source": [
        "c=dict(x=10,y=20)   # dict 클래스에  x=10, y=20을 넣어서 인스턴스 c를 만든다.\n",
        "c"
      ]
    },
    {
      "cell_type": "markdown",
      "id": "2716a0ed",
      "metadata": {
        "id": "2716a0ed"
      },
      "source": [
        "#### 인스턴스와 객체의 차이점\n",
        "\n",
        "\n",
        "* 클래스는 객체를 표현하는 문법(인스턴스와 객체는 같은 것을 뜻함)\n",
        "* 보토 객체만 지칭할 때는 객체라고 부른다. 하지만 클래스와 연관지어서 말할 때는 인스턴스라고 부른다."
      ]
    },
    {
      "cell_type": "code",
      "execution_count": 14,
      "id": "95203af0",
      "metadata": {
        "id": "95203af0"
      },
      "outputs": [],
      "source": [
        "a= list(range(10)) # 리스트 변수 a,b 가 있으면 a,b는 객체이고 \n",
        "b= list(range(20)) # a와 b는 list 클래스의 인스턴스 이다."
      ]
    },
    {
      "cell_type": "code",
      "execution_count": 15,
      "id": "b348eb8c",
      "metadata": {
        "id": "b348eb8c",
        "colab": {
          "base_uri": "https://localhost:8080/"
        },
        "outputId": "0edfe812-06ab-430f-f89c-d89392c7127c"
      },
      "outputs": [
        {
          "output_type": "execute_result",
          "data": {
            "text/plain": [
              "True"
            ]
          },
          "metadata": {},
          "execution_count": 15
        }
      ],
      "source": [
        "class person:\n",
        "    pass\n",
        "\n",
        "james = person()\n",
        "isinstance(james,person)"
      ]
    },
    {
      "cell_type": "markdown",
      "id": "4e2e90c3",
      "metadata": {
        "id": "4e2e90c3"
      },
      "source": [
        "### 속성 사용하기\n",
        "\n",
        "* class 클래스이름:\\\n",
        "def __init__(self):\\\n",
        "self.속성=값"
      ]
    },
    {
      "cell_type": "code",
      "execution_count": 16,
      "id": "8c4df652",
      "metadata": {
        "id": "8c4df652",
        "colab": {
          "base_uri": "https://localhost:8080/"
        },
        "outputId": "5b05419a-0c10-4b15-d91d-7455141c4766"
      },
      "outputs": [
        {
          "output_type": "stream",
          "name": "stdout",
          "text": [
            "안녕하세요.\n"
          ]
        }
      ],
      "source": [
        "class Person:\n",
        "    def __init__(self):\n",
        "        self.hello='안녕하세요.'\n",
        "        \n",
        "    def greeting(self):\n",
        "        print(self.hello)\n",
        "        \n",
        "james = Person()\n",
        "james.greeting()\n",
        "\n"
      ]
    },
    {
      "cell_type": "markdown",
      "id": "68d25541",
      "metadata": {
        "id": "68d25541"
      },
      "source": [
        "#### self 의 의미\n",
        "\n",
        "\n",
        "* self 는 인스턴스 자기 자"
      ]
    },
    {
      "cell_type": "markdown",
      "id": "c95d4270",
      "metadata": {
        "id": "c95d4270"
      },
      "source": [
        "#### 인스턴스를 만들 때 값 받기\n",
        "\n",
        "* class 클래스이름:\\\n",
        "def __init__(self, 매개변수1, 매개변수2):\\\n",
        "self.속성1 = 매개변수1\n",
        "self.속성2 = 매개변수2"
      ]
    },
    {
      "cell_type": "code",
      "execution_count": 17,
      "id": "2298e47f",
      "metadata": {
        "id": "2298e47f",
        "colab": {
          "base_uri": "https://localhost:8080/"
        },
        "outputId": "58a9af0d-2315-4009-e306-0af9bc422dad"
      },
      "outputs": [
        {
          "output_type": "stream",
          "name": "stdout",
          "text": [
            "안녕하세요 저는 마리아입니다.\n",
            "이름: 마리아\n",
            "나이: 20\n",
            "주소: 서울시 서초구 반포동\n"
          ]
        }
      ],
      "source": [
        "class Person:\n",
        "    def __init__(self, name, age, address):\n",
        "        self.hello = '안녕하세요'\n",
        "        self.name = name\n",
        "        self.age = age\n",
        "        self.address = address\n",
        "        \n",
        "    def greeting(self):\n",
        "        print('{0} 저는 {1}입니다.'.format(self.hello, self.name))\n",
        "        \n",
        "maria = Person('마리아',20,'서울시 서초구 반포동')\n",
        "maria.greeting()\n",
        "\n",
        "print('이름:', maria.name)\n",
        "print('나이:', maria.age)\n",
        "print('주소:', maria.address)"
      ]
    },
    {
      "cell_type": "markdown",
      "id": "3653bae6",
      "metadata": {
        "id": "3653bae6"
      },
      "source": [
        "### 비공개 속성 사용하기\n",
        "\n",
        "\n",
        "* __속성\n",
        "    - \\_\\_속성\\_\\_ 처럼 양옆에 __ 이 아니다.\n",
        "    - class 클래스이름:\\\n",
        "    def __init__(self, 매개변수)\\\n",
        "        self.__속성 = 값"
      ]
    },
    {
      "cell_type": "code",
      "execution_count": 18,
      "id": "277497a4",
      "metadata": {
        "id": "277497a4",
        "colab": {
          "base_uri": "https://localhost:8080/",
          "height": 209
        },
        "outputId": "2fb1db0a-f56a-4fa1-b08b-f725283512d6"
      },
      "outputs": [
        {
          "output_type": "error",
          "ename": "AttributeError",
          "evalue": "ignored",
          "traceback": [
            "\u001b[0;31m---------------------------------------------------------------------------\u001b[0m",
            "\u001b[0;31mAttributeError\u001b[0m                            Traceback (most recent call last)",
            "\u001b[0;32m<ipython-input-18-4a9bf31fa0e0>\u001b[0m in \u001b[0;36m<module>\u001b[0;34m\u001b[0m\n\u001b[1;32m      7\u001b[0m \u001b[0;34m\u001b[0m\u001b[0m\n\u001b[1;32m      8\u001b[0m \u001b[0mmaria\u001b[0m \u001b[0;34m=\u001b[0m \u001b[0mPerson\u001b[0m\u001b[0;34m(\u001b[0m\u001b[0;34m'마리아'\u001b[0m\u001b[0;34m,\u001b[0m\u001b[0;36m20\u001b[0m\u001b[0;34m,\u001b[0m\u001b[0;34m'서울시 서초구 반포동'\u001b[0m\u001b[0;34m,\u001b[0m\u001b[0;36m10000\u001b[0m\u001b[0;34m)\u001b[0m\u001b[0;34m\u001b[0m\u001b[0;34m\u001b[0m\u001b[0m\n\u001b[0;32m----> 9\u001b[0;31m \u001b[0mmaria\u001b[0m\u001b[0;34m.\u001b[0m\u001b[0m__wallet\u001b[0m \u001b[0;34m-=\u001b[0m \u001b[0;36m10000\u001b[0m\u001b[0;34m\u001b[0m\u001b[0;34m\u001b[0m\u001b[0m\n\u001b[0m",
            "\u001b[0;31mAttributeError\u001b[0m: 'Person' object has no attribute '__wallet'"
          ]
        }
      ],
      "source": [
        "class Person:\n",
        "    def __init__(self, name, age, address, wallet):\n",
        "        self.name = name\n",
        "        self.age = age\n",
        "        self.address = address\n",
        "        self.__wallet =wallet # 변수 앞에 __를 붙여서 비공개 속성으로 만듦\n",
        "        \n",
        "maria = Person('마리아',20,'서울시 서초구 반포동',10000)\n",
        "maria.__wallet -= 10000"
      ]
    },
    {
      "cell_type": "code",
      "execution_count": null,
      "id": "234e96fe",
      "metadata": {
        "id": "234e96fe"
      },
      "outputs": [],
      "source": [
        "class Person:\n",
        "    def __init__(self, name, age, address, wallet):\n",
        "        self.name = name\n",
        "        self.age = age\n",
        "        self.address = address\n",
        "        self.__wallet =wallet # 변수 앞에 __를 붙여서 비공개 속성으로 만듦\n",
        "        \n",
        "    def pay(self, amout):\n",
        "        self.__wallet -= amout # 비공개 속성은 클래스 안의 메서드에서만 접근 가능\n",
        "        print('이제 {0}원 남았네요.'.format(self.__wallet))\n",
        "        \n",
        "maria = Person('마리아',20,'서울시 서초구 반포동', 10000)\n",
        "maria.pay(3000)"
      ]
    },
    {
      "cell_type": "markdown",
      "id": "f7a7e5f0",
      "metadata": {
        "id": "f7a7e5f0"
      },
      "source": [
        "### 심사문제: 게임 캐릭터 클래스 만들기\n",
        "\n",
        "\n",
        "* 다음 기회에..."
      ]
    },
    {
      "cell_type": "markdown",
      "id": "057f8330",
      "metadata": {
        "id": "057f8330"
      },
      "source": [
        "## 클래스 속성과 정적, 클래스 메서드 사용하기"
      ]
    },
    {
      "cell_type": "markdown",
      "id": "816e5cc4",
      "metadata": {
        "id": "816e5cc4"
      },
      "source": [
        "### 클래스 속성과 인스턴스 속성 알아보기\n",
        "\n",
        "* 속성\n",
        "    - 클래스 속성: 모든 인스턴스가 공유. 인스턴스 전체가 사용해야 하는 값을 정할 때 사용\n",
        "    - 인스턴스 속성: 인스턴스별로 독립되어 있음. 각 인스턴스가 값을 따로 저장해야 할 때 사용"
      ]
    },
    {
      "cell_type": "markdown",
      "id": "47f658fa",
      "metadata": {
        "id": "47f658fa"
      },
      "source": [
        "#### 클래스 속성 사용하기\n",
        "\n",
        "* class 클래스이름:\\\n",
        "    속성 = 값\n",
        "    \n",
        "* 클래스 속성은 클래스에 속해 있으며 모든 인스턴스에서 공유한다."
      ]
    },
    {
      "cell_type": "code",
      "execution_count": 20,
      "id": "2ddf3925",
      "metadata": {
        "id": "2ddf3925",
        "colab": {
          "base_uri": "https://localhost:8080/"
        },
        "outputId": "b0e60da7-2e22-4ac3-942e-1c678345ec7b"
      },
      "outputs": [
        {
          "output_type": "stream",
          "name": "stdout",
          "text": [
            "['책', '열쇠']\n",
            "['책', '열쇠']\n"
          ]
        }
      ],
      "source": [
        "class Person:\n",
        "    bag =[]\n",
        "    \n",
        "    def put_bag(self, stuff):\n",
        "        self.bag.append(stuff)\n",
        "        \n",
        "james = Person()\n",
        "james.put_bag('책')\n",
        "\n",
        "maria = Person()\n",
        "maria.put_bag('열쇠')\n",
        "\n",
        "print(james.bag)\n",
        "print(maria.bag)"
      ]
    },
    {
      "cell_type": "code",
      "execution_count": 21,
      "id": "74557d11",
      "metadata": {
        "id": "74557d11",
        "colab": {
          "base_uri": "https://localhost:8080/"
        },
        "outputId": "7c1d57f7-2e7a-488b-ffd8-f7636f0c2809"
      },
      "outputs": [
        {
          "output_type": "stream",
          "name": "stdout",
          "text": [
            "['책', '열쇠']\n",
            "['책', '열쇠']\n"
          ]
        }
      ],
      "source": [
        "class Person:\n",
        "    bag=[]\n",
        "    \n",
        "    def put_bag(self, sutff):    \n",
        "        Person.bag.append(sutff)    # 클래스 이름으로 클래스 속성에 접근\n",
        "\n",
        "james = Person()\n",
        "james.put_bag('책')\n",
        "\n",
        "maria = Person()\n",
        "maria.put_bag('열쇠')        \n",
        "        \n",
        "        \n",
        "print(james.bag)\n",
        "print(maria.bag)"
      ]
    },
    {
      "cell_type": "markdown",
      "id": "de2bc08b",
      "metadata": {
        "id": "de2bc08b"
      },
      "source": [
        "#### 인스턴스 속성 사용하기"
      ]
    },
    {
      "cell_type": "code",
      "execution_count": 22,
      "id": "088f58a0",
      "metadata": {
        "id": "088f58a0",
        "colab": {
          "base_uri": "https://localhost:8080/"
        },
        "outputId": "24130d4a-30a0-429e-b79c-2765c4cbd7d2"
      },
      "outputs": [
        {
          "output_type": "stream",
          "name": "stdout",
          "text": [
            "['책']\n",
            "['열쇠']\n"
          ]
        }
      ],
      "source": [
        "class Person:\n",
        "    def __init__(self):\n",
        "        self.bag=[]\n",
        "        \n",
        "    def put_bag(self, stuff):\n",
        "        self.bag.append(stuff)\n",
        "        \n",
        "james = Person()\n",
        "james.put_bag('책')\n",
        "\n",
        "maria = Person()\n",
        "maria.put_bag('열쇠')\n",
        "\n",
        "print(james.bag)\n",
        "print(maria.bag)"
      ]
    },
    {
      "cell_type": "markdown",
      "id": "657aaae7",
      "metadata": {
        "id": "657aaae7"
      },
      "source": [
        "#### 비공개 클래스 속성 사용하기\n",
        "\n",
        "\n",
        "* 클래스 안에서만 접근 가능하며, 클래스 바깥에서는 접근할 수 없다.\n",
        "    - calss 클래스 이름:\\\n",
        "    __속성 = 값"
      ]
    },
    {
      "cell_type": "markdown",
      "id": "b773cb5f",
      "metadata": {
        "id": "b773cb5f"
      },
      "source": [
        "### 정적 메서드 사용하기\n",
        "\n",
        "\n",
        "* 클래스의 메서드를 사용할 때 인스턴스를 통하지 않고 클래스에서 바로 호출 할 수 있는 메서드. \n",
        "* 정적 메서는 self를 받지 않으므로 인스턴스 속성에 접근 할 수 없다. 그래서 보통 정적 메서드는 인스턴스 속성, 인스턴스 메서드가 필요 없을 때 사용한다.\n",
        "    - 정적 메서드\n",
        "        - 메서드 위에 @staticmethod 를 붙인다.\n",
        "            - class 클래스이름:\\\n",
        "              @staticmethod                   \n",
        "                  - @: 데코레이터: 메서드(함수)에 추가 기능을 구현할 때\n",
        "              def 메서드(매개변수1, 매개변수2):\\\n",
        "              코드\n",
        "    - 클래스 메서드"
      ]
    },
    {
      "cell_type": "code",
      "execution_count": 23,
      "id": "815cae08",
      "metadata": {
        "id": "815cae08",
        "colab": {
          "base_uri": "https://localhost:8080/"
        },
        "outputId": "960de74e-17c7-457d-ff1b-3642e6a6c328"
      },
      "outputs": [
        {
          "output_type": "stream",
          "name": "stdout",
          "text": [
            "30\n",
            "200\n"
          ]
        }
      ],
      "source": [
        "class Calc:\n",
        "    @staticmethod\n",
        "    def add(a,b):\n",
        "        print(a+b)\n",
        "        \n",
        "    @staticmethod\n",
        "    def mul(a,b):\n",
        "        print(a*b)\n",
        "        \n",
        "Calc.add(10,20)    # 클래스에서 바로 메서드 호출\n",
        "Calc.mul(10,20)    # 클래스에서 바로 메서드 호출"
      ]
    },
    {
      "cell_type": "markdown",
      "id": "2b5f0647",
      "metadata": {
        "id": "2b5f0647"
      },
      "source": [
        "### 클래스 메서드 사용하기\n",
        "\n",
        "\n",
        "* 메서드 위에 @classmethod를 붙인다.\n",
        "    - 이 때, 클래스 메서드는 첫 번쨰 매개변수에 cls를 지정해야 한다.\n",
        "    - class 클래스이름:\\\n",
        "    @calssmethod\\\n",
        "    def 메서드(cls, 매개변수1, 매개변수2):\\\n",
        "    코드"
      ]
    },
    {
      "cell_type": "code",
      "execution_count": 24,
      "id": "dee4f69a",
      "metadata": {
        "id": "dee4f69a",
        "colab": {
          "base_uri": "https://localhost:8080/"
        },
        "outputId": "4feeb1fb-fa1c-41fd-d9a6-685256906dad"
      },
      "outputs": [
        {
          "output_type": "stream",
          "name": "stdout",
          "text": [
            "2명 생성되었습니다.\n"
          ]
        }
      ],
      "source": [
        "class Person:\n",
        "    count = 0    # 클래스 속성\n",
        "    \n",
        "    def __init__(self):\n",
        "        Person.count += 1 # 인스턴스가 만들어질 때 클래스 속성 count에 1을 더함\n",
        "        \n",
        "    @classmethod\n",
        "    def print_count(cls):\n",
        "        print('{0}명 생성되었습니다.'.format(cls.count)) \n",
        "        # cls 로 클래스 속성에 접근\n",
        "\n",
        "james = Person()        \n",
        "maria = Person()\n",
        "\n",
        "Person.print_count()"
      ]
    },
    {
      "cell_type": "markdown",
      "id": "51042614",
      "metadata": {
        "id": "51042614"
      },
      "source": [
        "### 심사문제: 시간 클래스 만들기\n",
        "\n",
        "\n",
        "* 다음 기회에..."
      ]
    },
    {
      "cell_type": "markdown",
      "id": "79edfd14",
      "metadata": {
        "id": "79edfd14"
      },
      "source": [
        "## 클래스 상속 사용하기\n",
        "\n",
        "\n",
        "* 클래스 상속은 물려받은 기능을 유지한채로 다른 기능을 추가할 때 사용\n",
        "    - 기반 클래스(base class): 기능을 물려주는 클래스(= 부모, 슈퍼 클래스)\n",
        "    - 파생 클래스(derived class): 상속 받아 새롭게 만드는 클래스(= 자식, 서브 클래스)\n",
        "    \n",
        "* 클래스를 만들 때 ()(괄호)를 붙이고 안에 기반 클래스 이름을 넣는다.\n",
        "    - class 기반클래스이름:\\\n",
        "    코드\n",
        "    - class 파생클래스이름(기반클래스이름):\\\n",
        "    코드"
      ]
    },
    {
      "cell_type": "markdown",
      "id": "ec2e6a9e",
      "metadata": {
        "id": "ec2e6a9e"
      },
      "source": [
        "### 사람 클래스로 학생 클래스 만들기"
      ]
    },
    {
      "cell_type": "code",
      "execution_count": null,
      "id": "d4ae9677",
      "metadata": {
        "id": "d4ae9677"
      },
      "outputs": [],
      "source": [
        "class Person:\n",
        "    def greeting(self):\n",
        "        print('안녕하세요.')\n",
        "        \n",
        "class Student(Person):\n",
        "    def study(self):\n",
        "        print('공부하기')\n",
        "        \n",
        "james = Student()\n",
        "james.greeting()  # 안녕하세요.: 기반 클래스 Person의 메서드 호출\n",
        "james.study()     # 공부하기: 파생 클래스 Student에 추가한 study 메서드"
      ]
    },
    {
      "cell_type": "markdown",
      "id": "87196e25",
      "metadata": {
        "id": "87196e25"
      },
      "source": [
        "#### 상속 관계 확인하기\n",
        "\n",
        "\n",
        "* issubclass(파생클래스, 기반클래스)"
      ]
    },
    {
      "cell_type": "code",
      "execution_count": null,
      "id": "cee55f2a",
      "metadata": {
        "id": "cee55f2a"
      },
      "outputs": [],
      "source": [
        "class Person:\n",
        "    pass\n",
        "\n",
        "class Student(Person):\n",
        "    pass\n",
        "\n",
        "issubclass(Student, Person)"
      ]
    },
    {
      "cell_type": "markdown",
      "id": "3376eb14",
      "metadata": {
        "id": "3376eb14"
      },
      "source": [
        "### 상속 관계와 포함 관계 알아보기\n",
        "\n",
        "* 상속은 명확하게 같은 종류이며 동등한 관계일 때 사용(is-a 관계)\n",
        "* 포함은 속성 인스턴트를 넣는 방식(has-a 관계)"
      ]
    },
    {
      "cell_type": "code",
      "execution_count": null,
      "id": "e073e4de",
      "metadata": {
        "id": "e073e4de"
      },
      "outputs": [],
      "source": [
        "# 상속 관계\n",
        "class Person:\n",
        "    def greeting(self):\n",
        "        print('안녕하세요.')\n",
        " \n",
        "class Student(Person):\n",
        "    def study(self):\n",
        "        print('공부하기')"
      ]
    },
    {
      "cell_type": "code",
      "execution_count": null,
      "id": "d40a2524",
      "metadata": {
        "id": "d40a2524"
      },
      "outputs": [],
      "source": [
        "# 포함 관계\n",
        "class Person:\n",
        "    def greeting(self):\n",
        "        print('안녕하세요.')\n",
        " \n",
        "class PersonList:\n",
        "    def __init__(self):\n",
        "        self.person_list = []    # 리스트 속성에 Person 인스턴스를 넣어서 관리\n",
        " \n",
        "    def append_person(self, person):    # 리스트 속성에 Person 인스턴스를 추가하는 함수\n",
        "        self.person_list.append(person)"
      ]
    },
    {
      "cell_type": "markdown",
      "id": "dc1077d5",
      "metadata": {
        "id": "dc1077d5"
      },
      "source": [
        "### 기반 클래스의 속성 사용하기"
      ]
    },
    {
      "cell_type": "code",
      "execution_count": null,
      "id": "b7ad6c27",
      "metadata": {
        "id": "b7ad6c27"
      },
      "outputs": [],
      "source": [
        "class Person:\n",
        "    def __init__(self):\n",
        "        print('Person __init__')\n",
        "        self.hello = '안녕하세요.'\n",
        "        \n",
        "class Student(Person):\n",
        "    def __init__(self):\n",
        "        print('Student __init__')\n",
        "        self.school = '파이썬 코딩 도장'\n",
        "        \n",
        "james = Student()\n",
        "print(james.school)\n",
        "print(james.hello) "
      ]
    },
    {
      "cell_type": "markdown",
      "id": "9e0e4a53",
      "metadata": {
        "id": "9e0e4a53"
      },
      "source": [
        "#### super() 로 기반 클래스 초기화 하기\n",
        "\n",
        "\n",
        "* super().메서드()"
      ]
    },
    {
      "cell_type": "code",
      "execution_count": null,
      "id": "1e4812d6",
      "metadata": {
        "id": "1e4812d6"
      },
      "outputs": [],
      "source": [
        "class Person:\n",
        "    def __init__(self):\n",
        "        print('Person __init__')\n",
        "        self.hello = '안녕하세요.'\n",
        "        \n",
        "class Student(Person):\n",
        "    def __init__(self):\n",
        "        print('Student __init__')\n",
        "        super().__init__()       # super()로 기반 클래스의 __init__ 메서드 호출\n",
        "        self.school = '파이썬 코딩 도장'\n",
        "        \n",
        "james = Student()\n",
        "print(james.school)\n",
        "print(james.hello)"
      ]
    },
    {
      "cell_type": "markdown",
      "id": "17a46bfc",
      "metadata": {
        "id": "17a46bfc"
      },
      "source": [
        "#### 기반 클래스를 초기화하지 않아도 되는 경우\n",
        "\n",
        "* 만약 파생 클래스에서 __init__ 메서드를 생략한다면 기반 클래스의 __init__ 이 자동으로 호출되므로 super()는 사용하지 않아도 된다."
      ]
    },
    {
      "cell_type": "code",
      "execution_count": null,
      "id": "c26ce311",
      "metadata": {
        "id": "c26ce311"
      },
      "outputs": [],
      "source": [
        "class Person:\n",
        "    def __init__(self):\n",
        "        print('Person __init__')\n",
        "        self.hello = '안녕하세요.'\n",
        "        \n",
        "class Student(Person):\n",
        "    pass\n",
        "\n",
        "james = Student()\n",
        "print(james.hello)"
      ]
    },
    {
      "cell_type": "markdown",
      "id": "f3b557c7",
      "metadata": {
        "id": "f3b557c7"
      },
      "source": [
        "### 메서드 오버라이딩 사용하기\n",
        "\n",
        "* 파생 클래스에서 기반 클래스의 메서드를 새로 정의"
      ]
    },
    {
      "cell_type": "code",
      "execution_count": null,
      "id": "6374a7df",
      "metadata": {
        "id": "6374a7df"
      },
      "outputs": [],
      "source": [
        "class Person:\n",
        "    def greeting(self):\n",
        "        print('안녕하세요.')\n",
        "        \n",
        "class Student(Person):\n",
        "    def greeting(self):\n",
        "        print('안녕하세요. 저는 파이썬 코딩 도장 학생합니다.')\n",
        "        \n",
        "james = Student()\n",
        "james.greeting()"
      ]
    },
    {
      "cell_type": "markdown",
      "id": "683a63e7",
      "metadata": {
        "id": "683a63e7"
      },
      "source": [
        "### 다중 상속 사용하기\n",
        "\n",
        "\n",
        "* 다중 상속은 여러 기반 클래스로부터 상속을 받아 파생 클래스는 만드는 방법"
      ]
    },
    {
      "cell_type": "code",
      "execution_count": null,
      "id": "8dc42d41",
      "metadata": {
        "id": "8dc42d41"
      },
      "outputs": [],
      "source": [
        "class Person:\n",
        "    def greeting(self):\n",
        "        print('안녕하세요.')\n",
        "        \n",
        "class University:\n",
        "    def manage_credit(self):\n",
        "        print('학점 관리')\n",
        "        \n",
        "class Undergraduate(Person, University):\n",
        "    def study(self):\n",
        "        print('공부하기')\n",
        "        \n",
        "james = Undergraduate()\n",
        "james.greeting()       # 안녕하세요.: 기반 클래스 Person이 메서드 호출\n",
        "james.manage_credit()  # 학점 관리: 기반 클래스 University의 메서드 호출\n",
        "james.study()          # 공부하기: 파생 클래스 Undergradutate에 추가한 study 메서드"
      ]
    },
    {
      "cell_type": "markdown",
      "id": "a282cff2",
      "metadata": {
        "id": "a282cff2"
      },
      "source": [
        "#### 다이아몬드 상속"
      ]
    },
    {
      "cell_type": "code",
      "execution_count": null,
      "id": "9aac135b",
      "metadata": {
        "id": "9aac135b"
      },
      "outputs": [],
      "source": [
        "class A:\n",
        "    def greeting(self):\n",
        "        print('안녕하세요, A입니다.')\n",
        "    \n",
        "class B(A):\n",
        "    def greeting(self):\n",
        "        print('안녕하세요, B입니다.')\n",
        "        \n",
        "class C(A):\n",
        "    def greeting(self):\n",
        "        print('안녕하세요, C입니다.')\n",
        "        \n",
        "class D(B,C):\n",
        "    pass\n",
        "\n",
        "x=D()\n",
        "x.greeting()"
      ]
    },
    {
      "cell_type": "markdown",
      "id": "f1aa4136",
      "metadata": {
        "id": "f1aa4136"
      },
      "source": [
        "### 추상 클래스 사용하기\n",
        "\n",
        "* 추상 클래스는 메서드의 목록만 가진 클래스이며 상속받는 클래스에서 메서드 구현을 강제한다.\n",
        "* 메서드를 만들 때 위에 @abstractmethod를 붙여서 추상 메서드로 지정한다.\n",
        "    - from abc import *\\\n",
        "    class 추상클래스이름(metaclass=ABCMeta):\\\n",
        "    def 메서드이름(self):\\\n",
        "    코드"
      ]
    },
    {
      "cell_type": "code",
      "execution_count": 26,
      "id": "71de688d",
      "metadata": {
        "id": "71de688d",
        "colab": {
          "base_uri": "https://localhost:8080/",
          "height": 227
        },
        "outputId": "a9e7e348-4f32-4d5d-e1cd-6321c8be12bf"
      },
      "outputs": [
        {
          "output_type": "error",
          "ename": "TypeError",
          "evalue": "ignored",
          "traceback": [
            "\u001b[0;31m---------------------------------------------------------------------------\u001b[0m",
            "\u001b[0;31mTypeError\u001b[0m                                 Traceback (most recent call last)",
            "\u001b[0;32m<ipython-input-26-590c4c4b1766>\u001b[0m in \u001b[0;36m<module>\u001b[0;34m\u001b[0m\n\u001b[1;32m     14\u001b[0m         \u001b[0mprint\u001b[0m\u001b[0;34m(\u001b[0m\u001b[0;34m'공부하기'\u001b[0m\u001b[0;34m)\u001b[0m\u001b[0;34m\u001b[0m\u001b[0;34m\u001b[0m\u001b[0m\n\u001b[1;32m     15\u001b[0m \u001b[0;34m\u001b[0m\u001b[0m\n\u001b[0;32m---> 16\u001b[0;31m \u001b[0mjames\u001b[0m \u001b[0;34m=\u001b[0m \u001b[0mStudent\u001b[0m\u001b[0;34m(\u001b[0m\u001b[0;34m)\u001b[0m\u001b[0;34m\u001b[0m\u001b[0;34m\u001b[0m\u001b[0m\n\u001b[0m\u001b[1;32m     17\u001b[0m \u001b[0mjames\u001b[0m\u001b[0;34m.\u001b[0m\u001b[0mstudy\u001b[0m\u001b[0;34m(\u001b[0m\u001b[0;34m)\u001b[0m\u001b[0;34m\u001b[0m\u001b[0;34m\u001b[0m\u001b[0m\n",
            "\u001b[0;31mTypeError\u001b[0m: Can't instantiate abstract class Student with abstract methods go_to_school"
          ]
        }
      ],
      "source": [
        "from abc import *\n",
        "\n",
        "class StudentBase(metaclass=ABCMeta):\n",
        "    @abstractmethod\n",
        "    def study(self):\n",
        "        pass\n",
        "    \n",
        "    @abstractmethod\n",
        "    def go_to_school(self):\n",
        "        pass\n",
        "    \n",
        "class Student(StudentBase):\n",
        "    def study(self):\n",
        "        print('공부하기')\n",
        "        \n",
        "james = Student()\n",
        "james.study()"
      ]
    },
    {
      "cell_type": "code",
      "execution_count": 27,
      "id": "9941af34",
      "metadata": {
        "id": "9941af34"
      },
      "outputs": [],
      "source": [
        "## 시험용 "
      ]
    },
    {
      "cell_type": "markdown",
      "source": [],
      "metadata": {
        "id": "F6dbqkEktkae"
      },
      "id": "F6dbqkEktkae"
    },
    {
      "cell_type": "code",
      "source": [],
      "metadata": {
        "id": "AkgWkz6Ktnl-"
      },
      "id": "AkgWkz6Ktnl-",
      "execution_count": null,
      "outputs": []
    }
  ],
  "metadata": {
    "kernelspec": {
      "display_name": "Python 3 (ipykernel)",
      "language": "python",
      "name": "python3"
    },
    "language_info": {
      "codemirror_mode": {
        "name": "ipython",
        "version": 3
      },
      "file_extension": ".py",
      "mimetype": "text/x-python",
      "name": "python",
      "nbconvert_exporter": "python",
      "pygments_lexer": "ipython3",
      "version": "3.9.12"
    },
    "toc": {
      "base_numbering": 1,
      "nav_menu": {},
      "number_sections": true,
      "sideBar": true,
      "skip_h1_title": false,
      "title_cell": "Table of Contents",
      "title_sidebar": "Contents",
      "toc_cell": false,
      "toc_position": {
        "height": "calc(100% - 180px)",
        "left": "10px",
        "top": "150px",
        "width": "192px"
      },
      "toc_section_display": true,
      "toc_window_display": true
    },
    "colab": {
      "provenance": [],
      "collapsed_sections": [
        "ab145c80",
        "f5892a86",
        "8f389c1e",
        "985b418f",
        "074c1268",
        "0b575929",
        "6735952c",
        "e301bfa4",
        "a9580a69",
        "1e664c59",
        "aa4cedce",
        "5b80379b",
        "35458482",
        "45e06956",
        "de5f8194",
        "9a5ed794",
        "5f9d1ebd",
        "3b8e5b5b",
        "d3342138",
        "eb7d9974",
        "24f58841",
        "0fc1930b",
        "bbee1191",
        "aca3442e",
        "6cb0a18c",
        "c5978f91",
        "b15d885b",
        "dec917cc",
        "43c766fc",
        "9df4f37e",
        "a6db5d29",
        "f9f6f66a",
        "a6c96ac2",
        "33fd7b83",
        "fde851ae",
        "8e9aac23",
        "c73cb65c",
        "a6b7e717",
        "2d9e94c1",
        "be7c38d7",
        "d97d2342",
        "5bb0dc45",
        "20eeba85",
        "0f8e3caf",
        "2092895d",
        "94208985",
        "ed2b6701",
        "5594d298",
        "67f408a6",
        "53afe3b5",
        "0bc9730d",
        "f2ffaffb",
        "c61b2386",
        "44904f8b",
        "73132a50",
        "3338db5d",
        "27bbce99",
        "68f439b2",
        "a49d7b6b",
        "849db542",
        "d7d274bb",
        "52e71ed7",
        "702d73e9",
        "44eb3faf",
        "02fe2805",
        "b65c9717",
        "3cf6a48a",
        "81bc4f3e",
        "bd110762",
        "ce32c5c3",
        "68d96be5",
        "1a34d7ce",
        "b46f4fe3",
        "d8ecd69b",
        "ed533477",
        "40e46aa4",
        "e03a2bf6",
        "ae846a83",
        "8e33cfdb",
        "65653c5f",
        "dc296573",
        "99b07dd5",
        "51ab64c0",
        "0cc6dd9c",
        "565dffa3",
        "207be3ac",
        "06fde0a0",
        "6bcbc4a5",
        "63d349c0",
        "e23a8006",
        "997bd405",
        "34b28e50",
        "950fa102",
        "531979a8",
        "c5849bd4",
        "d292e5b7",
        "dd682476",
        "a5ea1ebe",
        "d38f765b",
        "cdb09339",
        "1fc1ed50",
        "5e2b189c",
        "79e02790",
        "0dcd1415",
        "839d7d69",
        "1ad6e231",
        "5c402173",
        "94a32057",
        "d2c24982",
        "77281aaa",
        "c0b20846",
        "d12adf9b",
        "b7b38205",
        "447a0d2e",
        "6018cc3f",
        "6a78cdfc",
        "69311079",
        "1bf97ea4",
        "18bd78ed",
        "14320fae",
        "0723c71e",
        "7f4de387",
        "18409aba",
        "1b4c2760",
        "b505b8da",
        "451d937c",
        "02d131e3",
        "e3ee1ade",
        "3370aa75",
        "aaed6d5b",
        "1c1b8723",
        "6b8b269c",
        "4954a495",
        "6be3d137",
        "282f3092",
        "5b0ff957",
        "6074677d",
        "918a428e",
        "57b4a99e",
        "bba33200",
        "e9f3f1af",
        "6c7e5df7",
        "0405761c",
        "6f9af5a7",
        "30408137",
        "70614129",
        "8be82bb2",
        "689b7d88",
        "8eacfa6c",
        "90f962bf",
        "6c76dd54",
        "aec267cd",
        "71873ff8",
        "3102dedd",
        "12973707",
        "d5ec4b1c",
        "704715fc",
        "6d254f35",
        "c708fe8f",
        "cb38bc77",
        "319b9810",
        "1f85dc7b",
        "dad7bb2d",
        "d82cea12",
        "b384dc5c",
        "9930c4e9",
        "a6094fd8",
        "f29e05b7",
        "ce3ebc18",
        "ce44e516",
        "ff77afc1",
        "9e993cc1",
        "2b324904",
        "042375cf",
        "a057d8f8",
        "57dcac9b",
        "9fd7e0a2",
        "ac0b3b9a",
        "9fb00a1d",
        "264e1c44",
        "a62974cd",
        "ba904475",
        "a83e9700",
        "6d486106",
        "2d239b28",
        "37fb751e",
        "4c70f584",
        "9a8a2cdc",
        "796912b6",
        "aad2ea3d",
        "26e321b1",
        "ebdd1fbb",
        "9a85836b",
        "bbdc9c26",
        "5836d303",
        "d27326fc",
        "9588a3ce",
        "21783d30",
        "8476d17a",
        "3f39ea15",
        "b14e7f53",
        "8d4fd0db",
        "a60f6f91",
        "689319d2",
        "a03069e4",
        "605e3cca",
        "0597dee3",
        "21cab7cb",
        "872dca26",
        "2f399937",
        "20277e2c",
        "014bc067",
        "c034cf99",
        "985c9dd7",
        "ab8a65a1",
        "8de83529",
        "6e7482fb",
        "dbb9dbd5",
        "99161e89",
        "69623351",
        "c867ff05",
        "6ed1f4e1",
        "499e7766",
        "10d148d1",
        "7b7d9b0c",
        "527155d5",
        "6f4a767f",
        "a6f668fc",
        "f74f75ad",
        "08571498",
        "14ebb0a8",
        "1e2afced",
        "50020e95",
        "977fe101",
        "a914f1f9",
        "b7cbb1ae",
        "06cc1184",
        "1c3390fe",
        "249e7efd",
        "be2cd93b",
        "2716a0ed",
        "4e2e90c3",
        "68d25541",
        "c95d4270",
        "f7a7e5f0",
        "057f8330",
        "816e5cc4",
        "47f658fa",
        "de2bc08b",
        "657aaae7",
        "b773cb5f",
        "2b5f0647",
        "51042614",
        "ec2e6a9e",
        "87196e25",
        "3376eb14",
        "dc1077d5",
        "9e0e4a53",
        "17a46bfc",
        "f3b557c7",
        "683a63e7",
        "a282cff2"
      ],
      "include_colab_link": true
    },
    "accelerator": "GPU",
    "gpuClass": "standard"
  },
  "nbformat": 4,
  "nbformat_minor": 5
}