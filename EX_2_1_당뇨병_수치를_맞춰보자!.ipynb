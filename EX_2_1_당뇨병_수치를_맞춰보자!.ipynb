{
  "nbformat": 4,
  "nbformat_minor": 0,
  "metadata": {
    "colab": {
      "provenance": [],
      "collapsed_sections": [],
      "authorship_tag": "ABX9TyPARAm+stQq0ZaVBDxgAxan",
      "include_colab_link": true
    },
    "kernelspec": {
      "name": "python3",
      "display_name": "Python 3"
    },
    "language_info": {
      "name": "python"
    }
  },
  "cells": [
    {
      "cell_type": "markdown",
      "metadata": {
        "id": "view-in-github",
        "colab_type": "text"
      },
      "source": [
        "<a href=\"https://colab.research.google.com/github/Deok-Hun/Aiffel_Kun/blob/master/EX_2_1_%EB%8B%B9%EB%87%A8%EB%B3%91_%EC%88%98%EC%B9%98%EB%A5%BC_%EB%A7%9E%EC%B6%B0%EB%B3%B4%EC%9E%90!.ipynb\" target=\"_parent\"><img src=\"https://colab.research.google.com/assets/colab-badge.svg\" alt=\"Open In Colab\"/></a>"
      ]
    },
    {
      "cell_type": "code",
      "execution_count": 1,
      "metadata": {
        "colab": {
          "base_uri": "https://localhost:8080/"
        },
        "id": "rI7r1h0m4unO",
        "outputId": "c62cb097-0ed7-4dee-e6ec-8917d88c45df"
      },
      "outputs": [
        {
          "output_type": "stream",
          "name": "stdout",
          "text": [
            "Drive already mounted at /content/drive; to attempt to forcibly remount, call drive.mount(\"/content/drive\", force_remount=True).\n"
          ]
        }
      ],
      "source": [
        "from google.colab import drive\n",
        "drive.mount('/content/drive')"
      ]
    },
    {
      "cell_type": "markdown",
      "source": [
        "# 데이터 가져오기"
      ],
      "metadata": {
        "id": "JWY3TL3QCaQ8"
      }
    },
    {
      "cell_type": "code",
      "source": [
        "from sklearn.datasets import load_diabetes"
      ],
      "metadata": {
        "id": "P__5GU4-5Ix6"
      },
      "execution_count": 2,
      "outputs": []
    },
    {
      "cell_type": "code",
      "source": [
        "dia=load_diabetes()\n",
        "print(dir(dia))"
      ],
      "metadata": {
        "colab": {
          "base_uri": "https://localhost:8080/"
        },
        "id": "GZJztpbi4zHK",
        "outputId": "05eb656f-b5c1-44f5-c939-578ff9772b6c"
      },
      "execution_count": 3,
      "outputs": [
        {
          "output_type": "stream",
          "name": "stdout",
          "text": [
            "['DESCR', 'data', 'data_filename', 'data_module', 'feature_names', 'frame', 'target', 'target_filename']\n"
          ]
        }
      ]
    },
    {
      "cell_type": "markdown",
      "source": [
        "# 모델에 입력할 데이터 X,y  준비하기"
      ],
      "metadata": {
        "id": "8pyO7SmiCdhR"
      }
    },
    {
      "cell_type": "code",
      "source": [
        "df_X=dia.data\n",
        "df_y=dia.target\n",
        "\n",
        "print(df_X.shape, df_y.shape)"
      ],
      "metadata": {
        "colab": {
          "base_uri": "https://localhost:8080/"
        },
        "id": "RpWU3_515bPh",
        "outputId": "59b928d4-bba7-45c6-ac08-76c73561999f"
      },
      "execution_count": 6,
      "outputs": [
        {
          "output_type": "stream",
          "name": "stdout",
          "text": [
            "(442, 10) (442,)\n"
          ]
        }
      ]
    },
    {
      "cell_type": "code",
      "source": [
        "type(df_X)"
      ],
      "metadata": {
        "colab": {
          "base_uri": "https://localhost:8080/"
        },
        "id": "LutLjiu2yhwq",
        "outputId": "bb759f54-009f-4015-8e0f-bd37cae26cb7"
      },
      "execution_count": 7,
      "outputs": [
        {
          "output_type": "execute_result",
          "data": {
            "text/plain": [
              "numpy.ndarray"
            ]
          },
          "metadata": {},
          "execution_count": 7
        }
      ]
    },
    {
      "cell_type": "code",
      "source": [
        "import pandas as pd\n",
        "dia_df=pd.DataFrame(data=df_X,columns=dia.feature_names)\n",
        "dia_df"
      ],
      "metadata": {
        "colab": {
          "base_uri": "https://localhost:8080/",
          "height": 424
        },
        "id": "WBoMzq7QBNPe",
        "outputId": "2e02b968-b5f7-4ea3-e746-183679c405b4"
      },
      "execution_count": 8,
      "outputs": [
        {
          "output_type": "execute_result",
          "data": {
            "text/plain": [
              "          age       sex       bmi        bp        s1        s2        s3  \\\n",
              "0    0.038076  0.050680  0.061696  0.021872 -0.044223 -0.034821 -0.043401   \n",
              "1   -0.001882 -0.044642 -0.051474 -0.026328 -0.008449 -0.019163  0.074412   \n",
              "2    0.085299  0.050680  0.044451 -0.005671 -0.045599 -0.034194 -0.032356   \n",
              "3   -0.089063 -0.044642 -0.011595 -0.036656  0.012191  0.024991 -0.036038   \n",
              "4    0.005383 -0.044642 -0.036385  0.021872  0.003935  0.015596  0.008142   \n",
              "..        ...       ...       ...       ...       ...       ...       ...   \n",
              "437  0.041708  0.050680  0.019662  0.059744 -0.005697 -0.002566 -0.028674   \n",
              "438 -0.005515  0.050680 -0.015906 -0.067642  0.049341  0.079165 -0.028674   \n",
              "439  0.041708  0.050680 -0.015906  0.017282 -0.037344 -0.013840 -0.024993   \n",
              "440 -0.045472 -0.044642  0.039062  0.001215  0.016318  0.015283 -0.028674   \n",
              "441 -0.045472 -0.044642 -0.073030 -0.081414  0.083740  0.027809  0.173816   \n",
              "\n",
              "           s4        s5        s6  \n",
              "0   -0.002592  0.019908 -0.017646  \n",
              "1   -0.039493 -0.068330 -0.092204  \n",
              "2   -0.002592  0.002864 -0.025930  \n",
              "3    0.034309  0.022692 -0.009362  \n",
              "4   -0.002592 -0.031991 -0.046641  \n",
              "..        ...       ...       ...  \n",
              "437 -0.002592  0.031193  0.007207  \n",
              "438  0.034309 -0.018118  0.044485  \n",
              "439 -0.011080 -0.046879  0.015491  \n",
              "440  0.026560  0.044528 -0.025930  \n",
              "441 -0.039493 -0.004220  0.003064  \n",
              "\n",
              "[442 rows x 10 columns]"
            ],
            "text/html": [
              "\n",
              "  <div id=\"df-b2ca047c-8713-4adb-9326-76c3939afc0a\">\n",
              "    <div class=\"colab-df-container\">\n",
              "      <div>\n",
              "<style scoped>\n",
              "    .dataframe tbody tr th:only-of-type {\n",
              "        vertical-align: middle;\n",
              "    }\n",
              "\n",
              "    .dataframe tbody tr th {\n",
              "        vertical-align: top;\n",
              "    }\n",
              "\n",
              "    .dataframe thead th {\n",
              "        text-align: right;\n",
              "    }\n",
              "</style>\n",
              "<table border=\"1\" class=\"dataframe\">\n",
              "  <thead>\n",
              "    <tr style=\"text-align: right;\">\n",
              "      <th></th>\n",
              "      <th>age</th>\n",
              "      <th>sex</th>\n",
              "      <th>bmi</th>\n",
              "      <th>bp</th>\n",
              "      <th>s1</th>\n",
              "      <th>s2</th>\n",
              "      <th>s3</th>\n",
              "      <th>s4</th>\n",
              "      <th>s5</th>\n",
              "      <th>s6</th>\n",
              "    </tr>\n",
              "  </thead>\n",
              "  <tbody>\n",
              "    <tr>\n",
              "      <th>0</th>\n",
              "      <td>0.038076</td>\n",
              "      <td>0.050680</td>\n",
              "      <td>0.061696</td>\n",
              "      <td>0.021872</td>\n",
              "      <td>-0.044223</td>\n",
              "      <td>-0.034821</td>\n",
              "      <td>-0.043401</td>\n",
              "      <td>-0.002592</td>\n",
              "      <td>0.019908</td>\n",
              "      <td>-0.017646</td>\n",
              "    </tr>\n",
              "    <tr>\n",
              "      <th>1</th>\n",
              "      <td>-0.001882</td>\n",
              "      <td>-0.044642</td>\n",
              "      <td>-0.051474</td>\n",
              "      <td>-0.026328</td>\n",
              "      <td>-0.008449</td>\n",
              "      <td>-0.019163</td>\n",
              "      <td>0.074412</td>\n",
              "      <td>-0.039493</td>\n",
              "      <td>-0.068330</td>\n",
              "      <td>-0.092204</td>\n",
              "    </tr>\n",
              "    <tr>\n",
              "      <th>2</th>\n",
              "      <td>0.085299</td>\n",
              "      <td>0.050680</td>\n",
              "      <td>0.044451</td>\n",
              "      <td>-0.005671</td>\n",
              "      <td>-0.045599</td>\n",
              "      <td>-0.034194</td>\n",
              "      <td>-0.032356</td>\n",
              "      <td>-0.002592</td>\n",
              "      <td>0.002864</td>\n",
              "      <td>-0.025930</td>\n",
              "    </tr>\n",
              "    <tr>\n",
              "      <th>3</th>\n",
              "      <td>-0.089063</td>\n",
              "      <td>-0.044642</td>\n",
              "      <td>-0.011595</td>\n",
              "      <td>-0.036656</td>\n",
              "      <td>0.012191</td>\n",
              "      <td>0.024991</td>\n",
              "      <td>-0.036038</td>\n",
              "      <td>0.034309</td>\n",
              "      <td>0.022692</td>\n",
              "      <td>-0.009362</td>\n",
              "    </tr>\n",
              "    <tr>\n",
              "      <th>4</th>\n",
              "      <td>0.005383</td>\n",
              "      <td>-0.044642</td>\n",
              "      <td>-0.036385</td>\n",
              "      <td>0.021872</td>\n",
              "      <td>0.003935</td>\n",
              "      <td>0.015596</td>\n",
              "      <td>0.008142</td>\n",
              "      <td>-0.002592</td>\n",
              "      <td>-0.031991</td>\n",
              "      <td>-0.046641</td>\n",
              "    </tr>\n",
              "    <tr>\n",
              "      <th>...</th>\n",
              "      <td>...</td>\n",
              "      <td>...</td>\n",
              "      <td>...</td>\n",
              "      <td>...</td>\n",
              "      <td>...</td>\n",
              "      <td>...</td>\n",
              "      <td>...</td>\n",
              "      <td>...</td>\n",
              "      <td>...</td>\n",
              "      <td>...</td>\n",
              "    </tr>\n",
              "    <tr>\n",
              "      <th>437</th>\n",
              "      <td>0.041708</td>\n",
              "      <td>0.050680</td>\n",
              "      <td>0.019662</td>\n",
              "      <td>0.059744</td>\n",
              "      <td>-0.005697</td>\n",
              "      <td>-0.002566</td>\n",
              "      <td>-0.028674</td>\n",
              "      <td>-0.002592</td>\n",
              "      <td>0.031193</td>\n",
              "      <td>0.007207</td>\n",
              "    </tr>\n",
              "    <tr>\n",
              "      <th>438</th>\n",
              "      <td>-0.005515</td>\n",
              "      <td>0.050680</td>\n",
              "      <td>-0.015906</td>\n",
              "      <td>-0.067642</td>\n",
              "      <td>0.049341</td>\n",
              "      <td>0.079165</td>\n",
              "      <td>-0.028674</td>\n",
              "      <td>0.034309</td>\n",
              "      <td>-0.018118</td>\n",
              "      <td>0.044485</td>\n",
              "    </tr>\n",
              "    <tr>\n",
              "      <th>439</th>\n",
              "      <td>0.041708</td>\n",
              "      <td>0.050680</td>\n",
              "      <td>-0.015906</td>\n",
              "      <td>0.017282</td>\n",
              "      <td>-0.037344</td>\n",
              "      <td>-0.013840</td>\n",
              "      <td>-0.024993</td>\n",
              "      <td>-0.011080</td>\n",
              "      <td>-0.046879</td>\n",
              "      <td>0.015491</td>\n",
              "    </tr>\n",
              "    <tr>\n",
              "      <th>440</th>\n",
              "      <td>-0.045472</td>\n",
              "      <td>-0.044642</td>\n",
              "      <td>0.039062</td>\n",
              "      <td>0.001215</td>\n",
              "      <td>0.016318</td>\n",
              "      <td>0.015283</td>\n",
              "      <td>-0.028674</td>\n",
              "      <td>0.026560</td>\n",
              "      <td>0.044528</td>\n",
              "      <td>-0.025930</td>\n",
              "    </tr>\n",
              "    <tr>\n",
              "      <th>441</th>\n",
              "      <td>-0.045472</td>\n",
              "      <td>-0.044642</td>\n",
              "      <td>-0.073030</td>\n",
              "      <td>-0.081414</td>\n",
              "      <td>0.083740</td>\n",
              "      <td>0.027809</td>\n",
              "      <td>0.173816</td>\n",
              "      <td>-0.039493</td>\n",
              "      <td>-0.004220</td>\n",
              "      <td>0.003064</td>\n",
              "    </tr>\n",
              "  </tbody>\n",
              "</table>\n",
              "<p>442 rows × 10 columns</p>\n",
              "</div>\n",
              "      <button class=\"colab-df-convert\" onclick=\"convertToInteractive('df-b2ca047c-8713-4adb-9326-76c3939afc0a')\"\n",
              "              title=\"Convert this dataframe to an interactive table.\"\n",
              "              style=\"display:none;\">\n",
              "        \n",
              "  <svg xmlns=\"http://www.w3.org/2000/svg\" height=\"24px\"viewBox=\"0 0 24 24\"\n",
              "       width=\"24px\">\n",
              "    <path d=\"M0 0h24v24H0V0z\" fill=\"none\"/>\n",
              "    <path d=\"M18.56 5.44l.94 2.06.94-2.06 2.06-.94-2.06-.94-.94-2.06-.94 2.06-2.06.94zm-11 1L8.5 8.5l.94-2.06 2.06-.94-2.06-.94L8.5 2.5l-.94 2.06-2.06.94zm10 10l.94 2.06.94-2.06 2.06-.94-2.06-.94-.94-2.06-.94 2.06-2.06.94z\"/><path d=\"M17.41 7.96l-1.37-1.37c-.4-.4-.92-.59-1.43-.59-.52 0-1.04.2-1.43.59L10.3 9.45l-7.72 7.72c-.78.78-.78 2.05 0 2.83L4 21.41c.39.39.9.59 1.41.59.51 0 1.02-.2 1.41-.59l7.78-7.78 2.81-2.81c.8-.78.8-2.07 0-2.86zM5.41 20L4 18.59l7.72-7.72 1.47 1.35L5.41 20z\"/>\n",
              "  </svg>\n",
              "      </button>\n",
              "      \n",
              "  <style>\n",
              "    .colab-df-container {\n",
              "      display:flex;\n",
              "      flex-wrap:wrap;\n",
              "      gap: 12px;\n",
              "    }\n",
              "\n",
              "    .colab-df-convert {\n",
              "      background-color: #E8F0FE;\n",
              "      border: none;\n",
              "      border-radius: 50%;\n",
              "      cursor: pointer;\n",
              "      display: none;\n",
              "      fill: #1967D2;\n",
              "      height: 32px;\n",
              "      padding: 0 0 0 0;\n",
              "      width: 32px;\n",
              "    }\n",
              "\n",
              "    .colab-df-convert:hover {\n",
              "      background-color: #E2EBFA;\n",
              "      box-shadow: 0px 1px 2px rgba(60, 64, 67, 0.3), 0px 1px 3px 1px rgba(60, 64, 67, 0.15);\n",
              "      fill: #174EA6;\n",
              "    }\n",
              "\n",
              "    [theme=dark] .colab-df-convert {\n",
              "      background-color: #3B4455;\n",
              "      fill: #D2E3FC;\n",
              "    }\n",
              "\n",
              "    [theme=dark] .colab-df-convert:hover {\n",
              "      background-color: #434B5C;\n",
              "      box-shadow: 0px 1px 3px 1px rgba(0, 0, 0, 0.15);\n",
              "      filter: drop-shadow(0px 1px 2px rgba(0, 0, 0, 0.3));\n",
              "      fill: #FFFFFF;\n",
              "    }\n",
              "  </style>\n",
              "\n",
              "      <script>\n",
              "        const buttonEl =\n",
              "          document.querySelector('#df-b2ca047c-8713-4adb-9326-76c3939afc0a button.colab-df-convert');\n",
              "        buttonEl.style.display =\n",
              "          google.colab.kernel.accessAllowed ? 'block' : 'none';\n",
              "\n",
              "        async function convertToInteractive(key) {\n",
              "          const element = document.querySelector('#df-b2ca047c-8713-4adb-9326-76c3939afc0a');\n",
              "          const dataTable =\n",
              "            await google.colab.kernel.invokeFunction('convertToInteractive',\n",
              "                                                     [key], {});\n",
              "          if (!dataTable) return;\n",
              "\n",
              "          const docLinkHtml = 'Like what you see? Visit the ' +\n",
              "            '<a target=\"_blank\" href=https://colab.research.google.com/notebooks/data_table.ipynb>data table notebook</a>'\n",
              "            + ' to learn more about interactive tables.';\n",
              "          element.innerHTML = '';\n",
              "          dataTable['output_type'] = 'display_data';\n",
              "          await google.colab.output.renderOutput(dataTable, element);\n",
              "          const docLink = document.createElement('div');\n",
              "          docLink.innerHTML = docLinkHtml;\n",
              "          element.appendChild(docLink);\n",
              "        }\n",
              "      </script>\n",
              "    </div>\n",
              "  </div>\n",
              "  "
            ]
          },
          "metadata": {},
          "execution_count": 8
        }
      ]
    },
    {
      "cell_type": "code",
      "source": [
        "df_X"
      ],
      "metadata": {
        "colab": {
          "base_uri": "https://localhost:8080/"
        },
        "id": "C9pHveL75rSB",
        "outputId": "7f78c59a-6a53-460d-893d-1b92a724c97a"
      },
      "execution_count": 9,
      "outputs": [
        {
          "output_type": "execute_result",
          "data": {
            "text/plain": [
              "array([[ 0.03807591,  0.05068012,  0.06169621, ..., -0.00259226,\n",
              "         0.01990842, -0.01764613],\n",
              "       [-0.00188202, -0.04464164, -0.05147406, ..., -0.03949338,\n",
              "        -0.06832974, -0.09220405],\n",
              "       [ 0.08529891,  0.05068012,  0.04445121, ..., -0.00259226,\n",
              "         0.00286377, -0.02593034],\n",
              "       ...,\n",
              "       [ 0.04170844,  0.05068012, -0.01590626, ..., -0.01107952,\n",
              "        -0.04687948,  0.01549073],\n",
              "       [-0.04547248, -0.04464164,  0.03906215, ...,  0.02655962,\n",
              "         0.04452837, -0.02593034],\n",
              "       [-0.04547248, -0.04464164, -0.0730303 , ..., -0.03949338,\n",
              "        -0.00421986,  0.00306441]])"
            ]
          },
          "metadata": {},
          "execution_count": 9
        }
      ]
    },
    {
      "cell_type": "code",
      "source": [
        "df_X.ndim"
      ],
      "metadata": {
        "colab": {
          "base_uri": "https://localhost:8080/"
        },
        "id": "y6ggXa0wiB7U",
        "outputId": "f9775d0f-14d1-46a0-fc8d-9ed69d590a63"
      },
      "execution_count": 10,
      "outputs": [
        {
          "output_type": "execute_result",
          "data": {
            "text/plain": [
              "2"
            ]
          },
          "metadata": {},
          "execution_count": 10
        }
      ]
    },
    {
      "cell_type": "code",
      "source": [
        "df_y"
      ],
      "metadata": {
        "colab": {
          "base_uri": "https://localhost:8080/"
        },
        "id": "RLBZglUeBxAx",
        "outputId": "06882c1e-86e5-4c97-e65a-2dbe82af839b"
      },
      "execution_count": 11,
      "outputs": [
        {
          "output_type": "execute_result",
          "data": {
            "text/plain": [
              "array([151.,  75., 141., 206., 135.,  97., 138.,  63., 110., 310., 101.,\n",
              "        69., 179., 185., 118., 171., 166., 144.,  97., 168.,  68.,  49.,\n",
              "        68., 245., 184., 202., 137.,  85., 131., 283., 129.,  59., 341.,\n",
              "        87.,  65., 102., 265., 276., 252.,  90., 100.,  55.,  61.,  92.,\n",
              "       259.,  53., 190., 142.,  75., 142., 155., 225.,  59., 104., 182.,\n",
              "       128.,  52.,  37., 170., 170.,  61., 144.,  52., 128.,  71., 163.,\n",
              "       150.,  97., 160., 178.,  48., 270., 202., 111.,  85.,  42., 170.,\n",
              "       200., 252., 113., 143.,  51.,  52., 210.,  65., 141.,  55., 134.,\n",
              "        42., 111.,  98., 164.,  48.,  96.,  90., 162., 150., 279.,  92.,\n",
              "        83., 128., 102., 302., 198.,  95.,  53., 134., 144., 232.,  81.,\n",
              "       104.,  59., 246., 297., 258., 229., 275., 281., 179., 200., 200.,\n",
              "       173., 180.,  84., 121., 161.,  99., 109., 115., 268., 274., 158.,\n",
              "       107.,  83., 103., 272.,  85., 280., 336., 281., 118., 317., 235.,\n",
              "        60., 174., 259., 178., 128.,  96., 126., 288.,  88., 292.,  71.,\n",
              "       197., 186.,  25.,  84.,  96., 195.,  53., 217., 172., 131., 214.,\n",
              "        59.,  70., 220., 268., 152.,  47.,  74., 295., 101., 151., 127.,\n",
              "       237., 225.,  81., 151., 107.,  64., 138., 185., 265., 101., 137.,\n",
              "       143., 141.,  79., 292., 178.,  91., 116.,  86., 122.,  72., 129.,\n",
              "       142.,  90., 158.,  39., 196., 222., 277.,  99., 196., 202., 155.,\n",
              "        77., 191.,  70.,  73.,  49.,  65., 263., 248., 296., 214., 185.,\n",
              "        78.,  93., 252., 150.,  77., 208.,  77., 108., 160.,  53., 220.,\n",
              "       154., 259.,  90., 246., 124.,  67.,  72., 257., 262., 275., 177.,\n",
              "        71.,  47., 187., 125.,  78.,  51., 258., 215., 303., 243.,  91.,\n",
              "       150., 310., 153., 346.,  63.,  89.,  50.,  39., 103., 308., 116.,\n",
              "       145.,  74.,  45., 115., 264.,  87., 202., 127., 182., 241.,  66.,\n",
              "        94., 283.,  64., 102., 200., 265.,  94., 230., 181., 156., 233.,\n",
              "        60., 219.,  80.,  68., 332., 248.,  84., 200.,  55.,  85.,  89.,\n",
              "        31., 129.,  83., 275.,  65., 198., 236., 253., 124.,  44., 172.,\n",
              "       114., 142., 109., 180., 144., 163., 147.,  97., 220., 190., 109.,\n",
              "       191., 122., 230., 242., 248., 249., 192., 131., 237.,  78., 135.,\n",
              "       244., 199., 270., 164.,  72.,  96., 306.,  91., 214.,  95., 216.,\n",
              "       263., 178., 113., 200., 139., 139.,  88., 148.,  88., 243.,  71.,\n",
              "        77., 109., 272.,  60.,  54., 221.,  90., 311., 281., 182., 321.,\n",
              "        58., 262., 206., 233., 242., 123., 167.,  63., 197.,  71., 168.,\n",
              "       140., 217., 121., 235., 245.,  40.,  52., 104., 132.,  88.,  69.,\n",
              "       219.,  72., 201., 110.,  51., 277.,  63., 118.,  69., 273., 258.,\n",
              "        43., 198., 242., 232., 175.,  93., 168., 275., 293., 281.,  72.,\n",
              "       140., 189., 181., 209., 136., 261., 113., 131., 174., 257.,  55.,\n",
              "        84.,  42., 146., 212., 233.,  91., 111., 152., 120.,  67., 310.,\n",
              "        94., 183.,  66., 173.,  72.,  49.,  64.,  48., 178., 104., 132.,\n",
              "       220.,  57.])"
            ]
          },
          "metadata": {},
          "execution_count": 11
        }
      ]
    },
    {
      "cell_type": "code",
      "source": [
        "dia.feature_names"
      ],
      "metadata": {
        "colab": {
          "base_uri": "https://localhost:8080/"
        },
        "id": "xKV2pHOw6qdh",
        "outputId": "98d2f952-6806-4f52-b073-5984e5fb5a9a"
      },
      "execution_count": 12,
      "outputs": [
        {
          "output_type": "execute_result",
          "data": {
            "text/plain": [
              "['age', 'sex', 'bmi', 'bp', 's1', 's2', 's3', 's4', 's5', 's6']"
            ]
          },
          "metadata": {},
          "execution_count": 12
        }
      ]
    },
    {
      "cell_type": "code",
      "source": [
        "import numpy as np\n",
        "df_X=np.array(dia.data)"
      ],
      "metadata": {
        "id": "FvxP8DLJ5zLp"
      },
      "execution_count": 13,
      "outputs": []
    },
    {
      "cell_type": "code",
      "source": [
        "type(df_X)"
      ],
      "metadata": {
        "colab": {
          "base_uri": "https://localhost:8080/"
        },
        "id": "h503BodH7bp4",
        "outputId": "ae7fda27-e14f-43eb-b6a5-ba76f3e2597d"
      },
      "execution_count": 14,
      "outputs": [
        {
          "output_type": "execute_result",
          "data": {
            "text/plain": [
              "numpy.ndarray"
            ]
          },
          "metadata": {},
          "execution_count": 14
        }
      ]
    },
    {
      "cell_type": "code",
      "source": [
        "type(df_y)"
      ],
      "metadata": {
        "colab": {
          "base_uri": "https://localhost:8080/"
        },
        "id": "p7CkCgrZ7ooB",
        "outputId": "c9f76e5d-3c1a-4749-9615-c092b32f457d"
      },
      "execution_count": 15,
      "outputs": [
        {
          "output_type": "execute_result",
          "data": {
            "text/plain": [
              "numpy.ndarray"
            ]
          },
          "metadata": {},
          "execution_count": 15
        }
      ]
    },
    {
      "cell_type": "markdown",
      "source": [
        "# train 데이터와 test 데이터로 분리하기"
      ],
      "metadata": {
        "id": "7cLOK9lIChnD"
      }
    },
    {
      "cell_type": "code",
      "source": [
        "from sklearn.model_selection import train_test_split\n",
        "\n",
        "X_train, X_test, y_train, y_test = train_test_split(df_X,df_y,test_size=0.2,random_state=43)\n",
        "\n",
        "print(X_train.shape,y_train.shape)\n",
        "print(X_test.shape,y_test.shape)"
      ],
      "metadata": {
        "colab": {
          "base_uri": "https://localhost:8080/"
        },
        "id": "1-oxU_MR917S",
        "outputId": "aa7c5320-152a-4f21-9708-c2f5e8ae2190"
      },
      "execution_count": 16,
      "outputs": [
        {
          "output_type": "stream",
          "name": "stdout",
          "text": [
            "(353, 10) (353,)\n",
            "(89, 10) (89,)\n"
          ]
        }
      ]
    },
    {
      "cell_type": "markdown",
      "source": [
        "# 모델 준비하기"
      ],
      "metadata": {
        "id": "aiAyQwXPCnyJ"
      }
    },
    {
      "cell_type": "code",
      "source": [
        "W=np.random.rand(10)\n",
        "b=np.random.rand()"
      ],
      "metadata": {
        "id": "Nz0oDiNB_Pbc"
      },
      "execution_count": 17,
      "outputs": []
    },
    {
      "cell_type": "code",
      "source": [
        "import matplotlib.pyplot as plt"
      ],
      "metadata": {
        "id": "lhWC7o0OBXIU"
      },
      "execution_count": 19,
      "outputs": []
    },
    {
      "cell_type": "code",
      "source": [
        "plt.scatter(df_X[:, 0], df_y)\n",
        "\n",
        "plt.show()"
      ],
      "metadata": {
        "colab": {
          "base_uri": "https://localhost:8080/",
          "height": 265
        },
        "id": "kE6d0l1krL5X",
        "outputId": "e794baa4-3240-4f7d-cb1e-3c2d10140219"
      },
      "execution_count": 20,
      "outputs": [
        {
          "output_type": "display_data",
          "data": {
            "text/plain": [
              "<Figure size 432x288 with 1 Axes>"
            ],
            "image/png": "[encoded data removed]"
          },
          "metadata": {
            "needs_background": "light"
          }
        }
      ]
    },
    {
      "cell_type": "code",
      "source": [
        "def model(df_X,W,b):\n",
        "  predictions = 0\n",
        "  for i in range(10):\n",
        "    predictions += df_X[:,i]*W[i]\n",
        "  predictions += b\n",
        "  return predictions"
      ],
      "metadata": {
        "id": "8niyZTGeDruU"
      },
      "execution_count": 21,
      "outputs": []
    },
    {
      "cell_type": "code",
      "source": [
        "predictions=model(df_X,W,b)\n",
        "predictions"
      ],
      "metadata": {
        "colab": {
          "base_uri": "https://localhost:8080/"
        },
        "id": "q6WEb27doSPZ",
        "outputId": "413c0f40-7337-4835-ce99-a4288fa943d1"
      },
      "execution_count": 22,
      "outputs": [
        {
          "output_type": "execute_result",
          "data": {
            "text/plain": [
              "array([0.64313676, 0.48149832, 0.61752676, 0.55253103, 0.56158986,\n",
              "       0.3754408 , 0.47982794, 0.81476981, 0.62385265, 0.55010801,\n",
              "       0.29345571, 0.60018678, 0.52504396, 0.65053002, 0.57111273,\n",
              "       0.85567016, 0.69456614, 0.76247593, 0.46858054, 0.50486274,\n",
              "       0.40921023, 0.50974697, 0.49726392, 0.78808804, 0.51966933,\n",
              "       0.57317292, 0.31723887, 0.50685497, 0.43203725, 0.63813055,\n",
              "       0.53773261, 0.37102275, 0.74129247, 0.49380838, 0.37049239,\n",
              "       0.67886336, 0.64684419, 0.5007194 , 0.9279272 , 0.5919368 ,\n",
              "       0.73902001, 0.29769691, 0.53369652, 0.51713453, 0.71604014,\n",
              "       0.61968704, 0.44243898, 0.31704537, 0.59890167, 0.65688399,\n",
              "       0.50232203, 0.62475791, 0.60241689, 0.62954034, 0.59088842,\n",
              "       0.48161687, 0.53624482, 0.32763534, 0.61344139, 0.74171874,\n",
              "       0.39708207, 0.57710444, 0.54507775, 0.49113174, 0.49703542,\n",
              "       0.71344288, 0.60215714, 0.60709612, 0.54967096, 0.40252552,\n",
              "       0.49820909, 0.73175289, 0.79334923, 0.69248469, 0.71459079,\n",
              "       0.57615441, 0.49431054, 0.37296371, 0.42518456, 0.48354806,\n",
              "       0.74505612, 0.63232444, 0.54702255, 0.4289424 , 0.38175425,\n",
              "       0.58001967, 0.41585268, 0.68808727, 0.49207773, 0.51380566,\n",
              "       0.44357319, 0.6844378 , 0.66650016, 0.41580854, 0.52091941,\n",
              "       0.38520031, 0.71837968, 0.65552082, 0.57624279, 0.59390305,\n",
              "       0.66510887, 0.66580352, 0.59963194, 0.73896571, 0.53618385,\n",
              "       0.54651719, 0.36081239, 0.56169357, 0.63518172, 0.6563633 ,\n",
              "       0.47680768, 0.5792833 , 0.54652013, 0.74497695, 0.74321067,\n",
              "       0.7826584 , 0.78976188, 0.75357231, 0.68601857, 0.52244951,\n",
              "       0.51084777, 0.6472734 , 0.81694348, 0.96288044, 0.53532417,\n",
              "       0.5924097 , 0.3458073 , 0.68208786, 0.46233507, 0.63917516,\n",
              "       0.78186071, 0.38439129, 0.65405059, 0.40429172, 0.56580973,\n",
              "       0.54747124, 0.32186246, 0.67478085, 0.75401536, 0.62807816,\n",
              "       0.62323996, 0.69481253, 0.76098095, 0.57485454, 0.72181478,\n",
              "       0.63680102, 0.70203635, 0.64910837, 0.65875277, 0.60500582,\n",
              "       0.5876757 , 0.55302066, 0.80249356, 0.64201019, 0.68689884,\n",
              "       0.84974725, 0.49101395, 0.65223257, 0.45233279, 0.69246742,\n",
              "       0.39961317, 0.96541554, 0.48794126, 0.73632951, 0.64693628,\n",
              "       0.41349164, 0.38081601, 0.73135065, 0.8323157 , 0.69699383,\n",
              "       0.53922625, 0.31470013, 0.78836935, 0.44291887, 0.46683929,\n",
              "       0.47094753, 0.71987864, 0.66520997, 0.56776152, 0.58434004,\n",
              "       0.66301072, 0.56530271, 0.81224761, 0.67396338, 0.54784879,\n",
              "       0.60792374, 0.74652848, 0.3378148 , 0.71603903, 0.52420243,\n",
              "       0.58677654, 0.44446849, 0.62689489, 0.71576576, 0.45817543,\n",
              "       0.71646957, 0.55491963, 0.70823088, 0.44569564, 0.65303017,\n",
              "       0.6020859 , 0.53772455, 0.87453701, 0.79622552, 0.67321636,\n",
              "       0.61058676, 0.70055055, 0.64383798, 0.71391431, 0.61857642,\n",
              "       0.64659821, 0.57040911, 0.68106612, 0.4818469 , 0.46460691,\n",
              "       0.74632851, 0.86825813, 0.76501668, 0.49414573, 0.41478708,\n",
              "       0.48164987, 0.48332197, 0.55242817, 0.39126697, 0.33577627,\n",
              "       0.6752509 , 0.50279249, 0.66169051, 0.49994388, 0.58534613,\n",
              "       0.88082464, 0.58924327, 0.71423626, 0.53269495, 0.67160403,\n",
              "       0.6083719 , 0.75191266, 0.45866703, 0.67408579, 0.72655621,\n",
              "       0.76411416, 0.65093361, 0.40894126, 0.55765588, 0.55809926,\n",
              "       0.41689251, 0.63079021, 0.46997366, 0.88229956, 0.74647104,\n",
              "       0.67360766, 0.91117095, 0.61881243, 0.71569686, 0.85440509,\n",
              "       0.50946556, 0.62565899, 0.59941386, 0.634328  , 0.54612852,\n",
              "       0.52235911, 0.70746903, 0.85038816, 0.41950834, 0.53590513,\n",
              "       0.6036245 , 0.54744124, 0.64436528, 0.8417296 , 0.59600928,\n",
              "       0.67004671, 0.61396271, 0.40397094, 0.81332062, 0.58249267,\n",
              "       0.61327936, 0.82682064, 0.4379928 , 0.55837805, 0.57522013,\n",
              "       0.71907782, 0.49062164, 0.71224659, 0.40861004, 0.54962103,\n",
              "       0.63221196, 0.43893163, 0.75257721, 0.69283573, 0.73954459,\n",
              "       0.74140394, 0.73525175, 0.43747916, 0.63596158, 0.54623955,\n",
              "       0.59853342, 0.44593915, 0.41646417, 0.42233286, 0.5691609 ,\n",
              "       0.60273067, 0.70324914, 0.68056541, 0.77814563, 0.77622255,\n",
              "       0.59895067, 0.56340741, 0.6912377 , 0.37526975, 0.75353466,\n",
              "       0.63698584, 0.65422112, 0.47625623, 0.80612355, 0.57012277,\n",
              "       0.54913557, 0.68776718, 0.71109999, 0.6598376 , 0.61744314,\n",
              "       0.73920993, 0.85258044, 0.85331082, 0.82337102, 0.76666877,\n",
              "       0.70749025, 0.63114961, 0.72993857, 0.53127187, 0.54232065,\n",
              "       0.7124058 , 0.49598174, 0.72196747, 0.65792442, 0.43288333,\n",
              "       0.51132162, 0.81154161, 0.69114302, 0.48814521, 0.64870216,\n",
              "       0.61923969, 0.67962629, 0.67802411, 0.62427776, 0.5907274 ,\n",
              "       0.69892909, 0.88118589, 0.55637148, 0.56636316, 0.40888895,\n",
              "       0.79774849, 0.41722293, 0.49189802, 0.62781419, 0.85136025,\n",
              "       0.56922274, 0.60292225, 0.65890264, 0.3924066 , 0.71159662,\n",
              "       0.60068432, 0.49069832, 0.72472445, 0.56128325, 0.63190279,\n",
              "       0.5698177 , 0.81462683, 0.832393  , 0.71165428, 0.53429784,\n",
              "       0.46912883, 0.76633571, 0.62809947, 0.4273497 , 0.3768663 ,\n",
              "       0.79514506, 0.82081992, 0.71001256, 0.64334072, 0.38196203,\n",
              "       0.52118853, 0.43234733, 0.57636649, 0.54598352, 0.75207439,\n",
              "       0.56278052, 0.51487809, 0.39343237, 0.66544011, 0.53139321,\n",
              "       0.77877512, 0.34180427, 0.62440772, 0.42174423, 0.68140864,\n",
              "       0.54655964, 0.4445096 , 0.49570404, 0.61340402, 0.73004902,\n",
              "       0.64753863, 0.42805535, 0.65537063, 0.63543657, 0.59192295,\n",
              "       0.66298536, 0.35425988, 0.59775913, 0.70397967, 0.77570175,\n",
              "       0.70420066, 0.4288495 , 0.73357461, 0.53614398, 0.85208842,\n",
              "       0.61392057, 0.68693211, 0.50539154, 0.67486674, 0.36135375,\n",
              "       0.55546687, 0.77282043, 0.82759062, 0.73504713, 0.6303686 ,\n",
              "       0.29866254, 0.76853362, 0.50181308, 0.86059471, 0.57322792,\n",
              "       0.52905692, 0.59182793, 0.71538568, 0.5659425 , 0.55972538,\n",
              "       0.47929699, 0.40306869, 0.69820383, 0.63758539, 0.57123231,\n",
              "       0.63264234, 0.60164653])"
            ]
          },
          "metadata": {},
          "execution_count": 22
        }
      ]
    },
    {
      "cell_type": "markdown",
      "source": [
        "# 손실함수 loss 정의하기"
      ],
      "metadata": {
        "id": "LuTtFghXCrRM"
      }
    },
    {
      "cell_type": "code",
      "source": [
        "def MSE(a,b):\n",
        "  mse = ((a-b)**2).mean()\n",
        "  return mse"
      ],
      "metadata": {
        "id": "lCDqmoVVD_RM"
      },
      "execution_count": 23,
      "outputs": []
    },
    {
      "cell_type": "code",
      "source": [
        "def loss(df_X,W,b,df_y):\n",
        "  predictions=model(df_X,W,b)\n",
        "  L=MSE(predictions,df_y)\n",
        "  return L"
      ],
      "metadata": {
        "id": "LJToDS6ZD_FD"
      },
      "execution_count": 24,
      "outputs": []
    },
    {
      "cell_type": "markdown",
      "source": [
        "# 기울기를 구하는 gradient 함수 구현하기"
      ],
      "metadata": {
        "id": "42faymkQCuq6"
      }
    },
    {
      "cell_type": "code",
      "source": [
        "def gradient(df_X,W,b,df_y):\n",
        "  N=len(W)\n",
        "  y_pred=model(df_X,W,b)\n",
        "  dW=1/N * 2 * df_X.T.dot(y_pred-df_y)\n",
        "\n",
        "  db=2*(y_pred-df_y).mean()\n",
        "  return dW,db"
      ],
      "metadata": {
        "id": "9tcgCHfAIE9I"
      },
      "execution_count": 25,
      "outputs": []
    },
    {
      "cell_type": "code",
      "source": [
        "dW,db=gradient(df_X,W,b,df_y)\n",
        "print(\"dW:\",dW)\n",
        "print(\"db:\",db)"
      ],
      "metadata": {
        "colab": {
          "base_uri": "https://localhost:8080/"
        },
        "id": "8HAKFzZqoO5B",
        "outputId": "68d7b928-68f0-41f7-91b9-37936affac91"
      },
      "execution_count": 26,
      "outputs": [
        {
          "output_type": "stream",
          "name": "stdout",
          "text": [
            "dW: [ -60.5888688   -13.71617148 -189.54713865 -142.58255032  -68.21570046\n",
            "  -55.95288244  127.66048498 -138.97675804 -182.83329771 -123.53481942]\n",
            "db: -303.05876258135083\n"
          ]
        }
      ]
    },
    {
      "cell_type": "markdown",
      "source": [
        "# 하이퍼 파라미터인 합습률 설정하기"
      ],
      "metadata": {
        "id": "2IdHoiNfCy1z"
      }
    },
    {
      "cell_type": "code",
      "source": [
        "LEARNING_RATE = 0.0001"
      ],
      "metadata": {
        "id": "EoV0iLtapgs_"
      },
      "execution_count": 27,
      "outputs": []
    },
    {
      "cell_type": "markdown",
      "source": [
        "# 모델 학습하기"
      ],
      "metadata": {
        "id": "5jeEozpiC3Ak"
      }
    },
    {
      "cell_type": "code",
      "source": [
        "losses=[]\n",
        "for i in range(1,20001):\n",
        "  dW,db=gradient(X_train,W,b,y_train)\n",
        "  W-=LEARNING_RATE * dW\n",
        "  b-=LEARNING_RATE * db\n",
        "  L=loss(X_train,W,b,y_train)\n",
        "  losses.append(L)\n",
        "  if i % 50 == 0 :\n",
        "    print('Iteration %d: Loss %0.4f' %(i,L))"
      ],
      "metadata": {
        "colab": {
          "base_uri": "https://localhost:8080/"
        },
        "id": "JgmBoxtYoOxp",
        "outputId": "5ba09e8b-0991-4f0e-831c-6edec7bdd615"
      },
      "execution_count": 28,
      "outputs": [
        {
          "output_type": "stream",
          "name": "stdout",
          "text": [
            "Iteration 50: Loss 28430.6170\n",
            "Iteration 100: Loss 27970.3797\n",
            "Iteration 150: Loss 27519.0865\n",
            "Iteration 200: Loss 27076.5612\n",
            "Iteration 250: Loss 26642.6310\n",
            "Iteration 300: Loss 26217.1266\n",
            "Iteration 350: Loss 25799.8818\n",
            "Iteration 400: Loss 25390.7340\n",
            "Iteration 450: Loss 24989.5236\n",
            "Iteration 500: Loss 24596.0942\n",
            "Iteration 550: Loss 24210.2927\n",
            "Iteration 600: Loss 23831.9686\n",
            "Iteration 650: Loss 23460.9749\n",
            "Iteration 700: Loss 23097.1670\n",
            "Iteration 750: Loss 22740.4036\n",
            "Iteration 800: Loss 22390.5458\n",
            "Iteration 850: Loss 22047.4578\n",
            "Iteration 900: Loss 21711.0062\n",
            "Iteration 950: Loss 21381.0604\n",
            "Iteration 1000: Loss 21057.4924\n",
            "Iteration 1050: Loss 20740.1767\n",
            "Iteration 1100: Loss 20428.9901\n",
            "Iteration 1150: Loss 20123.8120\n",
            "Iteration 1200: Loss 19824.5244\n",
            "Iteration 1250: Loss 19531.0112\n",
            "Iteration 1300: Loss 19243.1589\n",
            "Iteration 1350: Loss 18960.8561\n",
            "Iteration 1400: Loss 18683.9936\n",
            "Iteration 1450: Loss 18412.4646\n",
            "Iteration 1500: Loss 18146.1640\n",
            "Iteration 1550: Loss 17884.9891\n",
            "Iteration 1600: Loss 17628.8392\n",
            "Iteration 1650: Loss 17377.6153\n",
            "Iteration 1700: Loss 17131.2209\n",
            "Iteration 1750: Loss 16889.5608\n",
            "Iteration 1800: Loss 16652.5420\n",
            "Iteration 1850: Loss 16420.0735\n",
            "Iteration 1900: Loss 16192.0657\n",
            "Iteration 1950: Loss 15968.4310\n",
            "Iteration 2000: Loss 15749.0836\n",
            "Iteration 2050: Loss 15533.9392\n",
            "Iteration 2100: Loss 15322.9153\n",
            "Iteration 2150: Loss 15115.9310\n",
            "Iteration 2200: Loss 14912.9070\n",
            "Iteration 2250: Loss 14713.7656\n",
            "Iteration 2300: Loss 14518.4304\n",
            "Iteration 2350: Loss 14326.8270\n",
            "Iteration 2400: Loss 14138.8819\n",
            "Iteration 2450: Loss 13954.5235\n",
            "Iteration 2500: Loss 13773.6813\n",
            "Iteration 2550: Loss 13596.2865\n",
            "Iteration 2600: Loss 13422.2714\n",
            "Iteration 2650: Loss 13251.5697\n",
            "Iteration 2700: Loss 13084.1165\n",
            "Iteration 2750: Loss 12919.8481\n",
            "Iteration 2800: Loss 12758.7020\n",
            "Iteration 2850: Loss 12600.6171\n",
            "Iteration 2900: Loss 12445.5334\n",
            "Iteration 2950: Loss 12293.3922\n",
            "Iteration 3000: Loss 12144.1357\n",
            "Iteration 3050: Loss 11997.7074\n",
            "Iteration 3100: Loss 11854.0520\n",
            "Iteration 3150: Loss 11713.1153\n",
            "Iteration 3200: Loss 11574.8439\n",
            "Iteration 3250: Loss 11439.1857\n",
            "Iteration 3300: Loss 11306.0896\n",
            "Iteration 3350: Loss 11175.5054\n",
            "Iteration 3400: Loss 11047.3841\n",
            "Iteration 3450: Loss 10921.6774\n",
            "Iteration 3500: Loss 10798.3381\n",
            "Iteration 3550: Loss 10677.3200\n",
            "Iteration 3600: Loss 10558.5776\n",
            "Iteration 3650: Loss 10442.0665\n",
            "Iteration 3700: Loss 10327.7431\n",
            "Iteration 3750: Loss 10215.5646\n",
            "Iteration 3800: Loss 10105.4892\n",
            "Iteration 3850: Loss 9997.4758\n",
            "Iteration 3900: Loss 9891.4841\n",
            "Iteration 3950: Loss 9787.4747\n",
            "Iteration 4000: Loss 9685.4088\n",
            "Iteration 4050: Loss 9585.2486\n",
            "Iteration 4100: Loss 9486.9568\n",
            "Iteration 4150: Loss 9390.4971\n",
            "Iteration 4200: Loss 9295.8337\n",
            "Iteration 4250: Loss 9202.9315\n",
            "Iteration 4300: Loss 9111.7563\n",
            "Iteration 4350: Loss 9022.2745\n",
            "Iteration 4400: Loss 8934.4529\n",
            "Iteration 4450: Loss 8848.2593\n",
            "Iteration 4500: Loss 8763.6620\n",
            "Iteration 4550: Loss 8680.6299\n",
            "Iteration 4600: Loss 8599.1325\n",
            "Iteration 4650: Loss 8519.1400\n",
            "Iteration 4700: Loss 8440.6231\n",
            "Iteration 4750: Loss 8363.5530\n",
            "Iteration 4800: Loss 8287.9018\n",
            "Iteration 4850: Loss 8213.6417\n",
            "Iteration 4900: Loss 8140.7458\n",
            "Iteration 4950: Loss 8069.1875\n",
            "Iteration 5000: Loss 7998.9409\n",
            "Iteration 5050: Loss 7929.9804\n",
            "Iteration 5100: Loss 7862.2813\n",
            "Iteration 5150: Loss 7795.8188\n",
            "Iteration 5200: Loss 7730.5691\n",
            "Iteration 5250: Loss 7666.5087\n",
            "Iteration 5300: Loss 7603.6144\n",
            "Iteration 5350: Loss 7541.8638\n",
            "Iteration 5400: Loss 7481.2345\n",
            "Iteration 5450: Loss 7421.7049\n",
            "Iteration 5500: Loss 7363.2537\n",
            "Iteration 5550: Loss 7305.8601\n",
            "Iteration 5600: Loss 7249.5035\n",
            "Iteration 5650: Loss 7194.1638\n",
            "Iteration 5700: Loss 7139.8215\n",
            "Iteration 5750: Loss 7086.4573\n",
            "Iteration 5800: Loss 7034.0522\n",
            "Iteration 5850: Loss 6982.5876\n",
            "Iteration 5900: Loss 6932.0456\n",
            "Iteration 5950: Loss 6882.4081\n",
            "Iteration 6000: Loss 6833.6578\n",
            "Iteration 6050: Loss 6785.7776\n",
            "Iteration 6100: Loss 6738.7507\n",
            "Iteration 6150: Loss 6692.5605\n",
            "Iteration 6200: Loss 6647.1911\n",
            "Iteration 6250: Loss 6602.6266\n",
            "Iteration 6300: Loss 6558.8514\n",
            "Iteration 6350: Loss 6515.8505\n",
            "Iteration 6400: Loss 6473.6089\n",
            "Iteration 6450: Loss 6432.1119\n",
            "Iteration 6500: Loss 6391.3453\n",
            "Iteration 6550: Loss 6351.2951\n",
            "Iteration 6600: Loss 6311.9475\n",
            "Iteration 6650: Loss 6273.2889\n",
            "Iteration 6700: Loss 6235.3062\n",
            "Iteration 6750: Loss 6197.9865\n",
            "Iteration 6800: Loss 6161.3169\n",
            "Iteration 6850: Loss 6125.2850\n",
            "Iteration 6900: Loss 6089.8787\n",
            "Iteration 6950: Loss 6055.0859\n",
            "Iteration 7000: Loss 6020.8949\n",
            "Iteration 7050: Loss 5987.2942\n",
            "Iteration 7100: Loss 5954.2725\n",
            "Iteration 7150: Loss 5921.8187\n",
            "Iteration 7200: Loss 5889.9220\n",
            "Iteration 7250: Loss 5858.5717\n",
            "Iteration 7300: Loss 5827.7574\n",
            "Iteration 7350: Loss 5797.4690\n",
            "Iteration 7400: Loss 5767.6963\n",
            "Iteration 7450: Loss 5738.4295\n",
            "Iteration 7500: Loss 5709.6591\n",
            "Iteration 7550: Loss 5681.3755\n",
            "Iteration 7600: Loss 5653.5696\n",
            "Iteration 7650: Loss 5626.2322\n",
            "Iteration 7700: Loss 5599.3543\n",
            "Iteration 7750: Loss 5572.9274\n",
            "Iteration 7800: Loss 5546.9429\n",
            "Iteration 7850: Loss 5521.3922\n",
            "Iteration 7900: Loss 5496.2673\n",
            "Iteration 7950: Loss 5471.5601\n",
            "Iteration 8000: Loss 5447.2626\n",
            "Iteration 8050: Loss 5423.3671\n",
            "Iteration 8100: Loss 5399.8660\n",
            "Iteration 8150: Loss 5376.7519\n",
            "Iteration 8200: Loss 5354.0174\n",
            "Iteration 8250: Loss 5331.6554\n",
            "Iteration 8300: Loss 5309.6589\n",
            "Iteration 8350: Loss 5288.0209\n",
            "Iteration 8400: Loss 5266.7347\n",
            "Iteration 8450: Loss 5245.7937\n",
            "Iteration 8500: Loss 5225.1915\n",
            "Iteration 8550: Loss 5204.9215\n",
            "Iteration 8600: Loss 5184.9777\n",
            "Iteration 8650: Loss 5165.3538\n",
            "Iteration 8700: Loss 5146.0439\n",
            "Iteration 8750: Loss 5127.0422\n",
            "Iteration 8800: Loss 5108.3427\n",
            "Iteration 8850: Loss 5089.9399\n",
            "Iteration 8900: Loss 5071.8283\n",
            "Iteration 8950: Loss 5054.0023\n",
            "Iteration 9000: Loss 5036.4567\n",
            "Iteration 9050: Loss 5019.1862\n",
            "Iteration 9100: Loss 5002.1857\n",
            "Iteration 9150: Loss 4985.4502\n",
            "Iteration 9200: Loss 4968.9748\n",
            "Iteration 9250: Loss 4952.7546\n",
            "Iteration 9300: Loss 4936.7848\n",
            "Iteration 9350: Loss 4921.0609\n",
            "Iteration 9400: Loss 4905.5782\n",
            "Iteration 9450: Loss 4890.3324\n",
            "Iteration 9500: Loss 4875.3189\n",
            "Iteration 9550: Loss 4860.5337\n",
            "Iteration 9600: Loss 4845.9723\n",
            "Iteration 9650: Loss 4831.6307\n",
            "Iteration 9700: Loss 4817.5048\n",
            "Iteration 9750: Loss 4803.5907\n",
            "Iteration 9800: Loss 4789.8845\n",
            "Iteration 9850: Loss 4776.3823\n",
            "Iteration 9900: Loss 4763.0804\n",
            "Iteration 9950: Loss 4749.9751\n",
            "Iteration 10000: Loss 4737.0628\n",
            "Iteration 10050: Loss 4724.3401\n",
            "Iteration 10100: Loss 4711.8034\n",
            "Iteration 10150: Loss 4699.4493\n",
            "Iteration 10200: Loss 4687.2745\n",
            "Iteration 10250: Loss 4675.2757\n",
            "Iteration 10300: Loss 4663.4497\n",
            "Iteration 10350: Loss 4651.7935\n",
            "Iteration 10400: Loss 4640.3038\n",
            "Iteration 10450: Loss 4628.9778\n",
            "Iteration 10500: Loss 4617.8123\n",
            "Iteration 10550: Loss 4606.8046\n",
            "Iteration 10600: Loss 4595.9517\n",
            "Iteration 10650: Loss 4585.2509\n",
            "Iteration 10700: Loss 4574.6994\n",
            "Iteration 10750: Loss 4564.2946\n",
            "Iteration 10800: Loss 4554.0337\n",
            "Iteration 10850: Loss 4543.9143\n",
            "Iteration 10900: Loss 4533.9337\n",
            "Iteration 10950: Loss 4524.0896\n",
            "Iteration 11000: Loss 4514.3793\n",
            "Iteration 11050: Loss 4504.8007\n",
            "Iteration 11100: Loss 4495.3512\n",
            "Iteration 11150: Loss 4486.0287\n",
            "Iteration 11200: Loss 4476.8308\n",
            "Iteration 11250: Loss 4467.7553\n",
            "Iteration 11300: Loss 4458.8001\n",
            "Iteration 11350: Loss 4449.9631\n",
            "Iteration 11400: Loss 4441.2421\n",
            "Iteration 11450: Loss 4432.6350\n",
            "Iteration 11500: Loss 4424.1400\n",
            "Iteration 11550: Loss 4415.7550\n",
            "Iteration 11600: Loss 4407.4780\n",
            "Iteration 11650: Loss 4399.3073\n",
            "Iteration 11700: Loss 4391.2408\n",
            "Iteration 11750: Loss 4383.2769\n",
            "Iteration 11800: Loss 4375.4136\n",
            "Iteration 11850: Loss 4367.6493\n",
            "Iteration 11900: Loss 4359.9823\n",
            "Iteration 11950: Loss 4352.4107\n",
            "Iteration 12000: Loss 4344.9331\n",
            "Iteration 12050: Loss 4337.5477\n",
            "Iteration 12100: Loss 4330.2529\n",
            "Iteration 12150: Loss 4323.0473\n",
            "Iteration 12200: Loss 4315.9292\n",
            "Iteration 12250: Loss 4308.8971\n",
            "Iteration 12300: Loss 4301.9496\n",
            "Iteration 12350: Loss 4295.0853\n",
            "Iteration 12400: Loss 4288.3026\n",
            "Iteration 12450: Loss 4281.6003\n",
            "Iteration 12500: Loss 4274.9768\n",
            "Iteration 12550: Loss 4268.4310\n",
            "Iteration 12600: Loss 4261.9615\n",
            "Iteration 12650: Loss 4255.5669\n",
            "Iteration 12700: Loss 4249.2461\n",
            "Iteration 12750: Loss 4242.9977\n",
            "Iteration 12800: Loss 4236.8206\n",
            "Iteration 12850: Loss 4230.7135\n",
            "Iteration 12900: Loss 4224.6754\n",
            "Iteration 12950: Loss 4218.7049\n",
            "Iteration 13000: Loss 4212.8010\n",
            "Iteration 13050: Loss 4206.9627\n",
            "Iteration 13100: Loss 4201.1887\n",
            "Iteration 13150: Loss 4195.4780\n",
            "Iteration 13200: Loss 4189.8297\n",
            "Iteration 13250: Loss 4184.2425\n",
            "Iteration 13300: Loss 4178.7157\n",
            "Iteration 13350: Loss 4173.2480\n",
            "Iteration 13400: Loss 4167.8387\n",
            "Iteration 13450: Loss 4162.4866\n",
            "Iteration 13500: Loss 4157.1910\n",
            "Iteration 13550: Loss 4151.9508\n",
            "Iteration 13600: Loss 4146.7652\n",
            "Iteration 13650: Loss 4141.6333\n",
            "Iteration 13700: Loss 4136.5542\n",
            "Iteration 13750: Loss 4131.5271\n",
            "Iteration 13800: Loss 4126.5510\n",
            "Iteration 13850: Loss 4121.6253\n",
            "Iteration 13900: Loss 4116.7491\n",
            "Iteration 13950: Loss 4111.9216\n",
            "Iteration 14000: Loss 4107.1420\n",
            "Iteration 14050: Loss 4102.4096\n",
            "Iteration 14100: Loss 4097.7237\n",
            "Iteration 14150: Loss 4093.0834\n",
            "Iteration 14200: Loss 4088.4881\n",
            "Iteration 14250: Loss 4083.9370\n",
            "Iteration 14300: Loss 4079.4296\n",
            "Iteration 14350: Loss 4074.9650\n",
            "Iteration 14400: Loss 4070.5426\n",
            "Iteration 14450: Loss 4066.1618\n",
            "Iteration 14500: Loss 4061.8219\n",
            "Iteration 14550: Loss 4057.5223\n",
            "Iteration 14600: Loss 4053.2624\n",
            "Iteration 14650: Loss 4049.0415\n",
            "Iteration 14700: Loss 4044.8591\n",
            "Iteration 14750: Loss 4040.7145\n",
            "Iteration 14800: Loss 4036.6073\n",
            "Iteration 14850: Loss 4032.5368\n",
            "Iteration 14900: Loss 4028.5024\n",
            "Iteration 14950: Loss 4024.5037\n",
            "Iteration 15000: Loss 4020.5401\n",
            "Iteration 15050: Loss 4016.6110\n",
            "Iteration 15100: Loss 4012.7160\n",
            "Iteration 15150: Loss 4008.8545\n",
            "Iteration 15200: Loss 4005.0261\n",
            "Iteration 15250: Loss 4001.2302\n",
            "Iteration 15300: Loss 3997.4664\n",
            "Iteration 15350: Loss 3993.7342\n",
            "Iteration 15400: Loss 3990.0332\n",
            "Iteration 15450: Loss 3986.3628\n",
            "Iteration 15500: Loss 3982.7226\n",
            "Iteration 15550: Loss 3979.1123\n",
            "Iteration 15600: Loss 3975.5313\n",
            "Iteration 15650: Loss 3971.9793\n",
            "Iteration 15700: Loss 3968.4558\n",
            "Iteration 15750: Loss 3964.9604\n",
            "Iteration 15800: Loss 3961.4928\n",
            "Iteration 15850: Loss 3958.0525\n",
            "Iteration 15900: Loss 3954.6391\n",
            "Iteration 15950: Loss 3951.2523\n",
            "Iteration 16000: Loss 3947.8916\n",
            "Iteration 16050: Loss 3944.5568\n",
            "Iteration 16100: Loss 3941.2475\n",
            "Iteration 16150: Loss 3937.9632\n",
            "Iteration 16200: Loss 3934.7037\n",
            "Iteration 16250: Loss 3931.4687\n",
            "Iteration 16300: Loss 3928.2577\n",
            "Iteration 16350: Loss 3925.0705\n",
            "Iteration 16400: Loss 3921.9067\n",
            "Iteration 16450: Loss 3918.7660\n",
            "Iteration 16500: Loss 3915.6481\n",
            "Iteration 16550: Loss 3912.5527\n",
            "Iteration 16600: Loss 3909.4795\n",
            "Iteration 16650: Loss 3906.4282\n",
            "Iteration 16700: Loss 3903.3985\n",
            "Iteration 16750: Loss 3900.3901\n",
            "Iteration 16800: Loss 3897.4027\n",
            "Iteration 16850: Loss 3894.4361\n",
            "Iteration 16900: Loss 3891.4900\n",
            "Iteration 16950: Loss 3888.5641\n",
            "Iteration 17000: Loss 3885.6582\n",
            "Iteration 17050: Loss 3882.7720\n",
            "Iteration 17100: Loss 3879.9052\n",
            "Iteration 17150: Loss 3877.0576\n",
            "Iteration 17200: Loss 3874.2289\n",
            "Iteration 17250: Loss 3871.4190\n",
            "Iteration 17300: Loss 3868.6276\n",
            "Iteration 17350: Loss 3865.8543\n",
            "Iteration 17400: Loss 3863.0991\n",
            "Iteration 17450: Loss 3860.3617\n",
            "Iteration 17500: Loss 3857.6419\n",
            "Iteration 17550: Loss 3854.9394\n",
            "Iteration 17600: Loss 3852.2540\n",
            "Iteration 17650: Loss 3849.5855\n",
            "Iteration 17700: Loss 3846.9338\n",
            "Iteration 17750: Loss 3844.2986\n",
            "Iteration 17800: Loss 3841.6797\n",
            "Iteration 17850: Loss 3839.0769\n",
            "Iteration 17900: Loss 3836.4901\n",
            "Iteration 17950: Loss 3833.9189\n",
            "Iteration 18000: Loss 3831.3634\n",
            "Iteration 18050: Loss 3828.8231\n",
            "Iteration 18100: Loss 3826.2981\n",
            "Iteration 18150: Loss 3823.7881\n",
            "Iteration 18200: Loss 3821.2929\n",
            "Iteration 18250: Loss 3818.8124\n",
            "Iteration 18300: Loss 3816.3463\n",
            "Iteration 18350: Loss 3813.8946\n",
            "Iteration 18400: Loss 3811.4570\n",
            "Iteration 18450: Loss 3809.0334\n",
            "Iteration 18500: Loss 3806.6237\n",
            "Iteration 18550: Loss 3804.2276\n",
            "Iteration 18600: Loss 3801.8451\n",
            "Iteration 18650: Loss 3799.4760\n",
            "Iteration 18700: Loss 3797.1200\n",
            "Iteration 18750: Loss 3794.7772\n",
            "Iteration 18800: Loss 3792.4473\n",
            "Iteration 18850: Loss 3790.1302\n",
            "Iteration 18900: Loss 3787.8257\n",
            "Iteration 18950: Loss 3785.5338\n",
            "Iteration 19000: Loss 3783.2543\n",
            "Iteration 19050: Loss 3780.9870\n",
            "Iteration 19100: Loss 3778.7318\n",
            "Iteration 19150: Loss 3776.4886\n",
            "Iteration 19200: Loss 3774.2573\n",
            "Iteration 19250: Loss 3772.0377\n",
            "Iteration 19300: Loss 3769.8297\n",
            "Iteration 19350: Loss 3767.6333\n",
            "Iteration 19400: Loss 3765.4482\n",
            "Iteration 19450: Loss 3763.2743\n",
            "Iteration 19500: Loss 3761.1116\n",
            "Iteration 19550: Loss 3758.9600\n",
            "Iteration 19600: Loss 3756.8192\n",
            "Iteration 19650: Loss 3754.6893\n",
            "Iteration 19700: Loss 3752.5701\n",
            "Iteration 19750: Loss 3750.4614\n",
            "Iteration 19800: Loss 3748.3632\n",
            "Iteration 19850: Loss 3746.2755\n",
            "Iteration 19900: Loss 3744.1980\n",
            "Iteration 19950: Loss 3742.1306\n",
            "Iteration 20000: Loss 3740.0734\n"
          ]
        }
      ]
    },
    {
      "cell_type": "code",
      "source": [
        "import matplotlib.pyplot as plt\n",
        "plt.plot(losses)\n",
        "plt.show()"
      ],
      "metadata": {
        "colab": {
          "base_uri": "https://localhost:8080/",
          "height": 268
        },
        "id": "kyMVS29noOoi",
        "outputId": "2c2ff563-7ec0-44da-db38-f8a0efea973d"
      },
      "execution_count": 29,
      "outputs": [
        {
          "output_type": "display_data",
          "data": {
            "text/plain": [
              "<Figure size 432x288 with 1 Axes>"
            ],
            "image/png": "[encoded data removed]"
          },
          "metadata": {
            "needs_background": "light"
          }
        }
      ]
    },
    {
      "cell_type": "code",
      "source": [
        "W, b"
      ],
      "metadata": {
        "colab": {
          "base_uri": "https://localhost:8080/"
        },
        "id": "EItMFKnaqmoT",
        "outputId": "b84774d0-ec30-4aa4-f716-a704e1d74f4e"
      },
      "execution_count": 30,
      "outputs": [
        {
          "output_type": "execute_result",
          "data": {
            "text/plain": [
              "(array([  25.31145992,  -20.86399703,  210.84873739,  117.76280274,\n",
              "          39.98083463,   23.45875911, -124.64204995,  124.46709141,\n",
              "         190.76071646,   93.79193809]), 149.54682792941978)"
            ]
          },
          "metadata": {},
          "execution_count": 30
        }
      ]
    },
    {
      "cell_type": "markdown",
      "source": [
        "# test 데이터에 대한 성능 확인하기"
      ],
      "metadata": {
        "id": "fAf6TBCeC6ds"
      }
    },
    {
      "cell_type": "code",
      "source": [
        "prediction = model(X_test, W, b)\n",
        "mse = loss(X_test, W, b, y_test)\n",
        "mse"
      ],
      "metadata": {
        "colab": {
          "base_uri": "https://localhost:8080/"
        },
        "id": "Vvgm9myRqmfk",
        "outputId": "a6d6c51e-6703-4a6e-a9cf-aeaa1843dedc"
      },
      "execution_count": 31,
      "outputs": [
        {
          "output_type": "execute_result",
          "data": {
            "text/plain": [
              "3536.2779148986183"
            ]
          },
          "metadata": {},
          "execution_count": 31
        }
      ]
    },
    {
      "cell_type": "markdown",
      "source": [
        "# 정답 데이터와 예측한 데이터 시각화하기"
      ],
      "metadata": {
        "id": "DTurjjHeC-mT"
      }
    },
    {
      "cell_type": "code",
      "source": [
        "plt.scatter(X_test[:, 0], y_test)\n",
        "plt.scatter(X_test[:, 0], prediction)\n",
        "plt.show()"
      ],
      "metadata": {
        "colab": {
          "base_uri": "https://localhost:8080/",
          "height": 265
        },
        "id": "82wudGA5qmWl",
        "outputId": "f29e98fd-0871-4959-f476-1b506c490799"
      },
      "execution_count": 32,
      "outputs": [
        {
          "output_type": "display_data",
          "data": {
            "text/plain": [
              "<Figure size 432x288 with 1 Axes>"
            ],
            "image/png": "[encoded data removed]"
          },
          "metadata": {
            "needs_background": "light"
          }
        }
      ]
    },
    {
      "cell_type": "markdown",
      "source": [
        "# 선형 회귀모델로 구현해보기"
      ],
      "metadata": {
        "id": "KoZ0qc-LDCxM"
      }
    },
    {
      "cell_type": "code",
      "source": [
        "from sklearn.linear_model import LinearRegression\n",
        "\n",
        "model=LinearRegression()"
      ],
      "metadata": {
        "id": "z7Sd1MG_CE6e"
      },
      "execution_count": 33,
      "outputs": []
    },
    {
      "cell_type": "code",
      "source": [
        "model.fit(X_train,y_train)"
      ],
      "metadata": {
        "id": "v7JHBjpvC49z",
        "colab": {
          "base_uri": "https://localhost:8080/"
        },
        "outputId": "84f1d0d2-bfd6-48ca-d86d-363a91e17567"
      },
      "execution_count": 34,
      "outputs": [
        {
          "output_type": "execute_result",
          "data": {
            "text/plain": [
              "LinearRegression()"
            ]
          },
          "metadata": {},
          "execution_count": 34
        }
      ]
    },
    {
      "cell_type": "code",
      "source": [
        "predictions=model.predict(X_test)\n",
        "predictions"
      ],
      "metadata": {
        "colab": {
          "base_uri": "https://localhost:8080/"
        },
        "id": "I1kC6W2pA6sC",
        "outputId": "7909bb06-15e4-4576-fc57-fa9ae2d4fa9c"
      },
      "execution_count": 36,
      "outputs": [
        {
          "output_type": "execute_result",
          "data": {
            "text/plain": [
              "array([111.74351759,  98.41335251, 168.36373195, 255.05882934,\n",
              "       168.43764643, 117.60982186, 198.86966323, 126.28961941,\n",
              "       117.73121787, 224.83346984,  60.89446471, 217.77318707,\n",
              "       122.38400957, 159.62260803, 122.74123621, 185.04460275,\n",
              "       152.54609708, 204.3940595 , 182.10182243, 146.63883543,\n",
              "       173.32949408,  91.71073024, 188.6730776 , 232.28910312,\n",
              "       106.6959319 , 123.63724014, 217.56844485,  90.32278409,\n",
              "        63.09200708, 177.66922231, 179.8393172 ,  67.39484859,\n",
              "       154.06891508,  84.98202686, 185.29820945, 133.83614896,\n",
              "       107.16738986,  92.16721388,  72.56422882, 118.37655858,\n",
              "       188.69078991, 180.356482  ,  62.1428293 , 167.59600837,\n",
              "       281.99256615, 124.88039588,  69.45906833, 284.42667095,\n",
              "        62.26215385, 116.9182166 , 210.89814168, 217.90132382,\n",
              "       194.09034022,  78.49649362,  99.86248797, 172.95429134,\n",
              "        91.41761366, 155.19644573, 223.11869737, 279.068125  ,\n",
              "       226.97053726, 177.40948876, 125.58869725, 132.02785696,\n",
              "       227.13309458, 132.41259652,  89.06323151, 113.11733966,\n",
              "        31.62353301, 242.65974401, 106.81663322, 153.86122489,\n",
              "       150.66294562, 169.35036372, 105.80993415, 128.32671122,\n",
              "        46.3360554 , 211.00838418,  49.13769271, 252.88789472,\n",
              "        56.53844921, 171.14405232, 223.4609921 , 180.841815  ,\n",
              "       145.37955309, 190.57174547, 174.84310859, 160.47569007,\n",
              "       152.12864359])"
            ]
          },
          "metadata": {},
          "execution_count": 36
        }
      ]
    },
    {
      "cell_type": "code",
      "source": [
        "from sklearn.metrics import mean_squared_error\n",
        "\n",
        "mse = mean_squared_error(y_test, predictions)\n",
        "mse"
      ],
      "metadata": {
        "colab": {
          "base_uri": "https://localhost:8080/"
        },
        "id": "DLoOB_IuBAUE",
        "outputId": "abb7c619-d5a5-4fa7-ba83-f601bbf8f682"
      },
      "execution_count": 38,
      "outputs": [
        {
          "output_type": "execute_result",
          "data": {
            "text/plain": [
              "2858.2551533228366"
            ]
          },
          "metadata": {},
          "execution_count": 38
        }
      ]
    },
    {
      "cell_type": "code",
      "source": [
        "plt.scatter(X_test[:, 0], y_test, label=\"true\")\n",
        "plt.scatter(X_test[:, 0], predictions, label=\"pred\")\n",
        "plt.legend()\n",
        "plt.show()"
      ],
      "metadata": {
        "colab": {
          "base_uri": "https://localhost:8080/",
          "height": 265
        },
        "id": "Jg2JkTBRB0Sf",
        "outputId": "d81a8290-a9b6-43be-f4bc-05cd14342286"
      },
      "execution_count": 39,
      "outputs": [
        {
          "output_type": "display_data",
          "data": {
            "text/plain": [
              "<Figure size 432x288 with 1 Axes>"
            ],
            "image/png": "[encoded data removed]"
          },
          "metadata": {
            "needs_background": "light"
          }
        }
      ]
    },
    {
      "cell_type": "code",
      "source": [],
      "metadata": {
        "id": "hh8JXV25CIF6"
      },
      "execution_count": null,
      "outputs": []
    }
  ]
}